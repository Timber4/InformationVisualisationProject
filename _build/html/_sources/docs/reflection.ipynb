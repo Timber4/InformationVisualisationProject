{
 "cells": [
  {
   "cell_type": "markdown",
   "id": "dd7e8772-28f8-4dec-ab25-721d31f39b65",
   "metadata": {},
   "source": [
    "# Reflectie\n",
    "\n",
    "## Peer feedback\n",
    "Op 20 juni 2024 is ons groepje N5 samengekomen met een ander groepje en de TA voor peer feedback. Ieder groepje heeft zijn werk van de afgelopen 3 weken gepresenteerd en het andere groepje en de TA hebben feedback gegeven over de punten die er goed uitzagen en de dingen die beter uitgevoerd kunnen worden.\n",
    "\n",
    "De algemene complimenten die we hebben ontvangen op onze eerste versie is dat de data die we hadden goed aansloot op de materie die we behandelden en dat het geen nattevingerwerk is geweest, en dat de visualisatie van de data in de grafieken destijds een goed beeld geeft van de perspectieven die zijn behandeld.\n",
    "\n",
    "Feedback over hetgeen dat beter kon bedroeg over het algemeen details over hoe de grafieken beter vormgegeven konden worden. Zoals een slider toevoegen aan de grafieken om de dynamiek te zien van de wereldwijde uitstoot, evenals het verwijderen van data dat weinig effect heeft gehad op de uiteindelijke verdeling van variabelen.\n",
    "\n",
    "De feedback was voor ons gerechtvaardigd en we zijn ermee aan de slag gegaan. Zo zit er nu een slider bij de wereldkaart waar dat voorheen niet was en hebben we de waarden uit de wereldwijde uitstoot gefilterd omdat de kleinste fracties ervoor zorgden dat onze grafieken niet geordend waren.\n",
    "\n",
    "## Zelfreflectie\n",
    "In het onderzoeksvoorstel was de voordehand liggend om te focussen op TBL-kanker, ofwel luchtwegkanker in relatie met luchtvervuiling en roken. Echter hebben we tijdens het onderzoeksvoorstel ook nog andere vormen van kanker bestudeerd zoals borst-, lever- en pancreaskanker die volgens het ACCR (2020) ook relatief veel voorkomend zijn in correlatie met luchtvervuiling. Als we meer tijd hadden gehad voor het onderzoek hadden we de genoemde kankersoorten ook tegenover roken en luchtvervuiling willen zetten in onze uiteindelijke Data Story. Als hier namelijk ook een correlatie gevonden kan worden is het belangrijk om dat verder te onderzoeken, sinds het zou kunnen betekenen dat meer mensen een risico op andere soorten kanker kunnen ondervinden van roken of luchtvervuiling."
   ]
  }
 ],
 "metadata": {
  "kernelspec": {
   "display_name": "Python 3 (ipykernel)",
   "language": "python",
   "name": "python3"
  },
  "language_info": {
   "codemirror_mode": {
    "name": "ipython",
    "version": 3
   },
   "file_extension": ".py",
   "mimetype": "text/x-python",
   "name": "python",
   "nbconvert_exporter": "python",
   "pygments_lexer": "ipython3",
   "version": "3.12.3"
  }
 },
 "nbformat": 4,
 "nbformat_minor": 5
}
