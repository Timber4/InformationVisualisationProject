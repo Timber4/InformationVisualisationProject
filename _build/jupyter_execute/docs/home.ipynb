{
 "cells": [
  {
   "cell_type": "markdown",
   "id": "3b46ee32",
   "metadata": {},
   "source": [
    "# Luchtvervuiling\n",
    "\n",
    "Studenten: Wietske Boersma, Isa van den Hoven, Alecsandru Kreefft-Libiu, Timber Rijsdorp\n",
    "\n",
    "Teamnummer: N5"
   ]
  },
  {
   "cell_type": "code",
   "execution_count": 1,
   "id": "e180382e",
   "metadata": {
    "tags": [
     "hide-input"
    ]
   },
   "outputs": [
    {
     "data": {
      "text/html": [
       "<img src=\"https://cdn.nos.nl/image/2022/06/21/871362/1536x864a.jpg\" width=\"600\" height=\"300\"/>"
      ],
      "text/plain": [
       "<IPython.core.display.Image object>"
      ]
     },
     "metadata": {},
     "output_type": "display_data"
    },
    {
     "name": "stdout",
     "output_type": "stream",
     "text": [
      "© NOS\n"
     ]
    }
   ],
   "source": [
    "# Load image from link\n",
    "url = 'https://cdn.nos.nl/image/2022/06/21/871362/1536x864a.jpg'\n",
    "\n",
    "# Display image from URL with smaller size and subtitle\n",
    "from IPython.display import Image, display\n",
    "\n",
    "# Set the desired image width and height\n",
    "width = 600\n",
    "height = 300\n",
    "\n",
    "# Set the subtitle text\n",
    "subtitle = \"© NOS\"\n",
    "\n",
    "# Create an Image instance with the URL\n",
    "image = Image(url=url, width=width, height=height)\n",
    "\n",
    "# Display the image and subtitle\n",
    "display(image)\n",
    "print(subtitle)"
   ]
  },
  {
   "cell_type": "markdown",
   "id": "7d5fce97-8e22-41ee-a19c-6c0f0fb2f08f",
   "metadata": {},
   "source": [
    "## Introduction"
   ]
  },
  {
   "cell_type": "markdown",
   "id": "7cf81853-c237-4df2-8ed4-9deae8423fb0",
   "metadata": {},
   "source": [
    "Discussie rondom luchtvervuiling is al lang in beeld, maar discussie is enorm toegenomen sinds de schandalen rondom TaTa Steel en Chemours. "
   ]
  },
  {
   "cell_type": "markdown",
   "id": "d9d4c934-c639-495f-a2bc-ed078e5659c3",
   "metadata": {},
   "source": [
    "## Dataset and Preprocessing"
   ]
  },
  {
   "cell_type": "markdown",
   "id": "850c1744-f4cc-4cc1-b0a7-9207c75837d8",
   "metadata": {},
   "source": [
    "Sed ut perspiciatis unde omnis iste natus error sit voluptatem accusantium doloremque laudantium, totam rem aperiam, eaque ipsa quae ab illo inventore veritatis et quasi architecto beatae vitae dicta sunt explicabo. Nemo enim ipsam voluptatem quia voluptas sit aspernatur aut odit aut fugit, sed quia consequuntur magni dolores eos qui ratione voluptatem sequi nesciunt.\n",
    "\n",
    "Neque porro quisquam est, qui dolorem ipsum quia dolor sit amet, consectetur, adipisci velit, sed quia non numquam eius modi tempora incidunt ut labore et dolore magnam aliquam quaerat voluptatem. Ut enim ad minima veniam, quis nostrum exercitationem ullam corporis suscipit laboriosam, nisi ut aliquid ex ea commodi consequatur?\n",
    "\n",
    "Quis autem vel eum iure reprehenderit qui in ea voluptate velit esse quam nihil molestiae consequatur, vel illum qui dolorem eum fugiat quo voluptas nulla pariatur? At vero eos et accusamus et iusto odio dignissimos ducimus qui blanditiis praesentium voluptatum deleniti atque corrupti quos dolores et quas molestias excepturi sint occaecati cupiditate non provident, similique sunt in culpa qui officia deserunt mollitia animi, id est laborum et dolorum fuga. Et harum quidem rerum facilis est et expedita distinctio."
   ]
  },
  {
   "cell_type": "markdown",
   "id": "d5010a07-96a0-45a7-ba76-250a56053f62",
   "metadata": {},
   "source": [
    "## Perspectief 1: Luchtvervuiling moet direct verminderd worden voor de bescherming van de gezondheid"
   ]
  },
  {
   "cell_type": "markdown",
   "id": "1f26b1fd",
   "metadata": {},
   "source": [
    "Luchtvervuiling is een factor in de hoeveelheid mensen die longkanker krijgen."
   ]
  },
  {
   "cell_type": "markdown",
   "id": "a43c3ae1-48d8-4663-8525-7d92fae83483",
   "metadata": {},
   "source": [
    "### Argument: Luchtvervuiling veroorzaakt longkanker"
   ]
  },
  {
   "cell_type": "markdown",
   "id": "a44acbb2-6dbc-4cb9-ba26-7ba3fb19af5d",
   "metadata": {},
   "source": [
    "Luchtvervuilende stoffen zoals stikstof-oxide kan longkanker veroorzaken bij mensen die dicht in de buurt van deze vervuilende stoffen wonen."
   ]
  },
  {
   "cell_type": "code",
   "execution_count": 2,
   "id": "5a242e18",
   "metadata": {
    "tags": [
     "hide-input"
    ]
   },
   "outputs": [
    {
     "data": {
      "text/html": [
       "        <script type=\"text/javascript\">\n",
       "        window.PlotlyConfig = {MathJaxConfig: 'local'};\n",
       "        if (window.MathJax && window.MathJax.Hub && window.MathJax.Hub.Config) {window.MathJax.Hub.Config({SVG: {font: \"STIX-Web\"}});}\n",
       "        if (typeof require !== 'undefined') {\n",
       "        require.undef(\"plotly\");\n",
       "        requirejs.config({\n",
       "            paths: {\n",
       "                'plotly': ['https://cdn.plot.ly/plotly-2.32.0.min']\n",
       "            }\n",
       "        });\n",
       "        require(['plotly'], function(Plotly) {\n",
       "            window._Plotly = Plotly;\n",
       "        });\n",
       "        }\n",
       "        </script>\n",
       "        "
      ]
     },
     "metadata": {},
     "output_type": "display_data"
    },
    {
     "data": {
      "application/vnd.plotly.v1+json": {
       "config": {
        "plotlyServerURL": "https://plot.ly"
       },
       "data": [
        {
         "name": "NOx per 1000 inwoners",
         "type": "bar",
         "x": [
          "China",
          "Nederland",
          "Verenigde Staten"
         ],
         "y": [
          22.737306349694048,
          17.73129774928764,
          34.7625452795468
         ]
        },
        {
         "name": "SO2 per 1000 inwoners",
         "type": "bar",
         "x": [
          "China",
          "Nederland",
          "Verenigde Staten"
         ],
         "y": [
          22.762361599028647,
          2.104921932977228,
          14.747595513113602
         ]
        },
        {
         "name": "CO per 1000 inwoners",
         "type": "bar",
         "x": [
          "China",
          "Nederland",
          "Verenigde Staten"
         ],
         "y": [
          145.45104557283472,
          38.04442528726714,
          111.43832545026864
         ]
        },
        {
         "name": "OC per 1000 inwoners",
         "type": "bar",
         "x": [
          "China",
          "Nederland",
          "Verenigde Staten"
         ],
         "y": [
          1.6631426783988985,
          0.6470308318216419,
          1.745682604512703
         ]
        },
        {
         "name": "NMVOC per 1000 inwoners",
         "type": "bar",
         "x": [
          "China",
          "Nederland",
          "Verenigde Staten"
         ],
         "y": [
          22.256473889368067,
          14.337593245511387,
          35.76432333849503
         ]
        },
        {
         "name": "BC per 1000 inwoners",
         "type": "bar",
         "x": [
          "China",
          "Nederland",
          "Verenigde Staten"
         ],
         "y": [
          1.2305507905189552,
          0.3215028240589265,
          0.5625761496657803
         ]
        },
        {
         "name": "NH3 per 1000 inwoners",
         "type": "bar",
         "x": [
          "China",
          "Nederland",
          "Verenigde Staten"
         ],
         "y": [
          9.299015691921566,
          9.497208050964243,
          12.862797584139155
         ]
        },
        {
         "name": "Longkanker leeftijd gestandardiseerd",
         "type": "bar",
         "x": [
          "China",
          "Nederland",
          "Verenigde Staten"
         ],
         "y": [
          39.67839555238313,
          41.68556873940827,
          38.59254893354976
         ]
        }
       ],
       "layout": {
        "barmode": "group",
        "template": {
         "data": {
          "bar": [
           {
            "error_x": {
             "color": "#2a3f5f"
            },
            "error_y": {
             "color": "#2a3f5f"
            },
            "marker": {
             "line": {
              "color": "#E5ECF6",
              "width": 0.5
             },
             "pattern": {
              "fillmode": "overlay",
              "size": 10,
              "solidity": 0.2
             }
            },
            "type": "bar"
           }
          ],
          "barpolar": [
           {
            "marker": {
             "line": {
              "color": "#E5ECF6",
              "width": 0.5
             },
             "pattern": {
              "fillmode": "overlay",
              "size": 10,
              "solidity": 0.2
             }
            },
            "type": "barpolar"
           }
          ],
          "carpet": [
           {
            "aaxis": {
             "endlinecolor": "#2a3f5f",
             "gridcolor": "white",
             "linecolor": "white",
             "minorgridcolor": "white",
             "startlinecolor": "#2a3f5f"
            },
            "baxis": {
             "endlinecolor": "#2a3f5f",
             "gridcolor": "white",
             "linecolor": "white",
             "minorgridcolor": "white",
             "startlinecolor": "#2a3f5f"
            },
            "type": "carpet"
           }
          ],
          "choropleth": [
           {
            "colorbar": {
             "outlinewidth": 0,
             "ticks": ""
            },
            "type": "choropleth"
           }
          ],
          "contour": [
           {
            "colorbar": {
             "outlinewidth": 0,
             "ticks": ""
            },
            "colorscale": [
             [
              0.0,
              "#0d0887"
             ],
             [
              0.1111111111111111,
              "#46039f"
             ],
             [
              0.2222222222222222,
              "#7201a8"
             ],
             [
              0.3333333333333333,
              "#9c179e"
             ],
             [
              0.4444444444444444,
              "#bd3786"
             ],
             [
              0.5555555555555556,
              "#d8576b"
             ],
             [
              0.6666666666666666,
              "#ed7953"
             ],
             [
              0.7777777777777778,
              "#fb9f3a"
             ],
             [
              0.8888888888888888,
              "#fdca26"
             ],
             [
              1.0,
              "#f0f921"
             ]
            ],
            "type": "contour"
           }
          ],
          "contourcarpet": [
           {
            "colorbar": {
             "outlinewidth": 0,
             "ticks": ""
            },
            "type": "contourcarpet"
           }
          ],
          "heatmap": [
           {
            "colorbar": {
             "outlinewidth": 0,
             "ticks": ""
            },
            "colorscale": [
             [
              0.0,
              "#0d0887"
             ],
             [
              0.1111111111111111,
              "#46039f"
             ],
             [
              0.2222222222222222,
              "#7201a8"
             ],
             [
              0.3333333333333333,
              "#9c179e"
             ],
             [
              0.4444444444444444,
              "#bd3786"
             ],
             [
              0.5555555555555556,
              "#d8576b"
             ],
             [
              0.6666666666666666,
              "#ed7953"
             ],
             [
              0.7777777777777778,
              "#fb9f3a"
             ],
             [
              0.8888888888888888,
              "#fdca26"
             ],
             [
              1.0,
              "#f0f921"
             ]
            ],
            "type": "heatmap"
           }
          ],
          "heatmapgl": [
           {
            "colorbar": {
             "outlinewidth": 0,
             "ticks": ""
            },
            "colorscale": [
             [
              0.0,
              "#0d0887"
             ],
             [
              0.1111111111111111,
              "#46039f"
             ],
             [
              0.2222222222222222,
              "#7201a8"
             ],
             [
              0.3333333333333333,
              "#9c179e"
             ],
             [
              0.4444444444444444,
              "#bd3786"
             ],
             [
              0.5555555555555556,
              "#d8576b"
             ],
             [
              0.6666666666666666,
              "#ed7953"
             ],
             [
              0.7777777777777778,
              "#fb9f3a"
             ],
             [
              0.8888888888888888,
              "#fdca26"
             ],
             [
              1.0,
              "#f0f921"
             ]
            ],
            "type": "heatmapgl"
           }
          ],
          "histogram": [
           {
            "marker": {
             "pattern": {
              "fillmode": "overlay",
              "size": 10,
              "solidity": 0.2
             }
            },
            "type": "histogram"
           }
          ],
          "histogram2d": [
           {
            "colorbar": {
             "outlinewidth": 0,
             "ticks": ""
            },
            "colorscale": [
             [
              0.0,
              "#0d0887"
             ],
             [
              0.1111111111111111,
              "#46039f"
             ],
             [
              0.2222222222222222,
              "#7201a8"
             ],
             [
              0.3333333333333333,
              "#9c179e"
             ],
             [
              0.4444444444444444,
              "#bd3786"
             ],
             [
              0.5555555555555556,
              "#d8576b"
             ],
             [
              0.6666666666666666,
              "#ed7953"
             ],
             [
              0.7777777777777778,
              "#fb9f3a"
             ],
             [
              0.8888888888888888,
              "#fdca26"
             ],
             [
              1.0,
              "#f0f921"
             ]
            ],
            "type": "histogram2d"
           }
          ],
          "histogram2dcontour": [
           {
            "colorbar": {
             "outlinewidth": 0,
             "ticks": ""
            },
            "colorscale": [
             [
              0.0,
              "#0d0887"
             ],
             [
              0.1111111111111111,
              "#46039f"
             ],
             [
              0.2222222222222222,
              "#7201a8"
             ],
             [
              0.3333333333333333,
              "#9c179e"
             ],
             [
              0.4444444444444444,
              "#bd3786"
             ],
             [
              0.5555555555555556,
              "#d8576b"
             ],
             [
              0.6666666666666666,
              "#ed7953"
             ],
             [
              0.7777777777777778,
              "#fb9f3a"
             ],
             [
              0.8888888888888888,
              "#fdca26"
             ],
             [
              1.0,
              "#f0f921"
             ]
            ],
            "type": "histogram2dcontour"
           }
          ],
          "mesh3d": [
           {
            "colorbar": {
             "outlinewidth": 0,
             "ticks": ""
            },
            "type": "mesh3d"
           }
          ],
          "parcoords": [
           {
            "line": {
             "colorbar": {
              "outlinewidth": 0,
              "ticks": ""
             }
            },
            "type": "parcoords"
           }
          ],
          "pie": [
           {
            "automargin": true,
            "type": "pie"
           }
          ],
          "scatter": [
           {
            "fillpattern": {
             "fillmode": "overlay",
             "size": 10,
             "solidity": 0.2
            },
            "type": "scatter"
           }
          ],
          "scatter3d": [
           {
            "line": {
             "colorbar": {
              "outlinewidth": 0,
              "ticks": ""
             }
            },
            "marker": {
             "colorbar": {
              "outlinewidth": 0,
              "ticks": ""
             }
            },
            "type": "scatter3d"
           }
          ],
          "scattercarpet": [
           {
            "marker": {
             "colorbar": {
              "outlinewidth": 0,
              "ticks": ""
             }
            },
            "type": "scattercarpet"
           }
          ],
          "scattergeo": [
           {
            "marker": {
             "colorbar": {
              "outlinewidth": 0,
              "ticks": ""
             }
            },
            "type": "scattergeo"
           }
          ],
          "scattergl": [
           {
            "marker": {
             "colorbar": {
              "outlinewidth": 0,
              "ticks": ""
             }
            },
            "type": "scattergl"
           }
          ],
          "scattermapbox": [
           {
            "marker": {
             "colorbar": {
              "outlinewidth": 0,
              "ticks": ""
             }
            },
            "type": "scattermapbox"
           }
          ],
          "scatterpolar": [
           {
            "marker": {
             "colorbar": {
              "outlinewidth": 0,
              "ticks": ""
             }
            },
            "type": "scatterpolar"
           }
          ],
          "scatterpolargl": [
           {
            "marker": {
             "colorbar": {
              "outlinewidth": 0,
              "ticks": ""
             }
            },
            "type": "scatterpolargl"
           }
          ],
          "scatterternary": [
           {
            "marker": {
             "colorbar": {
              "outlinewidth": 0,
              "ticks": ""
             }
            },
            "type": "scatterternary"
           }
          ],
          "surface": [
           {
            "colorbar": {
             "outlinewidth": 0,
             "ticks": ""
            },
            "colorscale": [
             [
              0.0,
              "#0d0887"
             ],
             [
              0.1111111111111111,
              "#46039f"
             ],
             [
              0.2222222222222222,
              "#7201a8"
             ],
             [
              0.3333333333333333,
              "#9c179e"
             ],
             [
              0.4444444444444444,
              "#bd3786"
             ],
             [
              0.5555555555555556,
              "#d8576b"
             ],
             [
              0.6666666666666666,
              "#ed7953"
             ],
             [
              0.7777777777777778,
              "#fb9f3a"
             ],
             [
              0.8888888888888888,
              "#fdca26"
             ],
             [
              1.0,
              "#f0f921"
             ]
            ],
            "type": "surface"
           }
          ],
          "table": [
           {
            "cells": {
             "fill": {
              "color": "#EBF0F8"
             },
             "line": {
              "color": "white"
             }
            },
            "header": {
             "fill": {
              "color": "#C8D4E3"
             },
             "line": {
              "color": "white"
             }
            },
            "type": "table"
           }
          ]
         },
         "layout": {
          "annotationdefaults": {
           "arrowcolor": "#2a3f5f",
           "arrowhead": 0,
           "arrowwidth": 1
          },
          "autotypenumbers": "strict",
          "coloraxis": {
           "colorbar": {
            "outlinewidth": 0,
            "ticks": ""
           }
          },
          "colorscale": {
           "diverging": [
            [
             0,
             "#8e0152"
            ],
            [
             0.1,
             "#c51b7d"
            ],
            [
             0.2,
             "#de77ae"
            ],
            [
             0.3,
             "#f1b6da"
            ],
            [
             0.4,
             "#fde0ef"
            ],
            [
             0.5,
             "#f7f7f7"
            ],
            [
             0.6,
             "#e6f5d0"
            ],
            [
             0.7,
             "#b8e186"
            ],
            [
             0.8,
             "#7fbc41"
            ],
            [
             0.9,
             "#4d9221"
            ],
            [
             1,
             "#276419"
            ]
           ],
           "sequential": [
            [
             0.0,
             "#0d0887"
            ],
            [
             0.1111111111111111,
             "#46039f"
            ],
            [
             0.2222222222222222,
             "#7201a8"
            ],
            [
             0.3333333333333333,
             "#9c179e"
            ],
            [
             0.4444444444444444,
             "#bd3786"
            ],
            [
             0.5555555555555556,
             "#d8576b"
            ],
            [
             0.6666666666666666,
             "#ed7953"
            ],
            [
             0.7777777777777778,
             "#fb9f3a"
            ],
            [
             0.8888888888888888,
             "#fdca26"
            ],
            [
             1.0,
             "#f0f921"
            ]
           ],
           "sequentialminus": [
            [
             0.0,
             "#0d0887"
            ],
            [
             0.1111111111111111,
             "#46039f"
            ],
            [
             0.2222222222222222,
             "#7201a8"
            ],
            [
             0.3333333333333333,
             "#9c179e"
            ],
            [
             0.4444444444444444,
             "#bd3786"
            ],
            [
             0.5555555555555556,
             "#d8576b"
            ],
            [
             0.6666666666666666,
             "#ed7953"
            ],
            [
             0.7777777777777778,
             "#fb9f3a"
            ],
            [
             0.8888888888888888,
             "#fdca26"
            ],
            [
             1.0,
             "#f0f921"
            ]
           ]
          },
          "colorway": [
           "#636efa",
           "#EF553B",
           "#00cc96",
           "#ab63fa",
           "#FFA15A",
           "#19d3f3",
           "#FF6692",
           "#B6E880",
           "#FF97FF",
           "#FECB52"
          ],
          "font": {
           "color": "#2a3f5f"
          },
          "geo": {
           "bgcolor": "white",
           "lakecolor": "white",
           "landcolor": "#E5ECF6",
           "showlakes": true,
           "showland": true,
           "subunitcolor": "white"
          },
          "hoverlabel": {
           "align": "left"
          },
          "hovermode": "closest",
          "mapbox": {
           "style": "light"
          },
          "paper_bgcolor": "white",
          "plot_bgcolor": "#E5ECF6",
          "polar": {
           "angularaxis": {
            "gridcolor": "white",
            "linecolor": "white",
            "ticks": ""
           },
           "bgcolor": "#E5ECF6",
           "radialaxis": {
            "gridcolor": "white",
            "linecolor": "white",
            "ticks": ""
           }
          },
          "scene": {
           "xaxis": {
            "backgroundcolor": "#E5ECF6",
            "gridcolor": "white",
            "gridwidth": 2,
            "linecolor": "white",
            "showbackground": true,
            "ticks": "",
            "zerolinecolor": "white"
           },
           "yaxis": {
            "backgroundcolor": "#E5ECF6",
            "gridcolor": "white",
            "gridwidth": 2,
            "linecolor": "white",
            "showbackground": true,
            "ticks": "",
            "zerolinecolor": "white"
           },
           "zaxis": {
            "backgroundcolor": "#E5ECF6",
            "gridcolor": "white",
            "gridwidth": 2,
            "linecolor": "white",
            "showbackground": true,
            "ticks": "",
            "zerolinecolor": "white"
           }
          },
          "shapedefaults": {
           "line": {
            "color": "#2a3f5f"
           }
          },
          "ternary": {
           "aaxis": {
            "gridcolor": "white",
            "linecolor": "white",
            "ticks": ""
           },
           "baxis": {
            "gridcolor": "white",
            "linecolor": "white",
            "ticks": ""
           },
           "bgcolor": "#E5ECF6",
           "caxis": {
            "gridcolor": "white",
            "linecolor": "white",
            "ticks": ""
           }
          },
          "title": {
           "x": 0.05
          },
          "xaxis": {
           "automargin": true,
           "gridcolor": "white",
           "linecolor": "white",
           "ticks": "",
           "title": {
            "standoff": 15
           },
           "zerolinecolor": "white",
           "zerolinewidth": 2
          },
          "yaxis": {
           "automargin": true,
           "gridcolor": "white",
           "linecolor": "white",
           "ticks": "",
           "title": {
            "standoff": 15
           },
           "zerolinecolor": "white",
           "zerolinewidth": 2
          }
         }
        }
       }
      },
      "text/html": [
       "<div>                            <div id=\"e9803c81-6bcf-4b94-a009-8a08bbe3a014\" class=\"plotly-graph-div\" style=\"height:525px; width:100%;\"></div>            <script type=\"text/javascript\">                require([\"plotly\"], function(Plotly) {                    window.PLOTLYENV=window.PLOTLYENV || {};                                    if (document.getElementById(\"e9803c81-6bcf-4b94-a009-8a08bbe3a014\")) {                    Plotly.newPlot(                        \"e9803c81-6bcf-4b94-a009-8a08bbe3a014\",                        [{\"name\":\"NOx per 1000 inwoners\",\"x\":[\"China\",\"Nederland\",\"Verenigde Staten\"],\"y\":[22.737306349694048,17.73129774928764,34.7625452795468],\"type\":\"bar\"},{\"name\":\"SO2 per 1000 inwoners\",\"x\":[\"China\",\"Nederland\",\"Verenigde Staten\"],\"y\":[22.762361599028647,2.104921932977228,14.747595513113602],\"type\":\"bar\"},{\"name\":\"CO per 1000 inwoners\",\"x\":[\"China\",\"Nederland\",\"Verenigde Staten\"],\"y\":[145.45104557283472,38.04442528726714,111.43832545026864],\"type\":\"bar\"},{\"name\":\"OC per 1000 inwoners\",\"x\":[\"China\",\"Nederland\",\"Verenigde Staten\"],\"y\":[1.6631426783988985,0.6470308318216419,1.745682604512703],\"type\":\"bar\"},{\"name\":\"NMVOC per 1000 inwoners\",\"x\":[\"China\",\"Nederland\",\"Verenigde Staten\"],\"y\":[22.256473889368067,14.337593245511387,35.76432333849503],\"type\":\"bar\"},{\"name\":\"BC per 1000 inwoners\",\"x\":[\"China\",\"Nederland\",\"Verenigde Staten\"],\"y\":[1.2305507905189552,0.3215028240589265,0.5625761496657803],\"type\":\"bar\"},{\"name\":\"NH3 per 1000 inwoners\",\"x\":[\"China\",\"Nederland\",\"Verenigde Staten\"],\"y\":[9.299015691921566,9.497208050964243,12.862797584139155],\"type\":\"bar\"},{\"name\":\"Longkanker leeftijd gestandardiseerd\",\"x\":[\"China\",\"Nederland\",\"Verenigde Staten\"],\"y\":[39.67839555238313,41.68556873940827,38.59254893354976],\"type\":\"bar\"}],                        {\"template\":{\"data\":{\"histogram2dcontour\":[{\"type\":\"histogram2dcontour\",\"colorbar\":{\"outlinewidth\":0,\"ticks\":\"\"},\"colorscale\":[[0.0,\"#0d0887\"],[0.1111111111111111,\"#46039f\"],[0.2222222222222222,\"#7201a8\"],[0.3333333333333333,\"#9c179e\"],[0.4444444444444444,\"#bd3786\"],[0.5555555555555556,\"#d8576b\"],[0.6666666666666666,\"#ed7953\"],[0.7777777777777778,\"#fb9f3a\"],[0.8888888888888888,\"#fdca26\"],[1.0,\"#f0f921\"]]}],\"choropleth\":[{\"type\":\"choropleth\",\"colorbar\":{\"outlinewidth\":0,\"ticks\":\"\"}}],\"histogram2d\":[{\"type\":\"histogram2d\",\"colorbar\":{\"outlinewidth\":0,\"ticks\":\"\"},\"colorscale\":[[0.0,\"#0d0887\"],[0.1111111111111111,\"#46039f\"],[0.2222222222222222,\"#7201a8\"],[0.3333333333333333,\"#9c179e\"],[0.4444444444444444,\"#bd3786\"],[0.5555555555555556,\"#d8576b\"],[0.6666666666666666,\"#ed7953\"],[0.7777777777777778,\"#fb9f3a\"],[0.8888888888888888,\"#fdca26\"],[1.0,\"#f0f921\"]]}],\"heatmap\":[{\"type\":\"heatmap\",\"colorbar\":{\"outlinewidth\":0,\"ticks\":\"\"},\"colorscale\":[[0.0,\"#0d0887\"],[0.1111111111111111,\"#46039f\"],[0.2222222222222222,\"#7201a8\"],[0.3333333333333333,\"#9c179e\"],[0.4444444444444444,\"#bd3786\"],[0.5555555555555556,\"#d8576b\"],[0.6666666666666666,\"#ed7953\"],[0.7777777777777778,\"#fb9f3a\"],[0.8888888888888888,\"#fdca26\"],[1.0,\"#f0f921\"]]}],\"heatmapgl\":[{\"type\":\"heatmapgl\",\"colorbar\":{\"outlinewidth\":0,\"ticks\":\"\"},\"colorscale\":[[0.0,\"#0d0887\"],[0.1111111111111111,\"#46039f\"],[0.2222222222222222,\"#7201a8\"],[0.3333333333333333,\"#9c179e\"],[0.4444444444444444,\"#bd3786\"],[0.5555555555555556,\"#d8576b\"],[0.6666666666666666,\"#ed7953\"],[0.7777777777777778,\"#fb9f3a\"],[0.8888888888888888,\"#fdca26\"],[1.0,\"#f0f921\"]]}],\"contourcarpet\":[{\"type\":\"contourcarpet\",\"colorbar\":{\"outlinewidth\":0,\"ticks\":\"\"}}],\"contour\":[{\"type\":\"contour\",\"colorbar\":{\"outlinewidth\":0,\"ticks\":\"\"},\"colorscale\":[[0.0,\"#0d0887\"],[0.1111111111111111,\"#46039f\"],[0.2222222222222222,\"#7201a8\"],[0.3333333333333333,\"#9c179e\"],[0.4444444444444444,\"#bd3786\"],[0.5555555555555556,\"#d8576b\"],[0.6666666666666666,\"#ed7953\"],[0.7777777777777778,\"#fb9f3a\"],[0.8888888888888888,\"#fdca26\"],[1.0,\"#f0f921\"]]}],\"surface\":[{\"type\":\"surface\",\"colorbar\":{\"outlinewidth\":0,\"ticks\":\"\"},\"colorscale\":[[0.0,\"#0d0887\"],[0.1111111111111111,\"#46039f\"],[0.2222222222222222,\"#7201a8\"],[0.3333333333333333,\"#9c179e\"],[0.4444444444444444,\"#bd3786\"],[0.5555555555555556,\"#d8576b\"],[0.6666666666666666,\"#ed7953\"],[0.7777777777777778,\"#fb9f3a\"],[0.8888888888888888,\"#fdca26\"],[1.0,\"#f0f921\"]]}],\"mesh3d\":[{\"type\":\"mesh3d\",\"colorbar\":{\"outlinewidth\":0,\"ticks\":\"\"}}],\"scatter\":[{\"fillpattern\":{\"fillmode\":\"overlay\",\"size\":10,\"solidity\":0.2},\"type\":\"scatter\"}],\"parcoords\":[{\"type\":\"parcoords\",\"line\":{\"colorbar\":{\"outlinewidth\":0,\"ticks\":\"\"}}}],\"scatterpolargl\":[{\"type\":\"scatterpolargl\",\"marker\":{\"colorbar\":{\"outlinewidth\":0,\"ticks\":\"\"}}}],\"bar\":[{\"error_x\":{\"color\":\"#2a3f5f\"},\"error_y\":{\"color\":\"#2a3f5f\"},\"marker\":{\"line\":{\"color\":\"#E5ECF6\",\"width\":0.5},\"pattern\":{\"fillmode\":\"overlay\",\"size\":10,\"solidity\":0.2}},\"type\":\"bar\"}],\"scattergeo\":[{\"type\":\"scattergeo\",\"marker\":{\"colorbar\":{\"outlinewidth\":0,\"ticks\":\"\"}}}],\"scatterpolar\":[{\"type\":\"scatterpolar\",\"marker\":{\"colorbar\":{\"outlinewidth\":0,\"ticks\":\"\"}}}],\"histogram\":[{\"marker\":{\"pattern\":{\"fillmode\":\"overlay\",\"size\":10,\"solidity\":0.2}},\"type\":\"histogram\"}],\"scattergl\":[{\"type\":\"scattergl\",\"marker\":{\"colorbar\":{\"outlinewidth\":0,\"ticks\":\"\"}}}],\"scatter3d\":[{\"type\":\"scatter3d\",\"line\":{\"colorbar\":{\"outlinewidth\":0,\"ticks\":\"\"}},\"marker\":{\"colorbar\":{\"outlinewidth\":0,\"ticks\":\"\"}}}],\"scattermapbox\":[{\"type\":\"scattermapbox\",\"marker\":{\"colorbar\":{\"outlinewidth\":0,\"ticks\":\"\"}}}],\"scatterternary\":[{\"type\":\"scatterternary\",\"marker\":{\"colorbar\":{\"outlinewidth\":0,\"ticks\":\"\"}}}],\"scattercarpet\":[{\"type\":\"scattercarpet\",\"marker\":{\"colorbar\":{\"outlinewidth\":0,\"ticks\":\"\"}}}],\"carpet\":[{\"aaxis\":{\"endlinecolor\":\"#2a3f5f\",\"gridcolor\":\"white\",\"linecolor\":\"white\",\"minorgridcolor\":\"white\",\"startlinecolor\":\"#2a3f5f\"},\"baxis\":{\"endlinecolor\":\"#2a3f5f\",\"gridcolor\":\"white\",\"linecolor\":\"white\",\"minorgridcolor\":\"white\",\"startlinecolor\":\"#2a3f5f\"},\"type\":\"carpet\"}],\"table\":[{\"cells\":{\"fill\":{\"color\":\"#EBF0F8\"},\"line\":{\"color\":\"white\"}},\"header\":{\"fill\":{\"color\":\"#C8D4E3\"},\"line\":{\"color\":\"white\"}},\"type\":\"table\"}],\"barpolar\":[{\"marker\":{\"line\":{\"color\":\"#E5ECF6\",\"width\":0.5},\"pattern\":{\"fillmode\":\"overlay\",\"size\":10,\"solidity\":0.2}},\"type\":\"barpolar\"}],\"pie\":[{\"automargin\":true,\"type\":\"pie\"}]},\"layout\":{\"autotypenumbers\":\"strict\",\"colorway\":[\"#636efa\",\"#EF553B\",\"#00cc96\",\"#ab63fa\",\"#FFA15A\",\"#19d3f3\",\"#FF6692\",\"#B6E880\",\"#FF97FF\",\"#FECB52\"],\"font\":{\"color\":\"#2a3f5f\"},\"hovermode\":\"closest\",\"hoverlabel\":{\"align\":\"left\"},\"paper_bgcolor\":\"white\",\"plot_bgcolor\":\"#E5ECF6\",\"polar\":{\"bgcolor\":\"#E5ECF6\",\"angularaxis\":{\"gridcolor\":\"white\",\"linecolor\":\"white\",\"ticks\":\"\"},\"radialaxis\":{\"gridcolor\":\"white\",\"linecolor\":\"white\",\"ticks\":\"\"}},\"ternary\":{\"bgcolor\":\"#E5ECF6\",\"aaxis\":{\"gridcolor\":\"white\",\"linecolor\":\"white\",\"ticks\":\"\"},\"baxis\":{\"gridcolor\":\"white\",\"linecolor\":\"white\",\"ticks\":\"\"},\"caxis\":{\"gridcolor\":\"white\",\"linecolor\":\"white\",\"ticks\":\"\"}},\"coloraxis\":{\"colorbar\":{\"outlinewidth\":0,\"ticks\":\"\"}},\"colorscale\":{\"sequential\":[[0.0,\"#0d0887\"],[0.1111111111111111,\"#46039f\"],[0.2222222222222222,\"#7201a8\"],[0.3333333333333333,\"#9c179e\"],[0.4444444444444444,\"#bd3786\"],[0.5555555555555556,\"#d8576b\"],[0.6666666666666666,\"#ed7953\"],[0.7777777777777778,\"#fb9f3a\"],[0.8888888888888888,\"#fdca26\"],[1.0,\"#f0f921\"]],\"sequentialminus\":[[0.0,\"#0d0887\"],[0.1111111111111111,\"#46039f\"],[0.2222222222222222,\"#7201a8\"],[0.3333333333333333,\"#9c179e\"],[0.4444444444444444,\"#bd3786\"],[0.5555555555555556,\"#d8576b\"],[0.6666666666666666,\"#ed7953\"],[0.7777777777777778,\"#fb9f3a\"],[0.8888888888888888,\"#fdca26\"],[1.0,\"#f0f921\"]],\"diverging\":[[0,\"#8e0152\"],[0.1,\"#c51b7d\"],[0.2,\"#de77ae\"],[0.3,\"#f1b6da\"],[0.4,\"#fde0ef\"],[0.5,\"#f7f7f7\"],[0.6,\"#e6f5d0\"],[0.7,\"#b8e186\"],[0.8,\"#7fbc41\"],[0.9,\"#4d9221\"],[1,\"#276419\"]]},\"xaxis\":{\"gridcolor\":\"white\",\"linecolor\":\"white\",\"ticks\":\"\",\"title\":{\"standoff\":15},\"zerolinecolor\":\"white\",\"automargin\":true,\"zerolinewidth\":2},\"yaxis\":{\"gridcolor\":\"white\",\"linecolor\":\"white\",\"ticks\":\"\",\"title\":{\"standoff\":15},\"zerolinecolor\":\"white\",\"automargin\":true,\"zerolinewidth\":2},\"scene\":{\"xaxis\":{\"backgroundcolor\":\"#E5ECF6\",\"gridcolor\":\"white\",\"linecolor\":\"white\",\"showbackground\":true,\"ticks\":\"\",\"zerolinecolor\":\"white\",\"gridwidth\":2},\"yaxis\":{\"backgroundcolor\":\"#E5ECF6\",\"gridcolor\":\"white\",\"linecolor\":\"white\",\"showbackground\":true,\"ticks\":\"\",\"zerolinecolor\":\"white\",\"gridwidth\":2},\"zaxis\":{\"backgroundcolor\":\"#E5ECF6\",\"gridcolor\":\"white\",\"linecolor\":\"white\",\"showbackground\":true,\"ticks\":\"\",\"zerolinecolor\":\"white\",\"gridwidth\":2}},\"shapedefaults\":{\"line\":{\"color\":\"#2a3f5f\"}},\"annotationdefaults\":{\"arrowcolor\":\"#2a3f5f\",\"arrowhead\":0,\"arrowwidth\":1},\"geo\":{\"bgcolor\":\"white\",\"landcolor\":\"#E5ECF6\",\"subunitcolor\":\"white\",\"showland\":true,\"showlakes\":true,\"lakecolor\":\"white\"},\"title\":{\"x\":0.05},\"mapbox\":{\"style\":\"light\"}}},\"barmode\":\"group\"},                        {\"responsive\": true}                    ).then(function(){\n",
       "                            \n",
       "var gd = document.getElementById('e9803c81-6bcf-4b94-a009-8a08bbe3a014');\n",
       "var x = new MutationObserver(function (mutations, observer) {{\n",
       "        var display = window.getComputedStyle(gd).display;\n",
       "        if (!display || display === 'none') {{\n",
       "            console.log([gd, 'removed!']);\n",
       "            Plotly.purge(gd);\n",
       "            observer.disconnect();\n",
       "        }}\n",
       "}});\n",
       "\n",
       "// Listen for the removal of the full notebook cells\n",
       "var notebookContainer = gd.closest('#notebook-container');\n",
       "if (notebookContainer) {{\n",
       "    x.observe(notebookContainer, {childList: true});\n",
       "}}\n",
       "\n",
       "// Listen for the clearing of the current output cell\n",
       "var outputEl = gd.closest('.output');\n",
       "if (outputEl) {{\n",
       "    x.observe(outputEl, {childList: true});\n",
       "}}\n",
       "\n",
       "                        })                };                });            </script>        </div>"
      ]
     },
     "metadata": {},
     "output_type": "display_data"
    }
   ],
   "source": [
    "import pandas as pd\n",
    "import plotly.graph_objs as go\n",
    "import plotly.express as px\n",
    "\n",
    "from plotly.offline import init_notebook_mode\n",
    "init_notebook_mode(connected=True)\n",
    "\n",
    "country_codes = ['NLD', 'CHN', 'USA']\n",
    "\n",
    "df = pd.read_csv('datasets/norm.csv')\n",
    "df_2012 = df[df['Year'] == 2012]\n",
    "df_2012_countries = df_2012[df_2012['Code'].isin(country_codes)]\n",
    "\n",
    "countries = ['China', 'Nederland', 'Verenigde Staten']\n",
    "\n",
    "trace = [\n",
    "    go.Bar(\n",
    "        x = countries,\n",
    "        y = df_2012_countries['Nitrogen oxide (NOx)'],\n",
    "        name = 'NOx per 1000 inwoners'\n",
    "    ),\n",
    "    go.Bar(\n",
    "        x = countries,\n",
    "        y = df_2012_countries['Sulphur dioxide (SO₂) emissions'],\n",
    "        name = 'SO2 per 1000 inwoners'\n",
    "    ),\n",
    "    go.Bar(\n",
    "        x = countries,\n",
    "        y = df_2012_countries['Carbon monoxide (CO) emissions'],\n",
    "        name = 'CO per 1000 inwoners'\n",
    "    ),\n",
    "    go.Bar(\n",
    "        x = countries,\n",
    "        y = df_2012_countries['Organic carbon (OC) emissions'],\n",
    "        name = 'OC per 1000 inwoners'\n",
    "    ),\n",
    "    go.Bar(\n",
    "        x = countries,\n",
    "        y = df_2012_countries['Non-methane volatile organic compounds (NMVOC) emissions'],\n",
    "        name = 'NMVOC per 1000 inwoners'\n",
    "    ),\n",
    "    go.Bar(\n",
    "        x = countries,\n",
    "        y = df_2012_countries['Black carbon (BC) emissions'],\n",
    "        name = 'BC per 1000 inwoners'\n",
    "    ),\n",
    "    go.Bar(\n",
    "        x = countries,\n",
    "        y = df_2012_countries['Ammonia (NH₃) emissions'],\n",
    "        name = 'NH3 per 1000 inwoners'\n",
    "    ),\n",
    "    go.Bar(\n",
    "        x = countries,\n",
    "        y = df_2012_countries['TBL rate'],\n",
    "        name = 'Longkanker leeftijd gestandardiseerd'\n",
    "    )]    \n",
    "fig = go.Figure(trace)\n",
    "fig.update_layout(barmode='group')\n",
    "fig.show()"
   ]
  },
  {
   "cell_type": "markdown",
   "id": "f07d4a62-ad4f-4fd3-84ad-3540363a03fb",
   "metadata": {},
   "source": [
    "> *Figure 1: Staafdiagram die de uitstoot van verschillende schadelijke stoffen laat zien en de hoeveelheid mensen die overleden zijn aan kanker.*"
   ]
  },
  {
   "cell_type": "markdown",
   "id": "2b7c1b2a-f1a0-43a4-8b02-edf79f52a08e",
   "metadata": {},
   "source": [
    "At solmen va esser necessi far uniform grammatica, pronunciation e plu sommun paroles. Ma quande lingues coalesce, li grammatica del resultant lingue es plu simplic e regulari quam ti del coalescent lingues. Li nov lingua franca va esser plu simplic e regulari quam li existent Europan lingues. Nam eget dui. Etiam rhoncus. Maecenas tempus, tellus eget condimentum rhoncus, sem quam semper libero, sit amet adipiscing sem neque sed ipsum. Nam quam nunc, blandit vel, luctus pulvinar, hendrerit id, lorem. Maecenas nec odio et ante tincidunt tempus. Donec vitae sapien ut libero venenatis faucibus. Nullam quis ante."
   ]
  },
  {
   "cell_type": "code",
   "execution_count": null,
   "id": "62bfd307",
   "metadata": {
    "tags": [
     "hide-input"
    ]
   },
   "outputs": [],
   "source": []
  },
  {
   "cell_type": "markdown",
   "id": "62e26829-3d0d-4ee7-b88b-a7dc22849fd1",
   "metadata": {},
   "source": [
    "> *Figure 2: Vivamus elementum semper nisi. Aenean vulputate eleifend tellus. Aenean leo ligula, porttitor eu, consequat vitae, eleifend ac, enim. Aliquam lorem ante, dapibus in, viverra quis, feugiat a, tellus.*"
   ]
  },
  {
   "cell_type": "markdown",
   "id": "be2e96b5-34b9-4070-a924-b2e275d53293",
   "metadata": {},
   "source": [
    "Nam eget dui. Etiam rhoncus. Maecenas tempus, tellus eget condimentum rhoncus, sem quam semper libero, sit amet adipiscing sem neque sed ipsum. Nam quam nunc, blandit vel, luctus pulvinar, hendrerit id, lorem. Maecenas nec odio et ante tincidunt tempus. Donec vitae sapien ut libero venenatis faucibus. Nullam quis ante."
   ]
  },
  {
   "cell_type": "markdown",
   "id": "e1ec4c90-ccd9-4940-9a0e-18799c438ef5",
   "metadata": {},
   "source": [
    "## Perspectief 2: Het verminderen van luchtvervuiling heeft geen prioriteit, omdat het geen grote impact heeft op de gezondheid."
   ]
  },
  {
   "cell_type": "markdown",
   "id": "005e94a9",
   "metadata": {},
   "source": [
    "* Andere oorzaken van longkanker zijn erger\n",
    "* Luchtvervuiling neemt al af"
   ]
  },
  {
   "cell_type": "markdown",
   "id": "4a3eacb4-4812-474a-9900-71e2ac33cb5f",
   "metadata": {},
   "source": [
    "### Argument: Roken is een grotere factor in het krijgen van longkanker"
   ]
  },
  {
   "cell_type": "markdown",
   "id": "62b3848e-5c37-482c-a584-c7c2a02a1e95",
   "metadata": {},
   "source": [
    "Hoewel er een correlatie bestaat tussen luchtvervuiling en longkanker, is de correlatie tussen roken en longkanker veel erger."
   ]
  },
  {
   "cell_type": "code",
   "execution_count": 3,
   "id": "982ff45f",
   "metadata": {
    "tags": [
     "hide-input"
    ]
   },
   "outputs": [
    {
     "data": {
      "image/png": "[encoded data removed]",
      "text/plain": [
       "<Figure size 640x480 with 2 Axes>"
      ]
     },
     "metadata": {},
     "output_type": "display_data"
    }
   ],
   "source": [
    "import pandas as pd\n",
    "import seaborn as sns\n",
    "import matplotlib.pyplot as plt\n",
    "\n",
    "\n",
    "norm = pd.read_csv('datasets/norm.csv')\n",
    "\n",
    "\n",
    "corr2 = norm.corr(numeric_only=True)\n",
    "corr_trimmed2 = corr2.iloc[2:, 2:]\n",
    "\n",
    "\n",
    "sns.heatmap(corr_trimmed2, annot=True, cmap='coolwarm')\n",
    "plt.title('Heatmap Norm')\n",
    "plt.xlabel('Columns')\n",
    "plt.ylabel('Columns')\n",
    "plt.show()\n",
    "\n"
   ]
  },
  {
   "cell_type": "markdown",
   "id": "c3857f81-dcad-489c-a608-3f7f86e6a58e",
   "metadata": {},
   "source": [
    "> *Figure 4: Vivamus elementum semper nisi. Aenean vulputate eleifend tellus. Aenean leo ligula, porttitor eu, consequat vitae, eleifend ac, enim. Aliquam lorem ante, dapibus in, viverra quis, feugiat a, tellus.*"
   ]
  },
  {
   "cell_type": "code",
   "execution_count": 4,
   "id": "099e7d36-6632-4989-94a8-c5535c3c6d07",
   "metadata": {},
   "outputs": [
    {
     "name": "stderr",
     "output_type": "stream",
     "text": [
      "C:\\Users\\timbe\\AppData\\Local\\Temp\\ipykernel_6372\\3044161324.py:8: SettingWithCopyWarning:\n",
      "\n",
      "\n",
      "A value is trying to be set on a copy of a slice from a DataFrame.\n",
      "Try using .loc[row_indexer,col_indexer] = value instead\n",
      "\n",
      "See the caveats in the documentation: https://pandas.pydata.org/pandas-docs/stable/user_guide/indexing.html#returning-a-view-versus-a-copy\n",
      "\n",
      "C:\\Users\\timbe\\AppData\\Local\\Temp\\ipykernel_6372\\3044161324.py:11: SettingWithCopyWarning:\n",
      "\n",
      "\n",
      "A value is trying to be set on a copy of a slice from a DataFrame.\n",
      "Try using .loc[row_indexer,col_indexer] = value instead\n",
      "\n",
      "See the caveats in the documentation: https://pandas.pydata.org/pandas-docs/stable/user_guide/indexing.html#returning-a-view-versus-a-copy\n",
      "\n",
      "C:\\Users\\timbe\\AppData\\Local\\Temp\\ipykernel_6372\\3044161324.py:12: SettingWithCopyWarning:\n",
      "\n",
      "\n",
      "A value is trying to be set on a copy of a slice from a DataFrame.\n",
      "Try using .loc[row_indexer,col_indexer] = value instead\n",
      "\n",
      "See the caveats in the documentation: https://pandas.pydata.org/pandas-docs/stable/user_guide/indexing.html#returning-a-view-versus-a-copy\n",
      "\n"
     ]
    },
    {
     "data": {
      "application/vnd.plotly.v1+json": {
       "config": {
        "plotlyServerURL": "https://plot.ly"
       },
       "data": [
        {
         "hovertemplate": "<b>%{hovertext}</b><br><br>Percentage daily smokers=%{x}<br>Mean Air Pollution=%{y}<br>TBL rate=%{marker.color}<extra></extra>",
         "hovertext": [
          "AFG",
          "ALB",
          "DZA",
          "AGO",
          "ATG",
          "ARG",
          "ARM",
          "AUS",
          "AUT",
          "AZE",
          "BHS",
          "BHR",
          "BGD",
          "BRB",
          "BLR",
          "BEL",
          "BLZ",
          "BEN",
          "BTN",
          "BOL",
          "BIH",
          "BWA",
          "BRA",
          "BRN",
          "BGR",
          "BFA",
          "BDI",
          "CPV",
          "KHM",
          "CMR",
          "CAN",
          "CAF",
          "TCD",
          "CHL",
          "CHN",
          "COL",
          "COM",
          "COD",
          "COG",
          "CRI",
          "CIV",
          "HRV",
          "CUB",
          "CYP",
          "CZE",
          "DNK",
          "DJI",
          "DMA",
          "DOM",
          "ECU",
          "EGY",
          "SLV",
          "GNQ",
          "ERI",
          "EST",
          "SWZ",
          "ETH",
          "FJI",
          "FIN",
          "FRA",
          "GAB",
          "GMB",
          "GEO",
          "DEU",
          "GHA",
          "GRC",
          "GRD",
          "GTM",
          "GIN",
          "GNB",
          "GUY",
          "HTI",
          "HND",
          "HUN",
          "ISL",
          "IND",
          "IDN",
          "IRN",
          "IRQ",
          "IRL",
          "ISR",
          "ITA",
          "JAM",
          "JPN",
          "JOR",
          "KAZ",
          "KEN",
          "KIR",
          "PRK",
          "KOR",
          "KWT",
          "KGZ",
          "LAO",
          "LVA",
          "LBN",
          "LSO",
          "LBR",
          "LBY",
          "LTU",
          "LUX",
          "MDG",
          "MWI",
          "MYS",
          "MDV",
          "MLI",
          "MLT",
          "MHL",
          "MRT",
          "MUS",
          "MEX",
          "MDA",
          "MNG",
          "MNE",
          "MAR",
          "MOZ",
          "MMR",
          "NAM",
          "NPL",
          "NLD",
          "NZL",
          "NIC",
          "NER",
          "NGA",
          "MKD",
          "NOR",
          "OMN",
          "PAK",
          "PAN",
          "PNG",
          "PRY",
          "PER",
          "PHL",
          "POL",
          "PRT",
          "QAT",
          "ROU",
          "RUS",
          "RWA",
          "WSM",
          "STP",
          "SAU",
          "SEN",
          "SRB",
          "SYC",
          "SLE",
          "SGP",
          "SVK",
          "SVN",
          "SLB",
          "SOM",
          "ZAF",
          "ESP",
          "LKA",
          "LCA",
          "VCT",
          "SDN",
          "SUR",
          "SWE",
          "CHE",
          "SYR",
          "TJK",
          "TZA",
          "THA",
          "TGO",
          "TON",
          "TTO",
          "TUN",
          "TUR",
          "TKM",
          "UGA",
          "UKR",
          "ARE",
          "GBR",
          "USA",
          "URY",
          "UZB",
          "VUT",
          "VEN",
          "VNM",
          "YEM",
          "ZMB",
          "ZWE"
         ],
         "legendgroup": "",
         "marker": {
          "color": [
           12.4656480645603,
           24.519077627445824,
           10.70564602152516,
           14.751931804872283,
           9.709177093321747,
           26.74079335836103,
           33.00547304339461,
           25.13735328262124,
           27.07354336298617,
           24.41787750258918,
           14.774077665760244,
           24.076714601806657,
           7.327097161791721,
           9.275432163832908,
           23.21071605492568,
           39.44045482354782,
           12.873288103893554,
           11.501063340226802,
           7.894038539151891,
           13.823643235215831,
           39.613379993125314,
           22.95079046142797,
           16.72143482113227,
           45.636401152957866,
           35.67353517181544,
           9.874358770479237,
           7.805522578464316,
           14.036574052406642,
           25.27469039747792,
           14.992560114832903,
           36.87470580734707,
           14.273178438695336,
           12.566488020342618,
           17.346766302300285,
           39.67839555238313,
           12.403342190448274,
           7.740894930435267,
           11.866044890467096,
           16.45768127374896,
           9.495953920735252,
           13.834198477974368,
           38.74053923921196,
           33.20859269656085,
           25.42584932742521,
           33.265777784794075,
           41.762551793102894,
           11.154297088054324,
           17.453251406375966,
           14.769010958959765,
           11.365180328374803,
           9.198570865315167,
           9.51981480560426,
           16.825509117566316,
           8.507867523315733,
           30.60801360537992,
           19.795213919654262,
           5.845943647497182,
           10.219168924326272,
           21.76311243172715,
           35.157422942908575,
           19.934167099385,
           7.083317664686819,
           29.862345275008245,
           30.75626695312442,
           8.967940671513595,
           39.41265569488427,
           13.996068572260748,
           8.777565450178722,
           10.745249188188804,
           13.96126677343533,
           8.760592499400213,
           12.141603909612211,
           23.70438527199243,
           52.77757743344824,
           30.2735320711598,
           7.445044095307861,
           23.367349137160268,
           11.694515430689528,
           17.89923037389178,
           32.28402173198186,
           23.24452631876664,
           28.28913386107597,
           18.521138400922503,
           23.64165565813435,
           16.148892123390013,
           25.253374422011834,
           6.25838862349619,
           19.74059641375708,
           29.20481064672419,
           27.85146650932774,
           10.670083189017204,
           13.28195583799007,
           23.19415251914127,
           27.841168108202925,
           29.36193602465973,
           18.909492802617088,
           10.334925927470458,
           19.8004644618998,
           27.056581577392688,
           33.7633913799651,
           6.734565829235897,
           6.515218088201526,
           21.78519975804357,
           10.405406101064829,
           7.445606658658395,
           23.03537057954716,
           32.052214669565686,
           11.637112468531903,
           12.13175375887298,
           9.52656477534982,
           19.48773705023852,
           32.46720584098653,
           53.56514497935203,
           15.263649157786046,
           8.771986813623592,
           23.526046773025893,
           7.770620871259793,
           7.858766749931033,
           41.68556873940827,
           26.648660751468096,
           9.596485930258147,
           9.359340054249891,
           8.74365773941341,
           40.16248295533778,
           28.52583805554893,
           12.002548558731387,
           17.79565634298669,
           11.05607601965565,
           22.472977235569893,
           15.832942614549816,
           11.950144838956184,
           18.01442366566589,
           46.504251663160304,
           22.640218903256653,
           23.009987682440062,
           30.916506075324257,
           24.76852946553233,
           8.1447699842685,
           11.466471108027344,
           18.688635414155645,
           9.604236161168975,
           12.287456486346226,
           47.91982669161624,
           17.386004978017265,
           10.982584352533644,
           24.633437440685373,
           29.5052732912334,
           32.677750881339506,
           33.329734323655,
           6.173319272531983,
           22.358457186962337,
           29.08703034595809,
           10.677329866392364,
           10.508151955289078,
           9.79055760884077,
           8.512540884679135,
           14.321108074516362,
           21.31350298313379,
           25.56646262019212,
           12.280372853841495,
           13.249024501824264,
           9.229368768102187,
           24.34916776103923,
           11.705806480717168,
           29.724356870458017,
           10.298603060988576,
           20.41362820447618,
           36.83103423093981,
           8.70712997134844,
           7.543744763251726,
           20.15581546277175,
           24.384173026202355,
           33.78223132272941,
           38.59254893354976,
           35.132015461573346,
           12.685557761980707,
           26.154260331763005,
           20.187540239608133,
           25.824967303827115,
           10.915468231253984,
           11.421524917871112,
           14.589155683787649
          ],
          "coloraxis": "coloraxis",
          "size": [
           12.4656480645603,
           24.519077627445824,
           10.70564602152516,
           14.751931804872283,
           9.709177093321747,
           26.74079335836103,
           33.00547304339461,
           25.13735328262124,
           27.07354336298617,
           24.41787750258918,
           14.774077665760244,
           24.076714601806657,
           7.327097161791721,
           9.275432163832908,
           23.21071605492568,
           39.44045482354782,
           12.873288103893554,
           11.501063340226802,
           7.894038539151891,
           13.823643235215831,
           39.613379993125314,
           22.95079046142797,
           16.72143482113227,
           45.636401152957866,
           35.67353517181544,
           9.874358770479237,
           7.805522578464316,
           14.036574052406642,
           25.27469039747792,
           14.992560114832903,
           36.87470580734707,
           14.273178438695336,
           12.566488020342618,
           17.346766302300285,
           39.67839555238313,
           12.403342190448274,
           7.740894930435267,
           11.866044890467096,
           16.45768127374896,
           9.495953920735252,
           13.834198477974368,
           38.74053923921196,
           33.20859269656085,
           25.42584932742521,
           33.265777784794075,
           41.762551793102894,
           11.154297088054324,
           17.453251406375966,
           14.769010958959765,
           11.365180328374803,
           9.198570865315167,
           9.51981480560426,
           16.825509117566316,
           8.507867523315733,
           30.60801360537992,
           19.795213919654262,
           5.845943647497182,
           10.219168924326272,
           21.76311243172715,
           35.157422942908575,
           19.934167099385,
           7.083317664686819,
           29.862345275008245,
           30.75626695312442,
           8.967940671513595,
           39.41265569488427,
           13.996068572260748,
           8.777565450178722,
           10.745249188188804,
           13.96126677343533,
           8.760592499400213,
           12.141603909612211,
           23.70438527199243,
           52.77757743344824,
           30.2735320711598,
           7.445044095307861,
           23.367349137160268,
           11.694515430689528,
           17.89923037389178,
           32.28402173198186,
           23.24452631876664,
           28.28913386107597,
           18.521138400922503,
           23.64165565813435,
           16.148892123390013,
           25.253374422011834,
           6.25838862349619,
           19.74059641375708,
           29.20481064672419,
           27.85146650932774,
           10.670083189017204,
           13.28195583799007,
           23.19415251914127,
           27.841168108202925,
           29.36193602465973,
           18.909492802617088,
           10.334925927470458,
           19.8004644618998,
           27.056581577392688,
           33.7633913799651,
           6.734565829235897,
           6.515218088201526,
           21.78519975804357,
           10.405406101064829,
           7.445606658658395,
           23.03537057954716,
           32.052214669565686,
           11.637112468531903,
           12.13175375887298,
           9.52656477534982,
           19.48773705023852,
           32.46720584098653,
           53.56514497935203,
           15.263649157786046,
           8.771986813623592,
           23.526046773025893,
           7.770620871259793,
           7.858766749931033,
           41.68556873940827,
           26.648660751468096,
           9.596485930258147,
           9.359340054249891,
           8.74365773941341,
           40.16248295533778,
           28.52583805554893,
           12.002548558731387,
           17.79565634298669,
           11.05607601965565,
           22.472977235569893,
           15.832942614549816,
           11.950144838956184,
           18.01442366566589,
           46.504251663160304,
           22.640218903256653,
           23.009987682440062,
           30.916506075324257,
           24.76852946553233,
           8.1447699842685,
           11.466471108027344,
           18.688635414155645,
           9.604236161168975,
           12.287456486346226,
           47.91982669161624,
           17.386004978017265,
           10.982584352533644,
           24.633437440685373,
           29.5052732912334,
           32.677750881339506,
           33.329734323655,
           6.173319272531983,
           22.358457186962337,
           29.08703034595809,
           10.677329866392364,
           10.508151955289078,
           9.79055760884077,
           8.512540884679135,
           14.321108074516362,
           21.31350298313379,
           25.56646262019212,
           12.280372853841495,
           13.249024501824264,
           9.229368768102187,
           24.34916776103923,
           11.705806480717168,
           29.724356870458017,
           10.298603060988576,
           20.41362820447618,
           36.83103423093981,
           8.70712997134844,
           7.543744763251726,
           20.15581546277175,
           24.384173026202355,
           33.78223132272941,
           38.59254893354976,
           35.132015461573346,
           12.685557761980707,
           26.154260331763005,
           20.187540239608133,
           25.824967303827115,
           10.915468231253984,
           11.421524917871112,
           14.589155683787649
          ],
          "sizemode": "area",
          "sizeref": 0.04372664896273635,
          "symbol": "circle"
         },
         "mode": "markers",
         "name": "",
         "orientation": "v",
         "showlegend": false,
         "textposition": "top center",
         "type": "scatter",
         "x": [
          11.9,
          20.5,
          11.2,
          8.6999998,
          3.4000001,
          19.299999,
          26.700001,
          16.299999,
          29.299999,
          22.4,
          10.1,
          19.0,
          22.4,
          6.0,
          26.9,
          26.1,
          8.8999996,
          7.6999998,
          11.0,
          24.4,
          31.200001,
          13.5,
          13.8,
          11.5,
          32.299999,
          10.5,
          13.9,
          6.5999999,
          19.5,
          7.0,
          14.5,
          8.3999996,
          7.0,
          28.6,
          24.9,
          11.3,
          10.4,
          8.0,
          8.6999998,
          12.1,
          10.3,
          27.9,
          16.6,
          31.6,
          23.6,
          18.700001,
          21.5,
          5.5,
          11.1,
          6.4000001,
          18.4,
          9.1999998,
          9.1999998,
          5.9000001,
          26.299999,
          7.3000002,
          3.7,
          14.3,
          16.5,
          27.299999,
          10.9,
          12.1,
          22.700001,
          22.299999,
          3.9000001,
          35.5,
          9.3999996,
          6.3000002,
          6.3000002,
          6.5999999,
          15.3,
          7.0999999,
          11.3,
          26.6,
          14.4,
          12.6,
          30.200001,
          12.1,
          16.5,
          24.299999,
          19.4,
          22.299999,
          14.7,
          21.299999,
          25.799999,
          24.4,
          9.5,
          41.099998,
          24.0,
          24.0,
          24.4,
          18.1,
          27.299999,
          29.1,
          27.0,
          16.700001,
          6.3000002,
          15.4,
          25.799999,
          25.299999,
          13.6,
          9.6999998,
          19.1,
          20.200001,
          10.3,
          22.1,
          17.700001,
          13.0,
          18.299999,
          9.8999996,
          20.9,
          25.4,
          26.5,
          13.5,
          11.0,
          17.5,
          14.6,
          23.799999,
          20.799999,
          16.799999,
          10.9,
          5.0,
          4.0,
          36.900002,
          16.9,
          9.1000004,
          15.4,
          8.3999996,
          37.900002,
          11.7,
          11.0,
          22.9,
          27.200001,
          21.6,
          18.1,
          26.4,
          31.9,
          7.5999999,
          22.4,
          3.3,
          15.0,
          7.0,
          26.5,
          15.7,
          17.6,
          13.1,
          22.4,
          22.200001,
          26.799999,
          9.6000004,
          14.9,
          24.700001,
          12.0,
          10.3,
          9.0,
          5.5999999,
          6.0999999,
          13.6,
          19.799999,
          17.1,
          15.7,
          9.3000002,
          19.700001,
          6.1999998,
          33.5,
          17.6,
          24.5,
          26.5,
          19.5,
          7.8000002,
          26.5,
          15.8,
          20.1,
          15.3,
          22.200001,
          11.2,
          16.299999,
          16.6,
          20.700001,
          14.3,
          11.4,
          11.3
         ],
         "xaxis": "x",
         "y": [
          8.189561659371433,
          8.346982079867084,
          12.18139366528992,
          14.692842825525645,
          27.348710502905057,
          10.515260854035208,
          5.998088164487435,
          37.87299866392688,
          16.660345349970466,
          8.005386149862591,
          27.684389042736445,
          38.845022485051814,
          5.412727714137323,
          21.79986731960321,
          23.723104357013085,
          10.833644700444731,
          10.369007683854607,
          12.648387856609563,
          81.98359179577776,
          9.090838071204823,
          20.80657000149476,
          21.621013623656804,
          15.197031052668232,
          36.07625677471238,
          20.209007001319637,
          12.760797735340564,
          8.637687156851166,
          10.920796121748156,
          22.337064670485955,
          10.53232991656435,
          34.83117611401048,
          9.941633236359923,
          11.054121252720178,
          24.48872514685237,
          32.19998522453785,
          9.3222489803494,
          10.331461497579383,
          12.35619136373589,
          17.612777741211616,
          12.854154375914188,
          15.558074021405616,
          17.14474150924587,
          11.230066274231197,
          8.221254083849592,
          21.606651327320325,
          16.23327370958599,
          12.27730306245631,
          11.45612530523095,
          12.88509437999049,
          11.547872614144959,
          10.32794639600706,
          8.434531516797682,
          21.801228676355784,
          null,
          28.564151972292088,
          13.702320100976623,
          15.440021925074143,
          7.918040669918485,
          20.13567383349486,
          14.765331546164829,
          46.40389616921409,
          7.931609258799182,
          9.561442240051173,
          12.326159317902519,
          7.9526638811323815,
          16.232087956143406,
          13.049988047151926,
          19.884767798826044,
          16.07832947667931,
          22.037649606986403,
          22.224932746043574,
          20.565082457326866,
          15.673679553769814,
          13.972838285250363,
          68.67789504465901,
          9.948296827677453,
          24.120821961990764,
          14.557956728670147,
          11.511408818803568,
          17.706591982894164,
          19.415254513440544,
          12.235800048274617,
          13.490061032653355,
          10.471859485584892,
          7.0111721279415695,
          46.19655020714985,
          16.356909313018555,
          4.8418011523120095,
          22.405400370189017,
          10.758392280551098,
          56.06606975155801,
          28.93670161323197,
          15.361520002234453,
          19.579071255364994,
          12.395649298571247,
          19.780116611709524,
          23.851326924473916,
          55.91314422077147,
          16.075768664965032,
          22.160708506272634,
          11.111053897157452,
          7.496639026070167,
          31.576077025429388,
          62.9373857132428,
          6.987824306274291,
          11.514594899115568,
          6.405054770678481,
          12.77942601518438,
          14.634022327393362,
          14.520609324121148,
          13.391551046187276,
          49.98336891824581,
          22.04825400815385,
          7.125470530335798,
          10.936827801171574,
          12.540047192981804,
          31.15548592871619,
          15.177673347972553,
          11.811997131698316,
          43.51223513207828,
          11.94523103499377,
          5.3663230219252585,
          24.24830868278269,
          16.03990334192703,
          24.837215393983218,
          42.30822947927044,
          13.020596679028566,
          13.26965915607451,
          9.223294888778321,
          19.73302473667528,
          12.929371718999516,
          8.663952474691907,
          21.980217596804543,
          9.8945617602261,
          71.12666543893458,
          13.48653100152347,
          23.51222909834004,
          7.04622051700806,
          9.57620561401494,
          12.143916659336925,
          40.41939013165258,
          9.678387972354257,
          27.748844082968663,
          41.0384808637791,
          13.516130752942018,
          23.216327736484885,
          18.704041296219884,
          16.63254993207345,
          3.699009900710298,
          18.01476114041603,
          33.849841225767925,
          10.440250411573198,
          20.85244350410911,
          14.67040074499281,
          11.197945805584647,
          13.583123496256643,
          23.381937490679565,
          11.46267897748018,
          8.195411947977373,
          7.272424052232199,
          17.294047283893203,
          13.93257472286257,
          35.722512124780245,
          17.066193878441304,
          8.687060947579045,
          29.156201794423648,
          12.663182469352227,
          12.306432901327314,
          36.298676268396456,
          16.01166859688289,
          17.064326234299735,
          37.756759843373395,
          10.02001380102989,
          30.269120845677385,
          22.850497665859514,
          10.32615932617316,
          7.901965447327874,
          24.642106721314114,
          20.067777998811355,
          4.313603301891215,
          25.968925024151936,
          22.431234078300204
         ],
         "yaxis": "y"
        }
       ],
       "layout": {
        "coloraxis": {
         "colorbar": {
          "title": {
           "text": "TBL rate"
          }
         },
         "colorscale": [
          [
           0.0,
           "rgb(255,245,240)"
          ],
          [
           0.125,
           "rgb(254,224,210)"
          ],
          [
           0.25,
           "rgb(252,187,161)"
          ],
          [
           0.375,
           "rgb(252,146,114)"
          ],
          [
           0.5,
           "rgb(251,106,74)"
          ],
          [
           0.625,
           "rgb(239,59,44)"
          ],
          [
           0.75,
           "rgb(203,24,29)"
          ],
          [
           0.875,
           "rgb(165,15,21)"
          ],
          [
           1.0,
           "rgb(103,0,13)"
          ]
         ]
        },
        "legend": {
         "itemsizing": "constant",
         "tracegroupgap": 0
        },
        "margin": {
         "t": 60
        },
        "template": {
         "data": {
          "bar": [
           {
            "error_x": {
             "color": "#2a3f5f"
            },
            "error_y": {
             "color": "#2a3f5f"
            },
            "marker": {
             "line": {
              "color": "#E5ECF6",
              "width": 0.5
             },
             "pattern": {
              "fillmode": "overlay",
              "size": 10,
              "solidity": 0.2
             }
            },
            "type": "bar"
           }
          ],
          "barpolar": [
           {
            "marker": {
             "line": {
              "color": "#E5ECF6",
              "width": 0.5
             },
             "pattern": {
              "fillmode": "overlay",
              "size": 10,
              "solidity": 0.2
             }
            },
            "type": "barpolar"
           }
          ],
          "carpet": [
           {
            "aaxis": {
             "endlinecolor": "#2a3f5f",
             "gridcolor": "white",
             "linecolor": "white",
             "minorgridcolor": "white",
             "startlinecolor": "#2a3f5f"
            },
            "baxis": {
             "endlinecolor": "#2a3f5f",
             "gridcolor": "white",
             "linecolor": "white",
             "minorgridcolor": "white",
             "startlinecolor": "#2a3f5f"
            },
            "type": "carpet"
           }
          ],
          "choropleth": [
           {
            "colorbar": {
             "outlinewidth": 0,
             "ticks": ""
            },
            "type": "choropleth"
           }
          ],
          "contour": [
           {
            "colorbar": {
             "outlinewidth": 0,
             "ticks": ""
            },
            "colorscale": [
             [
              0.0,
              "#0d0887"
             ],
             [
              0.1111111111111111,
              "#46039f"
             ],
             [
              0.2222222222222222,
              "#7201a8"
             ],
             [
              0.3333333333333333,
              "#9c179e"
             ],
             [
              0.4444444444444444,
              "#bd3786"
             ],
             [
              0.5555555555555556,
              "#d8576b"
             ],
             [
              0.6666666666666666,
              "#ed7953"
             ],
             [
              0.7777777777777778,
              "#fb9f3a"
             ],
             [
              0.8888888888888888,
              "#fdca26"
             ],
             [
              1.0,
              "#f0f921"
             ]
            ],
            "type": "contour"
           }
          ],
          "contourcarpet": [
           {
            "colorbar": {
             "outlinewidth": 0,
             "ticks": ""
            },
            "type": "contourcarpet"
           }
          ],
          "heatmap": [
           {
            "colorbar": {
             "outlinewidth": 0,
             "ticks": ""
            },
            "colorscale": [
             [
              0.0,
              "#0d0887"
             ],
             [
              0.1111111111111111,
              "#46039f"
             ],
             [
              0.2222222222222222,
              "#7201a8"
             ],
             [
              0.3333333333333333,
              "#9c179e"
             ],
             [
              0.4444444444444444,
              "#bd3786"
             ],
             [
              0.5555555555555556,
              "#d8576b"
             ],
             [
              0.6666666666666666,
              "#ed7953"
             ],
             [
              0.7777777777777778,
              "#fb9f3a"
             ],
             [
              0.8888888888888888,
              "#fdca26"
             ],
             [
              1.0,
              "#f0f921"
             ]
            ],
            "type": "heatmap"
           }
          ],
          "heatmapgl": [
           {
            "colorbar": {
             "outlinewidth": 0,
             "ticks": ""
            },
            "colorscale": [
             [
              0.0,
              "#0d0887"
             ],
             [
              0.1111111111111111,
              "#46039f"
             ],
             [
              0.2222222222222222,
              "#7201a8"
             ],
             [
              0.3333333333333333,
              "#9c179e"
             ],
             [
              0.4444444444444444,
              "#bd3786"
             ],
             [
              0.5555555555555556,
              "#d8576b"
             ],
             [
              0.6666666666666666,
              "#ed7953"
             ],
             [
              0.7777777777777778,
              "#fb9f3a"
             ],
             [
              0.8888888888888888,
              "#fdca26"
             ],
             [
              1.0,
              "#f0f921"
             ]
            ],
            "type": "heatmapgl"
           }
          ],
          "histogram": [
           {
            "marker": {
             "pattern": {
              "fillmode": "overlay",
              "size": 10,
              "solidity": 0.2
             }
            },
            "type": "histogram"
           }
          ],
          "histogram2d": [
           {
            "colorbar": {
             "outlinewidth": 0,
             "ticks": ""
            },
            "colorscale": [
             [
              0.0,
              "#0d0887"
             ],
             [
              0.1111111111111111,
              "#46039f"
             ],
             [
              0.2222222222222222,
              "#7201a8"
             ],
             [
              0.3333333333333333,
              "#9c179e"
             ],
             [
              0.4444444444444444,
              "#bd3786"
             ],
             [
              0.5555555555555556,
              "#d8576b"
             ],
             [
              0.6666666666666666,
              "#ed7953"
             ],
             [
              0.7777777777777778,
              "#fb9f3a"
             ],
             [
              0.8888888888888888,
              "#fdca26"
             ],
             [
              1.0,
              "#f0f921"
             ]
            ],
            "type": "histogram2d"
           }
          ],
          "histogram2dcontour": [
           {
            "colorbar": {
             "outlinewidth": 0,
             "ticks": ""
            },
            "colorscale": [
             [
              0.0,
              "#0d0887"
             ],
             [
              0.1111111111111111,
              "#46039f"
             ],
             [
              0.2222222222222222,
              "#7201a8"
             ],
             [
              0.3333333333333333,
              "#9c179e"
             ],
             [
              0.4444444444444444,
              "#bd3786"
             ],
             [
              0.5555555555555556,
              "#d8576b"
             ],
             [
              0.6666666666666666,
              "#ed7953"
             ],
             [
              0.7777777777777778,
              "#fb9f3a"
             ],
             [
              0.8888888888888888,
              "#fdca26"
             ],
             [
              1.0,
              "#f0f921"
             ]
            ],
            "type": "histogram2dcontour"
           }
          ],
          "mesh3d": [
           {
            "colorbar": {
             "outlinewidth": 0,
             "ticks": ""
            },
            "type": "mesh3d"
           }
          ],
          "parcoords": [
           {
            "line": {
             "colorbar": {
              "outlinewidth": 0,
              "ticks": ""
             }
            },
            "type": "parcoords"
           }
          ],
          "pie": [
           {
            "automargin": true,
            "type": "pie"
           }
          ],
          "scatter": [
           {
            "fillpattern": {
             "fillmode": "overlay",
             "size": 10,
             "solidity": 0.2
            },
            "type": "scatter"
           }
          ],
          "scatter3d": [
           {
            "line": {
             "colorbar": {
              "outlinewidth": 0,
              "ticks": ""
             }
            },
            "marker": {
             "colorbar": {
              "outlinewidth": 0,
              "ticks": ""
             }
            },
            "type": "scatter3d"
           }
          ],
          "scattercarpet": [
           {
            "marker": {
             "colorbar": {
              "outlinewidth": 0,
              "ticks": ""
             }
            },
            "type": "scattercarpet"
           }
          ],
          "scattergeo": [
           {
            "marker": {
             "colorbar": {
              "outlinewidth": 0,
              "ticks": ""
             }
            },
            "type": "scattergeo"
           }
          ],
          "scattergl": [
           {
            "marker": {
             "colorbar": {
              "outlinewidth": 0,
              "ticks": ""
             }
            },
            "type": "scattergl"
           }
          ],
          "scattermapbox": [
           {
            "marker": {
             "colorbar": {
              "outlinewidth": 0,
              "ticks": ""
             }
            },
            "type": "scattermapbox"
           }
          ],
          "scatterpolar": [
           {
            "marker": {
             "colorbar": {
              "outlinewidth": 0,
              "ticks": ""
             }
            },
            "type": "scatterpolar"
           }
          ],
          "scatterpolargl": [
           {
            "marker": {
             "colorbar": {
              "outlinewidth": 0,
              "ticks": ""
             }
            },
            "type": "scatterpolargl"
           }
          ],
          "scatterternary": [
           {
            "marker": {
             "colorbar": {
              "outlinewidth": 0,
              "ticks": ""
             }
            },
            "type": "scatterternary"
           }
          ],
          "surface": [
           {
            "colorbar": {
             "outlinewidth": 0,
             "ticks": ""
            },
            "colorscale": [
             [
              0.0,
              "#0d0887"
             ],
             [
              0.1111111111111111,
              "#46039f"
             ],
             [
              0.2222222222222222,
              "#7201a8"
             ],
             [
              0.3333333333333333,
              "#9c179e"
             ],
             [
              0.4444444444444444,
              "#bd3786"
             ],
             [
              0.5555555555555556,
              "#d8576b"
             ],
             [
              0.6666666666666666,
              "#ed7953"
             ],
             [
              0.7777777777777778,
              "#fb9f3a"
             ],
             [
              0.8888888888888888,
              "#fdca26"
             ],
             [
              1.0,
              "#f0f921"
             ]
            ],
            "type": "surface"
           }
          ],
          "table": [
           {
            "cells": {
             "fill": {
              "color": "#EBF0F8"
             },
             "line": {
              "color": "white"
             }
            },
            "header": {
             "fill": {
              "color": "#C8D4E3"
             },
             "line": {
              "color": "white"
             }
            },
            "type": "table"
           }
          ]
         },
         "layout": {
          "annotationdefaults": {
           "arrowcolor": "#2a3f5f",
           "arrowhead": 0,
           "arrowwidth": 1
          },
          "autotypenumbers": "strict",
          "coloraxis": {
           "colorbar": {
            "outlinewidth": 0,
            "ticks": ""
           }
          },
          "colorscale": {
           "diverging": [
            [
             0,
             "#8e0152"
            ],
            [
             0.1,
             "#c51b7d"
            ],
            [
             0.2,
             "#de77ae"
            ],
            [
             0.3,
             "#f1b6da"
            ],
            [
             0.4,
             "#fde0ef"
            ],
            [
             0.5,
             "#f7f7f7"
            ],
            [
             0.6,
             "#e6f5d0"
            ],
            [
             0.7,
             "#b8e186"
            ],
            [
             0.8,
             "#7fbc41"
            ],
            [
             0.9,
             "#4d9221"
            ],
            [
             1,
             "#276419"
            ]
           ],
           "sequential": [
            [
             0.0,
             "#0d0887"
            ],
            [
             0.1111111111111111,
             "#46039f"
            ],
            [
             0.2222222222222222,
             "#7201a8"
            ],
            [
             0.3333333333333333,
             "#9c179e"
            ],
            [
             0.4444444444444444,
             "#bd3786"
            ],
            [
             0.5555555555555556,
             "#d8576b"
            ],
            [
             0.6666666666666666,
             "#ed7953"
            ],
            [
             0.7777777777777778,
             "#fb9f3a"
            ],
            [
             0.8888888888888888,
             "#fdca26"
            ],
            [
             1.0,
             "#f0f921"
            ]
           ],
           "sequentialminus": [
            [
             0.0,
             "#0d0887"
            ],
            [
             0.1111111111111111,
             "#46039f"
            ],
            [
             0.2222222222222222,
             "#7201a8"
            ],
            [
             0.3333333333333333,
             "#9c179e"
            ],
            [
             0.4444444444444444,
             "#bd3786"
            ],
            [
             0.5555555555555556,
             "#d8576b"
            ],
            [
             0.6666666666666666,
             "#ed7953"
            ],
            [
             0.7777777777777778,
             "#fb9f3a"
            ],
            [
             0.8888888888888888,
             "#fdca26"
            ],
            [
             1.0,
             "#f0f921"
            ]
           ]
          },
          "colorway": [
           "#636efa",
           "#EF553B",
           "#00cc96",
           "#ab63fa",
           "#FFA15A",
           "#19d3f3",
           "#FF6692",
           "#B6E880",
           "#FF97FF",
           "#FECB52"
          ],
          "font": {
           "color": "#2a3f5f"
          },
          "geo": {
           "bgcolor": "white",
           "lakecolor": "white",
           "landcolor": "#E5ECF6",
           "showlakes": true,
           "showland": true,
           "subunitcolor": "white"
          },
          "hoverlabel": {
           "align": "left"
          },
          "hovermode": "closest",
          "mapbox": {
           "style": "light"
          },
          "paper_bgcolor": "white",
          "plot_bgcolor": "#E5ECF6",
          "polar": {
           "angularaxis": {
            "gridcolor": "white",
            "linecolor": "white",
            "ticks": ""
           },
           "bgcolor": "#E5ECF6",
           "radialaxis": {
            "gridcolor": "white",
            "linecolor": "white",
            "ticks": ""
           }
          },
          "scene": {
           "xaxis": {
            "backgroundcolor": "#E5ECF6",
            "gridcolor": "white",
            "gridwidth": 2,
            "linecolor": "white",
            "showbackground": true,
            "ticks": "",
            "zerolinecolor": "white"
           },
           "yaxis": {
            "backgroundcolor": "#E5ECF6",
            "gridcolor": "white",
            "gridwidth": 2,
            "linecolor": "white",
            "showbackground": true,
            "ticks": "",
            "zerolinecolor": "white"
           },
           "zaxis": {
            "backgroundcolor": "#E5ECF6",
            "gridcolor": "white",
            "gridwidth": 2,
            "linecolor": "white",
            "showbackground": true,
            "ticks": "",
            "zerolinecolor": "white"
           }
          },
          "shapedefaults": {
           "line": {
            "color": "#2a3f5f"
           }
          },
          "ternary": {
           "aaxis": {
            "gridcolor": "white",
            "linecolor": "white",
            "ticks": ""
           },
           "baxis": {
            "gridcolor": "white",
            "linecolor": "white",
            "ticks": ""
           },
           "bgcolor": "#E5ECF6",
           "caxis": {
            "gridcolor": "white",
            "linecolor": "white",
            "ticks": ""
           }
          },
          "title": {
           "x": 0.05
          },
          "xaxis": {
           "automargin": true,
           "gridcolor": "white",
           "linecolor": "white",
           "ticks": "",
           "title": {
            "standoff": 15
           },
           "zerolinecolor": "white",
           "zerolinewidth": 2
          },
          "yaxis": {
           "automargin": true,
           "gridcolor": "white",
           "linecolor": "white",
           "ticks": "",
           "title": {
            "standoff": 15
           },
           "zerolinecolor": "white",
           "zerolinewidth": 2
          }
         }
        },
        "title": {
         "text": "Bubble Chart with Tooltips"
        },
        "xaxis": {
         "anchor": "y",
         "domain": [
          0.0,
          1.0
         ],
         "title": {
          "text": " SMokers"
         }
        },
        "yaxis": {
         "anchor": "x",
         "domain": [
          0.0,
          1.0
         ],
         "title": {
          "text": "Mean Air Pollution per country"
         }
        }
       }
      },
      "text/html": [
       "<div>                            <div id=\"60ee2b0e-3768-4999-a76f-bece64aabf79\" class=\"plotly-graph-div\" style=\"height:525px; width:100%;\"></div>            <script type=\"text/javascript\">                require([\"plotly\"], function(Plotly) {                    window.PLOTLYENV=window.PLOTLYENV || {};                                    if (document.getElementById(\"60ee2b0e-3768-4999-a76f-bece64aabf79\")) {                    Plotly.newPlot(                        \"60ee2b0e-3768-4999-a76f-bece64aabf79\",                        [{\"hovertemplate\":\"\\u003cb\\u003e%{hovertext}\\u003c\\u002fb\\u003e\\u003cbr\\u003e\\u003cbr\\u003ePercentage daily smokers=%{x}\\u003cbr\\u003eMean Air Pollution=%{y}\\u003cbr\\u003eTBL rate=%{marker.color}\\u003cextra\\u003e\\u003c\\u002fextra\\u003e\",\"hovertext\":[\"AFG\",\"ALB\",\"DZA\",\"AGO\",\"ATG\",\"ARG\",\"ARM\",\"AUS\",\"AUT\",\"AZE\",\"BHS\",\"BHR\",\"BGD\",\"BRB\",\"BLR\",\"BEL\",\"BLZ\",\"BEN\",\"BTN\",\"BOL\",\"BIH\",\"BWA\",\"BRA\",\"BRN\",\"BGR\",\"BFA\",\"BDI\",\"CPV\",\"KHM\",\"CMR\",\"CAN\",\"CAF\",\"TCD\",\"CHL\",\"CHN\",\"COL\",\"COM\",\"COD\",\"COG\",\"CRI\",\"CIV\",\"HRV\",\"CUB\",\"CYP\",\"CZE\",\"DNK\",\"DJI\",\"DMA\",\"DOM\",\"ECU\",\"EGY\",\"SLV\",\"GNQ\",\"ERI\",\"EST\",\"SWZ\",\"ETH\",\"FJI\",\"FIN\",\"FRA\",\"GAB\",\"GMB\",\"GEO\",\"DEU\",\"GHA\",\"GRC\",\"GRD\",\"GTM\",\"GIN\",\"GNB\",\"GUY\",\"HTI\",\"HND\",\"HUN\",\"ISL\",\"IND\",\"IDN\",\"IRN\",\"IRQ\",\"IRL\",\"ISR\",\"ITA\",\"JAM\",\"JPN\",\"JOR\",\"KAZ\",\"KEN\",\"KIR\",\"PRK\",\"KOR\",\"KWT\",\"KGZ\",\"LAO\",\"LVA\",\"LBN\",\"LSO\",\"LBR\",\"LBY\",\"LTU\",\"LUX\",\"MDG\",\"MWI\",\"MYS\",\"MDV\",\"MLI\",\"MLT\",\"MHL\",\"MRT\",\"MUS\",\"MEX\",\"MDA\",\"MNG\",\"MNE\",\"MAR\",\"MOZ\",\"MMR\",\"NAM\",\"NPL\",\"NLD\",\"NZL\",\"NIC\",\"NER\",\"NGA\",\"MKD\",\"NOR\",\"OMN\",\"PAK\",\"PAN\",\"PNG\",\"PRY\",\"PER\",\"PHL\",\"POL\",\"PRT\",\"QAT\",\"ROU\",\"RUS\",\"RWA\",\"WSM\",\"STP\",\"SAU\",\"SEN\",\"SRB\",\"SYC\",\"SLE\",\"SGP\",\"SVK\",\"SVN\",\"SLB\",\"SOM\",\"ZAF\",\"ESP\",\"LKA\",\"LCA\",\"VCT\",\"SDN\",\"SUR\",\"SWE\",\"CHE\",\"SYR\",\"TJK\",\"TZA\",\"THA\",\"TGO\",\"TON\",\"TTO\",\"TUN\",\"TUR\",\"TKM\",\"UGA\",\"UKR\",\"ARE\",\"GBR\",\"USA\",\"URY\",\"UZB\",\"VUT\",\"VEN\",\"VNM\",\"YEM\",\"ZMB\",\"ZWE\"],\"legendgroup\":\"\",\"marker\":{\"color\":[12.4656480645603,24.519077627445824,10.70564602152516,14.751931804872283,9.709177093321747,26.74079335836103,33.00547304339461,25.13735328262124,27.07354336298617,24.41787750258918,14.774077665760244,24.076714601806657,7.327097161791721,9.275432163832908,23.21071605492568,39.44045482354782,12.873288103893554,11.501063340226802,7.894038539151891,13.823643235215831,39.613379993125314,22.95079046142797,16.72143482113227,45.636401152957866,35.67353517181544,9.874358770479237,7.805522578464316,14.036574052406642,25.27469039747792,14.992560114832903,36.87470580734707,14.273178438695336,12.566488020342618,17.346766302300285,39.67839555238313,12.403342190448274,7.740894930435267,11.866044890467096,16.45768127374896,9.495953920735252,13.834198477974368,38.74053923921196,33.20859269656085,25.42584932742521,33.265777784794075,41.762551793102894,11.154297088054324,17.453251406375966,14.769010958959765,11.365180328374803,9.198570865315167,9.51981480560426,16.825509117566316,8.507867523315733,30.60801360537992,19.795213919654262,5.845943647497182,10.219168924326272,21.76311243172715,35.157422942908575,19.934167099385,7.083317664686819,29.862345275008245,30.75626695312442,8.967940671513595,39.41265569488427,13.996068572260748,8.777565450178722,10.745249188188804,13.96126677343533,8.760592499400213,12.141603909612211,23.70438527199243,52.77757743344824,30.2735320711598,7.445044095307861,23.367349137160268,11.694515430689528,17.89923037389178,32.28402173198186,23.24452631876664,28.28913386107597,18.521138400922503,23.64165565813435,16.148892123390013,25.253374422011834,6.25838862349619,19.74059641375708,29.20481064672419,27.85146650932774,10.670083189017204,13.28195583799007,23.19415251914127,27.841168108202925,29.36193602465973,18.909492802617088,10.334925927470458,19.8004644618998,27.056581577392688,33.7633913799651,6.734565829235897,6.515218088201526,21.78519975804357,10.405406101064829,7.445606658658395,23.03537057954716,32.052214669565686,11.637112468531903,12.13175375887298,9.52656477534982,19.48773705023852,32.46720584098653,53.56514497935203,15.263649157786046,8.771986813623592,23.526046773025893,7.770620871259793,7.858766749931033,41.68556873940827,26.648660751468096,9.596485930258147,9.359340054249891,8.74365773941341,40.16248295533778,28.52583805554893,12.002548558731387,17.79565634298669,11.05607601965565,22.472977235569893,15.832942614549816,11.950144838956184,18.01442366566589,46.504251663160304,22.640218903256653,23.009987682440062,30.916506075324257,24.76852946553233,8.1447699842685,11.466471108027344,18.688635414155645,9.604236161168975,12.287456486346226,47.91982669161624,17.386004978017265,10.982584352533644,24.633437440685373,29.5052732912334,32.677750881339506,33.329734323655,6.173319272531983,22.358457186962337,29.08703034595809,10.677329866392364,10.508151955289078,9.79055760884077,8.512540884679135,14.321108074516362,21.31350298313379,25.56646262019212,12.280372853841495,13.249024501824264,9.229368768102187,24.34916776103923,11.705806480717168,29.724356870458017,10.298603060988576,20.41362820447618,36.83103423093981,8.70712997134844,7.543744763251726,20.15581546277175,24.384173026202355,33.78223132272941,38.59254893354976,35.132015461573346,12.685557761980707,26.154260331763005,20.187540239608133,25.824967303827115,10.915468231253984,11.421524917871112,14.589155683787649],\"coloraxis\":\"coloraxis\",\"size\":[12.4656480645603,24.519077627445824,10.70564602152516,14.751931804872283,9.709177093321747,26.74079335836103,33.00547304339461,25.13735328262124,27.07354336298617,24.41787750258918,14.774077665760244,24.076714601806657,7.327097161791721,9.275432163832908,23.21071605492568,39.44045482354782,12.873288103893554,11.501063340226802,7.894038539151891,13.823643235215831,39.613379993125314,22.95079046142797,16.72143482113227,45.636401152957866,35.67353517181544,9.874358770479237,7.805522578464316,14.036574052406642,25.27469039747792,14.992560114832903,36.87470580734707,14.273178438695336,12.566488020342618,17.346766302300285,39.67839555238313,12.403342190448274,7.740894930435267,11.866044890467096,16.45768127374896,9.495953920735252,13.834198477974368,38.74053923921196,33.20859269656085,25.42584932742521,33.265777784794075,41.762551793102894,11.154297088054324,17.453251406375966,14.769010958959765,11.365180328374803,9.198570865315167,9.51981480560426,16.825509117566316,8.507867523315733,30.60801360537992,19.795213919654262,5.845943647497182,10.219168924326272,21.76311243172715,35.157422942908575,19.934167099385,7.083317664686819,29.862345275008245,30.75626695312442,8.967940671513595,39.41265569488427,13.996068572260748,8.777565450178722,10.745249188188804,13.96126677343533,8.760592499400213,12.141603909612211,23.70438527199243,52.77757743344824,30.2735320711598,7.445044095307861,23.367349137160268,11.694515430689528,17.89923037389178,32.28402173198186,23.24452631876664,28.28913386107597,18.521138400922503,23.64165565813435,16.148892123390013,25.253374422011834,6.25838862349619,19.74059641375708,29.20481064672419,27.85146650932774,10.670083189017204,13.28195583799007,23.19415251914127,27.841168108202925,29.36193602465973,18.909492802617088,10.334925927470458,19.8004644618998,27.056581577392688,33.7633913799651,6.734565829235897,6.515218088201526,21.78519975804357,10.405406101064829,7.445606658658395,23.03537057954716,32.052214669565686,11.637112468531903,12.13175375887298,9.52656477534982,19.48773705023852,32.46720584098653,53.56514497935203,15.263649157786046,8.771986813623592,23.526046773025893,7.770620871259793,7.858766749931033,41.68556873940827,26.648660751468096,9.596485930258147,9.359340054249891,8.74365773941341,40.16248295533778,28.52583805554893,12.002548558731387,17.79565634298669,11.05607601965565,22.472977235569893,15.832942614549816,11.950144838956184,18.01442366566589,46.504251663160304,22.640218903256653,23.009987682440062,30.916506075324257,24.76852946553233,8.1447699842685,11.466471108027344,18.688635414155645,9.604236161168975,12.287456486346226,47.91982669161624,17.386004978017265,10.982584352533644,24.633437440685373,29.5052732912334,32.677750881339506,33.329734323655,6.173319272531983,22.358457186962337,29.08703034595809,10.677329866392364,10.508151955289078,9.79055760884077,8.512540884679135,14.321108074516362,21.31350298313379,25.56646262019212,12.280372853841495,13.249024501824264,9.229368768102187,24.34916776103923,11.705806480717168,29.724356870458017,10.298603060988576,20.41362820447618,36.83103423093981,8.70712997134844,7.543744763251726,20.15581546277175,24.384173026202355,33.78223132272941,38.59254893354976,35.132015461573346,12.685557761980707,26.154260331763005,20.187540239608133,25.824967303827115,10.915468231253984,11.421524917871112,14.589155683787649],\"sizemode\":\"area\",\"sizeref\":0.04372664896273635,\"symbol\":\"circle\"},\"mode\":\"markers\",\"name\":\"\",\"orientation\":\"v\",\"showlegend\":false,\"x\":[11.9,20.5,11.2,8.6999998,3.4000001,19.299999,26.700001,16.299999,29.299999,22.4,10.1,19.0,22.4,6.0,26.9,26.1,8.8999996,7.6999998,11.0,24.4,31.200001,13.5,13.8,11.5,32.299999,10.5,13.9,6.5999999,19.5,7.0,14.5,8.3999996,7.0,28.6,24.9,11.3,10.4,8.0,8.6999998,12.1,10.3,27.9,16.6,31.6,23.6,18.700001,21.5,5.5,11.1,6.4000001,18.4,9.1999998,9.1999998,5.9000001,26.299999,7.3000002,3.7,14.3,16.5,27.299999,10.9,12.1,22.700001,22.299999,3.9000001,35.5,9.3999996,6.3000002,6.3000002,6.5999999,15.3,7.0999999,11.3,26.6,14.4,12.6,30.200001,12.1,16.5,24.299999,19.4,22.299999,14.7,21.299999,25.799999,24.4,9.5,41.099998,24.0,24.0,24.4,18.1,27.299999,29.1,27.0,16.700001,6.3000002,15.4,25.799999,25.299999,13.6,9.6999998,19.1,20.200001,10.3,22.1,17.700001,13.0,18.299999,9.8999996,20.9,25.4,26.5,13.5,11.0,17.5,14.6,23.799999,20.799999,16.799999,10.9,5.0,4.0,36.900002,16.9,9.1000004,15.4,8.3999996,37.900002,11.7,11.0,22.9,27.200001,21.6,18.1,26.4,31.9,7.5999999,22.4,3.3,15.0,7.0,26.5,15.7,17.6,13.1,22.4,22.200001,26.799999,9.6000004,14.9,24.700001,12.0,10.3,9.0,5.5999999,6.0999999,13.6,19.799999,17.1,15.7,9.3000002,19.700001,6.1999998,33.5,17.6,24.5,26.5,19.5,7.8000002,26.5,15.8,20.1,15.3,22.200001,11.2,16.299999,16.6,20.700001,14.3,11.4,11.3],\"xaxis\":\"x\",\"y\":[8.189561659371433,8.346982079867084,12.18139366528992,14.692842825525645,27.348710502905057,10.515260854035208,5.998088164487435,37.87299866392688,16.660345349970466,8.005386149862591,27.684389042736445,38.845022485051814,5.412727714137323,21.79986731960321,23.723104357013085,10.833644700444731,10.369007683854607,12.648387856609563,81.98359179577776,9.090838071204823,20.80657000149476,21.621013623656804,15.197031052668232,36.07625677471238,20.209007001319637,12.760797735340564,8.637687156851166,10.920796121748156,22.337064670485955,10.53232991656435,34.83117611401048,9.941633236359923,11.054121252720178,24.48872514685237,32.19998522453785,9.3222489803494,10.331461497579383,12.35619136373589,17.612777741211616,12.854154375914188,15.558074021405616,17.14474150924587,11.230066274231197,8.221254083849592,21.606651327320325,16.23327370958599,12.27730306245631,11.45612530523095,12.88509437999049,11.547872614144959,10.32794639600706,8.434531516797682,21.801228676355784,null,28.564151972292088,13.702320100976623,15.440021925074143,7.918040669918485,20.13567383349486,14.765331546164829,46.40389616921409,7.931609258799182,9.561442240051173,12.326159317902519,7.9526638811323815,16.232087956143406,13.049988047151926,19.884767798826044,16.07832947667931,22.037649606986403,22.224932746043574,20.565082457326866,15.673679553769814,13.972838285250363,68.67789504465901,9.948296827677453,24.120821961990764,14.557956728670147,11.511408818803568,17.706591982894164,19.415254513440544,12.235800048274617,13.490061032653355,10.471859485584892,7.0111721279415695,46.19655020714985,16.356909313018555,4.8418011523120095,22.405400370189017,10.758392280551098,56.06606975155801,28.93670161323197,15.361520002234453,19.579071255364994,12.395649298571247,19.780116611709524,23.851326924473916,55.91314422077147,16.075768664965032,22.160708506272634,11.111053897157452,7.496639026070167,31.576077025429388,62.9373857132428,6.987824306274291,11.514594899115568,6.405054770678481,12.77942601518438,14.634022327393362,14.520609324121148,13.391551046187276,49.98336891824581,22.04825400815385,7.125470530335798,10.936827801171574,12.540047192981804,31.15548592871619,15.177673347972553,11.811997131698316,43.51223513207828,11.94523103499377,5.3663230219252585,24.24830868278269,16.03990334192703,24.837215393983218,42.30822947927044,13.020596679028566,13.26965915607451,9.223294888778321,19.73302473667528,12.929371718999516,8.663952474691907,21.980217596804543,9.8945617602261,71.12666543893458,13.48653100152347,23.51222909834004,7.04622051700806,9.57620561401494,12.143916659336925,40.41939013165258,9.678387972354257,27.748844082968663,41.0384808637791,13.516130752942018,23.216327736484885,18.704041296219884,16.63254993207345,3.699009900710298,18.01476114041603,33.849841225767925,10.440250411573198,20.85244350410911,14.67040074499281,11.197945805584647,13.583123496256643,23.381937490679565,11.46267897748018,8.195411947977373,7.272424052232199,17.294047283893203,13.93257472286257,35.722512124780245,17.066193878441304,8.687060947579045,29.156201794423648,12.663182469352227,12.306432901327314,36.298676268396456,16.01166859688289,17.064326234299735,37.756759843373395,10.02001380102989,30.269120845677385,22.850497665859514,10.32615932617316,7.901965447327874,24.642106721314114,20.067777998811355,4.313603301891215,25.968925024151936,22.431234078300204],\"yaxis\":\"y\",\"type\":\"scatter\",\"textposition\":\"top center\"}],                        {\"template\":{\"data\":{\"histogram2dcontour\":[{\"type\":\"histogram2dcontour\",\"colorbar\":{\"outlinewidth\":0,\"ticks\":\"\"},\"colorscale\":[[0.0,\"#0d0887\"],[0.1111111111111111,\"#46039f\"],[0.2222222222222222,\"#7201a8\"],[0.3333333333333333,\"#9c179e\"],[0.4444444444444444,\"#bd3786\"],[0.5555555555555556,\"#d8576b\"],[0.6666666666666666,\"#ed7953\"],[0.7777777777777778,\"#fb9f3a\"],[0.8888888888888888,\"#fdca26\"],[1.0,\"#f0f921\"]]}],\"choropleth\":[{\"type\":\"choropleth\",\"colorbar\":{\"outlinewidth\":0,\"ticks\":\"\"}}],\"histogram2d\":[{\"type\":\"histogram2d\",\"colorbar\":{\"outlinewidth\":0,\"ticks\":\"\"},\"colorscale\":[[0.0,\"#0d0887\"],[0.1111111111111111,\"#46039f\"],[0.2222222222222222,\"#7201a8\"],[0.3333333333333333,\"#9c179e\"],[0.4444444444444444,\"#bd3786\"],[0.5555555555555556,\"#d8576b\"],[0.6666666666666666,\"#ed7953\"],[0.7777777777777778,\"#fb9f3a\"],[0.8888888888888888,\"#fdca26\"],[1.0,\"#f0f921\"]]}],\"heatmap\":[{\"type\":\"heatmap\",\"colorbar\":{\"outlinewidth\":0,\"ticks\":\"\"},\"colorscale\":[[0.0,\"#0d0887\"],[0.1111111111111111,\"#46039f\"],[0.2222222222222222,\"#7201a8\"],[0.3333333333333333,\"#9c179e\"],[0.4444444444444444,\"#bd3786\"],[0.5555555555555556,\"#d8576b\"],[0.6666666666666666,\"#ed7953\"],[0.7777777777777778,\"#fb9f3a\"],[0.8888888888888888,\"#fdca26\"],[1.0,\"#f0f921\"]]}],\"heatmapgl\":[{\"type\":\"heatmapgl\",\"colorbar\":{\"outlinewidth\":0,\"ticks\":\"\"},\"colorscale\":[[0.0,\"#0d0887\"],[0.1111111111111111,\"#46039f\"],[0.2222222222222222,\"#7201a8\"],[0.3333333333333333,\"#9c179e\"],[0.4444444444444444,\"#bd3786\"],[0.5555555555555556,\"#d8576b\"],[0.6666666666666666,\"#ed7953\"],[0.7777777777777778,\"#fb9f3a\"],[0.8888888888888888,\"#fdca26\"],[1.0,\"#f0f921\"]]}],\"contourcarpet\":[{\"type\":\"contourcarpet\",\"colorbar\":{\"outlinewidth\":0,\"ticks\":\"\"}}],\"contour\":[{\"type\":\"contour\",\"colorbar\":{\"outlinewidth\":0,\"ticks\":\"\"},\"colorscale\":[[0.0,\"#0d0887\"],[0.1111111111111111,\"#46039f\"],[0.2222222222222222,\"#7201a8\"],[0.3333333333333333,\"#9c179e\"],[0.4444444444444444,\"#bd3786\"],[0.5555555555555556,\"#d8576b\"],[0.6666666666666666,\"#ed7953\"],[0.7777777777777778,\"#fb9f3a\"],[0.8888888888888888,\"#fdca26\"],[1.0,\"#f0f921\"]]}],\"surface\":[{\"type\":\"surface\",\"colorbar\":{\"outlinewidth\":0,\"ticks\":\"\"},\"colorscale\":[[0.0,\"#0d0887\"],[0.1111111111111111,\"#46039f\"],[0.2222222222222222,\"#7201a8\"],[0.3333333333333333,\"#9c179e\"],[0.4444444444444444,\"#bd3786\"],[0.5555555555555556,\"#d8576b\"],[0.6666666666666666,\"#ed7953\"],[0.7777777777777778,\"#fb9f3a\"],[0.8888888888888888,\"#fdca26\"],[1.0,\"#f0f921\"]]}],\"mesh3d\":[{\"type\":\"mesh3d\",\"colorbar\":{\"outlinewidth\":0,\"ticks\":\"\"}}],\"scatter\":[{\"fillpattern\":{\"fillmode\":\"overlay\",\"size\":10,\"solidity\":0.2},\"type\":\"scatter\"}],\"parcoords\":[{\"type\":\"parcoords\",\"line\":{\"colorbar\":{\"outlinewidth\":0,\"ticks\":\"\"}}}],\"scatterpolargl\":[{\"type\":\"scatterpolargl\",\"marker\":{\"colorbar\":{\"outlinewidth\":0,\"ticks\":\"\"}}}],\"bar\":[{\"error_x\":{\"color\":\"#2a3f5f\"},\"error_y\":{\"color\":\"#2a3f5f\"},\"marker\":{\"line\":{\"color\":\"#E5ECF6\",\"width\":0.5},\"pattern\":{\"fillmode\":\"overlay\",\"size\":10,\"solidity\":0.2}},\"type\":\"bar\"}],\"scattergeo\":[{\"type\":\"scattergeo\",\"marker\":{\"colorbar\":{\"outlinewidth\":0,\"ticks\":\"\"}}}],\"scatterpolar\":[{\"type\":\"scatterpolar\",\"marker\":{\"colorbar\":{\"outlinewidth\":0,\"ticks\":\"\"}}}],\"histogram\":[{\"marker\":{\"pattern\":{\"fillmode\":\"overlay\",\"size\":10,\"solidity\":0.2}},\"type\":\"histogram\"}],\"scattergl\":[{\"type\":\"scattergl\",\"marker\":{\"colorbar\":{\"outlinewidth\":0,\"ticks\":\"\"}}}],\"scatter3d\":[{\"type\":\"scatter3d\",\"line\":{\"colorbar\":{\"outlinewidth\":0,\"ticks\":\"\"}},\"marker\":{\"colorbar\":{\"outlinewidth\":0,\"ticks\":\"\"}}}],\"scattermapbox\":[{\"type\":\"scattermapbox\",\"marker\":{\"colorbar\":{\"outlinewidth\":0,\"ticks\":\"\"}}}],\"scatterternary\":[{\"type\":\"scatterternary\",\"marker\":{\"colorbar\":{\"outlinewidth\":0,\"ticks\":\"\"}}}],\"scattercarpet\":[{\"type\":\"scattercarpet\",\"marker\":{\"colorbar\":{\"outlinewidth\":0,\"ticks\":\"\"}}}],\"carpet\":[{\"aaxis\":{\"endlinecolor\":\"#2a3f5f\",\"gridcolor\":\"white\",\"linecolor\":\"white\",\"minorgridcolor\":\"white\",\"startlinecolor\":\"#2a3f5f\"},\"baxis\":{\"endlinecolor\":\"#2a3f5f\",\"gridcolor\":\"white\",\"linecolor\":\"white\",\"minorgridcolor\":\"white\",\"startlinecolor\":\"#2a3f5f\"},\"type\":\"carpet\"}],\"table\":[{\"cells\":{\"fill\":{\"color\":\"#EBF0F8\"},\"line\":{\"color\":\"white\"}},\"header\":{\"fill\":{\"color\":\"#C8D4E3\"},\"line\":{\"color\":\"white\"}},\"type\":\"table\"}],\"barpolar\":[{\"marker\":{\"line\":{\"color\":\"#E5ECF6\",\"width\":0.5},\"pattern\":{\"fillmode\":\"overlay\",\"size\":10,\"solidity\":0.2}},\"type\":\"barpolar\"}],\"pie\":[{\"automargin\":true,\"type\":\"pie\"}]},\"layout\":{\"autotypenumbers\":\"strict\",\"colorway\":[\"#636efa\",\"#EF553B\",\"#00cc96\",\"#ab63fa\",\"#FFA15A\",\"#19d3f3\",\"#FF6692\",\"#B6E880\",\"#FF97FF\",\"#FECB52\"],\"font\":{\"color\":\"#2a3f5f\"},\"hovermode\":\"closest\",\"hoverlabel\":{\"align\":\"left\"},\"paper_bgcolor\":\"white\",\"plot_bgcolor\":\"#E5ECF6\",\"polar\":{\"bgcolor\":\"#E5ECF6\",\"angularaxis\":{\"gridcolor\":\"white\",\"linecolor\":\"white\",\"ticks\":\"\"},\"radialaxis\":{\"gridcolor\":\"white\",\"linecolor\":\"white\",\"ticks\":\"\"}},\"ternary\":{\"bgcolor\":\"#E5ECF6\",\"aaxis\":{\"gridcolor\":\"white\",\"linecolor\":\"white\",\"ticks\":\"\"},\"baxis\":{\"gridcolor\":\"white\",\"linecolor\":\"white\",\"ticks\":\"\"},\"caxis\":{\"gridcolor\":\"white\",\"linecolor\":\"white\",\"ticks\":\"\"}},\"coloraxis\":{\"colorbar\":{\"outlinewidth\":0,\"ticks\":\"\"}},\"colorscale\":{\"sequential\":[[0.0,\"#0d0887\"],[0.1111111111111111,\"#46039f\"],[0.2222222222222222,\"#7201a8\"],[0.3333333333333333,\"#9c179e\"],[0.4444444444444444,\"#bd3786\"],[0.5555555555555556,\"#d8576b\"],[0.6666666666666666,\"#ed7953\"],[0.7777777777777778,\"#fb9f3a\"],[0.8888888888888888,\"#fdca26\"],[1.0,\"#f0f921\"]],\"sequentialminus\":[[0.0,\"#0d0887\"],[0.1111111111111111,\"#46039f\"],[0.2222222222222222,\"#7201a8\"],[0.3333333333333333,\"#9c179e\"],[0.4444444444444444,\"#bd3786\"],[0.5555555555555556,\"#d8576b\"],[0.6666666666666666,\"#ed7953\"],[0.7777777777777778,\"#fb9f3a\"],[0.8888888888888888,\"#fdca26\"],[1.0,\"#f0f921\"]],\"diverging\":[[0,\"#8e0152\"],[0.1,\"#c51b7d\"],[0.2,\"#de77ae\"],[0.3,\"#f1b6da\"],[0.4,\"#fde0ef\"],[0.5,\"#f7f7f7\"],[0.6,\"#e6f5d0\"],[0.7,\"#b8e186\"],[0.8,\"#7fbc41\"],[0.9,\"#4d9221\"],[1,\"#276419\"]]},\"xaxis\":{\"gridcolor\":\"white\",\"linecolor\":\"white\",\"ticks\":\"\",\"title\":{\"standoff\":15},\"zerolinecolor\":\"white\",\"automargin\":true,\"zerolinewidth\":2},\"yaxis\":{\"gridcolor\":\"white\",\"linecolor\":\"white\",\"ticks\":\"\",\"title\":{\"standoff\":15},\"zerolinecolor\":\"white\",\"automargin\":true,\"zerolinewidth\":2},\"scene\":{\"xaxis\":{\"backgroundcolor\":\"#E5ECF6\",\"gridcolor\":\"white\",\"linecolor\":\"white\",\"showbackground\":true,\"ticks\":\"\",\"zerolinecolor\":\"white\",\"gridwidth\":2},\"yaxis\":{\"backgroundcolor\":\"#E5ECF6\",\"gridcolor\":\"white\",\"linecolor\":\"white\",\"showbackground\":true,\"ticks\":\"\",\"zerolinecolor\":\"white\",\"gridwidth\":2},\"zaxis\":{\"backgroundcolor\":\"#E5ECF6\",\"gridcolor\":\"white\",\"linecolor\":\"white\",\"showbackground\":true,\"ticks\":\"\",\"zerolinecolor\":\"white\",\"gridwidth\":2}},\"shapedefaults\":{\"line\":{\"color\":\"#2a3f5f\"}},\"annotationdefaults\":{\"arrowcolor\":\"#2a3f5f\",\"arrowhead\":0,\"arrowwidth\":1},\"geo\":{\"bgcolor\":\"white\",\"landcolor\":\"#E5ECF6\",\"subunitcolor\":\"white\",\"showland\":true,\"showlakes\":true,\"lakecolor\":\"white\"},\"title\":{\"x\":0.05},\"mapbox\":{\"style\":\"light\"}}},\"xaxis\":{\"anchor\":\"y\",\"domain\":[0.0,1.0],\"title\":{\"text\":\" SMokers\"}},\"yaxis\":{\"anchor\":\"x\",\"domain\":[0.0,1.0],\"title\":{\"text\":\"Mean Air Pollution per country\"}},\"coloraxis\":{\"colorbar\":{\"title\":{\"text\":\"TBL rate\"}},\"colorscale\":[[0.0,\"rgb(255,245,240)\"],[0.125,\"rgb(254,224,210)\"],[0.25,\"rgb(252,187,161)\"],[0.375,\"rgb(252,146,114)\"],[0.5,\"rgb(251,106,74)\"],[0.625,\"rgb(239,59,44)\"],[0.75,\"rgb(203,24,29)\"],[0.875,\"rgb(165,15,21)\"],[1.0,\"rgb(103,0,13)\"]]},\"legend\":{\"tracegroupgap\":0,\"itemsizing\":\"constant\"},\"margin\":{\"t\":60},\"title\":{\"text\":\"Bubble Chart with Tooltips\"}},                        {\"responsive\": true}                    ).then(function(){\n",
       "                            \n",
       "var gd = document.getElementById('60ee2b0e-3768-4999-a76f-bece64aabf79');\n",
       "var x = new MutationObserver(function (mutations, observer) {{\n",
       "        var display = window.getComputedStyle(gd).display;\n",
       "        if (!display || display === 'none') {{\n",
       "            console.log([gd, 'removed!']);\n",
       "            Plotly.purge(gd);\n",
       "            observer.disconnect();\n",
       "        }}\n",
       "}});\n",
       "\n",
       "// Listen for the removal of the full notebook cells\n",
       "var notebookContainer = gd.closest('#notebook-container');\n",
       "if (notebookContainer) {{\n",
       "    x.observe(notebookContainer, {childList: true});\n",
       "}}\n",
       "\n",
       "// Listen for the clearing of the current output cell\n",
       "var outputEl = gd.closest('.output');\n",
       "if (outputEl) {{\n",
       "    x.observe(outputEl, {childList: true});\n",
       "}}\n",
       "\n",
       "                        })                };                });            </script>        </div>"
      ]
     },
     "metadata": {},
     "output_type": "display_data"
    }
   ],
   "source": [
    "import pandas as pd\n",
    "import matplotlib.pyplot as plt\n",
    "import plotly.express as px\n",
    "import plotly.graph_objs as go\n",
    "\n",
    "df = pd.read_csv('datasets/norm.csv')\n",
    "df_2012 = df[df['Year'] == 2012]\n",
    "df_2012['Mean Air Pollution'] = df_2012[['Nitrogen oxide (NOx)', 'Sulphur dioxide (SO₂) emissions', 'Carbon monoxide (CO) emissions', 'Organic carbon (OC) emissions', 'Non-methane volatile organic compounds (NMVOC) emissions', 'Black carbon (BC) emissions', 'Ammonia (NH₃) emissions']].mean(axis=1)\n",
    "\n",
    "\n",
    "df_2012['Mean Air Pollution'] = df_2012['Mean Air Pollution']\n",
    "df_2012['Percentage daily smokers'] = df_2012['Percentage daily smokers']\n",
    "\n",
    "pearsons_r = df_2012['Mean Air Pollution'].corr(df_2012['Percentage daily smokers'])\n",
    "\n",
    "\n",
    "fig = px.scatter(df_2012, x='Percentage daily smokers', y='Mean Air Pollution', size='TBL rate', hover_name='Code', color='TBL rate', size_max=35, color_continuous_scale='Reds')\n",
    "\n",
    "\n",
    "# Customize layout and tooltip text\n",
    "fig.update_layout(\n",
    "   title='Bubble Chart with Tooltips',\n",
    "   xaxis_title=' SMokers',\n",
    "   yaxis_title='Mean Air Pollution per country',\n",
    ")\n",
    "\n",
    "\n",
    "# Set text format for tooltips\n",
    "fig.update_traces(textposition='top center')\n",
    "\n",
    "\n",
    "# Show plot\n",
    "fig.show()\n"
   ]
  },
  {
   "cell_type": "markdown",
   "id": "bf522e30-74ba-4774-a6a0-a94f3d827123",
   "metadata": {},
   "source": [
    "### Argument: Luchtvervuiling neemt al af."
   ]
  },
  {
   "cell_type": "markdown",
   "id": "51f7128d-2dd5-42ff-a178-bd7d6457d749",
   "metadata": {},
   "source": [
    "Luchtvervuiling is al aan het krimpen, snellere vermindering is niet nodig."
   ]
  },
  {
   "cell_type": "code",
   "execution_count": null,
   "id": "e6372635",
   "metadata": {
    "tags": [
     "hide-input"
    ]
   },
   "outputs": [],
   "source": []
  },
  {
   "cell_type": "markdown",
   "id": "84271e8b-3cdf-4cad-b78e-f536ff980cba",
   "metadata": {},
   "source": [
    "> *Figure 5: Vivamus elementum semper nisi. Aenean vulputate eleifend tellus. Aenean leo ligula, porttitor eu, consequat vitae, eleifend ac, enim. Aliquam lorem ante, dapibus in, viverra quis, feugiat a, tellus.*"
   ]
  },
  {
   "cell_type": "markdown",
   "id": "921df77f",
   "metadata": {},
   "source": [
    "## Reflection\n",
    "\n",
    "Curabitur non lacus ex. Maecenas at massa ultricies justo venenatis condimentum sed et eros. Ut vitae iaculis massa. Aenean vitae sagittis nibh. Aliquam pharetra dui suscipit purus dictum rutrum. Donec ultricies odio quis porttitor aliquet. Fusce sed nisl non velit rutrum commodo nec sed magna. Morbi non volutpat mi, cursus pulvinar dolor.\n",
    "\n",
    "Nam sit amet volutpat sapien. Aenean eu mattis neque. Maecenas eget libero consequat, condimentum nulla luctus, fermentum lectus. Donec at enim sit amet dolor vestibulum faucibus. Vestibulum velit elit, faucibus ut mi sit amet, mollis rutrum eros. Ut ut lacinia ante, eu placerat ligula. Fusce quis convallis purus. Maecenas eget fringilla quam.\n",
    "\n",
    "Proin ac sapien et lectus tempor dignissim a at arcu. Donec placerat aliquet odio, vel aliquam nibh tempus vel. Pellentesque non velit iaculis, porta metus sed, dictum augue. Aenean tempus gravida ullamcorper. Proin cursus fringilla turpis. Integer id lectus dignissim, ultrices metus vel, dictum quam. Suspendisse augue ligula, vestibulum ac nulla a, porta pharetra leo. Integer et pharetra lacus, in porttitor mauris. Cras sodales metus sit amet enim rhoncus sodales. Etiam orci enim, tincidunt eget arcu vel, gravida scelerisque lacus."
   ]
  },
  {
   "cell_type": "markdown",
   "id": "8799e8f6",
   "metadata": {},
   "source": [
    "## Work Distribution\n",
    "\n",
    "Curabitur non lacus ex. Maecenas at massa ultricies justo venenatis condimentum sed et eros. Ut vitae iaculis massa. Aenean vitae sagittis nibh. Aliquam pharetra dui suscipit purus dictum rutrum. Donec ultricies odio quis porttitor aliquet. Fusce sed nisl non velit rutrum commodo nec sed magna. Morbi non volutpat mi, cursus pulvinar dolor.\n",
    "\n",
    "Nam sit amet volutpat sapien. Aenean eu mattis neque. Maecenas eget libero consequat, condimentum nulla luctus, fermentum lectus. Donec at enim sit amet dolor vestibulum faucibus. Vestibulum velit elit, faucibus ut mi sit amet, mollis rutrum eros. Ut ut lacinia ante, eu placerat ligula. Fusce quis convallis purus. Maecenas eget fringilla quam.\n",
    "\n",
    "Proin ac sapien et lectus tempor dignissim a at arcu. Donec placerat aliquet odio, vel aliquam nibh tempus vel. Pellentesque non velit iaculis, porta metus sed, dictum augue. Aenean tempus gravida ullamcorper. Proin cursus fringilla turpis. Integer id lectus dignissim, ultrices metus vel, dictum quam. Suspendisse augue ligula, vestibulum ac nulla a, porta pharetra leo. Integer et pharetra lacus, in porttitor mauris. Cras sodales metus sit amet enim rhoncus sodales. Etiam orci enim, tincidunt eget arcu vel, gravida scelerisque lacus."
   ]
  },
  {
   "cell_type": "markdown",
   "id": "8a61224c",
   "metadata": {},
   "source": [
    "## References\n",
    "\n"
   ]
  },
  {
   "cell_type": "code",
   "execution_count": null,
   "id": "88999b1f-c7ee-4324-8570-34ef39c0897d",
   "metadata": {},
   "outputs": [],
   "source": []
  }
 ],
 "metadata": {
  "celltoolbar": "Tags",
  "kernelspec": {
   "display_name": "Python 3 (ipykernel)",
   "language": "python",
   "name": "python3"
  },
  "language_info": {
   "codemirror_mode": {
    "name": "ipython",
    "version": 3
   },
   "file_extension": ".py",
   "mimetype": "text/x-python",
   "name": "python",
   "nbconvert_exporter": "python",
   "pygments_lexer": "ipython3",
   "version": "3.10.14"
  },
  "widgets": {
   "application/vnd.jupyter.widget-state+json": {
    "state": {},
    "version_major": 2,
    "version_minor": 0
   }
  }
 },
 "nbformat": 4,
 "nbformat_minor": 5
}