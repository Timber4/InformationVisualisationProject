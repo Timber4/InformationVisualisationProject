{
 "cells": [
  {
   "cell_type": "markdown",
   "id": "5f74cf77-759c-4796-9621-bdae2463f270",
   "metadata": {},
   "source": [
    "### Test notebook"
   ]
  },
  {
   "cell_type": "code",
   "execution_count": 1,
   "id": "9c8b62e5-f859-4083-a29e-8ebb70900a63",
   "metadata": {},
   "outputs": [],
   "source": [
    "#TEST"
   ]
  },
  {
   "cell_type": "code",
   "execution_count": null,
   "id": "8db9e952-0520-4e91-8fc6-f28a843b866c",
   "metadata": {},
   "outputs": [],
   "source": []
  }
 ],
 "metadata": {
  "kernelspec": {
   "display_name": "Python 3 (ipykernel)",
   "language": "python",
   "name": "python3"
  },
  "language_info": {
   "codemirror_mode": {
    "name": "ipython",
    "version": 3
   },
   "file_extension": ".py",
   "mimetype": "text/x-python",
   "name": "python",
   "nbconvert_exporter": "python",
   "pygments_lexer": "ipython3",
   "version": "3.10.14"
  }
 },
 "nbformat": 4,
 "nbformat_minor": 5
}