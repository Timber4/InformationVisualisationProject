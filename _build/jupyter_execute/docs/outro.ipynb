{
 "cells": [
  {
   "cell_type": "markdown",
   "id": "dd7e8772-28f8-4dec-ab25-721d31f39b65",
   "metadata": {},
   "source": [
    "## Reflectie\n",
    "\n",
    "### Peer feedback\n",
    "Op 20 juni 2024 is ons groepje N5 samengekomen met een ander groepje en de TA voor peer feedback. Ieder groepje heeft zijn werk van de afgelopen 3 weken gepresenteerd en het andere groepje en de TA hebben feedback gegeven over de punten die er goed uitzagen en de dingen die beter uitgevoerd kunnen worden.\n",
    "\n",
    "De algemene complimenten die we hebben ontvangen op onze eerste versie is dat de data die we hadden goed aansloot op de materie die we behandelden en dat het geen nattevingerwerk is geweest, en dat de visualisatie van de data in de grafieken destijds een goed beeld geeft van de perspectieven die zijn behandeld.\n",
    "\n",
    "Feedback over hetgeen dat beter kon bedroeg over het algemeen details over hoe de grafieken beter vormgegeven konden worden. Zoals een slider toevoegen aan de grafieken om de dynamiek te zien van de wereldwijde uitstoot, evenals het verwijderen van data dat weinig effect heeft gehad op de uiteindelijke verdeling van variabelen.\n",
    "\n",
    "De feedback was voor ons gerechtvaardigd en we zijn ermee aan de slag gegaan. Zo zit er nu een slider bij de wereldkaart waar dat voorheen niet was en hebben we de waarden uit de wereldwijde uitstoot gefilterd omdat de kleinste fracties ervoor zorgden dat onze grafieken niet geordend waren.\n",
    "\n",
    "### Zelfreflectie\n",
    "In het onderzoeksvoorstel was de voordehand liggend om te focussen op TBL-kanker, ofwel luchtwegkanker in relatie met luchtvervuiling en roken. Echter hebben we tijdens het onderzoeksvoorstel ook nog andere vormen van kanker bestudeerd zoals borst-, lever- en pancreaskanker die volgens het ACCR (2020) ook relatief veel voorkomend zijn in correlatie met luchtvervuiling. Als we meer tijd hadden gehad voor het onderzoek hadden we de genoemde kankersoorten ook tegenover roken en luchtvervuiling willen zetten in onze uiteindelijke Data Story. Als hier namelijk ook een correlatie gevonden kan worden is het belangrijk om dat verder te onderzoeken, sinds het zou kunnen betekenen dat meer mensen een risico op andere soorten kanker kunnen ondervinden van roken of luchtvervuiling."
   ]
  },
  {
   "cell_type": "markdown",
   "id": "451deb08-c871-421c-9d35-662c12da7840",
   "metadata": {},
   "source": [
    "## Werk verdeling\n",
    "\n",
    "In de eerste fase van het project bestond N5 uit alleen Wietske, Isa en Alecsandru. Timber heeft zich na het onderzoeksvoorstel gepresenteerd te hebben bij ons gevoegd en bleek een onmisbaar element sinds hij enige ervaring had en de rest ook begeleiding kon bieden buiten de werkgroepen.\n",
    "\n",
    "Tijdens het project hebben we elkaar het meest gesproken tijdens de werkgroepen. Dit waren ook onze standaard meeting dagen, omdat we het geleverde werk dat we individueel hadden gedaan konden samenvoegen, en vervolgens met z’n allen naar de werkgroep konden gaan om vragen te stellen over de gang van zaken. Toekomstige afspraken hebben we vooral via Whatsapp gemaakt en hebben ze individueel geïmplementeerd. \n",
    "\n",
    "Tijdens onze eerste groepsbijeenkomst hebben we onderwerpen gekozen die we aan elkaar wilden correleren en gezamenlijk bijbehorende datasets gezocht die ons streven benaderen. Hierna zijn de datasets opgeschoond en samengevoegd gebaseerd op jaar (zie Dataset Preprocessing). Daarna zijn we gelijk aan de slag gegaan met het verzinnen van de data story eromheen en bijpassende grafieken te maken die onze perspectieven op een inhoudelijke en correcte wijze zouden weergeven. Dit bracht ons naar de voorlopige versie van de data story die we in de overige tijd hebben aangepast gebaseerd op de feedback en afgemaakt hebben.\n",
    "\n",
    "### Isa\n",
    "Isa heeft zich beziggehouden met de vormgeving van grafieken, de data-analyse van de luchtvervuiling en het in context brengen van de verschillende perspectieven samen met Wietske.\n",
    "\n",
    "### Wietske\n",
    "Wietske is verantwoordelijk voor de vormgeving van de grafieken, het schrijven van de inleiding, en het in context brengen van de context van de verschillende perspectieven samen met Isa. Ze heeft ook data uit 2012 samengevoegd, het laatste jaar waar alle datasets overeenkomen.\n",
    "\n",
    "### Timber\n",
    "Timber is verantwoordelijk voor vormgeving van grafieken en de meeste data preprocessing, zowel het cleanen als het samenvoegen van de datasets die we hebben gekozen. Hij heeft de Github repository gemanaged en ervoor gezorgd dat de layout op de website begrijpelijk en geordend is.\n",
    "\n",
    "### Alecsandru\n",
    "Alecsandru heeft zich beziggehouden met het vormgeven van de grafieken, het schrijven van de reflectie en de werkverdeling en de teksten bij de data story die context geven aan grafieken."
   ]
  },
  {
   "cell_type": "markdown",
   "id": "2bbdeb54-3041-43a5-b4d3-bee66165aac7",
   "metadata": {},
   "source": [
    "## Bronvermelding\n",
    "\n",
    "* EenVandaag. (2020, 17 november). Nog meer mensen met longkanker in de omgeving van Tata Steel dan eerder bekend. https://eenvandaag.avrotros.nl/item/nog-meer-mensen-met-longkanker-in-de-omgeving-van-tata-steel-dan-eerder-bekend/\n",
    "* Greenpeace Nederland. (2024, 21 april). People vs polluters: Tata Steel. Greenpeace Nederland. https://www.greenpeace.org/nl/acties/tata-steel/\n",
    "* CIA. (2017) GDP - composition, by sector of origin. https://www.cia.gov/the-world-factbook/field/gdp-composition-by-sector-of-origin/\n",
    "* ACCR. (2020, 31 januari). Air Pollution May be Associated With Many Kinds of Cancer. American Association For Cancer Research. https://www.aacr.org/patients-caregivers/progress-against-cancer/air-pollution-associated-cancer/#:~:text=It%27s%20no%20surprise%20that%20air,%2C%20liver%2C%20and%20pancreatic%20cancer.\n",
    "* Oorzaken en symptomen van longkanker. (2020). Longkanker Nederland. https://www.longkankernederland.nl/longkanker/oorzaken-en-symptomen#:~:text=Na%20roken%20is%20radon%20de,%3A%20Wereld%20Gezondheidsorganisatie%2C%20WHO).\n",
    "* World Health Organization: WHO. (2022, 19 december). Ambient (outdoor) air pollution. https://www.who.int/news-room/fact-sheets/detail/ambient-(outdoor)-air-quality-and-health\n",
    "* Kankerbestrijding, K. (z.d.). Luchtvervuiling. KWF. https://www.kwf.nl/waar-kun-je-kanker-van-krijgen/luchtvervuiling"
   ]
  }
 ],
 "metadata": {
  "kernelspec": {
   "display_name": "Python 3 (ipykernel)",
   "language": "python",
   "name": "python3"
  },
  "language_info": {
   "codemirror_mode": {
    "name": "ipython",
    "version": 3
   },
   "file_extension": ".py",
   "mimetype": "text/x-python",
   "name": "python",
   "nbconvert_exporter": "python",
   "pygments_lexer": "ipython3",
   "version": "3.10.14"
  }
 },
 "nbformat": 4,
 "nbformat_minor": 5
}