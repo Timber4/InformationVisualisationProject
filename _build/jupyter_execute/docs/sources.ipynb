{
 "cells": [
  {
   "cell_type": "markdown",
   "id": "abc2b380-2444-4d9b-bc02-5b4660de3c1b",
   "metadata": {},
   "source": [
    "## Bronvermelding\n",
    "\n",
    "* EenVandaag. (2020, 17 november). Nog meer mensen met longkanker in de omgeving van Tata Steel dan eerder bekend. https://eenvandaag.avrotros.nl/item/nog-meer-mensen-met-longkanker-in-de-omgeving-van-tata-steel-dan-eerder-bekend/\n",
    "* Greenpeace Nederland. (2024, 21 april). People vs polluters: Tata Steel. Greenpeace Nederland. https://www.greenpeace.org/nl/acties/tata-steel/\n",
    "* CIA. (2017) GDP - composition, by sector of origin. https://www.cia.gov/the-world-factbook/field/gdp-composition-by-sector-of-origin/\n",
    "* ACCR. (2020, 31 januari). Air Pollution May be Associated With Many Kinds of Cancer. American Association For Cancer Research. https://www.aacr.org/patients-caregivers/progress-against-cancer/air-pollution-associated-cancer/#:~:text=It%27s%20no%20surprise%20that%20air,%2C%20liver%2C%20and%20pancreatic%20cancer.\n",
    "* Oorzaken en symptomen van longkanker. (2020). Longkanker Nederland. https://www.longkankernederland.nl/longkanker/oorzaken-en-symptomen#:~:text=Na%20roken%20is%20radon%20de,%3A%20Wereld%20Gezondheidsorganisatie%2C%20WHO).\n",
    "* World Health Organization: WHO. (2022, 19 december). Ambient (outdoor) air pollution. https://www.who.int/news-room/fact-sheets/detail/ambient-(outdoor)-air-quality-and-health\n",
    "* Kankerbestrijding, K. (z.d.). Luchtvervuiling. KWF. https://www.kwf.nl/waar-kun-je-kanker-van-krijgen/luchtvervuiling"
   ]
  }
 ],
 "metadata": {
  "kernelspec": {
   "display_name": "Python 3 (ipykernel)",
   "language": "python",
   "name": "python3"
  },
  "language_info": {
   "codemirror_mode": {
    "name": "ipython",
    "version": 3
   },
   "file_extension": ".py",
   "mimetype": "text/x-python",
   "name": "python",
   "nbconvert_exporter": "python",
   "pygments_lexer": "ipython3",
   "version": "3.10.14"
  }
 },
 "nbformat": 4,
 "nbformat_minor": 5
}