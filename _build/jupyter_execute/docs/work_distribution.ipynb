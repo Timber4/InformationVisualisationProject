{
 "cells": [
  {
   "cell_type": "markdown",
   "id": "09623e61-ae79-4840-a20a-66b615e278fb",
   "metadata": {},
   "source": [
    "# Werk verdeling\n",
    "\n",
    "In de eerste fase van het project bestond N5 uit alleen Wietske, Isa en Alecsandru. Timber heeft zich na het onderzoeksvoorstel gepresenteerd te hebben bij ons gevoegd en bleek een onmisbaar element sinds hij enige ervaring had en de rest ook begeleiding kon bieden buiten de werkgroepen.\n",
    "\n",
    "Tijdens het project hebben we elkaar het meest gesproken tijdens de werkgroepen. Dit waren ook onze standaard meeting dagen, omdat we het geleverde werk dat we individueel hadden gedaan konden samenvoegen, en vervolgens met z’n allen naar de werkgroep konden gaan om vragen te stellen over de gang van zaken. Toekomstige afspraken hebben we vooral via Whatsapp gemaakt en hebben ze individueel geïmplementeerd. \n",
    "\n",
    "Tijdens onze eerste groepsbijeenkomst hebben we onderwerpen gekozen die we aan elkaar wilden correleren en gezamenlijk bijbehorende datasets gezocht die ons streven benaderen. Hierna zijn de datasets opgeschoond en samengevoegd gebaseerd op jaar (zie Dataset Preprocessing). Daarna zijn we gelijk aan de slag gegaan met het verzinnen van de data story eromheen en bijpassende grafieken te maken die onze perspectieven op een inhoudelijke en correcte wijze zouden weergeven. Dit bracht ons naar de voorlopige versie van de data story die we in de overige tijd hebben aangepast gebaseerd op de feedback en afgemaakt hebben.\n",
    "\n",
    "## Isa\n",
    "Isa heeft zich beziggehouden met de vormgeving van grafieken, de data-analyse van de luchtvervuiling en het in context brengen van de verschillende perspectieven samen met Wietske.\n",
    "\n",
    "## Wietske\n",
    "Wietske is verantwoordelijk voor de vormgeving van de grafieken, het schrijven van de inleiding, en het in context brengen van de context van de verschillende perspectieven samen met Isa. Ze heeft ook data uit 2012 samengevoegd, het laatste jaar waar alle datasets overeenkomen.\n",
    "\n",
    "## Timber\n",
    "Timber is verantwoordelijk voor vormgeving van grafieken en de meeste data preprocessing, zowel het cleanen als het samenvoegen van de datasets die we hebben gekozen. Hij heeft de Github repository gemanaged en ervoor gezorgd dat de layout op de website begrijpelijk en geordend is.\n",
    "\n",
    "## Alecsandru\n",
    "Alecsandru heeft zich beziggehouden met het vormgeven van de grafieken, het schrijven van de reflectie en de werkverdeling en de teksten bij de data story die context geven aan grafieken."
   ]
  }
 ],
 "metadata": {
  "kernelspec": {
   "display_name": "Python 3 (ipykernel)",
   "language": "python",
   "name": "python3"
  },
  "language_info": {
   "codemirror_mode": {
    "name": "ipython",
    "version": 3
   },
   "file_extension": ".py",
   "mimetype": "text/x-python",
   "name": "python",
   "nbconvert_exporter": "python",
   "pygments_lexer": "ipython3",
   "version": "3.10.14"
  }
 },
 "nbformat": 4,
 "nbformat_minor": 5
}