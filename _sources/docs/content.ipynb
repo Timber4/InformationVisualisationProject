{
 "cells": [
  {
   "cell_type": "markdown",
   "id": "d58ee001-e37a-4506-b53d-950fa9c2d9d8",
   "metadata": {},
   "source": [
    "# Perspectieven en argumenten"
   ]
  },
  {
   "cell_type": "code",
   "execution_count": 1,
   "id": "158c7879-2750-47b7-b30b-623bb2d76fb2",
   "metadata": {
    "editable": true,
    "slideshow": {
     "slide_type": ""
    },
    "tags": [
     "hide-input"
    ]
   },
   "outputs": [
    {
     "data": {
      "text/html": [
       "        <script type=\"text/javascript\">\n",
       "        window.PlotlyConfig = {MathJaxConfig: 'local'};\n",
       "        if (window.MathJax && window.MathJax.Hub && window.MathJax.Hub.Config) {window.MathJax.Hub.Config({SVG: {font: \"STIX-Web\"}});}\n",
       "        if (typeof require !== 'undefined') {\n",
       "        require.undef(\"plotly\");\n",
       "        requirejs.config({\n",
       "            paths: {\n",
       "                'plotly': ['https://cdn.plot.ly/plotly-2.32.0.min']\n",
       "            }\n",
       "        });\n",
       "        require(['plotly'], function(Plotly) {\n",
       "            window._Plotly = Plotly;\n",
       "        });\n",
       "        }\n",
       "        </script>\n",
       "        "
      ]
     },
     "metadata": {},
     "output_type": "display_data"
    }
   ],
   "source": [
    "import pandas as pd\n",
    "import plotly.graph_objs as go\n",
    "import plotly.express as px\n",
    "import matplotlib.pyplot as plt\n",
    "import plotly\n",
    "\n",
    "from plotly.offline import init_notebook_mode\n",
    "init_notebook_mode(connected=True)\n",
    "pd.options.mode.chained_assignment = None"
   ]
  },
  {
   "cell_type": "markdown",
   "id": "d5010a07-96a0-45a7-ba76-250a56053f62",
   "metadata": {},
   "source": [
    "## Perspectief 1: Luchtvervuiling moet direct verminderd worden voor de bescherming van de gezondheid"
   ]
  },
  {
   "cell_type": "markdown",
   "id": "1f26b1fd",
   "metadata": {},
   "source": [
    "Het is algemeen bekend dat plekken waar veel luchtvervuilende stoffen zijn grotere gezondheidsrisico's zijn. Zelfs in Nederland hebben we hiermee te maken. EenVandaag (2020) heeft onderzoek gedaan naar de hoeveelheid longkankerpatiënten bij Tata Steel. EenVandaag heeft uit cijfers van het Integraal Kankerinstituut Nederland (IKNL) gevonden dat in de buurt van de Tata Steel fabriek in Beverwijk tot wel 50% meer longkankerpatiënten voorkomen. Deze verhalen zorgen voor veel zorgen bij mensen in ernstig vervuilende gebieden, en organisaties zoals GreenPeace (2024) voeren protesten uit in de hoop dat Tata Steel sneller vergroend. \n",
    "\n",
    "In dit stuk zullen we door middel van het onderzoeken van data rondom sterftecijfers van longkanker en uitstoot van luchtvervuilende stoffen, het effect van luchtvervuiling laten zien en beargumenteren dat het snel verminderd moet worden."
   ]
  },
  {
   "cell_type": "markdown",
   "id": "a43c3ae1-48d8-4663-8525-7d92fae83483",
   "metadata": {},
   "source": [
    "### Argument: Luchtvervuiling veroorzaakt longkanker"
   ]
  },
  {
   "cell_type": "markdown",
   "id": "a44acbb2-6dbc-4cb9-ba26-7ba3fb19af5d",
   "metadata": {},
   "source": [
    "Zoals eerder benoemd is het algemeen bekend dat luchtvervuiling longkanker veroorzaakt, maar het is ook belangrijk dat we dit verband duidelijk kunnen aantonen. In dit stuk zullen we doormiddel het visualiseren van de data die we hebben verzameld het verband tussen uitstoot en longkanker laten zien.\n",
    "\n",
    "Eerst kunnen we kijken naar de luchtvervuiling van verschillende landen met sterk verschillende industrieën. De CIA (2017) heeft een publiek rapport waarin te vinden is hoeveel procent van het bruto binnenlands product van elk land naar welke sector gaat. De sectoren die hier worden bijgehouden zijn: industrie, diensten en agricultuur. Hiermee kunnen we drie landen kiezen die een absolute meerderheid hebben in verschillende sectoren. De gekozen landen zijn Angola met industrie, Argentinië met diensten en Sierra Leone met agricultuur."
   ]
  },
  {
   "cell_type": "code",
   "execution_count": 3,
   "id": "5a242e18",
   "metadata": {
    "editable": true,
    "slideshow": {
     "slide_type": ""
    },
    "tags": [
     "hide-input"
    ]
   },
   "outputs": [
    {
     "data": {
      "application/vnd.plotly.v1+json": {
       "config": {
        "plotlyServerURL": "https://plot.ly"
       },
       "data": [
        {
         "marker": {
          "color": "darkseagreen"
         },
         "name": "NOx per 1000 inwoners",
         "type": "bar",
         "x": [
          "Angola (Industrie)",
          "Argentinië (Diensten)",
          "Siera Leone (Agricultuur)"
         ],
         "y": [
          5.296474647791568,
          27.63639111825191,
          2.189045540009126
         ]
        },
        {
         "marker": {
          "color": "palegreen"
         },
         "name": "SO2 per 1000 inwoners",
         "type": "bar",
         "x": [
          "Angola (Industrie)",
          "Argentinië (Diensten)",
          "Siera Leone (Agricultuur)"
         ],
         "y": [
          1.9148491367130167,
          3.982479350827785,
          0.5753358209010812
         ]
        },
        {
         "marker": {
          "color": "khaki"
         },
         "name": "CO per 1000 inwoners",
         "type": "bar",
         "x": [
          "Angola (Industrie)",
          "Argentinië (Diensten)",
          "Siera Leone (Agricultuur)"
         ],
         "y": [
          56.11756301226095,
          20.037795503736096,
          66.535924110264
         ]
        },
        {
         "marker": {
          "color": "oldlace"
         },
         "name": "NMVOC per 1000 inwoners",
         "type": "bar",
         "x": [
          "Angola (Industrie)",
          "Argentinië (Diensten)",
          "Siera Leone (Agricultuur)"
         ],
         "y": [
          30.932034981297345,
          8.102092932039763,
          16.651042274201235
         ]
        },
        {
         "marker": {
          "color": "lightcoral"
         },
         "name": "NH3 per 1000 inwoners",
         "type": "bar",
         "x": [
          "Angola (Industrie)",
          "Argentinië (Diensten)",
          "Siera Leone (Agricultuur)"
         ],
         "y": [
          5.19282014913933,
          12.331389504551415,
          4.889773993043809
         ]
        },
        {
         "marker": {
          "color": "indianred"
         },
         "name": "Longkanker sterfte",
         "type": "bar",
         "x": [
          "Angola (Industrie)",
          "Argentinië (Diensten)",
          "Siera Leone (Agricultuur)"
         ],
         "y": [
          14.751931804872283,
          26.74079335836103,
          10.982584352533644
         ]
        }
       ],
       "layout": {
        "autosize": true,
        "barmode": "group",
        "template": {
         "data": {
          "bar": [
           {
            "error_x": {
             "color": "#2a3f5f"
            },
            "error_y": {
             "color": "#2a3f5f"
            },
            "marker": {
             "line": {
              "color": "#E5ECF6",
              "width": 0.5
             },
             "pattern": {
              "fillmode": "overlay",
              "size": 10,
              "solidity": 0.2
             }
            },
            "type": "bar"
           }
          ],
          "barpolar": [
           {
            "marker": {
             "line": {
              "color": "#E5ECF6",
              "width": 0.5
             },
             "pattern": {
              "fillmode": "overlay",
              "size": 10,
              "solidity": 0.2
             }
            },
            "type": "barpolar"
           }
          ],
          "carpet": [
           {
            "aaxis": {
             "endlinecolor": "#2a3f5f",
             "gridcolor": "white",
             "linecolor": "white",
             "minorgridcolor": "white",
             "startlinecolor": "#2a3f5f"
            },
            "baxis": {
             "endlinecolor": "#2a3f5f",
             "gridcolor": "white",
             "linecolor": "white",
             "minorgridcolor": "white",
             "startlinecolor": "#2a3f5f"
            },
            "type": "carpet"
           }
          ],
          "choropleth": [
           {
            "colorbar": {
             "outlinewidth": 0,
             "ticks": ""
            },
            "type": "choropleth"
           }
          ],
          "contour": [
           {
            "colorbar": {
             "outlinewidth": 0,
             "ticks": ""
            },
            "colorscale": [
             [
              0,
              "#0d0887"
             ],
             [
              0.1111111111111111,
              "#46039f"
             ],
             [
              0.2222222222222222,
              "#7201a8"
             ],
             [
              0.3333333333333333,
              "#9c179e"
             ],
             [
              0.4444444444444444,
              "#bd3786"
             ],
             [
              0.5555555555555556,
              "#d8576b"
             ],
             [
              0.6666666666666666,
              "#ed7953"
             ],
             [
              0.7777777777777778,
              "#fb9f3a"
             ],
             [
              0.8888888888888888,
              "#fdca26"
             ],
             [
              1,
              "#f0f921"
             ]
            ],
            "type": "contour"
           }
          ],
          "contourcarpet": [
           {
            "colorbar": {
             "outlinewidth": 0,
             "ticks": ""
            },
            "type": "contourcarpet"
           }
          ],
          "heatmap": [
           {
            "colorbar": {
             "outlinewidth": 0,
             "ticks": ""
            },
            "colorscale": [
             [
              0,
              "#0d0887"
             ],
             [
              0.1111111111111111,
              "#46039f"
             ],
             [
              0.2222222222222222,
              "#7201a8"
             ],
             [
              0.3333333333333333,
              "#9c179e"
             ],
             [
              0.4444444444444444,
              "#bd3786"
             ],
             [
              0.5555555555555556,
              "#d8576b"
             ],
             [
              0.6666666666666666,
              "#ed7953"
             ],
             [
              0.7777777777777778,
              "#fb9f3a"
             ],
             [
              0.8888888888888888,
              "#fdca26"
             ],
             [
              1,
              "#f0f921"
             ]
            ],
            "type": "heatmap"
           }
          ],
          "heatmapgl": [
           {
            "colorbar": {
             "outlinewidth": 0,
             "ticks": ""
            },
            "colorscale": [
             [
              0,
              "#0d0887"
             ],
             [
              0.1111111111111111,
              "#46039f"
             ],
             [
              0.2222222222222222,
              "#7201a8"
             ],
             [
              0.3333333333333333,
              "#9c179e"
             ],
             [
              0.4444444444444444,
              "#bd3786"
             ],
             [
              0.5555555555555556,
              "#d8576b"
             ],
             [
              0.6666666666666666,
              "#ed7953"
             ],
             [
              0.7777777777777778,
              "#fb9f3a"
             ],
             [
              0.8888888888888888,
              "#fdca26"
             ],
             [
              1,
              "#f0f921"
             ]
            ],
            "type": "heatmapgl"
           }
          ],
          "histogram": [
           {
            "marker": {
             "pattern": {
              "fillmode": "overlay",
              "size": 10,
              "solidity": 0.2
             }
            },
            "type": "histogram"
           }
          ],
          "histogram2d": [
           {
            "colorbar": {
             "outlinewidth": 0,
             "ticks": ""
            },
            "colorscale": [
             [
              0,
              "#0d0887"
             ],
             [
              0.1111111111111111,
              "#46039f"
             ],
             [
              0.2222222222222222,
              "#7201a8"
             ],
             [
              0.3333333333333333,
              "#9c179e"
             ],
             [
              0.4444444444444444,
              "#bd3786"
             ],
             [
              0.5555555555555556,
              "#d8576b"
             ],
             [
              0.6666666666666666,
              "#ed7953"
             ],
             [
              0.7777777777777778,
              "#fb9f3a"
             ],
             [
              0.8888888888888888,
              "#fdca26"
             ],
             [
              1,
              "#f0f921"
             ]
            ],
            "type": "histogram2d"
           }
          ],
          "histogram2dcontour": [
           {
            "colorbar": {
             "outlinewidth": 0,
             "ticks": ""
            },
            "colorscale": [
             [
              0,
              "#0d0887"
             ],
             [
              0.1111111111111111,
              "#46039f"
             ],
             [
              0.2222222222222222,
              "#7201a8"
             ],
             [
              0.3333333333333333,
              "#9c179e"
             ],
             [
              0.4444444444444444,
              "#bd3786"
             ],
             [
              0.5555555555555556,
              "#d8576b"
             ],
             [
              0.6666666666666666,
              "#ed7953"
             ],
             [
              0.7777777777777778,
              "#fb9f3a"
             ],
             [
              0.8888888888888888,
              "#fdca26"
             ],
             [
              1,
              "#f0f921"
             ]
            ],
            "type": "histogram2dcontour"
           }
          ],
          "mesh3d": [
           {
            "colorbar": {
             "outlinewidth": 0,
             "ticks": ""
            },
            "type": "mesh3d"
           }
          ],
          "parcoords": [
           {
            "line": {
             "colorbar": {
              "outlinewidth": 0,
              "ticks": ""
             }
            },
            "type": "parcoords"
           }
          ],
          "pie": [
           {
            "automargin": true,
            "type": "pie"
           }
          ],
          "scatter": [
           {
            "fillpattern": {
             "fillmode": "overlay",
             "size": 10,
             "solidity": 0.2
            },
            "type": "scatter"
           }
          ],
          "scatter3d": [
           {
            "line": {
             "colorbar": {
              "outlinewidth": 0,
              "ticks": ""
             }
            },
            "marker": {
             "colorbar": {
              "outlinewidth": 0,
              "ticks": ""
             }
            },
            "type": "scatter3d"
           }
          ],
          "scattercarpet": [
           {
            "marker": {
             "colorbar": {
              "outlinewidth": 0,
              "ticks": ""
             }
            },
            "type": "scattercarpet"
           }
          ],
          "scattergeo": [
           {
            "marker": {
             "colorbar": {
              "outlinewidth": 0,
              "ticks": ""
             }
            },
            "type": "scattergeo"
           }
          ],
          "scattergl": [
           {
            "marker": {
             "colorbar": {
              "outlinewidth": 0,
              "ticks": ""
             }
            },
            "type": "scattergl"
           }
          ],
          "scattermapbox": [
           {
            "marker": {
             "colorbar": {
              "outlinewidth": 0,
              "ticks": ""
             }
            },
            "type": "scattermapbox"
           }
          ],
          "scatterpolar": [
           {
            "marker": {
             "colorbar": {
              "outlinewidth": 0,
              "ticks": ""
             }
            },
            "type": "scatterpolar"
           }
          ],
          "scatterpolargl": [
           {
            "marker": {
             "colorbar": {
              "outlinewidth": 0,
              "ticks": ""
             }
            },
            "type": "scatterpolargl"
           }
          ],
          "scatterternary": [
           {
            "marker": {
             "colorbar": {
              "outlinewidth": 0,
              "ticks": ""
             }
            },
            "type": "scatterternary"
           }
          ],
          "surface": [
           {
            "colorbar": {
             "outlinewidth": 0,
             "ticks": ""
            },
            "colorscale": [
             [
              0,
              "#0d0887"
             ],
             [
              0.1111111111111111,
              "#46039f"
             ],
             [
              0.2222222222222222,
              "#7201a8"
             ],
             [
              0.3333333333333333,
              "#9c179e"
             ],
             [
              0.4444444444444444,
              "#bd3786"
             ],
             [
              0.5555555555555556,
              "#d8576b"
             ],
             [
              0.6666666666666666,
              "#ed7953"
             ],
             [
              0.7777777777777778,
              "#fb9f3a"
             ],
             [
              0.8888888888888888,
              "#fdca26"
             ],
             [
              1,
              "#f0f921"
             ]
            ],
            "type": "surface"
           }
          ],
          "table": [
           {
            "cells": {
             "fill": {
              "color": "#EBF0F8"
             },
             "line": {
              "color": "white"
             }
            },
            "header": {
             "fill": {
              "color": "#C8D4E3"
             },
             "line": {
              "color": "white"
             }
            },
            "type": "table"
           }
          ]
         },
         "layout": {
          "annotationdefaults": {
           "arrowcolor": "#2a3f5f",
           "arrowhead": 0,
           "arrowwidth": 1
          },
          "autotypenumbers": "strict",
          "coloraxis": {
           "colorbar": {
            "outlinewidth": 0,
            "ticks": ""
           }
          },
          "colorscale": {
           "diverging": [
            [
             0,
             "#8e0152"
            ],
            [
             0.1,
             "#c51b7d"
            ],
            [
             0.2,
             "#de77ae"
            ],
            [
             0.3,
             "#f1b6da"
            ],
            [
             0.4,
             "#fde0ef"
            ],
            [
             0.5,
             "#f7f7f7"
            ],
            [
             0.6,
             "#e6f5d0"
            ],
            [
             0.7,
             "#b8e186"
            ],
            [
             0.8,
             "#7fbc41"
            ],
            [
             0.9,
             "#4d9221"
            ],
            [
             1,
             "#276419"
            ]
           ],
           "sequential": [
            [
             0,
             "#0d0887"
            ],
            [
             0.1111111111111111,
             "#46039f"
            ],
            [
             0.2222222222222222,
             "#7201a8"
            ],
            [
             0.3333333333333333,
             "#9c179e"
            ],
            [
             0.4444444444444444,
             "#bd3786"
            ],
            [
             0.5555555555555556,
             "#d8576b"
            ],
            [
             0.6666666666666666,
             "#ed7953"
            ],
            [
             0.7777777777777778,
             "#fb9f3a"
            ],
            [
             0.8888888888888888,
             "#fdca26"
            ],
            [
             1,
             "#f0f921"
            ]
           ],
           "sequentialminus": [
            [
             0,
             "#0d0887"
            ],
            [
             0.1111111111111111,
             "#46039f"
            ],
            [
             0.2222222222222222,
             "#7201a8"
            ],
            [
             0.3333333333333333,
             "#9c179e"
            ],
            [
             0.4444444444444444,
             "#bd3786"
            ],
            [
             0.5555555555555556,
             "#d8576b"
            ],
            [
             0.6666666666666666,
             "#ed7953"
            ],
            [
             0.7777777777777778,
             "#fb9f3a"
            ],
            [
             0.8888888888888888,
             "#fdca26"
            ],
            [
             1,
             "#f0f921"
            ]
           ]
          },
          "colorway": [
           "#636efa",
           "#EF553B",
           "#00cc96",
           "#ab63fa",
           "#FFA15A",
           "#19d3f3",
           "#FF6692",
           "#B6E880",
           "#FF97FF",
           "#FECB52"
          ],
          "font": {
           "color": "#2a3f5f"
          },
          "geo": {
           "bgcolor": "white",
           "lakecolor": "white",
           "landcolor": "#E5ECF6",
           "showlakes": true,
           "showland": true,
           "subunitcolor": "white"
          },
          "hoverlabel": {
           "align": "left"
          },
          "hovermode": "closest",
          "mapbox": {
           "style": "light"
          },
          "paper_bgcolor": "white",
          "plot_bgcolor": "#E5ECF6",
          "polar": {
           "angularaxis": {
            "gridcolor": "white",
            "linecolor": "white",
            "ticks": ""
           },
           "bgcolor": "#E5ECF6",
           "radialaxis": {
            "gridcolor": "white",
            "linecolor": "white",
            "ticks": ""
           }
          },
          "scene": {
           "xaxis": {
            "backgroundcolor": "#E5ECF6",
            "gridcolor": "white",
            "gridwidth": 2,
            "linecolor": "white",
            "showbackground": true,
            "ticks": "",
            "zerolinecolor": "white"
           },
           "yaxis": {
            "backgroundcolor": "#E5ECF6",
            "gridcolor": "white",
            "gridwidth": 2,
            "linecolor": "white",
            "showbackground": true,
            "ticks": "",
            "zerolinecolor": "white"
           },
           "zaxis": {
            "backgroundcolor": "#E5ECF6",
            "gridcolor": "white",
            "gridwidth": 2,
            "linecolor": "white",
            "showbackground": true,
            "ticks": "",
            "zerolinecolor": "white"
           }
          },
          "shapedefaults": {
           "line": {
            "color": "#2a3f5f"
           }
          },
          "ternary": {
           "aaxis": {
            "gridcolor": "white",
            "linecolor": "white",
            "ticks": ""
           },
           "baxis": {
            "gridcolor": "white",
            "linecolor": "white",
            "ticks": ""
           },
           "bgcolor": "#E5ECF6",
           "caxis": {
            "gridcolor": "white",
            "linecolor": "white",
            "ticks": ""
           }
          },
          "title": {
           "x": 0.05
          },
          "xaxis": {
           "automargin": true,
           "gridcolor": "white",
           "linecolor": "white",
           "ticks": "",
           "title": {
            "standoff": 15
           },
           "zerolinecolor": "white",
           "zerolinewidth": 2
          },
          "yaxis": {
           "automargin": true,
           "gridcolor": "white",
           "linecolor": "white",
           "ticks": "",
           "title": {
            "standoff": 15
           },
           "zerolinecolor": "white",
           "zerolinewidth": 2
          }
         }
        },
        "title": {
         "text": "Uistoten van verschillende stoffen en de sterftecijfers van longkanker per land"
        },
        "xaxis": {
         "autorange": true,
         "range": [
          -0.5,
          2.5
         ],
         "type": "category"
        },
        "yaxis": {
         "autorange": true,
         "range": [
          0,
          70.03781485290948
         ],
         "type": "linear"
        }
       }
      },
      "text/html": [
       "<div>                            <div id=\"095e671f-52cd-4ae0-9efe-c35f0e7430a0\" class=\"plotly-graph-div\" style=\"height:525px; width:100%;\"></div>            <script type=\"text/javascript\">                require([\"plotly\"], function(Plotly) {                    window.PLOTLYENV=window.PLOTLYENV || {};                                    if (document.getElementById(\"095e671f-52cd-4ae0-9efe-c35f0e7430a0\")) {                    Plotly.newPlot(                        \"095e671f-52cd-4ae0-9efe-c35f0e7430a0\",                        [{\"marker\":{\"color\":\"darkseagreen\"},\"name\":\"NOx per 1000 inwoners\",\"x\":[\"Angola (Industrie)\",\"Argentini\\u00eb (Diensten)\",\"Siera Leone (Agricultuur)\"],\"y\":[5.296474647791568,27.63639111825191,2.189045540009126],\"type\":\"bar\"},{\"marker\":{\"color\":\"palegreen\"},\"name\":\"SO2 per 1000 inwoners\",\"x\":[\"Angola (Industrie)\",\"Argentini\\u00eb (Diensten)\",\"Siera Leone (Agricultuur)\"],\"y\":[1.9148491367130167,3.982479350827785,0.5753358209010812],\"type\":\"bar\"},{\"marker\":{\"color\":\"khaki\"},\"name\":\"CO per 1000 inwoners\",\"x\":[\"Angola (Industrie)\",\"Argentini\\u00eb (Diensten)\",\"Siera Leone (Agricultuur)\"],\"y\":[56.11756301226095,20.037795503736096,66.535924110264],\"type\":\"bar\"},{\"marker\":{\"color\":\"oldlace\"},\"name\":\"NMVOC per 1000 inwoners\",\"x\":[\"Angola (Industrie)\",\"Argentini\\u00eb (Diensten)\",\"Siera Leone (Agricultuur)\"],\"y\":[30.932034981297345,8.102092932039763,16.651042274201235],\"type\":\"bar\"},{\"marker\":{\"color\":\"lightcoral\"},\"name\":\"NH3 per 1000 inwoners\",\"x\":[\"Angola (Industrie)\",\"Argentini\\u00eb (Diensten)\",\"Siera Leone (Agricultuur)\"],\"y\":[5.19282014913933,12.331389504551415,4.889773993043809],\"type\":\"bar\"},{\"marker\":{\"color\":\"indianred\"},\"name\":\"Longkanker sterfte\",\"x\":[\"Angola (Industrie)\",\"Argentini\\u00eb (Diensten)\",\"Siera Leone (Agricultuur)\"],\"y\":[14.751931804872283,26.74079335836103,10.982584352533644],\"type\":\"bar\"}],                        {\"template\":{\"data\":{\"histogram2dcontour\":[{\"type\":\"histogram2dcontour\",\"colorbar\":{\"outlinewidth\":0,\"ticks\":\"\"},\"colorscale\":[[0.0,\"#0d0887\"],[0.1111111111111111,\"#46039f\"],[0.2222222222222222,\"#7201a8\"],[0.3333333333333333,\"#9c179e\"],[0.4444444444444444,\"#bd3786\"],[0.5555555555555556,\"#d8576b\"],[0.6666666666666666,\"#ed7953\"],[0.7777777777777778,\"#fb9f3a\"],[0.8888888888888888,\"#fdca26\"],[1.0,\"#f0f921\"]]}],\"choropleth\":[{\"type\":\"choropleth\",\"colorbar\":{\"outlinewidth\":0,\"ticks\":\"\"}}],\"histogram2d\":[{\"type\":\"histogram2d\",\"colorbar\":{\"outlinewidth\":0,\"ticks\":\"\"},\"colorscale\":[[0.0,\"#0d0887\"],[0.1111111111111111,\"#46039f\"],[0.2222222222222222,\"#7201a8\"],[0.3333333333333333,\"#9c179e\"],[0.4444444444444444,\"#bd3786\"],[0.5555555555555556,\"#d8576b\"],[0.6666666666666666,\"#ed7953\"],[0.7777777777777778,\"#fb9f3a\"],[0.8888888888888888,\"#fdca26\"],[1.0,\"#f0f921\"]]}],\"heatmap\":[{\"type\":\"heatmap\",\"colorbar\":{\"outlinewidth\":0,\"ticks\":\"\"},\"colorscale\":[[0.0,\"#0d0887\"],[0.1111111111111111,\"#46039f\"],[0.2222222222222222,\"#7201a8\"],[0.3333333333333333,\"#9c179e\"],[0.4444444444444444,\"#bd3786\"],[0.5555555555555556,\"#d8576b\"],[0.6666666666666666,\"#ed7953\"],[0.7777777777777778,\"#fb9f3a\"],[0.8888888888888888,\"#fdca26\"],[1.0,\"#f0f921\"]]}],\"heatmapgl\":[{\"type\":\"heatmapgl\",\"colorbar\":{\"outlinewidth\":0,\"ticks\":\"\"},\"colorscale\":[[0.0,\"#0d0887\"],[0.1111111111111111,\"#46039f\"],[0.2222222222222222,\"#7201a8\"],[0.3333333333333333,\"#9c179e\"],[0.4444444444444444,\"#bd3786\"],[0.5555555555555556,\"#d8576b\"],[0.6666666666666666,\"#ed7953\"],[0.7777777777777778,\"#fb9f3a\"],[0.8888888888888888,\"#fdca26\"],[1.0,\"#f0f921\"]]}],\"contourcarpet\":[{\"type\":\"contourcarpet\",\"colorbar\":{\"outlinewidth\":0,\"ticks\":\"\"}}],\"contour\":[{\"type\":\"contour\",\"colorbar\":{\"outlinewidth\":0,\"ticks\":\"\"},\"colorscale\":[[0.0,\"#0d0887\"],[0.1111111111111111,\"#46039f\"],[0.2222222222222222,\"#7201a8\"],[0.3333333333333333,\"#9c179e\"],[0.4444444444444444,\"#bd3786\"],[0.5555555555555556,\"#d8576b\"],[0.6666666666666666,\"#ed7953\"],[0.7777777777777778,\"#fb9f3a\"],[0.8888888888888888,\"#fdca26\"],[1.0,\"#f0f921\"]]}],\"surface\":[{\"type\":\"surface\",\"colorbar\":{\"outlinewidth\":0,\"ticks\":\"\"},\"colorscale\":[[0.0,\"#0d0887\"],[0.1111111111111111,\"#46039f\"],[0.2222222222222222,\"#7201a8\"],[0.3333333333333333,\"#9c179e\"],[0.4444444444444444,\"#bd3786\"],[0.5555555555555556,\"#d8576b\"],[0.6666666666666666,\"#ed7953\"],[0.7777777777777778,\"#fb9f3a\"],[0.8888888888888888,\"#fdca26\"],[1.0,\"#f0f921\"]]}],\"mesh3d\":[{\"type\":\"mesh3d\",\"colorbar\":{\"outlinewidth\":0,\"ticks\":\"\"}}],\"scatter\":[{\"fillpattern\":{\"fillmode\":\"overlay\",\"size\":10,\"solidity\":0.2},\"type\":\"scatter\"}],\"parcoords\":[{\"type\":\"parcoords\",\"line\":{\"colorbar\":{\"outlinewidth\":0,\"ticks\":\"\"}}}],\"scatterpolargl\":[{\"type\":\"scatterpolargl\",\"marker\":{\"colorbar\":{\"outlinewidth\":0,\"ticks\":\"\"}}}],\"bar\":[{\"error_x\":{\"color\":\"#2a3f5f\"},\"error_y\":{\"color\":\"#2a3f5f\"},\"marker\":{\"line\":{\"color\":\"#E5ECF6\",\"width\":0.5},\"pattern\":{\"fillmode\":\"overlay\",\"size\":10,\"solidity\":0.2}},\"type\":\"bar\"}],\"scattergeo\":[{\"type\":\"scattergeo\",\"marker\":{\"colorbar\":{\"outlinewidth\":0,\"ticks\":\"\"}}}],\"scatterpolar\":[{\"type\":\"scatterpolar\",\"marker\":{\"colorbar\":{\"outlinewidth\":0,\"ticks\":\"\"}}}],\"histogram\":[{\"marker\":{\"pattern\":{\"fillmode\":\"overlay\",\"size\":10,\"solidity\":0.2}},\"type\":\"histogram\"}],\"scattergl\":[{\"type\":\"scattergl\",\"marker\":{\"colorbar\":{\"outlinewidth\":0,\"ticks\":\"\"}}}],\"scatter3d\":[{\"type\":\"scatter3d\",\"line\":{\"colorbar\":{\"outlinewidth\":0,\"ticks\":\"\"}},\"marker\":{\"colorbar\":{\"outlinewidth\":0,\"ticks\":\"\"}}}],\"scattermapbox\":[{\"type\":\"scattermapbox\",\"marker\":{\"colorbar\":{\"outlinewidth\":0,\"ticks\":\"\"}}}],\"scatterternary\":[{\"type\":\"scatterternary\",\"marker\":{\"colorbar\":{\"outlinewidth\":0,\"ticks\":\"\"}}}],\"scattercarpet\":[{\"type\":\"scattercarpet\",\"marker\":{\"colorbar\":{\"outlinewidth\":0,\"ticks\":\"\"}}}],\"carpet\":[{\"aaxis\":{\"endlinecolor\":\"#2a3f5f\",\"gridcolor\":\"white\",\"linecolor\":\"white\",\"minorgridcolor\":\"white\",\"startlinecolor\":\"#2a3f5f\"},\"baxis\":{\"endlinecolor\":\"#2a3f5f\",\"gridcolor\":\"white\",\"linecolor\":\"white\",\"minorgridcolor\":\"white\",\"startlinecolor\":\"#2a3f5f\"},\"type\":\"carpet\"}],\"table\":[{\"cells\":{\"fill\":{\"color\":\"#EBF0F8\"},\"line\":{\"color\":\"white\"}},\"header\":{\"fill\":{\"color\":\"#C8D4E3\"},\"line\":{\"color\":\"white\"}},\"type\":\"table\"}],\"barpolar\":[{\"marker\":{\"line\":{\"color\":\"#E5ECF6\",\"width\":0.5},\"pattern\":{\"fillmode\":\"overlay\",\"size\":10,\"solidity\":0.2}},\"type\":\"barpolar\"}],\"pie\":[{\"automargin\":true,\"type\":\"pie\"}]},\"layout\":{\"autotypenumbers\":\"strict\",\"colorway\":[\"#636efa\",\"#EF553B\",\"#00cc96\",\"#ab63fa\",\"#FFA15A\",\"#19d3f3\",\"#FF6692\",\"#B6E880\",\"#FF97FF\",\"#FECB52\"],\"font\":{\"color\":\"#2a3f5f\"},\"hovermode\":\"closest\",\"hoverlabel\":{\"align\":\"left\"},\"paper_bgcolor\":\"white\",\"plot_bgcolor\":\"#E5ECF6\",\"polar\":{\"bgcolor\":\"#E5ECF6\",\"angularaxis\":{\"gridcolor\":\"white\",\"linecolor\":\"white\",\"ticks\":\"\"},\"radialaxis\":{\"gridcolor\":\"white\",\"linecolor\":\"white\",\"ticks\":\"\"}},\"ternary\":{\"bgcolor\":\"#E5ECF6\",\"aaxis\":{\"gridcolor\":\"white\",\"linecolor\":\"white\",\"ticks\":\"\"},\"baxis\":{\"gridcolor\":\"white\",\"linecolor\":\"white\",\"ticks\":\"\"},\"caxis\":{\"gridcolor\":\"white\",\"linecolor\":\"white\",\"ticks\":\"\"}},\"coloraxis\":{\"colorbar\":{\"outlinewidth\":0,\"ticks\":\"\"}},\"colorscale\":{\"sequential\":[[0.0,\"#0d0887\"],[0.1111111111111111,\"#46039f\"],[0.2222222222222222,\"#7201a8\"],[0.3333333333333333,\"#9c179e\"],[0.4444444444444444,\"#bd3786\"],[0.5555555555555556,\"#d8576b\"],[0.6666666666666666,\"#ed7953\"],[0.7777777777777778,\"#fb9f3a\"],[0.8888888888888888,\"#fdca26\"],[1.0,\"#f0f921\"]],\"sequentialminus\":[[0.0,\"#0d0887\"],[0.1111111111111111,\"#46039f\"],[0.2222222222222222,\"#7201a8\"],[0.3333333333333333,\"#9c179e\"],[0.4444444444444444,\"#bd3786\"],[0.5555555555555556,\"#d8576b\"],[0.6666666666666666,\"#ed7953\"],[0.7777777777777778,\"#fb9f3a\"],[0.8888888888888888,\"#fdca26\"],[1.0,\"#f0f921\"]],\"diverging\":[[0,\"#8e0152\"],[0.1,\"#c51b7d\"],[0.2,\"#de77ae\"],[0.3,\"#f1b6da\"],[0.4,\"#fde0ef\"],[0.5,\"#f7f7f7\"],[0.6,\"#e6f5d0\"],[0.7,\"#b8e186\"],[0.8,\"#7fbc41\"],[0.9,\"#4d9221\"],[1,\"#276419\"]]},\"xaxis\":{\"gridcolor\":\"white\",\"linecolor\":\"white\",\"ticks\":\"\",\"title\":{\"standoff\":15},\"zerolinecolor\":\"white\",\"automargin\":true,\"zerolinewidth\":2},\"yaxis\":{\"gridcolor\":\"white\",\"linecolor\":\"white\",\"ticks\":\"\",\"title\":{\"standoff\":15},\"zerolinecolor\":\"white\",\"automargin\":true,\"zerolinewidth\":2},\"scene\":{\"xaxis\":{\"backgroundcolor\":\"#E5ECF6\",\"gridcolor\":\"white\",\"linecolor\":\"white\",\"showbackground\":true,\"ticks\":\"\",\"zerolinecolor\":\"white\",\"gridwidth\":2},\"yaxis\":{\"backgroundcolor\":\"#E5ECF6\",\"gridcolor\":\"white\",\"linecolor\":\"white\",\"showbackground\":true,\"ticks\":\"\",\"zerolinecolor\":\"white\",\"gridwidth\":2},\"zaxis\":{\"backgroundcolor\":\"#E5ECF6\",\"gridcolor\":\"white\",\"linecolor\":\"white\",\"showbackground\":true,\"ticks\":\"\",\"zerolinecolor\":\"white\",\"gridwidth\":2}},\"shapedefaults\":{\"line\":{\"color\":\"#2a3f5f\"}},\"annotationdefaults\":{\"arrowcolor\":\"#2a3f5f\",\"arrowhead\":0,\"arrowwidth\":1},\"geo\":{\"bgcolor\":\"white\",\"landcolor\":\"#E5ECF6\",\"subunitcolor\":\"white\",\"showland\":true,\"showlakes\":true,\"lakecolor\":\"white\"},\"title\":{\"x\":0.05},\"mapbox\":{\"style\":\"light\"}}},\"barmode\":\"group\",\"title\":{\"text\":\"Uistoten van verschillende stoffen en de sterftecijfers van longkanker per land\"}},                        {\"responsive\": true}                    ).then(function(){\n",
       "                            \n",
       "var gd = document.getElementById('095e671f-52cd-4ae0-9efe-c35f0e7430a0');\n",
       "var x = new MutationObserver(function (mutations, observer) {{\n",
       "        var display = window.getComputedStyle(gd).display;\n",
       "        if (!display || display === 'none') {{\n",
       "            console.log([gd, 'removed!']);\n",
       "            Plotly.purge(gd);\n",
       "            observer.disconnect();\n",
       "        }}\n",
       "}});\n",
       "\n",
       "// Listen for the removal of the full notebook cells\n",
       "var notebookContainer = gd.closest('#notebook-container');\n",
       "if (notebookContainer) {{\n",
       "    x.observe(notebookContainer, {childList: true});\n",
       "}}\n",
       "\n",
       "// Listen for the clearing of the current output cell\n",
       "var outputEl = gd.closest('.output');\n",
       "if (outputEl) {{\n",
       "    x.observe(outputEl, {childList: true});\n",
       "}}\n",
       "\n",
       "                        })                };                });            </script>        </div>"
      ]
     },
     "metadata": {},
     "output_type": "display_data"
    }
   ],
   "source": [
    "country_codes = ['AGO', 'ARG', 'SLE']\n",
    "countries = ['Angola (Industrie)', 'Argentinië (Diensten)', 'Siera Leone (Agricultuur)']\n",
    "\n",
    "df = pd.read_csv('datasets/norm.csv')\n",
    "df_2012 = df[df['Year'] == 2012]\n",
    "df_2012_countries = df_2012[df_2012['Code'].isin(country_codes)]\n",
    "\n",
    "trace = [\n",
    "    go.Bar(\n",
    "        x = countries,\n",
    "        y = df_2012_countries['Nitrogen oxide (NOx)'],\n",
    "        name = 'NOx per 1000 inwoners',\n",
    "        marker_color='darkseagreen'\n",
    "    ),\n",
    "    go.Bar(\n",
    "        x = countries,\n",
    "        y = df_2012_countries['Sulphur dioxide (SO₂) emissions'],\n",
    "        name = 'SO2 per 1000 inwoners',\n",
    "        marker_color='palegreen'\n",
    "    ),\n",
    "    go.Bar(\n",
    "        x = countries,\n",
    "        y = df_2012_countries['Carbon monoxide (CO) emissions'],\n",
    "        name = 'CO per 1000 inwoners',\n",
    "        marker_color='khaki'\n",
    "    ),\n",
    "    go.Bar(\n",
    "        x = countries,\n",
    "        y = df_2012_countries['Non-methane volatile organic compounds (NMVOC) emissions'],\n",
    "        name = 'NMVOC per 1000 inwoners',\n",
    "        marker_color='oldlace'\n",
    "    ),\n",
    "    go.Bar(\n",
    "        x = countries,\n",
    "        y = df_2012_countries['Ammonia (NH₃) emissions'],\n",
    "        name = 'NH3 per 1000 inwoners',\n",
    "        marker_color='lightcoral'\n",
    "    ),\n",
    "    go.Bar(\n",
    "        x = countries,\n",
    "        y = df_2012_countries['TBL rate'],\n",
    "        name = 'Longkanker sterfte',\n",
    "        marker_color='indianred'\n",
    "    )]    \n",
    "fig = go.Figure(trace)\n",
    "fig.update_layout(barmode='group', title='Uistoten van verschillende stoffen en de sterftecijfers van longkanker per land')\n",
    "fig.show()"
   ]
  },
  {
   "cell_type": "markdown",
   "id": "f07d4a62-ad4f-4fd3-84ad-3540363a03fb",
   "metadata": {},
   "source": [
    "> *Figure 1: Staafdiagram die de uitstoot van verschillende schadelijke stoffen laat zien en de hoeveelheid mensen die overleden zijn aan kanker.*"
   ]
  },
  {
   "cell_type": "markdown",
   "id": "14858f40-3ab1-45c9-9d71-876b1bcd96f7",
   "metadata": {},
   "source": [
    "Opvallend zien we hier dat het land met de grootste dienstensector de hoogste sterftecijfers heeft voor longkanker. Dit kan mogelijk komen door de hoeveelheid stikstofoxide uitstoot dat Argentinië heeft. Als we deze staafdiagram aflezen lijkt stikstofoxide (NOx) en ammoniak (NH3) de belangrijkste veroorzaker van longkanker en koolstofmonoxide (CO) een verwaarloosbare rol. \n",
    "\n",
    "We kunnen een beter beeld krijgen als we gaan kijken naar de globale uitstoot en hoe dat invloed heeft gehad op de hoeveelheid mensen die wereldwijd is overleden aan kanker."
   ]
  },
  {
   "cell_type": "code",
   "execution_count": 4,
   "id": "8aacdf26-60f3-428a-bd69-578c01c7bfa4",
   "metadata": {
    "editable": true,
    "slideshow": {
     "slide_type": ""
    },
    "tags": [
     "hide-input"
    ]
   },
   "outputs": [
    {
     "data": {
      "application/vnd.plotly.v1+json": {
       "config": {
        "plotlyServerURL": "https://plot.ly"
       },
       "data": [
        {
         "marker": {
          "color": [
           21.20113177493556,
           21.14993492535245,
           21.146833905787943,
           21.213966402951588,
           21.13745002757569,
           21.122057275289077,
           20.930439052139782,
           20.80017437813708,
           20.701718334298807,
           20.593311551446693,
           20.387419310607957,
           20.260172693850308,
           20.295790540731197,
           20.313795901519384,
           20.25772123836037,
           20.26330504000695,
           20.241558680511595,
           20.292864450995623,
           20.311885756377432,
           20.304931262832024,
           20.17364747198935,
           20.08040070629166,
           19.963720159068643
          ],
          "colorbar": {
           "title": {
            "text": "TBL rate"
           }
          },
          "colorscale": [
           [
            0,
            "rgb(121, 130, 52)"
           ],
           [
            0.16666666666666666,
            "rgb(163, 173, 98)"
           ],
           [
            0.3333333333333333,
            "rgb(208, 211, 162)"
           ],
           [
            0.5,
            "rgb(253, 251, 228)"
           ],
           [
            0.6666666666666666,
            "rgb(240, 198, 195)"
           ],
           [
            0.8333333333333334,
            "rgb(223, 145, 163)"
           ],
           [
            1,
            "rgb(212, 103, 128)"
           ]
          ],
          "showscale": true,
          "size": 15
         },
         "mode": "markers",
         "name": "Total emission",
         "type": "scatter",
         "x": [
          1990,
          1991,
          1992,
          1993,
          1994,
          1995,
          1996,
          1997,
          1998,
          1999,
          2000,
          2001,
          2002,
          2003,
          2004,
          2005,
          2006,
          2007,
          2008,
          2009,
          2010,
          2011,
          2012
         ],
         "y": [
          197.6287648536261,
          190.94412504282113,
          181.45113708535655,
          176.8774328959444,
          171.33221721876973,
          172.3550389010385,
          169.7341438202279,
          166.34767282912873,
          162.7099356315808,
          158.4012359623185,
          154.83383398355144,
          154.61612494181406,
          152.88677654363292,
          152.38977379057957,
          152.92771035545678,
          150.0662911356319,
          148.12220474519953,
          145.40919083972105,
          142.83592838389708,
          137.2092985143007,
          135.59109989568648,
          133.08037947835396,
          131.44565145286552
         ]
        }
       ],
       "layout": {
        "autosize": true,
        "template": {
         "data": {
          "bar": [
           {
            "error_x": {
             "color": "#2a3f5f"
            },
            "error_y": {
             "color": "#2a3f5f"
            },
            "marker": {
             "line": {
              "color": "#E5ECF6",
              "width": 0.5
             },
             "pattern": {
              "fillmode": "overlay",
              "size": 10,
              "solidity": 0.2
             }
            },
            "type": "bar"
           }
          ],
          "barpolar": [
           {
            "marker": {
             "line": {
              "color": "#E5ECF6",
              "width": 0.5
             },
             "pattern": {
              "fillmode": "overlay",
              "size": 10,
              "solidity": 0.2
             }
            },
            "type": "barpolar"
           }
          ],
          "carpet": [
           {
            "aaxis": {
             "endlinecolor": "#2a3f5f",
             "gridcolor": "white",
             "linecolor": "white",
             "minorgridcolor": "white",
             "startlinecolor": "#2a3f5f"
            },
            "baxis": {
             "endlinecolor": "#2a3f5f",
             "gridcolor": "white",
             "linecolor": "white",
             "minorgridcolor": "white",
             "startlinecolor": "#2a3f5f"
            },
            "type": "carpet"
           }
          ],
          "choropleth": [
           {
            "colorbar": {
             "outlinewidth": 0,
             "ticks": ""
            },
            "type": "choropleth"
           }
          ],
          "contour": [
           {
            "colorbar": {
             "outlinewidth": 0,
             "ticks": ""
            },
            "colorscale": [
             [
              0,
              "#0d0887"
             ],
             [
              0.1111111111111111,
              "#46039f"
             ],
             [
              0.2222222222222222,
              "#7201a8"
             ],
             [
              0.3333333333333333,
              "#9c179e"
             ],
             [
              0.4444444444444444,
              "#bd3786"
             ],
             [
              0.5555555555555556,
              "#d8576b"
             ],
             [
              0.6666666666666666,
              "#ed7953"
             ],
             [
              0.7777777777777778,
              "#fb9f3a"
             ],
             [
              0.8888888888888888,
              "#fdca26"
             ],
             [
              1,
              "#f0f921"
             ]
            ],
            "type": "contour"
           }
          ],
          "contourcarpet": [
           {
            "colorbar": {
             "outlinewidth": 0,
             "ticks": ""
            },
            "type": "contourcarpet"
           }
          ],
          "heatmap": [
           {
            "colorbar": {
             "outlinewidth": 0,
             "ticks": ""
            },
            "colorscale": [
             [
              0,
              "#0d0887"
             ],
             [
              0.1111111111111111,
              "#46039f"
             ],
             [
              0.2222222222222222,
              "#7201a8"
             ],
             [
              0.3333333333333333,
              "#9c179e"
             ],
             [
              0.4444444444444444,
              "#bd3786"
             ],
             [
              0.5555555555555556,
              "#d8576b"
             ],
             [
              0.6666666666666666,
              "#ed7953"
             ],
             [
              0.7777777777777778,
              "#fb9f3a"
             ],
             [
              0.8888888888888888,
              "#fdca26"
             ],
             [
              1,
              "#f0f921"
             ]
            ],
            "type": "heatmap"
           }
          ],
          "heatmapgl": [
           {
            "colorbar": {
             "outlinewidth": 0,
             "ticks": ""
            },
            "colorscale": [
             [
              0,
              "#0d0887"
             ],
             [
              0.1111111111111111,
              "#46039f"
             ],
             [
              0.2222222222222222,
              "#7201a8"
             ],
             [
              0.3333333333333333,
              "#9c179e"
             ],
             [
              0.4444444444444444,
              "#bd3786"
             ],
             [
              0.5555555555555556,
              "#d8576b"
             ],
             [
              0.6666666666666666,
              "#ed7953"
             ],
             [
              0.7777777777777778,
              "#fb9f3a"
             ],
             [
              0.8888888888888888,
              "#fdca26"
             ],
             [
              1,
              "#f0f921"
             ]
            ],
            "type": "heatmapgl"
           }
          ],
          "histogram": [
           {
            "marker": {
             "pattern": {
              "fillmode": "overlay",
              "size": 10,
              "solidity": 0.2
             }
            },
            "type": "histogram"
           }
          ],
          "histogram2d": [
           {
            "colorbar": {
             "outlinewidth": 0,
             "ticks": ""
            },
            "colorscale": [
             [
              0,
              "#0d0887"
             ],
             [
              0.1111111111111111,
              "#46039f"
             ],
             [
              0.2222222222222222,
              "#7201a8"
             ],
             [
              0.3333333333333333,
              "#9c179e"
             ],
             [
              0.4444444444444444,
              "#bd3786"
             ],
             [
              0.5555555555555556,
              "#d8576b"
             ],
             [
              0.6666666666666666,
              "#ed7953"
             ],
             [
              0.7777777777777778,
              "#fb9f3a"
             ],
             [
              0.8888888888888888,
              "#fdca26"
             ],
             [
              1,
              "#f0f921"
             ]
            ],
            "type": "histogram2d"
           }
          ],
          "histogram2dcontour": [
           {
            "colorbar": {
             "outlinewidth": 0,
             "ticks": ""
            },
            "colorscale": [
             [
              0,
              "#0d0887"
             ],
             [
              0.1111111111111111,
              "#46039f"
             ],
             [
              0.2222222222222222,
              "#7201a8"
             ],
             [
              0.3333333333333333,
              "#9c179e"
             ],
             [
              0.4444444444444444,
              "#bd3786"
             ],
             [
              0.5555555555555556,
              "#d8576b"
             ],
             [
              0.6666666666666666,
              "#ed7953"
             ],
             [
              0.7777777777777778,
              "#fb9f3a"
             ],
             [
              0.8888888888888888,
              "#fdca26"
             ],
             [
              1,
              "#f0f921"
             ]
            ],
            "type": "histogram2dcontour"
           }
          ],
          "mesh3d": [
           {
            "colorbar": {
             "outlinewidth": 0,
             "ticks": ""
            },
            "type": "mesh3d"
           }
          ],
          "parcoords": [
           {
            "line": {
             "colorbar": {
              "outlinewidth": 0,
              "ticks": ""
             }
            },
            "type": "parcoords"
           }
          ],
          "pie": [
           {
            "automargin": true,
            "type": "pie"
           }
          ],
          "scatter": [
           {
            "fillpattern": {
             "fillmode": "overlay",
             "size": 10,
             "solidity": 0.2
            },
            "type": "scatter"
           }
          ],
          "scatter3d": [
           {
            "line": {
             "colorbar": {
              "outlinewidth": 0,
              "ticks": ""
             }
            },
            "marker": {
             "colorbar": {
              "outlinewidth": 0,
              "ticks": ""
             }
            },
            "type": "scatter3d"
           }
          ],
          "scattercarpet": [
           {
            "marker": {
             "colorbar": {
              "outlinewidth": 0,
              "ticks": ""
             }
            },
            "type": "scattercarpet"
           }
          ],
          "scattergeo": [
           {
            "marker": {
             "colorbar": {
              "outlinewidth": 0,
              "ticks": ""
             }
            },
            "type": "scattergeo"
           }
          ],
          "scattergl": [
           {
            "marker": {
             "colorbar": {
              "outlinewidth": 0,
              "ticks": ""
             }
            },
            "type": "scattergl"
           }
          ],
          "scattermapbox": [
           {
            "marker": {
             "colorbar": {
              "outlinewidth": 0,
              "ticks": ""
             }
            },
            "type": "scattermapbox"
           }
          ],
          "scatterpolar": [
           {
            "marker": {
             "colorbar": {
              "outlinewidth": 0,
              "ticks": ""
             }
            },
            "type": "scatterpolar"
           }
          ],
          "scatterpolargl": [
           {
            "marker": {
             "colorbar": {
              "outlinewidth": 0,
              "ticks": ""
             }
            },
            "type": "scatterpolargl"
           }
          ],
          "scatterternary": [
           {
            "marker": {
             "colorbar": {
              "outlinewidth": 0,
              "ticks": ""
             }
            },
            "type": "scatterternary"
           }
          ],
          "surface": [
           {
            "colorbar": {
             "outlinewidth": 0,
             "ticks": ""
            },
            "colorscale": [
             [
              0,
              "#0d0887"
             ],
             [
              0.1111111111111111,
              "#46039f"
             ],
             [
              0.2222222222222222,
              "#7201a8"
             ],
             [
              0.3333333333333333,
              "#9c179e"
             ],
             [
              0.4444444444444444,
              "#bd3786"
             ],
             [
              0.5555555555555556,
              "#d8576b"
             ],
             [
              0.6666666666666666,
              "#ed7953"
             ],
             [
              0.7777777777777778,
              "#fb9f3a"
             ],
             [
              0.8888888888888888,
              "#fdca26"
             ],
             [
              1,
              "#f0f921"
             ]
            ],
            "type": "surface"
           }
          ],
          "table": [
           {
            "cells": {
             "fill": {
              "color": "#EBF0F8"
             },
             "line": {
              "color": "white"
             }
            },
            "header": {
             "fill": {
              "color": "#C8D4E3"
             },
             "line": {
              "color": "white"
             }
            },
            "type": "table"
           }
          ]
         },
         "layout": {
          "annotationdefaults": {
           "arrowcolor": "#2a3f5f",
           "arrowhead": 0,
           "arrowwidth": 1
          },
          "autotypenumbers": "strict",
          "coloraxis": {
           "colorbar": {
            "outlinewidth": 0,
            "ticks": ""
           }
          },
          "colorscale": {
           "diverging": [
            [
             0,
             "#8e0152"
            ],
            [
             0.1,
             "#c51b7d"
            ],
            [
             0.2,
             "#de77ae"
            ],
            [
             0.3,
             "#f1b6da"
            ],
            [
             0.4,
             "#fde0ef"
            ],
            [
             0.5,
             "#f7f7f7"
            ],
            [
             0.6,
             "#e6f5d0"
            ],
            [
             0.7,
             "#b8e186"
            ],
            [
             0.8,
             "#7fbc41"
            ],
            [
             0.9,
             "#4d9221"
            ],
            [
             1,
             "#276419"
            ]
           ],
           "sequential": [
            [
             0,
             "#0d0887"
            ],
            [
             0.1111111111111111,
             "#46039f"
            ],
            [
             0.2222222222222222,
             "#7201a8"
            ],
            [
             0.3333333333333333,
             "#9c179e"
            ],
            [
             0.4444444444444444,
             "#bd3786"
            ],
            [
             0.5555555555555556,
             "#d8576b"
            ],
            [
             0.6666666666666666,
             "#ed7953"
            ],
            [
             0.7777777777777778,
             "#fb9f3a"
            ],
            [
             0.8888888888888888,
             "#fdca26"
            ],
            [
             1,
             "#f0f921"
            ]
           ],
           "sequentialminus": [
            [
             0,
             "#0d0887"
            ],
            [
             0.1111111111111111,
             "#46039f"
            ],
            [
             0.2222222222222222,
             "#7201a8"
            ],
            [
             0.3333333333333333,
             "#9c179e"
            ],
            [
             0.4444444444444444,
             "#bd3786"
            ],
            [
             0.5555555555555556,
             "#d8576b"
            ],
            [
             0.6666666666666666,
             "#ed7953"
            ],
            [
             0.7777777777777778,
             "#fb9f3a"
            ],
            [
             0.8888888888888888,
             "#fdca26"
            ],
            [
             1,
             "#f0f921"
            ]
           ]
          },
          "colorway": [
           "#636efa",
           "#EF553B",
           "#00cc96",
           "#ab63fa",
           "#FFA15A",
           "#19d3f3",
           "#FF6692",
           "#B6E880",
           "#FF97FF",
           "#FECB52"
          ],
          "font": {
           "color": "#2a3f5f"
          },
          "geo": {
           "bgcolor": "white",
           "lakecolor": "white",
           "landcolor": "#E5ECF6",
           "showlakes": true,
           "showland": true,
           "subunitcolor": "white"
          },
          "hoverlabel": {
           "align": "left"
          },
          "hovermode": "closest",
          "mapbox": {
           "style": "light"
          },
          "paper_bgcolor": "white",
          "plot_bgcolor": "#E5ECF6",
          "polar": {
           "angularaxis": {
            "gridcolor": "white",
            "linecolor": "white",
            "ticks": ""
           },
           "bgcolor": "#E5ECF6",
           "radialaxis": {
            "gridcolor": "white",
            "linecolor": "white",
            "ticks": ""
           }
          },
          "scene": {
           "xaxis": {
            "backgroundcolor": "#E5ECF6",
            "gridcolor": "white",
            "gridwidth": 2,
            "linecolor": "white",
            "showbackground": true,
            "ticks": "",
            "zerolinecolor": "white"
           },
           "yaxis": {
            "backgroundcolor": "#E5ECF6",
            "gridcolor": "white",
            "gridwidth": 2,
            "linecolor": "white",
            "showbackground": true,
            "ticks": "",
            "zerolinecolor": "white"
           },
           "zaxis": {
            "backgroundcolor": "#E5ECF6",
            "gridcolor": "white",
            "gridwidth": 2,
            "linecolor": "white",
            "showbackground": true,
            "ticks": "",
            "zerolinecolor": "white"
           }
          },
          "shapedefaults": {
           "line": {
            "color": "#2a3f5f"
           }
          },
          "ternary": {
           "aaxis": {
            "gridcolor": "white",
            "linecolor": "white",
            "ticks": ""
           },
           "baxis": {
            "gridcolor": "white",
            "linecolor": "white",
            "ticks": ""
           },
           "bgcolor": "#E5ECF6",
           "caxis": {
            "gridcolor": "white",
            "linecolor": "white",
            "ticks": ""
           }
          },
          "title": {
           "x": 0.05
          },
          "xaxis": {
           "automargin": true,
           "gridcolor": "white",
           "linecolor": "white",
           "ticks": "",
           "title": {
            "standoff": 15
           },
           "zerolinecolor": "white",
           "zerolinewidth": 2
          },
          "yaxis": {
           "automargin": true,
           "gridcolor": "white",
           "linecolor": "white",
           "ticks": "",
           "title": {
            "standoff": 15
           },
           "zerolinecolor": "white",
           "zerolinewidth": 2
          }
         }
        },
        "title": {
         "text": "Gemiddelde uitstoot en TBL rate per jaar"
        },
        "updatemenus": [
         {
          "buttons": [
           {
            "args": [
             {
              "y": [
               [
                197.6287648536261,
                190.94412504282113,
                181.45113708535655,
                176.8774328959444,
                171.33221721876973,
                172.3550389010385,
                169.7341438202279,
                166.34767282912873,
                162.7099356315808,
                158.4012359623185,
                154.83383398355144,
                154.61612494181406,
                152.88677654363292,
                152.38977379057957,
                152.92771035545678,
                150.0662911356319,
                148.12220474519953,
                145.40919083972105,
                142.83592838389708,
                137.2092985143007,
                135.59109989568648,
                133.08037947835396,
                131.44565145286552
               ]
              ]
             },
             {
              "title": "Average Totale uitstoot and TBL rate per year"
             }
            ],
            "label": "Totale uitstoot",
            "method": "update"
           },
           {
            "args": [
             {
              "y": [
               [
                22.441117490949473,
                22.00579349493139,
                21.482056224434263,
                20.934371388895006,
                20.60926120979571,
                20.975505221890504,
                21.02862755160061,
                20.872462855235533,
                20.8592292998608,
                20.29809708656956,
                20.200739768566383,
                20.341375427182868,
                20.292279763520966,
                20.358869180621546,
                20.665770669642324,
                20.501504402456106,
                20.25166554739624,
                19.993805018612168,
                19.66336662844324,
                19.162106958080113,
                19.305082510136593,
                18.782585871953412,
                18.94464559128259
               ]
              ]
             },
             {
              "title": "Average NOx and TBL rate per year"
             }
            ],
            "label": "NOx",
            "method": "update"
           },
           {
            "args": [
             {
              "y": [
               [
                31.21989848857238,
                29.87255955531888,
                27.84492177073886,
                27.025283595921703,
                26.052813386502965,
                25.373163040203387,
                24.845906384024847,
                24.25780012839004,
                23.757356892640562,
                22.66855369208652,
                21.604660064551524,
                21.69493313191345,
                22.301012714065447,
                21.908123976946648,
                21.117503996990667,
                20.391500805986944,
                20.314490735312557,
                19.92229680217852,
                17.875266096096855,
                16.13610261425959,
                15.794507819239417,
                15.759962991862636,
                14.876171001376928
               ]
              ]
             },
             {
              "title": "Average SO2 and TBL rate per year"
             }
            ],
            "label": "SO2",
            "method": "update"
           },
           {
            "args": [
             {
              "y": [
               [
                99.67883296391143,
                95.57137894154422,
                90.8543842622212,
                88.45503976130833,
                84.70364815980976,
                83.27348870195408,
                81.2577039678359,
                78.71776411666922,
                76.52922798295086,
                74.09238204826244,
                71.91472808869537,
                71.87776126671615,
                70.41150538216733,
                70.13570709059387,
                70.61339288787693,
                69.39212009116572,
                68.53652976397588,
                67.72386103570312,
                68.09640146429759,
                66.06429230157893,
                65.02399459898227,
                63.79855536281476,
                63.571906927028095
               ]
              ]
             },
             {
              "title": "Average CO and TBL rate per year"
             }
            ],
            "label": "CO",
            "method": "update"
           },
           {
            "args": [
             {
              "y": [
               [
                2.7056580950758726,
                2.7148818009456255,
                2.634953529858424,
                2.5918602946943308,
                2.5387133698936695,
                2.5391327182451566,
                2.541873031854082,
                2.5300299220146933,
                2.48349317161297,
                2.4733882996250944,
                2.4122579279402867,
                2.39679823614866,
                2.4004276112674616,
                2.4360000635143386,
                2.4611309480348025,
                2.452207029760168,
                2.458567560411203,
                2.4457270582619666,
                2.4536063728126343,
                2.469946948539275,
                2.453326286456116,
                2.3697021058502155,
                2.335537904038837
               ]
              ]
             },
             {
              "title": "Average OC and TBL rate per year"
             }
            ],
            "label": "OC",
            "method": "update"
           },
           {
            "args": [
             {
              "y": [
               [
                31.227365756094922,
                30.581885688521403,
                29.67714413983781,
                29.092812281125468,
                28.69194924130088,
                30.57288220522283,
                30.449380285631534,
                30.32669231990855,
                29.462005904438314,
                29.278386490079797,
                29.21284488566488,
                28.872730502474518,
                28.08802152736084,
                28.09806548058887,
                28.470527402672445,
                27.858760281089463,
                27.0975413945463,
                25.83142498384794,
                25.359171253450704,
                23.99188074297027,
                23.614423632147744,
                23.032906426374787,
                23.00848663586972
               ]
              ]
             },
             {
              "title": "Average NMVOC and TBL rate per year"
             }
            ],
            "label": "NMVOC",
            "method": "update"
           },
           {
            "args": [
             {
              "y": [
               [
                1.1424215621716818,
                1.192830367432542,
                1.094963781683842,
                1.0678168734986335,
                1.0386290936942675,
                1.0357360779465166,
                1.0339085754622668,
                1.0590004082995694,
                1.0370265283491247,
                1.0272849641659798,
                0.9822669605124946,
                0.9794698927623402,
                0.9684434017983625,
                1.0445366276432917,
                1.121707235797911,
                1.0703177285344145,
                1.0608532985174637,
                1.0388050330353116,
                1.036267891021595,
                1.0149725750081084,
                0.9943467949349113,
                0.9440734995488432,
                0.9744969791844652
               ]
              ]
             },
             {
              "title": "Average BC and TBL rate per year"
             }
            ],
            "label": "BC",
            "method": "update"
           },
           {
            "args": [
             {
              "y": [
               [
                9.213470496850329,
                9.004795194127043,
                8.86520584666701,
                8.687472086666359,
                8.643789593235311,
                8.585130935576045,
                8.576744023818671,
                8.583923078611125,
                8.581595851728162,
                8.563143381529143,
                8.506336287620488,
                8.453056484616074,
                8.425086143452516,
                8.408471370671002,
                8.477677214441709,
                8.399880796639064,
                8.402556445039899,
                8.453270908082036,
                8.351848677774479,
                8.369996373864433,
                8.40541825378943,
                8.39259321994931,
                8.460625482885233
               ]
              ]
             },
             {
              "title": "Average NH3 and TBL rate per year"
             }
            ],
            "label": "NH3",
            "method": "update"
           }
          ],
          "direction": "down",
          "showactive": true
         }
        ],
        "xaxis": {
         "autorange": true,
         "range": [
          1988.1688587750764,
          2013.8311412249236
         ],
         "title": {
          "text": "Year"
         },
         "type": "linear"
        },
        "yaxis": {
         "autorange": true,
         "range": [
          122.9561944983177,
          206.11822180817393
         ],
         "title": {
          "text": "Average emission"
         },
         "type": "linear"
        }
       }
      },
      "text/html": [
       "<div>                            <div id=\"d1660614-fbcb-4993-a17f-f797165ae78f\" class=\"plotly-graph-div\" style=\"height:525px; width:100%;\"></div>            <script type=\"text/javascript\">                require([\"plotly\"], function(Plotly) {                    window.PLOTLYENV=window.PLOTLYENV || {};                                    if (document.getElementById(\"d1660614-fbcb-4993-a17f-f797165ae78f\")) {                    Plotly.newPlot(                        \"d1660614-fbcb-4993-a17f-f797165ae78f\",                        [{\"marker\":{\"color\":[21.20113177493556,21.14993492535245,21.146833905787943,21.213966402951588,21.13745002757569,21.122057275289077,20.930439052139782,20.80017437813708,20.701718334298807,20.593311551446693,20.387419310607957,20.260172693850308,20.295790540731197,20.313795901519384,20.25772123836037,20.26330504000695,20.241558680511595,20.292864450995623,20.311885756377432,20.304931262832024,20.17364747198935,20.08040070629166,19.963720159068643],\"colorbar\":{\"title\":{\"text\":\"TBL rate\"}},\"colorscale\":[[0.0,\"rgb(121, 130, 52)\"],[0.16666666666666666,\"rgb(163, 173, 98)\"],[0.3333333333333333,\"rgb(208, 211, 162)\"],[0.5,\"rgb(253, 251, 228)\"],[0.6666666666666666,\"rgb(240, 198, 195)\"],[0.8333333333333334,\"rgb(223, 145, 163)\"],[1.0,\"rgb(212, 103, 128)\"]],\"showscale\":true,\"size\":15},\"mode\":\"markers\",\"name\":\"Total emission\",\"x\":[1990,1991,1992,1993,1994,1995,1996,1997,1998,1999,2000,2001,2002,2003,2004,2005,2006,2007,2008,2009,2010,2011,2012],\"y\":[197.6287648536261,190.94412504282113,181.45113708535655,176.8774328959444,171.33221721876973,172.3550389010385,169.7341438202279,166.34767282912873,162.7099356315808,158.4012359623185,154.83383398355144,154.61612494181406,152.88677654363292,152.38977379057957,152.92771035545678,150.0662911356319,148.12220474519953,145.40919083972105,142.83592838389708,137.2092985143007,135.59109989568648,133.08037947835396,131.44565145286552],\"type\":\"scatter\"}],                        {\"template\":{\"data\":{\"histogram2dcontour\":[{\"type\":\"histogram2dcontour\",\"colorbar\":{\"outlinewidth\":0,\"ticks\":\"\"},\"colorscale\":[[0.0,\"#0d0887\"],[0.1111111111111111,\"#46039f\"],[0.2222222222222222,\"#7201a8\"],[0.3333333333333333,\"#9c179e\"],[0.4444444444444444,\"#bd3786\"],[0.5555555555555556,\"#d8576b\"],[0.6666666666666666,\"#ed7953\"],[0.7777777777777778,\"#fb9f3a\"],[0.8888888888888888,\"#fdca26\"],[1.0,\"#f0f921\"]]}],\"choropleth\":[{\"type\":\"choropleth\",\"colorbar\":{\"outlinewidth\":0,\"ticks\":\"\"}}],\"histogram2d\":[{\"type\":\"histogram2d\",\"colorbar\":{\"outlinewidth\":0,\"ticks\":\"\"},\"colorscale\":[[0.0,\"#0d0887\"],[0.1111111111111111,\"#46039f\"],[0.2222222222222222,\"#7201a8\"],[0.3333333333333333,\"#9c179e\"],[0.4444444444444444,\"#bd3786\"],[0.5555555555555556,\"#d8576b\"],[0.6666666666666666,\"#ed7953\"],[0.7777777777777778,\"#fb9f3a\"],[0.8888888888888888,\"#fdca26\"],[1.0,\"#f0f921\"]]}],\"heatmap\":[{\"type\":\"heatmap\",\"colorbar\":{\"outlinewidth\":0,\"ticks\":\"\"},\"colorscale\":[[0.0,\"#0d0887\"],[0.1111111111111111,\"#46039f\"],[0.2222222222222222,\"#7201a8\"],[0.3333333333333333,\"#9c179e\"],[0.4444444444444444,\"#bd3786\"],[0.5555555555555556,\"#d8576b\"],[0.6666666666666666,\"#ed7953\"],[0.7777777777777778,\"#fb9f3a\"],[0.8888888888888888,\"#fdca26\"],[1.0,\"#f0f921\"]]}],\"heatmapgl\":[{\"type\":\"heatmapgl\",\"colorbar\":{\"outlinewidth\":0,\"ticks\":\"\"},\"colorscale\":[[0.0,\"#0d0887\"],[0.1111111111111111,\"#46039f\"],[0.2222222222222222,\"#7201a8\"],[0.3333333333333333,\"#9c179e\"],[0.4444444444444444,\"#bd3786\"],[0.5555555555555556,\"#d8576b\"],[0.6666666666666666,\"#ed7953\"],[0.7777777777777778,\"#fb9f3a\"],[0.8888888888888888,\"#fdca26\"],[1.0,\"#f0f921\"]]}],\"contourcarpet\":[{\"type\":\"contourcarpet\",\"colorbar\":{\"outlinewidth\":0,\"ticks\":\"\"}}],\"contour\":[{\"type\":\"contour\",\"colorbar\":{\"outlinewidth\":0,\"ticks\":\"\"},\"colorscale\":[[0.0,\"#0d0887\"],[0.1111111111111111,\"#46039f\"],[0.2222222222222222,\"#7201a8\"],[0.3333333333333333,\"#9c179e\"],[0.4444444444444444,\"#bd3786\"],[0.5555555555555556,\"#d8576b\"],[0.6666666666666666,\"#ed7953\"],[0.7777777777777778,\"#fb9f3a\"],[0.8888888888888888,\"#fdca26\"],[1.0,\"#f0f921\"]]}],\"surface\":[{\"type\":\"surface\",\"colorbar\":{\"outlinewidth\":0,\"ticks\":\"\"},\"colorscale\":[[0.0,\"#0d0887\"],[0.1111111111111111,\"#46039f\"],[0.2222222222222222,\"#7201a8\"],[0.3333333333333333,\"#9c179e\"],[0.4444444444444444,\"#bd3786\"],[0.5555555555555556,\"#d8576b\"],[0.6666666666666666,\"#ed7953\"],[0.7777777777777778,\"#fb9f3a\"],[0.8888888888888888,\"#fdca26\"],[1.0,\"#f0f921\"]]}],\"mesh3d\":[{\"type\":\"mesh3d\",\"colorbar\":{\"outlinewidth\":0,\"ticks\":\"\"}}],\"scatter\":[{\"fillpattern\":{\"fillmode\":\"overlay\",\"size\":10,\"solidity\":0.2},\"type\":\"scatter\"}],\"parcoords\":[{\"type\":\"parcoords\",\"line\":{\"colorbar\":{\"outlinewidth\":0,\"ticks\":\"\"}}}],\"scatterpolargl\":[{\"type\":\"scatterpolargl\",\"marker\":{\"colorbar\":{\"outlinewidth\":0,\"ticks\":\"\"}}}],\"bar\":[{\"error_x\":{\"color\":\"#2a3f5f\"},\"error_y\":{\"color\":\"#2a3f5f\"},\"marker\":{\"line\":{\"color\":\"#E5ECF6\",\"width\":0.5},\"pattern\":{\"fillmode\":\"overlay\",\"size\":10,\"solidity\":0.2}},\"type\":\"bar\"}],\"scattergeo\":[{\"type\":\"scattergeo\",\"marker\":{\"colorbar\":{\"outlinewidth\":0,\"ticks\":\"\"}}}],\"scatterpolar\":[{\"type\":\"scatterpolar\",\"marker\":{\"colorbar\":{\"outlinewidth\":0,\"ticks\":\"\"}}}],\"histogram\":[{\"marker\":{\"pattern\":{\"fillmode\":\"overlay\",\"size\":10,\"solidity\":0.2}},\"type\":\"histogram\"}],\"scattergl\":[{\"type\":\"scattergl\",\"marker\":{\"colorbar\":{\"outlinewidth\":0,\"ticks\":\"\"}}}],\"scatter3d\":[{\"type\":\"scatter3d\",\"line\":{\"colorbar\":{\"outlinewidth\":0,\"ticks\":\"\"}},\"marker\":{\"colorbar\":{\"outlinewidth\":0,\"ticks\":\"\"}}}],\"scattermapbox\":[{\"type\":\"scattermapbox\",\"marker\":{\"colorbar\":{\"outlinewidth\":0,\"ticks\":\"\"}}}],\"scatterternary\":[{\"type\":\"scatterternary\",\"marker\":{\"colorbar\":{\"outlinewidth\":0,\"ticks\":\"\"}}}],\"scattercarpet\":[{\"type\":\"scattercarpet\",\"marker\":{\"colorbar\":{\"outlinewidth\":0,\"ticks\":\"\"}}}],\"carpet\":[{\"aaxis\":{\"endlinecolor\":\"#2a3f5f\",\"gridcolor\":\"white\",\"linecolor\":\"white\",\"minorgridcolor\":\"white\",\"startlinecolor\":\"#2a3f5f\"},\"baxis\":{\"endlinecolor\":\"#2a3f5f\",\"gridcolor\":\"white\",\"linecolor\":\"white\",\"minorgridcolor\":\"white\",\"startlinecolor\":\"#2a3f5f\"},\"type\":\"carpet\"}],\"table\":[{\"cells\":{\"fill\":{\"color\":\"#EBF0F8\"},\"line\":{\"color\":\"white\"}},\"header\":{\"fill\":{\"color\":\"#C8D4E3\"},\"line\":{\"color\":\"white\"}},\"type\":\"table\"}],\"barpolar\":[{\"marker\":{\"line\":{\"color\":\"#E5ECF6\",\"width\":0.5},\"pattern\":{\"fillmode\":\"overlay\",\"size\":10,\"solidity\":0.2}},\"type\":\"barpolar\"}],\"pie\":[{\"automargin\":true,\"type\":\"pie\"}]},\"layout\":{\"autotypenumbers\":\"strict\",\"colorway\":[\"#636efa\",\"#EF553B\",\"#00cc96\",\"#ab63fa\",\"#FFA15A\",\"#19d3f3\",\"#FF6692\",\"#B6E880\",\"#FF97FF\",\"#FECB52\"],\"font\":{\"color\":\"#2a3f5f\"},\"hovermode\":\"closest\",\"hoverlabel\":{\"align\":\"left\"},\"paper_bgcolor\":\"white\",\"plot_bgcolor\":\"#E5ECF6\",\"polar\":{\"bgcolor\":\"#E5ECF6\",\"angularaxis\":{\"gridcolor\":\"white\",\"linecolor\":\"white\",\"ticks\":\"\"},\"radialaxis\":{\"gridcolor\":\"white\",\"linecolor\":\"white\",\"ticks\":\"\"}},\"ternary\":{\"bgcolor\":\"#E5ECF6\",\"aaxis\":{\"gridcolor\":\"white\",\"linecolor\":\"white\",\"ticks\":\"\"},\"baxis\":{\"gridcolor\":\"white\",\"linecolor\":\"white\",\"ticks\":\"\"},\"caxis\":{\"gridcolor\":\"white\",\"linecolor\":\"white\",\"ticks\":\"\"}},\"coloraxis\":{\"colorbar\":{\"outlinewidth\":0,\"ticks\":\"\"}},\"colorscale\":{\"sequential\":[[0.0,\"#0d0887\"],[0.1111111111111111,\"#46039f\"],[0.2222222222222222,\"#7201a8\"],[0.3333333333333333,\"#9c179e\"],[0.4444444444444444,\"#bd3786\"],[0.5555555555555556,\"#d8576b\"],[0.6666666666666666,\"#ed7953\"],[0.7777777777777778,\"#fb9f3a\"],[0.8888888888888888,\"#fdca26\"],[1.0,\"#f0f921\"]],\"sequentialminus\":[[0.0,\"#0d0887\"],[0.1111111111111111,\"#46039f\"],[0.2222222222222222,\"#7201a8\"],[0.3333333333333333,\"#9c179e\"],[0.4444444444444444,\"#bd3786\"],[0.5555555555555556,\"#d8576b\"],[0.6666666666666666,\"#ed7953\"],[0.7777777777777778,\"#fb9f3a\"],[0.8888888888888888,\"#fdca26\"],[1.0,\"#f0f921\"]],\"diverging\":[[0,\"#8e0152\"],[0.1,\"#c51b7d\"],[0.2,\"#de77ae\"],[0.3,\"#f1b6da\"],[0.4,\"#fde0ef\"],[0.5,\"#f7f7f7\"],[0.6,\"#e6f5d0\"],[0.7,\"#b8e186\"],[0.8,\"#7fbc41\"],[0.9,\"#4d9221\"],[1,\"#276419\"]]},\"xaxis\":{\"gridcolor\":\"white\",\"linecolor\":\"white\",\"ticks\":\"\",\"title\":{\"standoff\":15},\"zerolinecolor\":\"white\",\"automargin\":true,\"zerolinewidth\":2},\"yaxis\":{\"gridcolor\":\"white\",\"linecolor\":\"white\",\"ticks\":\"\",\"title\":{\"standoff\":15},\"zerolinecolor\":\"white\",\"automargin\":true,\"zerolinewidth\":2},\"scene\":{\"xaxis\":{\"backgroundcolor\":\"#E5ECF6\",\"gridcolor\":\"white\",\"linecolor\":\"white\",\"showbackground\":true,\"ticks\":\"\",\"zerolinecolor\":\"white\",\"gridwidth\":2},\"yaxis\":{\"backgroundcolor\":\"#E5ECF6\",\"gridcolor\":\"white\",\"linecolor\":\"white\",\"showbackground\":true,\"ticks\":\"\",\"zerolinecolor\":\"white\",\"gridwidth\":2},\"zaxis\":{\"backgroundcolor\":\"#E5ECF6\",\"gridcolor\":\"white\",\"linecolor\":\"white\",\"showbackground\":true,\"ticks\":\"\",\"zerolinecolor\":\"white\",\"gridwidth\":2}},\"shapedefaults\":{\"line\":{\"color\":\"#2a3f5f\"}},\"annotationdefaults\":{\"arrowcolor\":\"#2a3f5f\",\"arrowhead\":0,\"arrowwidth\":1},\"geo\":{\"bgcolor\":\"white\",\"landcolor\":\"#E5ECF6\",\"subunitcolor\":\"white\",\"showland\":true,\"showlakes\":true,\"lakecolor\":\"white\"},\"title\":{\"x\":0.05},\"mapbox\":{\"style\":\"light\"}}},\"title\":{\"text\":\"Gemiddelde uitstoot en TBL rate per jaar\"},\"xaxis\":{\"title\":{\"text\":\"Year\"}},\"yaxis\":{\"title\":{\"text\":\"Average emission\"}},\"updatemenus\":[{\"buttons\":[{\"args\":[{\"y\":[[197.6287648536261,190.94412504282113,181.45113708535655,176.8774328959444,171.33221721876973,172.3550389010385,169.7341438202279,166.34767282912873,162.7099356315808,158.4012359623185,154.83383398355144,154.61612494181406,152.88677654363292,152.38977379057957,152.92771035545678,150.0662911356319,148.12220474519953,145.40919083972105,142.83592838389708,137.2092985143007,135.59109989568648,133.08037947835396,131.44565145286552]]},{\"title\":\"Average Totale uitstoot and TBL rate per year\"}],\"label\":\"Totale uitstoot\",\"method\":\"update\"},{\"args\":[{\"y\":[[22.441117490949473,22.00579349493139,21.482056224434263,20.934371388895006,20.60926120979571,20.975505221890504,21.02862755160061,20.872462855235533,20.8592292998608,20.29809708656956,20.200739768566383,20.341375427182868,20.292279763520966,20.358869180621546,20.665770669642324,20.501504402456106,20.25166554739624,19.993805018612168,19.66336662844324,19.162106958080113,19.305082510136593,18.782585871953412,18.94464559128259]]},{\"title\":\"Average NOx and TBL rate per year\"}],\"label\":\"NOx\",\"method\":\"update\"},{\"args\":[{\"y\":[[31.21989848857238,29.87255955531888,27.84492177073886,27.025283595921703,26.052813386502965,25.373163040203387,24.845906384024847,24.25780012839004,23.757356892640562,22.66855369208652,21.604660064551524,21.69493313191345,22.301012714065447,21.908123976946648,21.117503996990667,20.391500805986944,20.314490735312557,19.92229680217852,17.875266096096855,16.13610261425959,15.794507819239417,15.759962991862636,14.876171001376928]]},{\"title\":\"Average SO2 and TBL rate per year\"}],\"label\":\"SO2\",\"method\":\"update\"},{\"args\":[{\"y\":[[99.67883296391143,95.57137894154422,90.8543842622212,88.45503976130833,84.70364815980976,83.27348870195408,81.2577039678359,78.71776411666922,76.52922798295086,74.09238204826244,71.91472808869537,71.87776126671615,70.41150538216733,70.13570709059387,70.61339288787693,69.39212009116572,68.53652976397588,67.72386103570312,68.09640146429759,66.06429230157893,65.02399459898227,63.79855536281476,63.571906927028095]]},{\"title\":\"Average CO and TBL rate per year\"}],\"label\":\"CO\",\"method\":\"update\"},{\"args\":[{\"y\":[[2.7056580950758726,2.7148818009456255,2.634953529858424,2.5918602946943308,2.5387133698936695,2.5391327182451566,2.541873031854082,2.5300299220146933,2.48349317161297,2.4733882996250944,2.4122579279402867,2.39679823614866,2.4004276112674616,2.4360000635143386,2.4611309480348025,2.452207029760168,2.458567560411203,2.4457270582619666,2.4536063728126343,2.469946948539275,2.453326286456116,2.3697021058502155,2.335537904038837]]},{\"title\":\"Average OC and TBL rate per year\"}],\"label\":\"OC\",\"method\":\"update\"},{\"args\":[{\"y\":[[31.227365756094922,30.581885688521403,29.67714413983781,29.092812281125468,28.69194924130088,30.57288220522283,30.449380285631534,30.32669231990855,29.462005904438314,29.278386490079797,29.21284488566488,28.872730502474518,28.08802152736084,28.09806548058887,28.470527402672445,27.858760281089463,27.0975413945463,25.83142498384794,25.359171253450704,23.99188074297027,23.614423632147744,23.032906426374787,23.00848663586972]]},{\"title\":\"Average NMVOC and TBL rate per year\"}],\"label\":\"NMVOC\",\"method\":\"update\"},{\"args\":[{\"y\":[[1.1424215621716818,1.192830367432542,1.094963781683842,1.0678168734986335,1.0386290936942675,1.0357360779465166,1.0339085754622668,1.0590004082995694,1.0370265283491247,1.0272849641659798,0.9822669605124946,0.9794698927623402,0.9684434017983625,1.0445366276432917,1.121707235797911,1.0703177285344145,1.0608532985174637,1.0388050330353116,1.036267891021595,1.0149725750081084,0.9943467949349113,0.9440734995488432,0.9744969791844652]]},{\"title\":\"Average BC and TBL rate per year\"}],\"label\":\"BC\",\"method\":\"update\"},{\"args\":[{\"y\":[[9.213470496850329,9.004795194127043,8.86520584666701,8.687472086666359,8.643789593235311,8.585130935576045,8.576744023818671,8.583923078611125,8.581595851728162,8.563143381529143,8.506336287620488,8.453056484616074,8.425086143452516,8.408471370671002,8.477677214441709,8.399880796639064,8.402556445039899,8.453270908082036,8.351848677774479,8.369996373864433,8.40541825378943,8.39259321994931,8.460625482885233]]},{\"title\":\"Average NH3 and TBL rate per year\"}],\"label\":\"NH3\",\"method\":\"update\"}],\"direction\":\"down\",\"showactive\":true}]},                        {\"responsive\": true}                    ).then(function(){\n",
       "                            \n",
       "var gd = document.getElementById('d1660614-fbcb-4993-a17f-f797165ae78f');\n",
       "var x = new MutationObserver(function (mutations, observer) {{\n",
       "        var display = window.getComputedStyle(gd).display;\n",
       "        if (!display || display === 'none') {{\n",
       "            console.log([gd, 'removed!']);\n",
       "            Plotly.purge(gd);\n",
       "            observer.disconnect();\n",
       "        }}\n",
       "}});\n",
       "\n",
       "// Listen for the removal of the full notebook cells\n",
       "var notebookContainer = gd.closest('#notebook-container');\n",
       "if (notebookContainer) {{\n",
       "    x.observe(notebookContainer, {childList: true});\n",
       "}}\n",
       "\n",
       "// Listen for the clearing of the current output cell\n",
       "var outputEl = gd.closest('.output');\n",
       "if (outputEl) {{\n",
       "    x.observe(outputEl, {childList: true});\n",
       "}}\n",
       "\n",
       "                        })                };                });            </script>        </div>"
      ]
     },
     "metadata": {},
     "output_type": "display_data"
    }
   ],
   "source": [
    "# Lees de CSV in\n",
    "df = pd.read_csv('datasets/norm.csv')\n",
    "\n",
    "\n",
    "# Bereken de totale uitstoot\n",
    "df['Total emission'] = df[['Nitrogen oxide (NOx)', 'Sulphur dioxide (SO₂) emissions', 'Carbon monoxide (CO) emissions',\n",
    "                          'Organic carbon (OC) emissions', 'Non-methane volatile organic compounds (NMVOC) emissions',\n",
    "                          'Black carbon (BC) emissions', 'Ammonia (NH₃) emissions']].sum(axis=1)\n",
    "\n",
    "\n",
    "# Lijst van emissies\n",
    "emissions = ['Total emission', 'Nitrogen oxide (NOx)', 'Sulphur dioxide (SO₂) emissions', 'Carbon monoxide (CO) emissions',\n",
    "            'Organic carbon (OC) emissions', 'Non-methane volatile organic compounds (NMVOC) emissions', 'Black carbon (BC) emissions',\n",
    "            'Ammonia (NH₃) emissions']\n",
    "afko_emissions = ['Totale uitstoot','NOx','SO2','CO', 'OC', 'NMVOC', 'BC', 'NH3']\n",
    "\n",
    "\n",
    "# Bereken gemiddelden per jaar voor alle emissies\n",
    "gem_uitstoot_per_jaar = df.groupby('Year')[['Total emission'] + emissions[1:]].mean().reset_index()\n",
    "\n",
    "\n",
    "# Bereken gemiddelden voor TBL rate en daily smokers\n",
    "gem_TBL = df.groupby('Year')['TBL rate'].mean().reset_index()\n",
    "gem_smokers = df.groupby('Year')['Percentage daily smokers'].mean().reset_index()\n",
    "\n",
    "\n",
    "# Voeg deze kolommen samen in een enkele dataframe\n",
    "merged_df = gem_uitstoot_per_jaar.merge(gem_TBL, on='Year').merge(gem_smokers, on='Year')\n",
    "\n",
    "\n",
    "# Maak de basis scatterplot\n",
    "fig = go.Figure()\n",
    "\n",
    "\n",
    "# Voeg de scatterplot voor de totale emissie toe\n",
    "fig.add_trace(go.Scatter(\n",
    "   x=merged_df['Year'],\n",
    "   y=merged_df['Total emission'],\n",
    "   mode='markers',\n",
    "   marker=dict(\n",
    "       size=15,\n",
    "       color=merged_df['TBL rate'],\n",
    "       colorscale='armyrose',\n",
    "       showscale=True,\n",
    "       colorbar=dict(title='TBL rate')\n",
    "   ),\n",
    "   name='Total emission'\n",
    "))\n",
    "\n",
    "\n",
    "# Maak een dropdownmenu voor de verschillende emissies\n",
    "dropdown_buttons = [\n",
    "   {\n",
    "       'label': afko_emissions[i],\n",
    "       'method': 'update',\n",
    "       'args': [\n",
    "           {'y': [merged_df[emissions[i]]]},\n",
    "           {'title': f'Average {afko_emissions[i]} and TBL rate per year'}\n",
    "       ]\n",
    "   } for i in range(len(emissions))\n",
    "]\n",
    "\n",
    "\n",
    "# Update de layout van de figuur\n",
    "fig.update_layout(\n",
    "   title='Gemiddelde uitstoot en TBL rate per jaar',\n",
    "   xaxis_title='Year',\n",
    "   yaxis_title='Average emission',\n",
    "   updatemenus=[{\n",
    "       'buttons': dropdown_buttons,\n",
    "       'direction': 'down',\n",
    "       'showactive': True,\n",
    "   }]\n",
    ")\n",
    "\n",
    "\n",
    "# Toon de figuur\n",
    "fig.show()"
   ]
  },
  {
   "cell_type": "markdown",
   "id": "62e26829-3d0d-4ee7-b88b-a7dc22849fd1",
   "metadata": {},
   "source": [
    "> *Figure 2: De verschillende uitstoten per jaar, de kleur van elk punt correspondeert met de hoeveelheid longkanker-doden..*"
   ]
  },
  {
   "cell_type": "markdown",
   "id": "be2e96b5-34b9-4070-a924-b2e275d53293",
   "metadata": {},
   "source": [
    "Bovenstaande grafiek geeft de wereldwijde emissie uitstoot over de jaren 1990 tot 2012 weer voor 7 verschillende stoffen. De waarde van de wereldwijde emissie-uitstoot is bepaald door een gemiddelde van de emissie-uitstoten van 183 landen. De TBL rate is een schaal die de mate van gediagnosticeerde longkanker weergeeft. Voor deze waarde is tevens het gemiddelde genomen van de 183 betreffende landen. De sterkte van de TBL rate wordt in de grafiek aan de hand van een kleur aangeduid. Hoe rozer de kleur, hoe hoger de TBL rate en hoe groener de kleur, hoe lager de rate. De afnemende trend in de grafiek laat een daling in wereldwijde uitstoot zien door de jaren heen. Tevens is er een verandering in kleur te zien naarmate de jaren vorderen. Deze verandering duidt op een afname in TBL rate. Deze grafiek toont een correlatie tussen de wereldwijde emissie-uitstoot en de hoeveelheid gediagnosticeerde kanker. Deze correlatie suggereert een verband tussen lonkanker en uitstoot. Wel bevat de grafiek door het groeperen van data nog maar 22 datapunten. Er is niet met zekerheid te zeggen of de correlatie een daadwerkelijk verband aantoont."
   ]
  },
  {
   "cell_type": "markdown",
   "id": "e1ec4c90-ccd9-4940-9a0e-18799c438ef5",
   "metadata": {},
   "source": [
    "## Perspectief 2: Het verder verminderen van luchtvervuiling is niet nodig."
   ]
  },
  {
   "cell_type": "markdown",
   "id": "005e94a9",
   "metadata": {},
   "source": [
    "Uit de vorige visualisaties bleek een duidelijke correlatie tussen luchtvervuiling en de TBL-rate. Echter, om een vollediger beeld te krijgen van de factoren die de TBL-rate beïnvloeden, moeten we ook andere mogelijke oorzaken in overweging nemen. Een belangrijke factor is roken, dat bekend staat om het vergroten van de kans op longziektes, waaronder longkanker (Longkanker Nederland, z.d.). Daarnaast is het ook nuttig om de mate van luchtvervuiling door de jaren heen weer te geven, om te kunnen analyseren of de regelgeving rondom het verminderen van luchtvervuiling al effectief genoeg zijn. Door deze aspecten te vergelijken, kunnen we beter begrijpen welke factoren de grootste invloed hebben op de TBL-rate, en of er mogelijk een sterkere relatie bestaat met roken dan met luchtvervuiling."
   ]
  },
  {
   "cell_type": "markdown",
   "id": "4a3eacb4-4812-474a-9900-71e2ac33cb5f",
   "metadata": {},
   "source": [
    "### Argument: Roken is een grotere factor in het krijgen van longkanker"
   ]
  },
  {
   "cell_type": "markdown",
   "id": "62b3848e-5c37-482c-a584-c7c2a02a1e95",
   "metadata": {},
   "source": [
    "We hebben gezien dat er een verband is tussen luchtvervuiling en longkanker, maar we weten niet hoe sterk dat verband is vergeleken met andere oorzaken. Een factor zoals roken kan misschien een nog grotere rol spelen. Als dat het geval zou zijn, is het waarschijnlijk beter om dat probleem aan te pakken dan de focus leggen op het verminderen van luchtvervuiling."
   ]
  },
  {
   "cell_type": "code",
   "execution_count": 5,
   "id": "8d5a675b-4179-49a8-bf34-e2f14e0380e7",
   "metadata": {
    "editable": true,
    "slideshow": {
     "slide_type": ""
    },
    "tags": [
     "hide-input"
    ]
   },
   "outputs": [
    {
     "data": {
      "application/vnd.plotly.v1+json": {
       "config": {
        "plotlyServerURL": "https://plot.ly"
       },
       "data": [
        {
         "marker": {
          "color": [
           21.20113177493556,
           21.14993492535245,
           21.146833905787943,
           21.213966402951588,
           21.13745002757569,
           21.122057275289077,
           20.930439052139782,
           20.80017437813708,
           20.701718334298807,
           20.593311551446693,
           20.387419310607957,
           20.260172693850308,
           20.295790540731197,
           20.313795901519384,
           20.25772123836037,
           20.26330504000695,
           20.241558680511595,
           20.292864450995623,
           20.311885756377432,
           20.304931262832024,
           20.17364747198935,
           20.08040070629166,
           19.963720159068643
          ],
          "colorbar": {
           "title": {
            "text": "TBL rate"
           }
          },
          "colorscale": [
           [
            0,
            "rgb(121, 130, 52)"
           ],
           [
            0.16666666666666666,
            "rgb(163, 173, 98)"
           ],
           [
            0.3333333333333333,
            "rgb(208, 211, 162)"
           ],
           [
            0.5,
            "rgb(253, 251, 228)"
           ],
           [
            0.6666666666666666,
            "rgb(240, 198, 195)"
           ],
           [
            0.8333333333333334,
            "rgb(223, 145, 163)"
           ],
           [
            1,
            "rgb(212, 103, 128)"
           ]
          ],
          "showscale": true,
          "size": 15
         },
         "mode": "markers",
         "name": "Average percentage daily smokers per year",
         "type": "scatter",
         "x": [
          1990,
          1991,
          1992,
          1993,
          1994,
          1995,
          1996,
          1997,
          1998,
          1999,
          2000,
          2001,
          2002,
          2003,
          2004,
          2005,
          2006,
          2007,
          2008,
          2009,
          2010,
          2011,
          2012
         ],
         "y": [
          19.631868085714288,
          19.613186783516486,
          19.58406591098901,
          19.55274723131868,
          19.48461542912088,
          19.3989011467033,
          19.301098968131868,
          19.102197831868132,
          18.909890158791207,
          18.721977993406593,
          18.521428513186812,
          18.32802201978022,
          18.137362650549452,
          17.923626335164833,
          17.72472528846154,
          17.53406595274725,
          17.331318674175822,
          17.15219774065934,
          17.014835146153846,
          16.931868144505497,
          16.86758240824176,
          16.848901134615385,
          16.86703293076923
         ]
        }
       ],
       "layout": {
        "autosize": true,
        "template": {
         "data": {
          "bar": [
           {
            "error_x": {
             "color": "#2a3f5f"
            },
            "error_y": {
             "color": "#2a3f5f"
            },
            "marker": {
             "line": {
              "color": "#E5ECF6",
              "width": 0.5
             },
             "pattern": {
              "fillmode": "overlay",
              "size": 10,
              "solidity": 0.2
             }
            },
            "type": "bar"
           }
          ],
          "barpolar": [
           {
            "marker": {
             "line": {
              "color": "#E5ECF6",
              "width": 0.5
             },
             "pattern": {
              "fillmode": "overlay",
              "size": 10,
              "solidity": 0.2
             }
            },
            "type": "barpolar"
           }
          ],
          "carpet": [
           {
            "aaxis": {
             "endlinecolor": "#2a3f5f",
             "gridcolor": "white",
             "linecolor": "white",
             "minorgridcolor": "white",
             "startlinecolor": "#2a3f5f"
            },
            "baxis": {
             "endlinecolor": "#2a3f5f",
             "gridcolor": "white",
             "linecolor": "white",
             "minorgridcolor": "white",
             "startlinecolor": "#2a3f5f"
            },
            "type": "carpet"
           }
          ],
          "choropleth": [
           {
            "colorbar": {
             "outlinewidth": 0,
             "ticks": ""
            },
            "type": "choropleth"
           }
          ],
          "contour": [
           {
            "colorbar": {
             "outlinewidth": 0,
             "ticks": ""
            },
            "colorscale": [
             [
              0,
              "#0d0887"
             ],
             [
              0.1111111111111111,
              "#46039f"
             ],
             [
              0.2222222222222222,
              "#7201a8"
             ],
             [
              0.3333333333333333,
              "#9c179e"
             ],
             [
              0.4444444444444444,
              "#bd3786"
             ],
             [
              0.5555555555555556,
              "#d8576b"
             ],
             [
              0.6666666666666666,
              "#ed7953"
             ],
             [
              0.7777777777777778,
              "#fb9f3a"
             ],
             [
              0.8888888888888888,
              "#fdca26"
             ],
             [
              1,
              "#f0f921"
             ]
            ],
            "type": "contour"
           }
          ],
          "contourcarpet": [
           {
            "colorbar": {
             "outlinewidth": 0,
             "ticks": ""
            },
            "type": "contourcarpet"
           }
          ],
          "heatmap": [
           {
            "colorbar": {
             "outlinewidth": 0,
             "ticks": ""
            },
            "colorscale": [
             [
              0,
              "#0d0887"
             ],
             [
              0.1111111111111111,
              "#46039f"
             ],
             [
              0.2222222222222222,
              "#7201a8"
             ],
             [
              0.3333333333333333,
              "#9c179e"
             ],
             [
              0.4444444444444444,
              "#bd3786"
             ],
             [
              0.5555555555555556,
              "#d8576b"
             ],
             [
              0.6666666666666666,
              "#ed7953"
             ],
             [
              0.7777777777777778,
              "#fb9f3a"
             ],
             [
              0.8888888888888888,
              "#fdca26"
             ],
             [
              1,
              "#f0f921"
             ]
            ],
            "type": "heatmap"
           }
          ],
          "heatmapgl": [
           {
            "colorbar": {
             "outlinewidth": 0,
             "ticks": ""
            },
            "colorscale": [
             [
              0,
              "#0d0887"
             ],
             [
              0.1111111111111111,
              "#46039f"
             ],
             [
              0.2222222222222222,
              "#7201a8"
             ],
             [
              0.3333333333333333,
              "#9c179e"
             ],
             [
              0.4444444444444444,
              "#bd3786"
             ],
             [
              0.5555555555555556,
              "#d8576b"
             ],
             [
              0.6666666666666666,
              "#ed7953"
             ],
             [
              0.7777777777777778,
              "#fb9f3a"
             ],
             [
              0.8888888888888888,
              "#fdca26"
             ],
             [
              1,
              "#f0f921"
             ]
            ],
            "type": "heatmapgl"
           }
          ],
          "histogram": [
           {
            "marker": {
             "pattern": {
              "fillmode": "overlay",
              "size": 10,
              "solidity": 0.2
             }
            },
            "type": "histogram"
           }
          ],
          "histogram2d": [
           {
            "colorbar": {
             "outlinewidth": 0,
             "ticks": ""
            },
            "colorscale": [
             [
              0,
              "#0d0887"
             ],
             [
              0.1111111111111111,
              "#46039f"
             ],
             [
              0.2222222222222222,
              "#7201a8"
             ],
             [
              0.3333333333333333,
              "#9c179e"
             ],
             [
              0.4444444444444444,
              "#bd3786"
             ],
             [
              0.5555555555555556,
              "#d8576b"
             ],
             [
              0.6666666666666666,
              "#ed7953"
             ],
             [
              0.7777777777777778,
              "#fb9f3a"
             ],
             [
              0.8888888888888888,
              "#fdca26"
             ],
             [
              1,
              "#f0f921"
             ]
            ],
            "type": "histogram2d"
           }
          ],
          "histogram2dcontour": [
           {
            "colorbar": {
             "outlinewidth": 0,
             "ticks": ""
            },
            "colorscale": [
             [
              0,
              "#0d0887"
             ],
             [
              0.1111111111111111,
              "#46039f"
             ],
             [
              0.2222222222222222,
              "#7201a8"
             ],
             [
              0.3333333333333333,
              "#9c179e"
             ],
             [
              0.4444444444444444,
              "#bd3786"
             ],
             [
              0.5555555555555556,
              "#d8576b"
             ],
             [
              0.6666666666666666,
              "#ed7953"
             ],
             [
              0.7777777777777778,
              "#fb9f3a"
             ],
             [
              0.8888888888888888,
              "#fdca26"
             ],
             [
              1,
              "#f0f921"
             ]
            ],
            "type": "histogram2dcontour"
           }
          ],
          "mesh3d": [
           {
            "colorbar": {
             "outlinewidth": 0,
             "ticks": ""
            },
            "type": "mesh3d"
           }
          ],
          "parcoords": [
           {
            "line": {
             "colorbar": {
              "outlinewidth": 0,
              "ticks": ""
             }
            },
            "type": "parcoords"
           }
          ],
          "pie": [
           {
            "automargin": true,
            "type": "pie"
           }
          ],
          "scatter": [
           {
            "fillpattern": {
             "fillmode": "overlay",
             "size": 10,
             "solidity": 0.2
            },
            "type": "scatter"
           }
          ],
          "scatter3d": [
           {
            "line": {
             "colorbar": {
              "outlinewidth": 0,
              "ticks": ""
             }
            },
            "marker": {
             "colorbar": {
              "outlinewidth": 0,
              "ticks": ""
             }
            },
            "type": "scatter3d"
           }
          ],
          "scattercarpet": [
           {
            "marker": {
             "colorbar": {
              "outlinewidth": 0,
              "ticks": ""
             }
            },
            "type": "scattercarpet"
           }
          ],
          "scattergeo": [
           {
            "marker": {
             "colorbar": {
              "outlinewidth": 0,
              "ticks": ""
             }
            },
            "type": "scattergeo"
           }
          ],
          "scattergl": [
           {
            "marker": {
             "colorbar": {
              "outlinewidth": 0,
              "ticks": ""
             }
            },
            "type": "scattergl"
           }
          ],
          "scattermapbox": [
           {
            "marker": {
             "colorbar": {
              "outlinewidth": 0,
              "ticks": ""
             }
            },
            "type": "scattermapbox"
           }
          ],
          "scatterpolar": [
           {
            "marker": {
             "colorbar": {
              "outlinewidth": 0,
              "ticks": ""
             }
            },
            "type": "scatterpolar"
           }
          ],
          "scatterpolargl": [
           {
            "marker": {
             "colorbar": {
              "outlinewidth": 0,
              "ticks": ""
             }
            },
            "type": "scatterpolargl"
           }
          ],
          "scatterternary": [
           {
            "marker": {
             "colorbar": {
              "outlinewidth": 0,
              "ticks": ""
             }
            },
            "type": "scatterternary"
           }
          ],
          "surface": [
           {
            "colorbar": {
             "outlinewidth": 0,
             "ticks": ""
            },
            "colorscale": [
             [
              0,
              "#0d0887"
             ],
             [
              0.1111111111111111,
              "#46039f"
             ],
             [
              0.2222222222222222,
              "#7201a8"
             ],
             [
              0.3333333333333333,
              "#9c179e"
             ],
             [
              0.4444444444444444,
              "#bd3786"
             ],
             [
              0.5555555555555556,
              "#d8576b"
             ],
             [
              0.6666666666666666,
              "#ed7953"
             ],
             [
              0.7777777777777778,
              "#fb9f3a"
             ],
             [
              0.8888888888888888,
              "#fdca26"
             ],
             [
              1,
              "#f0f921"
             ]
            ],
            "type": "surface"
           }
          ],
          "table": [
           {
            "cells": {
             "fill": {
              "color": "#EBF0F8"
             },
             "line": {
              "color": "white"
             }
            },
            "header": {
             "fill": {
              "color": "#C8D4E3"
             },
             "line": {
              "color": "white"
             }
            },
            "type": "table"
           }
          ]
         },
         "layout": {
          "annotationdefaults": {
           "arrowcolor": "#2a3f5f",
           "arrowhead": 0,
           "arrowwidth": 1
          },
          "autotypenumbers": "strict",
          "coloraxis": {
           "colorbar": {
            "outlinewidth": 0,
            "ticks": ""
           }
          },
          "colorscale": {
           "diverging": [
            [
             0,
             "#8e0152"
            ],
            [
             0.1,
             "#c51b7d"
            ],
            [
             0.2,
             "#de77ae"
            ],
            [
             0.3,
             "#f1b6da"
            ],
            [
             0.4,
             "#fde0ef"
            ],
            [
             0.5,
             "#f7f7f7"
            ],
            [
             0.6,
             "#e6f5d0"
            ],
            [
             0.7,
             "#b8e186"
            ],
            [
             0.8,
             "#7fbc41"
            ],
            [
             0.9,
             "#4d9221"
            ],
            [
             1,
             "#276419"
            ]
           ],
           "sequential": [
            [
             0,
             "#0d0887"
            ],
            [
             0.1111111111111111,
             "#46039f"
            ],
            [
             0.2222222222222222,
             "#7201a8"
            ],
            [
             0.3333333333333333,
             "#9c179e"
            ],
            [
             0.4444444444444444,
             "#bd3786"
            ],
            [
             0.5555555555555556,
             "#d8576b"
            ],
            [
             0.6666666666666666,
             "#ed7953"
            ],
            [
             0.7777777777777778,
             "#fb9f3a"
            ],
            [
             0.8888888888888888,
             "#fdca26"
            ],
            [
             1,
             "#f0f921"
            ]
           ],
           "sequentialminus": [
            [
             0,
             "#0d0887"
            ],
            [
             0.1111111111111111,
             "#46039f"
            ],
            [
             0.2222222222222222,
             "#7201a8"
            ],
            [
             0.3333333333333333,
             "#9c179e"
            ],
            [
             0.4444444444444444,
             "#bd3786"
            ],
            [
             0.5555555555555556,
             "#d8576b"
            ],
            [
             0.6666666666666666,
             "#ed7953"
            ],
            [
             0.7777777777777778,
             "#fb9f3a"
            ],
            [
             0.8888888888888888,
             "#fdca26"
            ],
            [
             1,
             "#f0f921"
            ]
           ]
          },
          "colorway": [
           "#636efa",
           "#EF553B",
           "#00cc96",
           "#ab63fa",
           "#FFA15A",
           "#19d3f3",
           "#FF6692",
           "#B6E880",
           "#FF97FF",
           "#FECB52"
          ],
          "font": {
           "color": "#2a3f5f"
          },
          "geo": {
           "bgcolor": "white",
           "lakecolor": "white",
           "landcolor": "#E5ECF6",
           "showlakes": true,
           "showland": true,
           "subunitcolor": "white"
          },
          "hoverlabel": {
           "align": "left"
          },
          "hovermode": "closest",
          "mapbox": {
           "style": "light"
          },
          "paper_bgcolor": "white",
          "plot_bgcolor": "#E5ECF6",
          "polar": {
           "angularaxis": {
            "gridcolor": "white",
            "linecolor": "white",
            "ticks": ""
           },
           "bgcolor": "#E5ECF6",
           "radialaxis": {
            "gridcolor": "white",
            "linecolor": "white",
            "ticks": ""
           }
          },
          "scene": {
           "xaxis": {
            "backgroundcolor": "#E5ECF6",
            "gridcolor": "white",
            "gridwidth": 2,
            "linecolor": "white",
            "showbackground": true,
            "ticks": "",
            "zerolinecolor": "white"
           },
           "yaxis": {
            "backgroundcolor": "#E5ECF6",
            "gridcolor": "white",
            "gridwidth": 2,
            "linecolor": "white",
            "showbackground": true,
            "ticks": "",
            "zerolinecolor": "white"
           },
           "zaxis": {
            "backgroundcolor": "#E5ECF6",
            "gridcolor": "white",
            "gridwidth": 2,
            "linecolor": "white",
            "showbackground": true,
            "ticks": "",
            "zerolinecolor": "white"
           }
          },
          "shapedefaults": {
           "line": {
            "color": "#2a3f5f"
           }
          },
          "ternary": {
           "aaxis": {
            "gridcolor": "white",
            "linecolor": "white",
            "ticks": ""
           },
           "baxis": {
            "gridcolor": "white",
            "linecolor": "white",
            "ticks": ""
           },
           "bgcolor": "#E5ECF6",
           "caxis": {
            "gridcolor": "white",
            "linecolor": "white",
            "ticks": ""
           }
          },
          "title": {
           "x": 0.05
          },
          "xaxis": {
           "automargin": true,
           "gridcolor": "white",
           "linecolor": "white",
           "ticks": "",
           "title": {
            "standoff": 15
           },
           "zerolinecolor": "white",
           "zerolinewidth": 2
          },
          "yaxis": {
           "automargin": true,
           "gridcolor": "white",
           "linecolor": "white",
           "ticks": "",
           "title": {
            "standoff": 15
           },
           "zerolinecolor": "white",
           "zerolinewidth": 2
          }
         }
        },
        "title": {
         "text": "Average Percentage of Daily Smokers and TBL rate per Year"
        },
        "xaxis": {
         "autorange": true,
         "range": [
          1988.2656162699743,
          2013.7343837300257
         ],
         "title": {
          "text": "Year"
         },
         "type": "linear"
        },
        "yaxis": {
         "autorange": true,
         "range": [
          16.491923698479663,
          19.98884552185001
         ],
         "title": {
          "text": "Percentage Daily Smokers"
         },
         "type": "linear"
        }
       }
      },
      "text/html": [
       "<div>                            <div id=\"f121b156-ec0c-41d7-821d-fa05fb700732\" class=\"plotly-graph-div\" style=\"height:525px; width:100%;\"></div>            <script type=\"text/javascript\">                require([\"plotly\"], function(Plotly) {                    window.PLOTLYENV=window.PLOTLYENV || {};                                    if (document.getElementById(\"f121b156-ec0c-41d7-821d-fa05fb700732\")) {                    Plotly.newPlot(                        \"f121b156-ec0c-41d7-821d-fa05fb700732\",                        [{\"marker\":{\"color\":[21.20113177493556,21.14993492535245,21.146833905787943,21.213966402951588,21.13745002757569,21.122057275289077,20.930439052139782,20.80017437813708,20.701718334298807,20.593311551446693,20.387419310607957,20.260172693850308,20.295790540731197,20.313795901519384,20.25772123836037,20.26330504000695,20.241558680511595,20.292864450995623,20.311885756377432,20.304931262832024,20.17364747198935,20.08040070629166,19.963720159068643],\"colorbar\":{\"title\":{\"text\":\"TBL rate\"}},\"colorscale\":[[0.0,\"rgb(121, 130, 52)\"],[0.16666666666666666,\"rgb(163, 173, 98)\"],[0.3333333333333333,\"rgb(208, 211, 162)\"],[0.5,\"rgb(253, 251, 228)\"],[0.6666666666666666,\"rgb(240, 198, 195)\"],[0.8333333333333334,\"rgb(223, 145, 163)\"],[1.0,\"rgb(212, 103, 128)\"]],\"showscale\":true,\"size\":15},\"mode\":\"markers\",\"name\":\"Average percentage daily smokers per year\",\"x\":[1990,1991,1992,1993,1994,1995,1996,1997,1998,1999,2000,2001,2002,2003,2004,2005,2006,2007,2008,2009,2010,2011,2012],\"y\":[19.631868085714288,19.613186783516486,19.58406591098901,19.55274723131868,19.48461542912088,19.3989011467033,19.301098968131868,19.102197831868132,18.909890158791207,18.721977993406593,18.521428513186812,18.32802201978022,18.137362650549452,17.923626335164833,17.72472528846154,17.53406595274725,17.331318674175822,17.15219774065934,17.014835146153846,16.931868144505497,16.86758240824176,16.848901134615385,16.86703293076923],\"type\":\"scatter\"}],                        {\"template\":{\"data\":{\"histogram2dcontour\":[{\"type\":\"histogram2dcontour\",\"colorbar\":{\"outlinewidth\":0,\"ticks\":\"\"},\"colorscale\":[[0.0,\"#0d0887\"],[0.1111111111111111,\"#46039f\"],[0.2222222222222222,\"#7201a8\"],[0.3333333333333333,\"#9c179e\"],[0.4444444444444444,\"#bd3786\"],[0.5555555555555556,\"#d8576b\"],[0.6666666666666666,\"#ed7953\"],[0.7777777777777778,\"#fb9f3a\"],[0.8888888888888888,\"#fdca26\"],[1.0,\"#f0f921\"]]}],\"choropleth\":[{\"type\":\"choropleth\",\"colorbar\":{\"outlinewidth\":0,\"ticks\":\"\"}}],\"histogram2d\":[{\"type\":\"histogram2d\",\"colorbar\":{\"outlinewidth\":0,\"ticks\":\"\"},\"colorscale\":[[0.0,\"#0d0887\"],[0.1111111111111111,\"#46039f\"],[0.2222222222222222,\"#7201a8\"],[0.3333333333333333,\"#9c179e\"],[0.4444444444444444,\"#bd3786\"],[0.5555555555555556,\"#d8576b\"],[0.6666666666666666,\"#ed7953\"],[0.7777777777777778,\"#fb9f3a\"],[0.8888888888888888,\"#fdca26\"],[1.0,\"#f0f921\"]]}],\"heatmap\":[{\"type\":\"heatmap\",\"colorbar\":{\"outlinewidth\":0,\"ticks\":\"\"},\"colorscale\":[[0.0,\"#0d0887\"],[0.1111111111111111,\"#46039f\"],[0.2222222222222222,\"#7201a8\"],[0.3333333333333333,\"#9c179e\"],[0.4444444444444444,\"#bd3786\"],[0.5555555555555556,\"#d8576b\"],[0.6666666666666666,\"#ed7953\"],[0.7777777777777778,\"#fb9f3a\"],[0.8888888888888888,\"#fdca26\"],[1.0,\"#f0f921\"]]}],\"heatmapgl\":[{\"type\":\"heatmapgl\",\"colorbar\":{\"outlinewidth\":0,\"ticks\":\"\"},\"colorscale\":[[0.0,\"#0d0887\"],[0.1111111111111111,\"#46039f\"],[0.2222222222222222,\"#7201a8\"],[0.3333333333333333,\"#9c179e\"],[0.4444444444444444,\"#bd3786\"],[0.5555555555555556,\"#d8576b\"],[0.6666666666666666,\"#ed7953\"],[0.7777777777777778,\"#fb9f3a\"],[0.8888888888888888,\"#fdca26\"],[1.0,\"#f0f921\"]]}],\"contourcarpet\":[{\"type\":\"contourcarpet\",\"colorbar\":{\"outlinewidth\":0,\"ticks\":\"\"}}],\"contour\":[{\"type\":\"contour\",\"colorbar\":{\"outlinewidth\":0,\"ticks\":\"\"},\"colorscale\":[[0.0,\"#0d0887\"],[0.1111111111111111,\"#46039f\"],[0.2222222222222222,\"#7201a8\"],[0.3333333333333333,\"#9c179e\"],[0.4444444444444444,\"#bd3786\"],[0.5555555555555556,\"#d8576b\"],[0.6666666666666666,\"#ed7953\"],[0.7777777777777778,\"#fb9f3a\"],[0.8888888888888888,\"#fdca26\"],[1.0,\"#f0f921\"]]}],\"surface\":[{\"type\":\"surface\",\"colorbar\":{\"outlinewidth\":0,\"ticks\":\"\"},\"colorscale\":[[0.0,\"#0d0887\"],[0.1111111111111111,\"#46039f\"],[0.2222222222222222,\"#7201a8\"],[0.3333333333333333,\"#9c179e\"],[0.4444444444444444,\"#bd3786\"],[0.5555555555555556,\"#d8576b\"],[0.6666666666666666,\"#ed7953\"],[0.7777777777777778,\"#fb9f3a\"],[0.8888888888888888,\"#fdca26\"],[1.0,\"#f0f921\"]]}],\"mesh3d\":[{\"type\":\"mesh3d\",\"colorbar\":{\"outlinewidth\":0,\"ticks\":\"\"}}],\"scatter\":[{\"fillpattern\":{\"fillmode\":\"overlay\",\"size\":10,\"solidity\":0.2},\"type\":\"scatter\"}],\"parcoords\":[{\"type\":\"parcoords\",\"line\":{\"colorbar\":{\"outlinewidth\":0,\"ticks\":\"\"}}}],\"scatterpolargl\":[{\"type\":\"scatterpolargl\",\"marker\":{\"colorbar\":{\"outlinewidth\":0,\"ticks\":\"\"}}}],\"bar\":[{\"error_x\":{\"color\":\"#2a3f5f\"},\"error_y\":{\"color\":\"#2a3f5f\"},\"marker\":{\"line\":{\"color\":\"#E5ECF6\",\"width\":0.5},\"pattern\":{\"fillmode\":\"overlay\",\"size\":10,\"solidity\":0.2}},\"type\":\"bar\"}],\"scattergeo\":[{\"type\":\"scattergeo\",\"marker\":{\"colorbar\":{\"outlinewidth\":0,\"ticks\":\"\"}}}],\"scatterpolar\":[{\"type\":\"scatterpolar\",\"marker\":{\"colorbar\":{\"outlinewidth\":0,\"ticks\":\"\"}}}],\"histogram\":[{\"marker\":{\"pattern\":{\"fillmode\":\"overlay\",\"size\":10,\"solidity\":0.2}},\"type\":\"histogram\"}],\"scattergl\":[{\"type\":\"scattergl\",\"marker\":{\"colorbar\":{\"outlinewidth\":0,\"ticks\":\"\"}}}],\"scatter3d\":[{\"type\":\"scatter3d\",\"line\":{\"colorbar\":{\"outlinewidth\":0,\"ticks\":\"\"}},\"marker\":{\"colorbar\":{\"outlinewidth\":0,\"ticks\":\"\"}}}],\"scattermapbox\":[{\"type\":\"scattermapbox\",\"marker\":{\"colorbar\":{\"outlinewidth\":0,\"ticks\":\"\"}}}],\"scatterternary\":[{\"type\":\"scatterternary\",\"marker\":{\"colorbar\":{\"outlinewidth\":0,\"ticks\":\"\"}}}],\"scattercarpet\":[{\"type\":\"scattercarpet\",\"marker\":{\"colorbar\":{\"outlinewidth\":0,\"ticks\":\"\"}}}],\"carpet\":[{\"aaxis\":{\"endlinecolor\":\"#2a3f5f\",\"gridcolor\":\"white\",\"linecolor\":\"white\",\"minorgridcolor\":\"white\",\"startlinecolor\":\"#2a3f5f\"},\"baxis\":{\"endlinecolor\":\"#2a3f5f\",\"gridcolor\":\"white\",\"linecolor\":\"white\",\"minorgridcolor\":\"white\",\"startlinecolor\":\"#2a3f5f\"},\"type\":\"carpet\"}],\"table\":[{\"cells\":{\"fill\":{\"color\":\"#EBF0F8\"},\"line\":{\"color\":\"white\"}},\"header\":{\"fill\":{\"color\":\"#C8D4E3\"},\"line\":{\"color\":\"white\"}},\"type\":\"table\"}],\"barpolar\":[{\"marker\":{\"line\":{\"color\":\"#E5ECF6\",\"width\":0.5},\"pattern\":{\"fillmode\":\"overlay\",\"size\":10,\"solidity\":0.2}},\"type\":\"barpolar\"}],\"pie\":[{\"automargin\":true,\"type\":\"pie\"}]},\"layout\":{\"autotypenumbers\":\"strict\",\"colorway\":[\"#636efa\",\"#EF553B\",\"#00cc96\",\"#ab63fa\",\"#FFA15A\",\"#19d3f3\",\"#FF6692\",\"#B6E880\",\"#FF97FF\",\"#FECB52\"],\"font\":{\"color\":\"#2a3f5f\"},\"hovermode\":\"closest\",\"hoverlabel\":{\"align\":\"left\"},\"paper_bgcolor\":\"white\",\"plot_bgcolor\":\"#E5ECF6\",\"polar\":{\"bgcolor\":\"#E5ECF6\",\"angularaxis\":{\"gridcolor\":\"white\",\"linecolor\":\"white\",\"ticks\":\"\"},\"radialaxis\":{\"gridcolor\":\"white\",\"linecolor\":\"white\",\"ticks\":\"\"}},\"ternary\":{\"bgcolor\":\"#E5ECF6\",\"aaxis\":{\"gridcolor\":\"white\",\"linecolor\":\"white\",\"ticks\":\"\"},\"baxis\":{\"gridcolor\":\"white\",\"linecolor\":\"white\",\"ticks\":\"\"},\"caxis\":{\"gridcolor\":\"white\",\"linecolor\":\"white\",\"ticks\":\"\"}},\"coloraxis\":{\"colorbar\":{\"outlinewidth\":0,\"ticks\":\"\"}},\"colorscale\":{\"sequential\":[[0.0,\"#0d0887\"],[0.1111111111111111,\"#46039f\"],[0.2222222222222222,\"#7201a8\"],[0.3333333333333333,\"#9c179e\"],[0.4444444444444444,\"#bd3786\"],[0.5555555555555556,\"#d8576b\"],[0.6666666666666666,\"#ed7953\"],[0.7777777777777778,\"#fb9f3a\"],[0.8888888888888888,\"#fdca26\"],[1.0,\"#f0f921\"]],\"sequentialminus\":[[0.0,\"#0d0887\"],[0.1111111111111111,\"#46039f\"],[0.2222222222222222,\"#7201a8\"],[0.3333333333333333,\"#9c179e\"],[0.4444444444444444,\"#bd3786\"],[0.5555555555555556,\"#d8576b\"],[0.6666666666666666,\"#ed7953\"],[0.7777777777777778,\"#fb9f3a\"],[0.8888888888888888,\"#fdca26\"],[1.0,\"#f0f921\"]],\"diverging\":[[0,\"#8e0152\"],[0.1,\"#c51b7d\"],[0.2,\"#de77ae\"],[0.3,\"#f1b6da\"],[0.4,\"#fde0ef\"],[0.5,\"#f7f7f7\"],[0.6,\"#e6f5d0\"],[0.7,\"#b8e186\"],[0.8,\"#7fbc41\"],[0.9,\"#4d9221\"],[1,\"#276419\"]]},\"xaxis\":{\"gridcolor\":\"white\",\"linecolor\":\"white\",\"ticks\":\"\",\"title\":{\"standoff\":15},\"zerolinecolor\":\"white\",\"automargin\":true,\"zerolinewidth\":2},\"yaxis\":{\"gridcolor\":\"white\",\"linecolor\":\"white\",\"ticks\":\"\",\"title\":{\"standoff\":15},\"zerolinecolor\":\"white\",\"automargin\":true,\"zerolinewidth\":2},\"scene\":{\"xaxis\":{\"backgroundcolor\":\"#E5ECF6\",\"gridcolor\":\"white\",\"linecolor\":\"white\",\"showbackground\":true,\"ticks\":\"\",\"zerolinecolor\":\"white\",\"gridwidth\":2},\"yaxis\":{\"backgroundcolor\":\"#E5ECF6\",\"gridcolor\":\"white\",\"linecolor\":\"white\",\"showbackground\":true,\"ticks\":\"\",\"zerolinecolor\":\"white\",\"gridwidth\":2},\"zaxis\":{\"backgroundcolor\":\"#E5ECF6\",\"gridcolor\":\"white\",\"linecolor\":\"white\",\"showbackground\":true,\"ticks\":\"\",\"zerolinecolor\":\"white\",\"gridwidth\":2}},\"shapedefaults\":{\"line\":{\"color\":\"#2a3f5f\"}},\"annotationdefaults\":{\"arrowcolor\":\"#2a3f5f\",\"arrowhead\":0,\"arrowwidth\":1},\"geo\":{\"bgcolor\":\"white\",\"landcolor\":\"#E5ECF6\",\"subunitcolor\":\"white\",\"showland\":true,\"showlakes\":true,\"lakecolor\":\"white\"},\"title\":{\"x\":0.05},\"mapbox\":{\"style\":\"light\"}}},\"title\":{\"text\":\"Average Percentage of Daily Smokers and TBL rate per Year\"},\"xaxis\":{\"title\":{\"text\":\"Year\"}},\"yaxis\":{\"title\":{\"text\":\"Percentage Daily Smokers\"}}},                        {\"responsive\": true}                    ).then(function(){\n",
       "                            \n",
       "var gd = document.getElementById('f121b156-ec0c-41d7-821d-fa05fb700732');\n",
       "var x = new MutationObserver(function (mutations, observer) {{\n",
       "        var display = window.getComputedStyle(gd).display;\n",
       "        if (!display || display === 'none') {{\n",
       "            console.log([gd, 'removed!']);\n",
       "            Plotly.purge(gd);\n",
       "            observer.disconnect();\n",
       "        }}\n",
       "}});\n",
       "\n",
       "// Listen for the removal of the full notebook cells\n",
       "var notebookContainer = gd.closest('#notebook-container');\n",
       "if (notebookContainer) {{\n",
       "    x.observe(notebookContainer, {childList: true});\n",
       "}}\n",
       "\n",
       "// Listen for the clearing of the current output cell\n",
       "var outputEl = gd.closest('.output');\n",
       "if (outputEl) {{\n",
       "    x.observe(outputEl, {childList: true});\n",
       "}}\n",
       "\n",
       "                        })                };                });            </script>        </div>"
      ]
     },
     "metadata": {},
     "output_type": "display_data"
    }
   ],
   "source": [
    "# Lees de CSV in\n",
    "df = pd.read_csv('datasets/norm.csv')\n",
    "\n",
    "\n",
    "# Bereken gemiddelden voor TBL rate en daily smokers\n",
    "gem_TBL = df.groupby('Year')['TBL rate'].mean().reset_index()\n",
    "gem_smokers = df.groupby('Year')['Percentage daily smokers'].mean().reset_index()\n",
    "\n",
    "\n",
    "# Voeg deze kolommen samen in een enkele dataframe\n",
    "merged_df =  gem_TBL.merge(gem_smokers, on='Year')\n",
    "\n",
    "\n",
    "# Maak de basis scatterplot\n",
    "fig = go.Figure()\n",
    "\n",
    "\n",
    "# Voeg de scatterplot voor de totale emissie toe\n",
    "fig.add_trace(go.Scatter(\n",
    "\n",
    "\n",
    "   x=merged_df['Year'],\n",
    "   y=merged_df['Percentage daily smokers'],\n",
    "   mode='markers',\n",
    "   marker=dict(\n",
    "       size=15,\n",
    "       color=merged_df['TBL rate'],\n",
    "       colorscale='armyrose',\n",
    "       showscale=True,\n",
    "       colorbar=dict(title='TBL rate')\n",
    "   ),\n",
    "   name='Average percentage daily smokers per year'\n",
    "))\n",
    "\n",
    "\n",
    "fig.update_layout(\n",
    "   title='Average Percentage of Daily Smokers and TBL rate per Year',\n",
    "   xaxis_title='Year',\n",
    "   yaxis_title='Percentage Daily Smokers'\n",
    ")\n",
    "\n",
    "\n",
    "# Toon de figuur\n",
    "fig.show()\n"
   ]
  },
  {
   "cell_type": "markdown",
   "id": "311eec82-1fc6-42b5-aff6-0eddcea42b33",
   "metadata": {},
   "source": [
    "> *Figure 3: De gemiddelde percentage dagelijkse rokers, de kleur van elk punt correspondeert met de hoeveelheid longkanker-doden.*"
   ]
  },
  {
   "cell_type": "markdown",
   "id": "9b44e18c-5de4-4d29-8f28-94f1014592c5",
   "metadata": {},
   "source": [
    "Bovenstaande grafiek toont het gemiddelde percentage rokers van de 183 betreffende landen per jaar van de jaren 1990 tot 2012. De TBL rate wordt wederom weergegeven met een kleurschakering, waarbij een roze kleur een hoge TBL rate inhoudt en een groene kleur een lage TBL rate. De lijn in de grafiek geeft een sterke afname in wereldwijd rookgedrag weer, die gepaard gaat met een afname aan TBL rate. De grafiek toont een sterke correlatie tussen de TBL rate en het rookgedrag. In de volgende grafieken zal dit verband vergeleken worden met het verband tussen luchtvervuiling en TBL rate."
   ]
  },
  {
   "cell_type": "code",
   "execution_count": 6,
   "id": "099e7d36-6632-4989-94a8-c5535c3c6d07",
   "metadata": {
    "editable": true,
    "scrolled": true,
    "slideshow": {
     "slide_type": ""
    },
    "tags": [
     "hide-input"
    ]
   },
   "outputs": [
    {
     "data": {
      "application/vnd.plotly.v1+json": {
       "config": {
        "plotlyServerURL": "https://plot.ly"
       },
       "data": [
        {
         "hovertemplate": "<b>%{hovertext}</b><br><br>Percentage daily smokers=%{x}<br>Mean Air Pollution=%{y}<br>TBL rate=%{marker.color}<extra></extra>",
         "hovertext": [
          "AFG",
          "ALB",
          "DZA",
          "AGO",
          "ATG",
          "ARG",
          "ARM",
          "AUS",
          "AUT",
          "AZE",
          "BHS",
          "BHR",
          "BGD",
          "BRB",
          "BLR",
          "BEL",
          "BLZ",
          "BEN",
          "BTN",
          "BOL",
          "BIH",
          "BWA",
          "BRA",
          "BRN",
          "BGR",
          "BFA",
          "BDI",
          "CPV",
          "KHM",
          "CMR",
          "CAN",
          "CAF",
          "TCD",
          "CHL",
          "CHN",
          "COL",
          "COM",
          "COD",
          "COG",
          "CRI",
          "CIV",
          "HRV",
          "CUB",
          "CYP",
          "CZE",
          "DNK",
          "DJI",
          "DMA",
          "DOM",
          "ECU",
          "EGY",
          "SLV",
          "GNQ",
          "ERI",
          "EST",
          "SWZ",
          "ETH",
          "FJI",
          "FIN",
          "FRA",
          "GAB",
          "GMB",
          "GEO",
          "DEU",
          "GHA",
          "GRC",
          "GRD",
          "GTM",
          "GIN",
          "GNB",
          "GUY",
          "HTI",
          "HND",
          "HUN",
          "ISL",
          "IND",
          "IDN",
          "IRN",
          "IRQ",
          "IRL",
          "ISR",
          "ITA",
          "JAM",
          "JPN",
          "JOR",
          "KAZ",
          "KEN",
          "KIR",
          "PRK",
          "KOR",
          "KWT",
          "KGZ",
          "LAO",
          "LVA",
          "LBN",
          "LSO",
          "LBR",
          "LBY",
          "LTU",
          "LUX",
          "MDG",
          "MWI",
          "MYS",
          "MDV",
          "MLI",
          "MLT",
          "MHL",
          "MRT",
          "MUS",
          "MEX",
          "MDA",
          "MNG",
          "MNE",
          "MAR",
          "MOZ",
          "MMR",
          "NAM",
          "NPL",
          "NLD",
          "NZL",
          "NIC",
          "NER",
          "NGA",
          "MKD",
          "NOR",
          "OMN",
          "PAK",
          "PAN",
          "PNG",
          "PRY",
          "PER",
          "PHL",
          "POL",
          "PRT",
          "QAT",
          "ROU",
          "RUS",
          "RWA",
          "WSM",
          "STP",
          "SAU",
          "SEN",
          "SRB",
          "SYC",
          "SLE",
          "SGP",
          "SVK",
          "SVN",
          "SLB",
          "SOM",
          "ZAF",
          "ESP",
          "LKA",
          "LCA",
          "VCT",
          "SDN",
          "SUR",
          "SWE",
          "CHE",
          "SYR",
          "TJK",
          "TZA",
          "THA",
          "TGO",
          "TON",
          "TTO",
          "TUN",
          "TUR",
          "TKM",
          "UGA",
          "UKR",
          "ARE",
          "GBR",
          "USA",
          "URY",
          "UZB",
          "VUT",
          "VEN",
          "VNM",
          "YEM",
          "ZMB",
          "ZWE"
         ],
         "legendgroup": "",
         "marker": {
          "color": [
           12.4656480645603,
           24.519077627445824,
           10.70564602152516,
           14.751931804872283,
           9.709177093321747,
           26.74079335836103,
           33.00547304339461,
           25.13735328262124,
           27.07354336298617,
           24.41787750258918,
           14.774077665760244,
           24.076714601806657,
           7.327097161791721,
           9.275432163832908,
           23.21071605492568,
           39.44045482354782,
           12.873288103893554,
           11.501063340226802,
           7.894038539151891,
           13.823643235215831,
           39.613379993125314,
           22.95079046142797,
           16.72143482113227,
           45.636401152957866,
           35.67353517181544,
           9.874358770479237,
           7.805522578464316,
           14.036574052406642,
           25.27469039747792,
           14.992560114832903,
           36.87470580734707,
           14.273178438695336,
           12.566488020342618,
           17.346766302300285,
           39.67839555238313,
           12.403342190448274,
           7.740894930435267,
           11.866044890467096,
           16.45768127374896,
           9.495953920735252,
           13.834198477974368,
           38.74053923921196,
           33.20859269656085,
           25.42584932742521,
           33.265777784794075,
           41.762551793102894,
           11.154297088054324,
           17.453251406375966,
           14.769010958959765,
           11.365180328374803,
           9.198570865315167,
           9.51981480560426,
           16.825509117566316,
           8.507867523315733,
           30.60801360537992,
           19.795213919654262,
           5.845943647497182,
           10.219168924326272,
           21.76311243172715,
           35.157422942908575,
           19.934167099385,
           7.083317664686819,
           29.862345275008245,
           30.75626695312442,
           8.967940671513595,
           39.41265569488427,
           13.996068572260748,
           8.777565450178722,
           10.745249188188804,
           13.96126677343533,
           8.760592499400213,
           12.141603909612211,
           23.70438527199243,
           52.77757743344824,
           30.2735320711598,
           7.445044095307861,
           23.367349137160268,
           11.694515430689528,
           17.89923037389178,
           32.28402173198186,
           23.24452631876664,
           28.28913386107597,
           18.521138400922503,
           23.64165565813435,
           16.148892123390013,
           25.253374422011834,
           6.25838862349619,
           19.74059641375708,
           29.20481064672419,
           27.85146650932774,
           10.670083189017204,
           13.28195583799007,
           23.19415251914127,
           27.841168108202925,
           29.36193602465973,
           18.909492802617088,
           10.334925927470458,
           19.8004644618998,
           27.056581577392688,
           33.7633913799651,
           6.734565829235897,
           6.515218088201526,
           21.78519975804357,
           10.405406101064829,
           7.445606658658395,
           23.03537057954716,
           32.052214669565686,
           11.637112468531903,
           12.13175375887298,
           9.52656477534982,
           19.48773705023852,
           32.46720584098653,
           53.56514497935203,
           15.263649157786046,
           8.771986813623592,
           23.526046773025893,
           7.770620871259793,
           7.858766749931033,
           41.68556873940827,
           26.648660751468096,
           9.596485930258147,
           9.359340054249891,
           8.74365773941341,
           40.16248295533778,
           28.52583805554893,
           12.002548558731387,
           17.79565634298669,
           11.05607601965565,
           22.472977235569893,
           15.832942614549816,
           11.950144838956184,
           18.01442366566589,
           46.504251663160304,
           22.640218903256653,
           23.009987682440062,
           30.916506075324257,
           24.76852946553233,
           8.1447699842685,
           11.466471108027344,
           18.688635414155645,
           9.604236161168975,
           12.287456486346226,
           47.91982669161624,
           17.386004978017265,
           10.982584352533644,
           24.633437440685373,
           29.5052732912334,
           32.677750881339506,
           33.329734323655,
           6.173319272531983,
           22.358457186962337,
           29.08703034595809,
           10.677329866392364,
           10.508151955289078,
           9.79055760884077,
           8.512540884679135,
           14.321108074516362,
           21.31350298313379,
           25.56646262019212,
           12.280372853841495,
           13.249024501824264,
           9.229368768102187,
           24.34916776103923,
           11.705806480717168,
           29.724356870458017,
           10.298603060988576,
           20.41362820447618,
           36.83103423093981,
           8.70712997134844,
           7.543744763251726,
           20.15581546277175,
           24.384173026202355,
           33.78223132272941,
           38.59254893354976,
           35.132015461573346,
           12.685557761980707,
           26.154260331763005,
           20.187540239608133,
           25.824967303827115,
           10.915468231253984,
           11.421524917871112,
           14.589155683787649
          ],
          "coloraxis": "coloraxis",
          "size": [
           12.4656480645603,
           24.519077627445824,
           10.70564602152516,
           14.751931804872283,
           9.709177093321747,
           26.74079335836103,
           33.00547304339461,
           25.13735328262124,
           27.07354336298617,
           24.41787750258918,
           14.774077665760244,
           24.076714601806657,
           7.327097161791721,
           9.275432163832908,
           23.21071605492568,
           39.44045482354782,
           12.873288103893554,
           11.501063340226802,
           7.894038539151891,
           13.823643235215831,
           39.613379993125314,
           22.95079046142797,
           16.72143482113227,
           45.636401152957866,
           35.67353517181544,
           9.874358770479237,
           7.805522578464316,
           14.036574052406642,
           25.27469039747792,
           14.992560114832903,
           36.87470580734707,
           14.273178438695336,
           12.566488020342618,
           17.346766302300285,
           39.67839555238313,
           12.403342190448274,
           7.740894930435267,
           11.866044890467096,
           16.45768127374896,
           9.495953920735252,
           13.834198477974368,
           38.74053923921196,
           33.20859269656085,
           25.42584932742521,
           33.265777784794075,
           41.762551793102894,
           11.154297088054324,
           17.453251406375966,
           14.769010958959765,
           11.365180328374803,
           9.198570865315167,
           9.51981480560426,
           16.825509117566316,
           8.507867523315733,
           30.60801360537992,
           19.795213919654262,
           5.845943647497182,
           10.219168924326272,
           21.76311243172715,
           35.157422942908575,
           19.934167099385,
           7.083317664686819,
           29.862345275008245,
           30.75626695312442,
           8.967940671513595,
           39.41265569488427,
           13.996068572260748,
           8.777565450178722,
           10.745249188188804,
           13.96126677343533,
           8.760592499400213,
           12.141603909612211,
           23.70438527199243,
           52.77757743344824,
           30.2735320711598,
           7.445044095307861,
           23.367349137160268,
           11.694515430689528,
           17.89923037389178,
           32.28402173198186,
           23.24452631876664,
           28.28913386107597,
           18.521138400922503,
           23.64165565813435,
           16.148892123390013,
           25.253374422011834,
           6.25838862349619,
           19.74059641375708,
           29.20481064672419,
           27.85146650932774,
           10.670083189017204,
           13.28195583799007,
           23.19415251914127,
           27.841168108202925,
           29.36193602465973,
           18.909492802617088,
           10.334925927470458,
           19.8004644618998,
           27.056581577392688,
           33.7633913799651,
           6.734565829235897,
           6.515218088201526,
           21.78519975804357,
           10.405406101064829,
           7.445606658658395,
           23.03537057954716,
           32.052214669565686,
           11.637112468531903,
           12.13175375887298,
           9.52656477534982,
           19.48773705023852,
           32.46720584098653,
           53.56514497935203,
           15.263649157786046,
           8.771986813623592,
           23.526046773025893,
           7.770620871259793,
           7.858766749931033,
           41.68556873940827,
           26.648660751468096,
           9.596485930258147,
           9.359340054249891,
           8.74365773941341,
           40.16248295533778,
           28.52583805554893,
           12.002548558731387,
           17.79565634298669,
           11.05607601965565,
           22.472977235569893,
           15.832942614549816,
           11.950144838956184,
           18.01442366566589,
           46.504251663160304,
           22.640218903256653,
           23.009987682440062,
           30.916506075324257,
           24.76852946553233,
           8.1447699842685,
           11.466471108027344,
           18.688635414155645,
           9.604236161168975,
           12.287456486346226,
           47.91982669161624,
           17.386004978017265,
           10.982584352533644,
           24.633437440685373,
           29.5052732912334,
           32.677750881339506,
           33.329734323655,
           6.173319272531983,
           22.358457186962337,
           29.08703034595809,
           10.677329866392364,
           10.508151955289078,
           9.79055760884077,
           8.512540884679135,
           14.321108074516362,
           21.31350298313379,
           25.56646262019212,
           12.280372853841495,
           13.249024501824264,
           9.229368768102187,
           24.34916776103923,
           11.705806480717168,
           29.724356870458017,
           10.298603060988576,
           20.41362820447618,
           36.83103423093981,
           8.70712997134844,
           7.543744763251726,
           20.15581546277175,
           24.384173026202355,
           33.78223132272941,
           38.59254893354976,
           35.132015461573346,
           12.685557761980707,
           26.154260331763005,
           20.187540239608133,
           25.824967303827115,
           10.915468231253984,
           11.421524917871112,
           14.589155683787649
          ],
          "sizemode": "area",
          "sizeref": 0.04372664896273635,
          "symbol": "circle"
         },
         "mode": "markers",
         "name": "",
         "orientation": "v",
         "showlegend": false,
         "textposition": "top center",
         "type": "scatter",
         "x": [
          11.9,
          20.5,
          11.2,
          8.6999998,
          3.4000001,
          19.299999,
          26.700001,
          16.299999,
          29.299999,
          22.4,
          10.1,
          19,
          22.4,
          6,
          26.9,
          26.1,
          8.8999996,
          7.6999998,
          11,
          24.4,
          31.200001,
          13.5,
          13.8,
          11.5,
          32.299999,
          10.5,
          13.9,
          6.5999999,
          19.5,
          7,
          14.5,
          8.3999996,
          7,
          28.6,
          24.9,
          11.3,
          10.4,
          8,
          8.6999998,
          12.1,
          10.3,
          27.9,
          16.6,
          31.6,
          23.6,
          18.700001,
          21.5,
          5.5,
          11.1,
          6.4000001,
          18.4,
          9.1999998,
          9.1999998,
          5.9000001,
          26.299999,
          7.3000002,
          3.7,
          14.3,
          16.5,
          27.299999,
          10.9,
          12.1,
          22.700001,
          22.299999,
          3.9000001,
          35.5,
          9.3999996,
          6.3000002,
          6.3000002,
          6.5999999,
          15.3,
          7.0999999,
          11.3,
          26.6,
          14.4,
          12.6,
          30.200001,
          12.1,
          16.5,
          24.299999,
          19.4,
          22.299999,
          14.7,
          21.299999,
          25.799999,
          24.4,
          9.5,
          41.099998,
          24,
          24,
          24.4,
          18.1,
          27.299999,
          29.1,
          27,
          16.700001,
          6.3000002,
          15.4,
          25.799999,
          25.299999,
          13.6,
          9.6999998,
          19.1,
          20.200001,
          10.3,
          22.1,
          17.700001,
          13,
          18.299999,
          9.8999996,
          20.9,
          25.4,
          26.5,
          13.5,
          11,
          17.5,
          14.6,
          23.799999,
          20.799999,
          16.799999,
          10.9,
          5,
          4,
          36.900002,
          16.9,
          9.1000004,
          15.4,
          8.3999996,
          37.900002,
          11.7,
          11,
          22.9,
          27.200001,
          21.6,
          18.1,
          26.4,
          31.9,
          7.5999999,
          22.4,
          3.3,
          15,
          7,
          26.5,
          15.7,
          17.6,
          13.1,
          22.4,
          22.200001,
          26.799999,
          9.6000004,
          14.9,
          24.700001,
          12,
          10.3,
          9,
          5.5999999,
          6.0999999,
          13.6,
          19.799999,
          17.1,
          15.7,
          9.3000002,
          19.700001,
          6.1999998,
          33.5,
          17.6,
          24.5,
          26.5,
          19.5,
          7.8000002,
          26.5,
          15.8,
          20.1,
          15.3,
          22.200001,
          11.2,
          16.299999,
          16.6,
          20.700001,
          14.3,
          11.4,
          11.3
         ],
         "xaxis": "x",
         "y": [
          8.189561659371433,
          8.346982079867084,
          12.18139366528992,
          14.692842825525645,
          27.348710502905057,
          10.515260854035208,
          5.998088164487435,
          37.87299866392688,
          16.660345349970466,
          8.005386149862591,
          27.684389042736445,
          38.845022485051814,
          5.412727714137323,
          21.79986731960321,
          23.723104357013085,
          10.833644700444731,
          10.369007683854607,
          12.648387856609563,
          81.98359179577776,
          9.090838071204823,
          20.80657000149476,
          21.621013623656804,
          15.197031052668232,
          36.07625677471238,
          20.209007001319637,
          12.760797735340564,
          8.637687156851166,
          10.920796121748156,
          22.337064670485955,
          10.53232991656435,
          34.83117611401048,
          9.941633236359923,
          11.054121252720178,
          24.48872514685237,
          32.19998522453785,
          9.3222489803494,
          10.331461497579383,
          12.35619136373589,
          17.612777741211616,
          12.854154375914188,
          15.558074021405616,
          17.14474150924587,
          11.230066274231197,
          8.221254083849592,
          21.606651327320325,
          16.23327370958599,
          12.27730306245631,
          11.45612530523095,
          12.88509437999049,
          11.547872614144959,
          10.32794639600706,
          8.434531516797682,
          21.801228676355784,
          null,
          28.564151972292088,
          13.702320100976623,
          15.440021925074143,
          7.918040669918485,
          20.13567383349486,
          14.765331546164829,
          46.40389616921409,
          7.931609258799182,
          9.561442240051173,
          12.326159317902519,
          7.9526638811323815,
          16.232087956143406,
          13.049988047151926,
          19.884767798826044,
          16.07832947667931,
          22.037649606986403,
          22.224932746043574,
          20.565082457326866,
          15.673679553769814,
          13.972838285250363,
          68.67789504465901,
          9.948296827677453,
          24.120821961990764,
          14.557956728670147,
          11.511408818803568,
          17.706591982894164,
          19.415254513440544,
          12.235800048274617,
          13.490061032653355,
          10.471859485584892,
          7.0111721279415695,
          46.19655020714985,
          16.356909313018555,
          4.8418011523120095,
          22.405400370189017,
          10.758392280551098,
          56.06606975155801,
          28.93670161323197,
          15.361520002234453,
          19.579071255364994,
          12.395649298571247,
          19.780116611709524,
          23.851326924473916,
          55.91314422077147,
          16.075768664965032,
          22.160708506272634,
          11.111053897157452,
          7.496639026070167,
          31.576077025429388,
          62.9373857132428,
          6.987824306274291,
          11.514594899115568,
          6.405054770678481,
          12.77942601518438,
          14.634022327393362,
          14.520609324121148,
          13.391551046187276,
          49.98336891824581,
          22.04825400815385,
          7.125470530335798,
          10.936827801171574,
          12.540047192981804,
          31.15548592871619,
          15.177673347972553,
          11.811997131698316,
          43.51223513207828,
          11.94523103499377,
          5.3663230219252585,
          24.24830868278269,
          16.03990334192703,
          24.837215393983218,
          42.30822947927044,
          13.020596679028566,
          13.26965915607451,
          9.223294888778321,
          19.73302473667528,
          12.929371718999516,
          8.663952474691907,
          21.980217596804543,
          9.8945617602261,
          71.12666543893458,
          13.48653100152347,
          23.51222909834004,
          7.04622051700806,
          9.57620561401494,
          12.143916659336925,
          40.41939013165258,
          9.678387972354257,
          27.748844082968663,
          41.0384808637791,
          13.516130752942018,
          23.216327736484885,
          18.704041296219884,
          16.63254993207345,
          3.699009900710298,
          18.01476114041603,
          33.849841225767925,
          10.440250411573198,
          20.85244350410911,
          14.67040074499281,
          11.197945805584647,
          13.583123496256643,
          23.381937490679565,
          11.46267897748018,
          8.195411947977373,
          7.272424052232199,
          17.294047283893203,
          13.93257472286257,
          35.722512124780245,
          17.066193878441304,
          8.687060947579045,
          29.156201794423648,
          12.663182469352227,
          12.306432901327314,
          36.298676268396456,
          16.01166859688289,
          17.064326234299735,
          37.756759843373395,
          10.02001380102989,
          30.269120845677385,
          22.850497665859514,
          10.32615932617316,
          7.901965447327874,
          24.642106721314114,
          20.067777998811355,
          4.313603301891215,
          25.968925024151936,
          22.431234078300204
         ],
         "yaxis": "y"
        }
       ],
       "layout": {
        "autosize": true,
        "coloraxis": {
         "colorbar": {
          "title": {
           "text": "TBL rate"
          }
         },
         "colorscale": [
          [
           0,
           "rgb(121, 130, 52)"
          ],
          [
           0.16666666666666666,
           "rgb(163, 173, 98)"
          ],
          [
           0.3333333333333333,
           "rgb(208, 211, 162)"
          ],
          [
           0.5,
           "rgb(253, 251, 228)"
          ],
          [
           0.6666666666666666,
           "rgb(240, 198, 195)"
          ],
          [
           0.8333333333333334,
           "rgb(223, 145, 163)"
          ],
          [
           1,
           "rgb(212, 103, 128)"
          ]
         ]
        },
        "legend": {
         "itemsizing": "constant",
         "tracegroupgap": 0
        },
        "margin": {
         "t": 60
        },
        "template": {
         "data": {
          "bar": [
           {
            "error_x": {
             "color": "#2a3f5f"
            },
            "error_y": {
             "color": "#2a3f5f"
            },
            "marker": {
             "line": {
              "color": "#E5ECF6",
              "width": 0.5
             },
             "pattern": {
              "fillmode": "overlay",
              "size": 10,
              "solidity": 0.2
             }
            },
            "type": "bar"
           }
          ],
          "barpolar": [
           {
            "marker": {
             "line": {
              "color": "#E5ECF6",
              "width": 0.5
             },
             "pattern": {
              "fillmode": "overlay",
              "size": 10,
              "solidity": 0.2
             }
            },
            "type": "barpolar"
           }
          ],
          "carpet": [
           {
            "aaxis": {
             "endlinecolor": "#2a3f5f",
             "gridcolor": "white",
             "linecolor": "white",
             "minorgridcolor": "white",
             "startlinecolor": "#2a3f5f"
            },
            "baxis": {
             "endlinecolor": "#2a3f5f",
             "gridcolor": "white",
             "linecolor": "white",
             "minorgridcolor": "white",
             "startlinecolor": "#2a3f5f"
            },
            "type": "carpet"
           }
          ],
          "choropleth": [
           {
            "colorbar": {
             "outlinewidth": 0,
             "ticks": ""
            },
            "type": "choropleth"
           }
          ],
          "contour": [
           {
            "colorbar": {
             "outlinewidth": 0,
             "ticks": ""
            },
            "colorscale": [
             [
              0,
              "#0d0887"
             ],
             [
              0.1111111111111111,
              "#46039f"
             ],
             [
              0.2222222222222222,
              "#7201a8"
             ],
             [
              0.3333333333333333,
              "#9c179e"
             ],
             [
              0.4444444444444444,
              "#bd3786"
             ],
             [
              0.5555555555555556,
              "#d8576b"
             ],
             [
              0.6666666666666666,
              "#ed7953"
             ],
             [
              0.7777777777777778,
              "#fb9f3a"
             ],
             [
              0.8888888888888888,
              "#fdca26"
             ],
             [
              1,
              "#f0f921"
             ]
            ],
            "type": "contour"
           }
          ],
          "contourcarpet": [
           {
            "colorbar": {
             "outlinewidth": 0,
             "ticks": ""
            },
            "type": "contourcarpet"
           }
          ],
          "heatmap": [
           {
            "colorbar": {
             "outlinewidth": 0,
             "ticks": ""
            },
            "colorscale": [
             [
              0,
              "#0d0887"
             ],
             [
              0.1111111111111111,
              "#46039f"
             ],
             [
              0.2222222222222222,
              "#7201a8"
             ],
             [
              0.3333333333333333,
              "#9c179e"
             ],
             [
              0.4444444444444444,
              "#bd3786"
             ],
             [
              0.5555555555555556,
              "#d8576b"
             ],
             [
              0.6666666666666666,
              "#ed7953"
             ],
             [
              0.7777777777777778,
              "#fb9f3a"
             ],
             [
              0.8888888888888888,
              "#fdca26"
             ],
             [
              1,
              "#f0f921"
             ]
            ],
            "type": "heatmap"
           }
          ],
          "heatmapgl": [
           {
            "colorbar": {
             "outlinewidth": 0,
             "ticks": ""
            },
            "colorscale": [
             [
              0,
              "#0d0887"
             ],
             [
              0.1111111111111111,
              "#46039f"
             ],
             [
              0.2222222222222222,
              "#7201a8"
             ],
             [
              0.3333333333333333,
              "#9c179e"
             ],
             [
              0.4444444444444444,
              "#bd3786"
             ],
             [
              0.5555555555555556,
              "#d8576b"
             ],
             [
              0.6666666666666666,
              "#ed7953"
             ],
             [
              0.7777777777777778,
              "#fb9f3a"
             ],
             [
              0.8888888888888888,
              "#fdca26"
             ],
             [
              1,
              "#f0f921"
             ]
            ],
            "type": "heatmapgl"
           }
          ],
          "histogram": [
           {
            "marker": {
             "pattern": {
              "fillmode": "overlay",
              "size": 10,
              "solidity": 0.2
             }
            },
            "type": "histogram"
           }
          ],
          "histogram2d": [
           {
            "colorbar": {
             "outlinewidth": 0,
             "ticks": ""
            },
            "colorscale": [
             [
              0,
              "#0d0887"
             ],
             [
              0.1111111111111111,
              "#46039f"
             ],
             [
              0.2222222222222222,
              "#7201a8"
             ],
             [
              0.3333333333333333,
              "#9c179e"
             ],
             [
              0.4444444444444444,
              "#bd3786"
             ],
             [
              0.5555555555555556,
              "#d8576b"
             ],
             [
              0.6666666666666666,
              "#ed7953"
             ],
             [
              0.7777777777777778,
              "#fb9f3a"
             ],
             [
              0.8888888888888888,
              "#fdca26"
             ],
             [
              1,
              "#f0f921"
             ]
            ],
            "type": "histogram2d"
           }
          ],
          "histogram2dcontour": [
           {
            "colorbar": {
             "outlinewidth": 0,
             "ticks": ""
            },
            "colorscale": [
             [
              0,
              "#0d0887"
             ],
             [
              0.1111111111111111,
              "#46039f"
             ],
             [
              0.2222222222222222,
              "#7201a8"
             ],
             [
              0.3333333333333333,
              "#9c179e"
             ],
             [
              0.4444444444444444,
              "#bd3786"
             ],
             [
              0.5555555555555556,
              "#d8576b"
             ],
             [
              0.6666666666666666,
              "#ed7953"
             ],
             [
              0.7777777777777778,
              "#fb9f3a"
             ],
             [
              0.8888888888888888,
              "#fdca26"
             ],
             [
              1,
              "#f0f921"
             ]
            ],
            "type": "histogram2dcontour"
           }
          ],
          "mesh3d": [
           {
            "colorbar": {
             "outlinewidth": 0,
             "ticks": ""
            },
            "type": "mesh3d"
           }
          ],
          "parcoords": [
           {
            "line": {
             "colorbar": {
              "outlinewidth": 0,
              "ticks": ""
             }
            },
            "type": "parcoords"
           }
          ],
          "pie": [
           {
            "automargin": true,
            "type": "pie"
           }
          ],
          "scatter": [
           {
            "fillpattern": {
             "fillmode": "overlay",
             "size": 10,
             "solidity": 0.2
            },
            "type": "scatter"
           }
          ],
          "scatter3d": [
           {
            "line": {
             "colorbar": {
              "outlinewidth": 0,
              "ticks": ""
             }
            },
            "marker": {
             "colorbar": {
              "outlinewidth": 0,
              "ticks": ""
             }
            },
            "type": "scatter3d"
           }
          ],
          "scattercarpet": [
           {
            "marker": {
             "colorbar": {
              "outlinewidth": 0,
              "ticks": ""
             }
            },
            "type": "scattercarpet"
           }
          ],
          "scattergeo": [
           {
            "marker": {
             "colorbar": {
              "outlinewidth": 0,
              "ticks": ""
             }
            },
            "type": "scattergeo"
           }
          ],
          "scattergl": [
           {
            "marker": {
             "colorbar": {
              "outlinewidth": 0,
              "ticks": ""
             }
            },
            "type": "scattergl"
           }
          ],
          "scattermapbox": [
           {
            "marker": {
             "colorbar": {
              "outlinewidth": 0,
              "ticks": ""
             }
            },
            "type": "scattermapbox"
           }
          ],
          "scatterpolar": [
           {
            "marker": {
             "colorbar": {
              "outlinewidth": 0,
              "ticks": ""
             }
            },
            "type": "scatterpolar"
           }
          ],
          "scatterpolargl": [
           {
            "marker": {
             "colorbar": {
              "outlinewidth": 0,
              "ticks": ""
             }
            },
            "type": "scatterpolargl"
           }
          ],
          "scatterternary": [
           {
            "marker": {
             "colorbar": {
              "outlinewidth": 0,
              "ticks": ""
             }
            },
            "type": "scatterternary"
           }
          ],
          "surface": [
           {
            "colorbar": {
             "outlinewidth": 0,
             "ticks": ""
            },
            "colorscale": [
             [
              0,
              "#0d0887"
             ],
             [
              0.1111111111111111,
              "#46039f"
             ],
             [
              0.2222222222222222,
              "#7201a8"
             ],
             [
              0.3333333333333333,
              "#9c179e"
             ],
             [
              0.4444444444444444,
              "#bd3786"
             ],
             [
              0.5555555555555556,
              "#d8576b"
             ],
             [
              0.6666666666666666,
              "#ed7953"
             ],
             [
              0.7777777777777778,
              "#fb9f3a"
             ],
             [
              0.8888888888888888,
              "#fdca26"
             ],
             [
              1,
              "#f0f921"
             ]
            ],
            "type": "surface"
           }
          ],
          "table": [
           {
            "cells": {
             "fill": {
              "color": "#EBF0F8"
             },
             "line": {
              "color": "white"
             }
            },
            "header": {
             "fill": {
              "color": "#C8D4E3"
             },
             "line": {
              "color": "white"
             }
            },
            "type": "table"
           }
          ]
         },
         "layout": {
          "annotationdefaults": {
           "arrowcolor": "#2a3f5f",
           "arrowhead": 0,
           "arrowwidth": 1
          },
          "autotypenumbers": "strict",
          "coloraxis": {
           "colorbar": {
            "outlinewidth": 0,
            "ticks": ""
           }
          },
          "colorscale": {
           "diverging": [
            [
             0,
             "#8e0152"
            ],
            [
             0.1,
             "#c51b7d"
            ],
            [
             0.2,
             "#de77ae"
            ],
            [
             0.3,
             "#f1b6da"
            ],
            [
             0.4,
             "#fde0ef"
            ],
            [
             0.5,
             "#f7f7f7"
            ],
            [
             0.6,
             "#e6f5d0"
            ],
            [
             0.7,
             "#b8e186"
            ],
            [
             0.8,
             "#7fbc41"
            ],
            [
             0.9,
             "#4d9221"
            ],
            [
             1,
             "#276419"
            ]
           ],
           "sequential": [
            [
             0,
             "#0d0887"
            ],
            [
             0.1111111111111111,
             "#46039f"
            ],
            [
             0.2222222222222222,
             "#7201a8"
            ],
            [
             0.3333333333333333,
             "#9c179e"
            ],
            [
             0.4444444444444444,
             "#bd3786"
            ],
            [
             0.5555555555555556,
             "#d8576b"
            ],
            [
             0.6666666666666666,
             "#ed7953"
            ],
            [
             0.7777777777777778,
             "#fb9f3a"
            ],
            [
             0.8888888888888888,
             "#fdca26"
            ],
            [
             1,
             "#f0f921"
            ]
           ],
           "sequentialminus": [
            [
             0,
             "#0d0887"
            ],
            [
             0.1111111111111111,
             "#46039f"
            ],
            [
             0.2222222222222222,
             "#7201a8"
            ],
            [
             0.3333333333333333,
             "#9c179e"
            ],
            [
             0.4444444444444444,
             "#bd3786"
            ],
            [
             0.5555555555555556,
             "#d8576b"
            ],
            [
             0.6666666666666666,
             "#ed7953"
            ],
            [
             0.7777777777777778,
             "#fb9f3a"
            ],
            [
             0.8888888888888888,
             "#fdca26"
            ],
            [
             1,
             "#f0f921"
            ]
           ]
          },
          "colorway": [
           "#636efa",
           "#EF553B",
           "#00cc96",
           "#ab63fa",
           "#FFA15A",
           "#19d3f3",
           "#FF6692",
           "#B6E880",
           "#FF97FF",
           "#FECB52"
          ],
          "font": {
           "color": "#2a3f5f"
          },
          "geo": {
           "bgcolor": "white",
           "lakecolor": "white",
           "landcolor": "#E5ECF6",
           "showlakes": true,
           "showland": true,
           "subunitcolor": "white"
          },
          "hoverlabel": {
           "align": "left"
          },
          "hovermode": "closest",
          "mapbox": {
           "style": "light"
          },
          "paper_bgcolor": "white",
          "plot_bgcolor": "#E5ECF6",
          "polar": {
           "angularaxis": {
            "gridcolor": "white",
            "linecolor": "white",
            "ticks": ""
           },
           "bgcolor": "#E5ECF6",
           "radialaxis": {
            "gridcolor": "white",
            "linecolor": "white",
            "ticks": ""
           }
          },
          "scene": {
           "xaxis": {
            "backgroundcolor": "#E5ECF6",
            "gridcolor": "white",
            "gridwidth": 2,
            "linecolor": "white",
            "showbackground": true,
            "ticks": "",
            "zerolinecolor": "white"
           },
           "yaxis": {
            "backgroundcolor": "#E5ECF6",
            "gridcolor": "white",
            "gridwidth": 2,
            "linecolor": "white",
            "showbackground": true,
            "ticks": "",
            "zerolinecolor": "white"
           },
           "zaxis": {
            "backgroundcolor": "#E5ECF6",
            "gridcolor": "white",
            "gridwidth": 2,
            "linecolor": "white",
            "showbackground": true,
            "ticks": "",
            "zerolinecolor": "white"
           }
          },
          "shapedefaults": {
           "line": {
            "color": "#2a3f5f"
           }
          },
          "ternary": {
           "aaxis": {
            "gridcolor": "white",
            "linecolor": "white",
            "ticks": ""
           },
           "baxis": {
            "gridcolor": "white",
            "linecolor": "white",
            "ticks": ""
           },
           "bgcolor": "#E5ECF6",
           "caxis": {
            "gridcolor": "white",
            "linecolor": "white",
            "ticks": ""
           }
          },
          "title": {
           "x": 0.05
          },
          "xaxis": {
           "automargin": true,
           "gridcolor": "white",
           "linecolor": "white",
           "ticks": "",
           "title": {
            "standoff": 15
           },
           "zerolinecolor": "white",
           "zerolinewidth": 2
          },
          "yaxis": {
           "automargin": true,
           "gridcolor": "white",
           "linecolor": "white",
           "ticks": "",
           "title": {
            "standoff": 15
           },
           "zerolinecolor": "white",
           "zerolinewidth": 2
          }
         }
        },
        "title": {
         "text": "Bubble plot met de gemiddelde uitstoot, hoeveelheid rokers en de longkanker sterfte in 2012"
        },
        "xaxis": {
         "anchor": "y",
         "autorange": true,
         "domain": [
          0,
          1
         ],
         "range": [
          -0.3873062744361051,
          44.82690531460007
         ],
         "title": {
          "text": " Smokers"
         },
         "type": "linear"
        },
        "yaxis": {
         "anchor": "x",
         "autorange": true,
         "domain": [
          0,
          1
         ],
         "range": [
          -4.986768763995208,
          88.61307616624441
         ],
         "title": {
          "text": "Mean Air Pollution per country"
         },
         "type": "linear"
        }
       }
      },
      "text/html": [
       "<div>                            <div id=\"234ada60-3142-4733-9607-b5887a4d52ad\" class=\"plotly-graph-div\" style=\"height:650px; width:100%;\"></div>            <script type=\"text/javascript\">                require([\"plotly\"], function(Plotly) {                    window.PLOTLYENV=window.PLOTLYENV || {};                                    if (document.getElementById(\"234ada60-3142-4733-9607-b5887a4d52ad\")) {                    Plotly.newPlot(                        \"234ada60-3142-4733-9607-b5887a4d52ad\",                        [{\"hovertemplate\":\"\\u003cb\\u003e%{hovertext}\\u003c\\u002fb\\u003e\\u003cbr\\u003e\\u003cbr\\u003ePercentage daily smokers=%{x}\\u003cbr\\u003eMean Air Pollution=%{y}\\u003cbr\\u003eTBL rate=%{marker.color}\\u003cextra\\u003e\\u003c\\u002fextra\\u003e\",\"hovertext\":[\"AFG\",\"ALB\",\"DZA\",\"AGO\",\"ATG\",\"ARG\",\"ARM\",\"AUS\",\"AUT\",\"AZE\",\"BHS\",\"BHR\",\"BGD\",\"BRB\",\"BLR\",\"BEL\",\"BLZ\",\"BEN\",\"BTN\",\"BOL\",\"BIH\",\"BWA\",\"BRA\",\"BRN\",\"BGR\",\"BFA\",\"BDI\",\"CPV\",\"KHM\",\"CMR\",\"CAN\",\"CAF\",\"TCD\",\"CHL\",\"CHN\",\"COL\",\"COM\",\"COD\",\"COG\",\"CRI\",\"CIV\",\"HRV\",\"CUB\",\"CYP\",\"CZE\",\"DNK\",\"DJI\",\"DMA\",\"DOM\",\"ECU\",\"EGY\",\"SLV\",\"GNQ\",\"ERI\",\"EST\",\"SWZ\",\"ETH\",\"FJI\",\"FIN\",\"FRA\",\"GAB\",\"GMB\",\"GEO\",\"DEU\",\"GHA\",\"GRC\",\"GRD\",\"GTM\",\"GIN\",\"GNB\",\"GUY\",\"HTI\",\"HND\",\"HUN\",\"ISL\",\"IND\",\"IDN\",\"IRN\",\"IRQ\",\"IRL\",\"ISR\",\"ITA\",\"JAM\",\"JPN\",\"JOR\",\"KAZ\",\"KEN\",\"KIR\",\"PRK\",\"KOR\",\"KWT\",\"KGZ\",\"LAO\",\"LVA\",\"LBN\",\"LSO\",\"LBR\",\"LBY\",\"LTU\",\"LUX\",\"MDG\",\"MWI\",\"MYS\",\"MDV\",\"MLI\",\"MLT\",\"MHL\",\"MRT\",\"MUS\",\"MEX\",\"MDA\",\"MNG\",\"MNE\",\"MAR\",\"MOZ\",\"MMR\",\"NAM\",\"NPL\",\"NLD\",\"NZL\",\"NIC\",\"NER\",\"NGA\",\"MKD\",\"NOR\",\"OMN\",\"PAK\",\"PAN\",\"PNG\",\"PRY\",\"PER\",\"PHL\",\"POL\",\"PRT\",\"QAT\",\"ROU\",\"RUS\",\"RWA\",\"WSM\",\"STP\",\"SAU\",\"SEN\",\"SRB\",\"SYC\",\"SLE\",\"SGP\",\"SVK\",\"SVN\",\"SLB\",\"SOM\",\"ZAF\",\"ESP\",\"LKA\",\"LCA\",\"VCT\",\"SDN\",\"SUR\",\"SWE\",\"CHE\",\"SYR\",\"TJK\",\"TZA\",\"THA\",\"TGO\",\"TON\",\"TTO\",\"TUN\",\"TUR\",\"TKM\",\"UGA\",\"UKR\",\"ARE\",\"GBR\",\"USA\",\"URY\",\"UZB\",\"VUT\",\"VEN\",\"VNM\",\"YEM\",\"ZMB\",\"ZWE\"],\"legendgroup\":\"\",\"marker\":{\"color\":[12.4656480645603,24.519077627445824,10.70564602152516,14.751931804872283,9.709177093321747,26.74079335836103,33.00547304339461,25.13735328262124,27.07354336298617,24.41787750258918,14.774077665760244,24.076714601806657,7.327097161791721,9.275432163832908,23.21071605492568,39.44045482354782,12.873288103893554,11.501063340226802,7.894038539151891,13.823643235215831,39.613379993125314,22.95079046142797,16.72143482113227,45.636401152957866,35.67353517181544,9.874358770479237,7.805522578464316,14.036574052406642,25.27469039747792,14.992560114832903,36.87470580734707,14.273178438695336,12.566488020342618,17.346766302300285,39.67839555238313,12.403342190448274,7.740894930435267,11.866044890467096,16.45768127374896,9.495953920735252,13.834198477974368,38.74053923921196,33.20859269656085,25.42584932742521,33.265777784794075,41.762551793102894,11.154297088054324,17.453251406375966,14.769010958959765,11.365180328374803,9.198570865315167,9.51981480560426,16.825509117566316,8.507867523315733,30.60801360537992,19.795213919654262,5.845943647497182,10.219168924326272,21.76311243172715,35.157422942908575,19.934167099385,7.083317664686819,29.862345275008245,30.75626695312442,8.967940671513595,39.41265569488427,13.996068572260748,8.777565450178722,10.745249188188804,13.96126677343533,8.760592499400213,12.141603909612211,23.70438527199243,52.77757743344824,30.2735320711598,7.445044095307861,23.367349137160268,11.694515430689528,17.89923037389178,32.28402173198186,23.24452631876664,28.28913386107597,18.521138400922503,23.64165565813435,16.148892123390013,25.253374422011834,6.25838862349619,19.74059641375708,29.20481064672419,27.85146650932774,10.670083189017204,13.28195583799007,23.19415251914127,27.841168108202925,29.36193602465973,18.909492802617088,10.334925927470458,19.8004644618998,27.056581577392688,33.7633913799651,6.734565829235897,6.515218088201526,21.78519975804357,10.405406101064829,7.445606658658395,23.03537057954716,32.052214669565686,11.637112468531903,12.13175375887298,9.52656477534982,19.48773705023852,32.46720584098653,53.56514497935203,15.263649157786046,8.771986813623592,23.526046773025893,7.770620871259793,7.858766749931033,41.68556873940827,26.648660751468096,9.596485930258147,9.359340054249891,8.74365773941341,40.16248295533778,28.52583805554893,12.002548558731387,17.79565634298669,11.05607601965565,22.472977235569893,15.832942614549816,11.950144838956184,18.01442366566589,46.504251663160304,22.640218903256653,23.009987682440062,30.916506075324257,24.76852946553233,8.1447699842685,11.466471108027344,18.688635414155645,9.604236161168975,12.287456486346226,47.91982669161624,17.386004978017265,10.982584352533644,24.633437440685373,29.5052732912334,32.677750881339506,33.329734323655,6.173319272531983,22.358457186962337,29.08703034595809,10.677329866392364,10.508151955289078,9.79055760884077,8.512540884679135,14.321108074516362,21.31350298313379,25.56646262019212,12.280372853841495,13.249024501824264,9.229368768102187,24.34916776103923,11.705806480717168,29.724356870458017,10.298603060988576,20.41362820447618,36.83103423093981,8.70712997134844,7.543744763251726,20.15581546277175,24.384173026202355,33.78223132272941,38.59254893354976,35.132015461573346,12.685557761980707,26.154260331763005,20.187540239608133,25.824967303827115,10.915468231253984,11.421524917871112,14.589155683787649],\"coloraxis\":\"coloraxis\",\"size\":[12.4656480645603,24.519077627445824,10.70564602152516,14.751931804872283,9.709177093321747,26.74079335836103,33.00547304339461,25.13735328262124,27.07354336298617,24.41787750258918,14.774077665760244,24.076714601806657,7.327097161791721,9.275432163832908,23.21071605492568,39.44045482354782,12.873288103893554,11.501063340226802,7.894038539151891,13.823643235215831,39.613379993125314,22.95079046142797,16.72143482113227,45.636401152957866,35.67353517181544,9.874358770479237,7.805522578464316,14.036574052406642,25.27469039747792,14.992560114832903,36.87470580734707,14.273178438695336,12.566488020342618,17.346766302300285,39.67839555238313,12.403342190448274,7.740894930435267,11.866044890467096,16.45768127374896,9.495953920735252,13.834198477974368,38.74053923921196,33.20859269656085,25.42584932742521,33.265777784794075,41.762551793102894,11.154297088054324,17.453251406375966,14.769010958959765,11.365180328374803,9.198570865315167,9.51981480560426,16.825509117566316,8.507867523315733,30.60801360537992,19.795213919654262,5.845943647497182,10.219168924326272,21.76311243172715,35.157422942908575,19.934167099385,7.083317664686819,29.862345275008245,30.75626695312442,8.967940671513595,39.41265569488427,13.996068572260748,8.777565450178722,10.745249188188804,13.96126677343533,8.760592499400213,12.141603909612211,23.70438527199243,52.77757743344824,30.2735320711598,7.445044095307861,23.367349137160268,11.694515430689528,17.89923037389178,32.28402173198186,23.24452631876664,28.28913386107597,18.521138400922503,23.64165565813435,16.148892123390013,25.253374422011834,6.25838862349619,19.74059641375708,29.20481064672419,27.85146650932774,10.670083189017204,13.28195583799007,23.19415251914127,27.841168108202925,29.36193602465973,18.909492802617088,10.334925927470458,19.8004644618998,27.056581577392688,33.7633913799651,6.734565829235897,6.515218088201526,21.78519975804357,10.405406101064829,7.445606658658395,23.03537057954716,32.052214669565686,11.637112468531903,12.13175375887298,9.52656477534982,19.48773705023852,32.46720584098653,53.56514497935203,15.263649157786046,8.771986813623592,23.526046773025893,7.770620871259793,7.858766749931033,41.68556873940827,26.648660751468096,9.596485930258147,9.359340054249891,8.74365773941341,40.16248295533778,28.52583805554893,12.002548558731387,17.79565634298669,11.05607601965565,22.472977235569893,15.832942614549816,11.950144838956184,18.01442366566589,46.504251663160304,22.640218903256653,23.009987682440062,30.916506075324257,24.76852946553233,8.1447699842685,11.466471108027344,18.688635414155645,9.604236161168975,12.287456486346226,47.91982669161624,17.386004978017265,10.982584352533644,24.633437440685373,29.5052732912334,32.677750881339506,33.329734323655,6.173319272531983,22.358457186962337,29.08703034595809,10.677329866392364,10.508151955289078,9.79055760884077,8.512540884679135,14.321108074516362,21.31350298313379,25.56646262019212,12.280372853841495,13.249024501824264,9.229368768102187,24.34916776103923,11.705806480717168,29.724356870458017,10.298603060988576,20.41362820447618,36.83103423093981,8.70712997134844,7.543744763251726,20.15581546277175,24.384173026202355,33.78223132272941,38.59254893354976,35.132015461573346,12.685557761980707,26.154260331763005,20.187540239608133,25.824967303827115,10.915468231253984,11.421524917871112,14.589155683787649],\"sizemode\":\"area\",\"sizeref\":0.04372664896273635,\"symbol\":\"circle\"},\"mode\":\"markers\",\"name\":\"\",\"orientation\":\"v\",\"showlegend\":false,\"x\":[11.9,20.5,11.2,8.6999998,3.4000001,19.299999,26.700001,16.299999,29.299999,22.4,10.1,19.0,22.4,6.0,26.9,26.1,8.8999996,7.6999998,11.0,24.4,31.200001,13.5,13.8,11.5,32.299999,10.5,13.9,6.5999999,19.5,7.0,14.5,8.3999996,7.0,28.6,24.9,11.3,10.4,8.0,8.6999998,12.1,10.3,27.9,16.6,31.6,23.6,18.700001,21.5,5.5,11.1,6.4000001,18.4,9.1999998,9.1999998,5.9000001,26.299999,7.3000002,3.7,14.3,16.5,27.299999,10.9,12.1,22.700001,22.299999,3.9000001,35.5,9.3999996,6.3000002,6.3000002,6.5999999,15.3,7.0999999,11.3,26.6,14.4,12.6,30.200001,12.1,16.5,24.299999,19.4,22.299999,14.7,21.299999,25.799999,24.4,9.5,41.099998,24.0,24.0,24.4,18.1,27.299999,29.1,27.0,16.700001,6.3000002,15.4,25.799999,25.299999,13.6,9.6999998,19.1,20.200001,10.3,22.1,17.700001,13.0,18.299999,9.8999996,20.9,25.4,26.5,13.5,11.0,17.5,14.6,23.799999,20.799999,16.799999,10.9,5.0,4.0,36.900002,16.9,9.1000004,15.4,8.3999996,37.900002,11.7,11.0,22.9,27.200001,21.6,18.1,26.4,31.9,7.5999999,22.4,3.3,15.0,7.0,26.5,15.7,17.6,13.1,22.4,22.200001,26.799999,9.6000004,14.9,24.700001,12.0,10.3,9.0,5.5999999,6.0999999,13.6,19.799999,17.1,15.7,9.3000002,19.700001,6.1999998,33.5,17.6,24.5,26.5,19.5,7.8000002,26.5,15.8,20.1,15.3,22.200001,11.2,16.299999,16.6,20.700001,14.3,11.4,11.3],\"xaxis\":\"x\",\"y\":[8.189561659371433,8.346982079867084,12.18139366528992,14.692842825525645,27.348710502905057,10.515260854035208,5.998088164487435,37.87299866392688,16.660345349970466,8.005386149862591,27.684389042736445,38.845022485051814,5.412727714137323,21.79986731960321,23.723104357013085,10.833644700444731,10.369007683854607,12.648387856609563,81.98359179577776,9.090838071204823,20.80657000149476,21.621013623656804,15.197031052668232,36.07625677471238,20.209007001319637,12.760797735340564,8.637687156851166,10.920796121748156,22.337064670485955,10.53232991656435,34.83117611401048,9.941633236359923,11.054121252720178,24.48872514685237,32.19998522453785,9.3222489803494,10.331461497579383,12.35619136373589,17.612777741211616,12.854154375914188,15.558074021405616,17.14474150924587,11.230066274231197,8.221254083849592,21.606651327320325,16.23327370958599,12.27730306245631,11.45612530523095,12.88509437999049,11.547872614144959,10.32794639600706,8.434531516797682,21.801228676355784,null,28.564151972292088,13.702320100976623,15.440021925074143,7.918040669918485,20.13567383349486,14.765331546164829,46.40389616921409,7.931609258799182,9.561442240051173,12.326159317902519,7.9526638811323815,16.232087956143406,13.049988047151926,19.884767798826044,16.07832947667931,22.037649606986403,22.224932746043574,20.565082457326866,15.673679553769814,13.972838285250363,68.67789504465901,9.948296827677453,24.120821961990764,14.557956728670147,11.511408818803568,17.706591982894164,19.415254513440544,12.235800048274617,13.490061032653355,10.471859485584892,7.0111721279415695,46.19655020714985,16.356909313018555,4.8418011523120095,22.405400370189017,10.758392280551098,56.06606975155801,28.93670161323197,15.361520002234453,19.579071255364994,12.395649298571247,19.780116611709524,23.851326924473916,55.91314422077147,16.075768664965032,22.160708506272634,11.111053897157452,7.496639026070167,31.576077025429388,62.9373857132428,6.987824306274291,11.514594899115568,6.405054770678481,12.77942601518438,14.634022327393362,14.520609324121148,13.391551046187276,49.98336891824581,22.04825400815385,7.125470530335798,10.936827801171574,12.540047192981804,31.15548592871619,15.177673347972553,11.811997131698316,43.51223513207828,11.94523103499377,5.3663230219252585,24.24830868278269,16.03990334192703,24.837215393983218,42.30822947927044,13.020596679028566,13.26965915607451,9.223294888778321,19.73302473667528,12.929371718999516,8.663952474691907,21.980217596804543,9.8945617602261,71.12666543893458,13.48653100152347,23.51222909834004,7.04622051700806,9.57620561401494,12.143916659336925,40.41939013165258,9.678387972354257,27.748844082968663,41.0384808637791,13.516130752942018,23.216327736484885,18.704041296219884,16.63254993207345,3.699009900710298,18.01476114041603,33.849841225767925,10.440250411573198,20.85244350410911,14.67040074499281,11.197945805584647,13.583123496256643,23.381937490679565,11.46267897748018,8.195411947977373,7.272424052232199,17.294047283893203,13.93257472286257,35.722512124780245,17.066193878441304,8.687060947579045,29.156201794423648,12.663182469352227,12.306432901327314,36.298676268396456,16.01166859688289,17.064326234299735,37.756759843373395,10.02001380102989,30.269120845677385,22.850497665859514,10.32615932617316,7.901965447327874,24.642106721314114,20.067777998811355,4.313603301891215,25.968925024151936,22.431234078300204],\"yaxis\":\"y\",\"type\":\"scatter\",\"textposition\":\"top center\"}],                        {\"template\":{\"data\":{\"histogram2dcontour\":[{\"type\":\"histogram2dcontour\",\"colorbar\":{\"outlinewidth\":0,\"ticks\":\"\"},\"colorscale\":[[0.0,\"#0d0887\"],[0.1111111111111111,\"#46039f\"],[0.2222222222222222,\"#7201a8\"],[0.3333333333333333,\"#9c179e\"],[0.4444444444444444,\"#bd3786\"],[0.5555555555555556,\"#d8576b\"],[0.6666666666666666,\"#ed7953\"],[0.7777777777777778,\"#fb9f3a\"],[0.8888888888888888,\"#fdca26\"],[1.0,\"#f0f921\"]]}],\"choropleth\":[{\"type\":\"choropleth\",\"colorbar\":{\"outlinewidth\":0,\"ticks\":\"\"}}],\"histogram2d\":[{\"type\":\"histogram2d\",\"colorbar\":{\"outlinewidth\":0,\"ticks\":\"\"},\"colorscale\":[[0.0,\"#0d0887\"],[0.1111111111111111,\"#46039f\"],[0.2222222222222222,\"#7201a8\"],[0.3333333333333333,\"#9c179e\"],[0.4444444444444444,\"#bd3786\"],[0.5555555555555556,\"#d8576b\"],[0.6666666666666666,\"#ed7953\"],[0.7777777777777778,\"#fb9f3a\"],[0.8888888888888888,\"#fdca26\"],[1.0,\"#f0f921\"]]}],\"heatmap\":[{\"type\":\"heatmap\",\"colorbar\":{\"outlinewidth\":0,\"ticks\":\"\"},\"colorscale\":[[0.0,\"#0d0887\"],[0.1111111111111111,\"#46039f\"],[0.2222222222222222,\"#7201a8\"],[0.3333333333333333,\"#9c179e\"],[0.4444444444444444,\"#bd3786\"],[0.5555555555555556,\"#d8576b\"],[0.6666666666666666,\"#ed7953\"],[0.7777777777777778,\"#fb9f3a\"],[0.8888888888888888,\"#fdca26\"],[1.0,\"#f0f921\"]]}],\"heatmapgl\":[{\"type\":\"heatmapgl\",\"colorbar\":{\"outlinewidth\":0,\"ticks\":\"\"},\"colorscale\":[[0.0,\"#0d0887\"],[0.1111111111111111,\"#46039f\"],[0.2222222222222222,\"#7201a8\"],[0.3333333333333333,\"#9c179e\"],[0.4444444444444444,\"#bd3786\"],[0.5555555555555556,\"#d8576b\"],[0.6666666666666666,\"#ed7953\"],[0.7777777777777778,\"#fb9f3a\"],[0.8888888888888888,\"#fdca26\"],[1.0,\"#f0f921\"]]}],\"contourcarpet\":[{\"type\":\"contourcarpet\",\"colorbar\":{\"outlinewidth\":0,\"ticks\":\"\"}}],\"contour\":[{\"type\":\"contour\",\"colorbar\":{\"outlinewidth\":0,\"ticks\":\"\"},\"colorscale\":[[0.0,\"#0d0887\"],[0.1111111111111111,\"#46039f\"],[0.2222222222222222,\"#7201a8\"],[0.3333333333333333,\"#9c179e\"],[0.4444444444444444,\"#bd3786\"],[0.5555555555555556,\"#d8576b\"],[0.6666666666666666,\"#ed7953\"],[0.7777777777777778,\"#fb9f3a\"],[0.8888888888888888,\"#fdca26\"],[1.0,\"#f0f921\"]]}],\"surface\":[{\"type\":\"surface\",\"colorbar\":{\"outlinewidth\":0,\"ticks\":\"\"},\"colorscale\":[[0.0,\"#0d0887\"],[0.1111111111111111,\"#46039f\"],[0.2222222222222222,\"#7201a8\"],[0.3333333333333333,\"#9c179e\"],[0.4444444444444444,\"#bd3786\"],[0.5555555555555556,\"#d8576b\"],[0.6666666666666666,\"#ed7953\"],[0.7777777777777778,\"#fb9f3a\"],[0.8888888888888888,\"#fdca26\"],[1.0,\"#f0f921\"]]}],\"mesh3d\":[{\"type\":\"mesh3d\",\"colorbar\":{\"outlinewidth\":0,\"ticks\":\"\"}}],\"scatter\":[{\"fillpattern\":{\"fillmode\":\"overlay\",\"size\":10,\"solidity\":0.2},\"type\":\"scatter\"}],\"parcoords\":[{\"type\":\"parcoords\",\"line\":{\"colorbar\":{\"outlinewidth\":0,\"ticks\":\"\"}}}],\"scatterpolargl\":[{\"type\":\"scatterpolargl\",\"marker\":{\"colorbar\":{\"outlinewidth\":0,\"ticks\":\"\"}}}],\"bar\":[{\"error_x\":{\"color\":\"#2a3f5f\"},\"error_y\":{\"color\":\"#2a3f5f\"},\"marker\":{\"line\":{\"color\":\"#E5ECF6\",\"width\":0.5},\"pattern\":{\"fillmode\":\"overlay\",\"size\":10,\"solidity\":0.2}},\"type\":\"bar\"}],\"scattergeo\":[{\"type\":\"scattergeo\",\"marker\":{\"colorbar\":{\"outlinewidth\":0,\"ticks\":\"\"}}}],\"scatterpolar\":[{\"type\":\"scatterpolar\",\"marker\":{\"colorbar\":{\"outlinewidth\":0,\"ticks\":\"\"}}}],\"histogram\":[{\"marker\":{\"pattern\":{\"fillmode\":\"overlay\",\"size\":10,\"solidity\":0.2}},\"type\":\"histogram\"}],\"scattergl\":[{\"type\":\"scattergl\",\"marker\":{\"colorbar\":{\"outlinewidth\":0,\"ticks\":\"\"}}}],\"scatter3d\":[{\"type\":\"scatter3d\",\"line\":{\"colorbar\":{\"outlinewidth\":0,\"ticks\":\"\"}},\"marker\":{\"colorbar\":{\"outlinewidth\":0,\"ticks\":\"\"}}}],\"scattermapbox\":[{\"type\":\"scattermapbox\",\"marker\":{\"colorbar\":{\"outlinewidth\":0,\"ticks\":\"\"}}}],\"scatterternary\":[{\"type\":\"scatterternary\",\"marker\":{\"colorbar\":{\"outlinewidth\":0,\"ticks\":\"\"}}}],\"scattercarpet\":[{\"type\":\"scattercarpet\",\"marker\":{\"colorbar\":{\"outlinewidth\":0,\"ticks\":\"\"}}}],\"carpet\":[{\"aaxis\":{\"endlinecolor\":\"#2a3f5f\",\"gridcolor\":\"white\",\"linecolor\":\"white\",\"minorgridcolor\":\"white\",\"startlinecolor\":\"#2a3f5f\"},\"baxis\":{\"endlinecolor\":\"#2a3f5f\",\"gridcolor\":\"white\",\"linecolor\":\"white\",\"minorgridcolor\":\"white\",\"startlinecolor\":\"#2a3f5f\"},\"type\":\"carpet\"}],\"table\":[{\"cells\":{\"fill\":{\"color\":\"#EBF0F8\"},\"line\":{\"color\":\"white\"}},\"header\":{\"fill\":{\"color\":\"#C8D4E3\"},\"line\":{\"color\":\"white\"}},\"type\":\"table\"}],\"barpolar\":[{\"marker\":{\"line\":{\"color\":\"#E5ECF6\",\"width\":0.5},\"pattern\":{\"fillmode\":\"overlay\",\"size\":10,\"solidity\":0.2}},\"type\":\"barpolar\"}],\"pie\":[{\"automargin\":true,\"type\":\"pie\"}]},\"layout\":{\"autotypenumbers\":\"strict\",\"colorway\":[\"#636efa\",\"#EF553B\",\"#00cc96\",\"#ab63fa\",\"#FFA15A\",\"#19d3f3\",\"#FF6692\",\"#B6E880\",\"#FF97FF\",\"#FECB52\"],\"font\":{\"color\":\"#2a3f5f\"},\"hovermode\":\"closest\",\"hoverlabel\":{\"align\":\"left\"},\"paper_bgcolor\":\"white\",\"plot_bgcolor\":\"#E5ECF6\",\"polar\":{\"bgcolor\":\"#E5ECF6\",\"angularaxis\":{\"gridcolor\":\"white\",\"linecolor\":\"white\",\"ticks\":\"\"},\"radialaxis\":{\"gridcolor\":\"white\",\"linecolor\":\"white\",\"ticks\":\"\"}},\"ternary\":{\"bgcolor\":\"#E5ECF6\",\"aaxis\":{\"gridcolor\":\"white\",\"linecolor\":\"white\",\"ticks\":\"\"},\"baxis\":{\"gridcolor\":\"white\",\"linecolor\":\"white\",\"ticks\":\"\"},\"caxis\":{\"gridcolor\":\"white\",\"linecolor\":\"white\",\"ticks\":\"\"}},\"coloraxis\":{\"colorbar\":{\"outlinewidth\":0,\"ticks\":\"\"}},\"colorscale\":{\"sequential\":[[0.0,\"#0d0887\"],[0.1111111111111111,\"#46039f\"],[0.2222222222222222,\"#7201a8\"],[0.3333333333333333,\"#9c179e\"],[0.4444444444444444,\"#bd3786\"],[0.5555555555555556,\"#d8576b\"],[0.6666666666666666,\"#ed7953\"],[0.7777777777777778,\"#fb9f3a\"],[0.8888888888888888,\"#fdca26\"],[1.0,\"#f0f921\"]],\"sequentialminus\":[[0.0,\"#0d0887\"],[0.1111111111111111,\"#46039f\"],[0.2222222222222222,\"#7201a8\"],[0.3333333333333333,\"#9c179e\"],[0.4444444444444444,\"#bd3786\"],[0.5555555555555556,\"#d8576b\"],[0.6666666666666666,\"#ed7953\"],[0.7777777777777778,\"#fb9f3a\"],[0.8888888888888888,\"#fdca26\"],[1.0,\"#f0f921\"]],\"diverging\":[[0,\"#8e0152\"],[0.1,\"#c51b7d\"],[0.2,\"#de77ae\"],[0.3,\"#f1b6da\"],[0.4,\"#fde0ef\"],[0.5,\"#f7f7f7\"],[0.6,\"#e6f5d0\"],[0.7,\"#b8e186\"],[0.8,\"#7fbc41\"],[0.9,\"#4d9221\"],[1,\"#276419\"]]},\"xaxis\":{\"gridcolor\":\"white\",\"linecolor\":\"white\",\"ticks\":\"\",\"title\":{\"standoff\":15},\"zerolinecolor\":\"white\",\"automargin\":true,\"zerolinewidth\":2},\"yaxis\":{\"gridcolor\":\"white\",\"linecolor\":\"white\",\"ticks\":\"\",\"title\":{\"standoff\":15},\"zerolinecolor\":\"white\",\"automargin\":true,\"zerolinewidth\":2},\"scene\":{\"xaxis\":{\"backgroundcolor\":\"#E5ECF6\",\"gridcolor\":\"white\",\"linecolor\":\"white\",\"showbackground\":true,\"ticks\":\"\",\"zerolinecolor\":\"white\",\"gridwidth\":2},\"yaxis\":{\"backgroundcolor\":\"#E5ECF6\",\"gridcolor\":\"white\",\"linecolor\":\"white\",\"showbackground\":true,\"ticks\":\"\",\"zerolinecolor\":\"white\",\"gridwidth\":2},\"zaxis\":{\"backgroundcolor\":\"#E5ECF6\",\"gridcolor\":\"white\",\"linecolor\":\"white\",\"showbackground\":true,\"ticks\":\"\",\"zerolinecolor\":\"white\",\"gridwidth\":2}},\"shapedefaults\":{\"line\":{\"color\":\"#2a3f5f\"}},\"annotationdefaults\":{\"arrowcolor\":\"#2a3f5f\",\"arrowhead\":0,\"arrowwidth\":1},\"geo\":{\"bgcolor\":\"white\",\"landcolor\":\"#E5ECF6\",\"subunitcolor\":\"white\",\"showland\":true,\"showlakes\":true,\"lakecolor\":\"white\"},\"title\":{\"x\":0.05},\"mapbox\":{\"style\":\"light\"}}},\"xaxis\":{\"anchor\":\"y\",\"domain\":[0.0,1.0],\"title\":{\"text\":\" Smokers\"}},\"yaxis\":{\"anchor\":\"x\",\"domain\":[0.0,1.0],\"title\":{\"text\":\"Mean Air Pollution per country\"}},\"coloraxis\":{\"colorbar\":{\"title\":{\"text\":\"TBL rate\"}},\"colorscale\":[[0.0,\"rgb(121, 130, 52)\"],[0.16666666666666666,\"rgb(163, 173, 98)\"],[0.3333333333333333,\"rgb(208, 211, 162)\"],[0.5,\"rgb(253, 251, 228)\"],[0.6666666666666666,\"rgb(240, 198, 195)\"],[0.8333333333333334,\"rgb(223, 145, 163)\"],[1.0,\"rgb(212, 103, 128)\"]]},\"legend\":{\"tracegroupgap\":0,\"itemsizing\":\"constant\"},\"margin\":{\"t\":60},\"title\":{\"text\":\"Bubble plot met de gemiddelde uitstoot, hoeveelheid rokers en de longkanker sterfte in 2012\"},\"height\":650},                        {\"responsive\": true}                    ).then(function(){\n",
       "                            \n",
       "var gd = document.getElementById('234ada60-3142-4733-9607-b5887a4d52ad');\n",
       "var x = new MutationObserver(function (mutations, observer) {{\n",
       "        var display = window.getComputedStyle(gd).display;\n",
       "        if (!display || display === 'none') {{\n",
       "            console.log([gd, 'removed!']);\n",
       "            Plotly.purge(gd);\n",
       "            observer.disconnect();\n",
       "        }}\n",
       "}});\n",
       "\n",
       "// Listen for the removal of the full notebook cells\n",
       "var notebookContainer = gd.closest('#notebook-container');\n",
       "if (notebookContainer) {{\n",
       "    x.observe(notebookContainer, {childList: true});\n",
       "}}\n",
       "\n",
       "// Listen for the clearing of the current output cell\n",
       "var outputEl = gd.closest('.output');\n",
       "if (outputEl) {{\n",
       "    x.observe(outputEl, {childList: true});\n",
       "}}\n",
       "\n",
       "                        })                };                });            </script>        </div>"
      ]
     },
     "metadata": {},
     "output_type": "display_data"
    }
   ],
   "source": [
    "df = pd.read_csv('datasets/norm.csv')\n",
    "df_2012 = df[df['Year'] == 2012]\n",
    "df_2012['Mean Air Pollution'] = df_2012[['Nitrogen oxide (NOx)', 'Sulphur dioxide (SO₂) emissions', 'Carbon monoxide (CO) emissions', 'Organic carbon (OC) emissions', 'Non-methane volatile organic compounds (NMVOC) emissions', 'Black carbon (BC) emissions', 'Ammonia (NH₃) emissions']].mean(axis=1)\n",
    "\n",
    "\n",
    "df_2012['Mean Air Pollution'] = df_2012['Mean Air Pollution']\n",
    "df_2012['Percentage daily smokers'] = df_2012['Percentage daily smokers']\n",
    "\n",
    "pearsons_r = df_2012['Mean Air Pollution'].corr(df_2012['Percentage daily smokers'])\n",
    "\n",
    "\n",
    "fig = px.scatter(df_2012, x='Percentage daily smokers', y='Mean Air Pollution', size='TBL rate', hover_name='Code', color='TBL rate', size_max=35, color_continuous_scale='armyrose')\n",
    "\n",
    "\n",
    "# Customize layout and tooltip text\n",
    "fig.update_layout(\n",
    "   title='Bubble plot met de gemiddelde uitstoot, hoeveelheid rokers en de longkanker sterfte in 2012',\n",
    "   xaxis_title=' Smokers',\n",
    "   yaxis_title='Mean Air Pollution per country',\n",
    "    height=650\n",
    ")\n",
    "\n",
    "\n",
    "# Set text format for tooltips\n",
    "fig.update_traces(textposition='top center')\n",
    "\n",
    "\n",
    "# Show plot\n",
    "fig.show()\n"
   ]
  },
  {
   "cell_type": "markdown",
   "id": "1a8d566e-5a77-43b6-a84e-e99503394d9f",
   "metadata": {},
   "source": [
    "> *Figure 4: Bubble plot met de gemiddelde uitstoot en de hoeveelheid rokers, de grote van elk punt geeft de hoeveelheid longkanker-doden aan.*"
   ]
  },
  {
   "cell_type": "markdown",
   "id": "60ed06a9-f3ae-4c10-9774-e7ed7029c95e",
   "metadata": {},
   "source": [
    "In deze bubble chart worden de mate van luchtvervuiling en het percentage van dagelijkse rokers tegen elkaar afgezet. Elke bubbel geeft een land in een jaar weer, de grootte en de kleur van de bubbels geven inzicht in de bijbehorende TBL-rate. Hoe donkerder en groter de bubbel des te hoger de TBL-rate. Uit de chart kan worden opgemaakt dat het verband tussen roken en de TBL-rate aanzienlijk sterker is, dan het verband tussen mate van vervuiling en de TBL-rate."
   ]
  },
  {
   "cell_type": "code",
   "execution_count": 7,
   "id": "982ff45f",
   "metadata": {
    "editable": true,
    "slideshow": {
     "slide_type": ""
    },
    "tags": [
     "hide-input"
    ]
   },
   "outputs": [
    {
     "data": {
      "application/vnd.plotly.v1+json": {
       "config": {
        "plotlyServerURL": "https://plot.ly"
       },
       "data": [
        {
         "coloraxis": "coloraxis",
         "hovertemplate": "x: %{x}<br>y: %{y}<br>Correlation: %{z}<extra></extra>",
         "name": "0",
         "text": [
          [
           "1.000",
           "0.557",
           "0.432",
           "-0.229",
           "0.515",
           "0.264",
           "0.189",
           "0.195",
           "0.394"
          ],
          [
           "0.557",
           "1.000",
           "0.169",
           "-0.159",
           "0.562",
           "0.240",
           "-0.002",
           "0.198",
           "0.254"
          ],
          [
           "0.432",
           "0.169",
           "1.000",
           "0.097",
           "0.302",
           "0.216",
           "0.413",
           "0.059",
           "0.218"
          ],
          [
           "-0.229",
           "-0.159",
           "0.097",
           "1.000",
           "-0.006",
           "0.514",
           "0.040",
           "-0.228",
           "-0.111"
          ],
          [
           "0.515",
           "0.562",
           "0.302",
           "-0.006",
           "1.000",
           "0.491",
           "0.116",
           "-0.057",
           "0.080"
          ],
          [
           "0.264",
           "0.240",
           "0.216",
           "0.514",
           "0.491",
           "1.000",
           "0.016",
           "-0.136",
           "-0.017"
          ],
          [
           "0.189",
           "-0.002",
           "0.413",
           "0.040",
           "0.116",
           "0.016",
           "1.000",
           "0.112",
           "0.219"
          ],
          [
           "0.195",
           "0.198",
           "0.059",
           "-0.228",
           "-0.057",
           "-0.136",
           "0.112",
           "1.000",
           "0.642"
          ],
          [
           "0.394",
           "0.254",
           "0.218",
           "-0.111",
           "0.080",
           "-0.017",
           "0.219",
           "0.642",
           "1.000"
          ]
         ],
         "texttemplate": "%{z}",
         "type": "heatmap",
         "x": [
          "NOx",
          "SO2",
          "CO",
          "OC",
          "NMVOC",
          "BC",
          "NH3",
          "% smokers",
          "TBL rate"
         ],
         "xaxis": "x",
         "y": [
          "NOx",
          "SO2",
          "CO",
          "OC",
          "NMVOC",
          "BC",
          "NH3",
          "% smokers",
          "TBL rate"
         ],
         "yaxis": "y",
         "z": [
          [
           1,
           0.5574,
           0.4321,
           -0.2288,
           0.5147,
           0.264,
           0.1894,
           0.1948,
           0.3939
          ],
          [
           0.5574,
           1,
           0.1688,
           -0.1588,
           0.562,
           0.2399,
           -0.0018,
           0.1981,
           0.2544
          ],
          [
           0.4321,
           0.1688,
           1,
           0.0972,
           0.3022,
           0.2162,
           0.4126,
           0.0591,
           0.2179
          ],
          [
           -0.2288,
           -0.1588,
           0.0972,
           1,
           -0.0063,
           0.5144,
           0.0397,
           -0.2276,
           -0.1107
          ],
          [
           0.5147,
           0.562,
           0.3022,
           -0.0063,
           1,
           0.4911,
           0.1162,
           -0.0567,
           0.0797
          ],
          [
           0.264,
           0.2399,
           0.2162,
           0.5144,
           0.4911,
           1,
           0.0159,
           -0.1364,
           -0.017
          ],
          [
           0.1894,
           -0.0018,
           0.4126,
           0.0397,
           0.1162,
           0.0159,
           1,
           0.1115,
           0.2186
          ],
          [
           0.1948,
           0.1981,
           0.0591,
           -0.2276,
           -0.0567,
           -0.1364,
           0.1115,
           1,
           0.6417
          ],
          [
           0.3939,
           0.2544,
           0.2179,
           -0.1107,
           0.0797,
           -0.017,
           0.2186,
           0.6417,
           1
          ]
         ]
        }
       ],
       "layout": {
        "autosize": true,
        "coloraxis": {
         "colorbar": {
          "title": {
           "text": "Correlation"
          }
         },
         "colorscale": [
          [
           0,
           "rgb(121, 130, 52)"
          ],
          [
           0.16666666666666666,
           "rgb(163, 173, 98)"
          ],
          [
           0.3333333333333333,
           "rgb(208, 211, 162)"
          ],
          [
           0.5,
           "rgb(253, 251, 228)"
          ],
          [
           0.6666666666666666,
           "rgb(240, 198, 195)"
          ],
          [
           0.8333333333333334,
           "rgb(223, 145, 163)"
          ],
          [
           1,
           "rgb(212, 103, 128)"
          ]
         ]
        },
        "margin": {
         "t": 60
        },
        "template": {
         "data": {
          "bar": [
           {
            "error_x": {
             "color": "#2a3f5f"
            },
            "error_y": {
             "color": "#2a3f5f"
            },
            "marker": {
             "line": {
              "color": "#E5ECF6",
              "width": 0.5
             },
             "pattern": {
              "fillmode": "overlay",
              "size": 10,
              "solidity": 0.2
             }
            },
            "type": "bar"
           }
          ],
          "barpolar": [
           {
            "marker": {
             "line": {
              "color": "#E5ECF6",
              "width": 0.5
             },
             "pattern": {
              "fillmode": "overlay",
              "size": 10,
              "solidity": 0.2
             }
            },
            "type": "barpolar"
           }
          ],
          "carpet": [
           {
            "aaxis": {
             "endlinecolor": "#2a3f5f",
             "gridcolor": "white",
             "linecolor": "white",
             "minorgridcolor": "white",
             "startlinecolor": "#2a3f5f"
            },
            "baxis": {
             "endlinecolor": "#2a3f5f",
             "gridcolor": "white",
             "linecolor": "white",
             "minorgridcolor": "white",
             "startlinecolor": "#2a3f5f"
            },
            "type": "carpet"
           }
          ],
          "choropleth": [
           {
            "colorbar": {
             "outlinewidth": 0,
             "ticks": ""
            },
            "type": "choropleth"
           }
          ],
          "contour": [
           {
            "colorbar": {
             "outlinewidth": 0,
             "ticks": ""
            },
            "colorscale": [
             [
              0,
              "#0d0887"
             ],
             [
              0.1111111111111111,
              "#46039f"
             ],
             [
              0.2222222222222222,
              "#7201a8"
             ],
             [
              0.3333333333333333,
              "#9c179e"
             ],
             [
              0.4444444444444444,
              "#bd3786"
             ],
             [
              0.5555555555555556,
              "#d8576b"
             ],
             [
              0.6666666666666666,
              "#ed7953"
             ],
             [
              0.7777777777777778,
              "#fb9f3a"
             ],
             [
              0.8888888888888888,
              "#fdca26"
             ],
             [
              1,
              "#f0f921"
             ]
            ],
            "type": "contour"
           }
          ],
          "contourcarpet": [
           {
            "colorbar": {
             "outlinewidth": 0,
             "ticks": ""
            },
            "type": "contourcarpet"
           }
          ],
          "heatmap": [
           {
            "colorbar": {
             "outlinewidth": 0,
             "ticks": ""
            },
            "colorscale": [
             [
              0,
              "#0d0887"
             ],
             [
              0.1111111111111111,
              "#46039f"
             ],
             [
              0.2222222222222222,
              "#7201a8"
             ],
             [
              0.3333333333333333,
              "#9c179e"
             ],
             [
              0.4444444444444444,
              "#bd3786"
             ],
             [
              0.5555555555555556,
              "#d8576b"
             ],
             [
              0.6666666666666666,
              "#ed7953"
             ],
             [
              0.7777777777777778,
              "#fb9f3a"
             ],
             [
              0.8888888888888888,
              "#fdca26"
             ],
             [
              1,
              "#f0f921"
             ]
            ],
            "type": "heatmap"
           }
          ],
          "heatmapgl": [
           {
            "colorbar": {
             "outlinewidth": 0,
             "ticks": ""
            },
            "colorscale": [
             [
              0,
              "#0d0887"
             ],
             [
              0.1111111111111111,
              "#46039f"
             ],
             [
              0.2222222222222222,
              "#7201a8"
             ],
             [
              0.3333333333333333,
              "#9c179e"
             ],
             [
              0.4444444444444444,
              "#bd3786"
             ],
             [
              0.5555555555555556,
              "#d8576b"
             ],
             [
              0.6666666666666666,
              "#ed7953"
             ],
             [
              0.7777777777777778,
              "#fb9f3a"
             ],
             [
              0.8888888888888888,
              "#fdca26"
             ],
             [
              1,
              "#f0f921"
             ]
            ],
            "type": "heatmapgl"
           }
          ],
          "histogram": [
           {
            "marker": {
             "pattern": {
              "fillmode": "overlay",
              "size": 10,
              "solidity": 0.2
             }
            },
            "type": "histogram"
           }
          ],
          "histogram2d": [
           {
            "colorbar": {
             "outlinewidth": 0,
             "ticks": ""
            },
            "colorscale": [
             [
              0,
              "#0d0887"
             ],
             [
              0.1111111111111111,
              "#46039f"
             ],
             [
              0.2222222222222222,
              "#7201a8"
             ],
             [
              0.3333333333333333,
              "#9c179e"
             ],
             [
              0.4444444444444444,
              "#bd3786"
             ],
             [
              0.5555555555555556,
              "#d8576b"
             ],
             [
              0.6666666666666666,
              "#ed7953"
             ],
             [
              0.7777777777777778,
              "#fb9f3a"
             ],
             [
              0.8888888888888888,
              "#fdca26"
             ],
             [
              1,
              "#f0f921"
             ]
            ],
            "type": "histogram2d"
           }
          ],
          "histogram2dcontour": [
           {
            "colorbar": {
             "outlinewidth": 0,
             "ticks": ""
            },
            "colorscale": [
             [
              0,
              "#0d0887"
             ],
             [
              0.1111111111111111,
              "#46039f"
             ],
             [
              0.2222222222222222,
              "#7201a8"
             ],
             [
              0.3333333333333333,
              "#9c179e"
             ],
             [
              0.4444444444444444,
              "#bd3786"
             ],
             [
              0.5555555555555556,
              "#d8576b"
             ],
             [
              0.6666666666666666,
              "#ed7953"
             ],
             [
              0.7777777777777778,
              "#fb9f3a"
             ],
             [
              0.8888888888888888,
              "#fdca26"
             ],
             [
              1,
              "#f0f921"
             ]
            ],
            "type": "histogram2dcontour"
           }
          ],
          "mesh3d": [
           {
            "colorbar": {
             "outlinewidth": 0,
             "ticks": ""
            },
            "type": "mesh3d"
           }
          ],
          "parcoords": [
           {
            "line": {
             "colorbar": {
              "outlinewidth": 0,
              "ticks": ""
             }
            },
            "type": "parcoords"
           }
          ],
          "pie": [
           {
            "automargin": true,
            "type": "pie"
           }
          ],
          "scatter": [
           {
            "fillpattern": {
             "fillmode": "overlay",
             "size": 10,
             "solidity": 0.2
            },
            "type": "scatter"
           }
          ],
          "scatter3d": [
           {
            "line": {
             "colorbar": {
              "outlinewidth": 0,
              "ticks": ""
             }
            },
            "marker": {
             "colorbar": {
              "outlinewidth": 0,
              "ticks": ""
             }
            },
            "type": "scatter3d"
           }
          ],
          "scattercarpet": [
           {
            "marker": {
             "colorbar": {
              "outlinewidth": 0,
              "ticks": ""
             }
            },
            "type": "scattercarpet"
           }
          ],
          "scattergeo": [
           {
            "marker": {
             "colorbar": {
              "outlinewidth": 0,
              "ticks": ""
             }
            },
            "type": "scattergeo"
           }
          ],
          "scattergl": [
           {
            "marker": {
             "colorbar": {
              "outlinewidth": 0,
              "ticks": ""
             }
            },
            "type": "scattergl"
           }
          ],
          "scattermapbox": [
           {
            "marker": {
             "colorbar": {
              "outlinewidth": 0,
              "ticks": ""
             }
            },
            "type": "scattermapbox"
           }
          ],
          "scatterpolar": [
           {
            "marker": {
             "colorbar": {
              "outlinewidth": 0,
              "ticks": ""
             }
            },
            "type": "scatterpolar"
           }
          ],
          "scatterpolargl": [
           {
            "marker": {
             "colorbar": {
              "outlinewidth": 0,
              "ticks": ""
             }
            },
            "type": "scatterpolargl"
           }
          ],
          "scatterternary": [
           {
            "marker": {
             "colorbar": {
              "outlinewidth": 0,
              "ticks": ""
             }
            },
            "type": "scatterternary"
           }
          ],
          "surface": [
           {
            "colorbar": {
             "outlinewidth": 0,
             "ticks": ""
            },
            "colorscale": [
             [
              0,
              "#0d0887"
             ],
             [
              0.1111111111111111,
              "#46039f"
             ],
             [
              0.2222222222222222,
              "#7201a8"
             ],
             [
              0.3333333333333333,
              "#9c179e"
             ],
             [
              0.4444444444444444,
              "#bd3786"
             ],
             [
              0.5555555555555556,
              "#d8576b"
             ],
             [
              0.6666666666666666,
              "#ed7953"
             ],
             [
              0.7777777777777778,
              "#fb9f3a"
             ],
             [
              0.8888888888888888,
              "#fdca26"
             ],
             [
              1,
              "#f0f921"
             ]
            ],
            "type": "surface"
           }
          ],
          "table": [
           {
            "cells": {
             "fill": {
              "color": "#EBF0F8"
             },
             "line": {
              "color": "white"
             }
            },
            "header": {
             "fill": {
              "color": "#C8D4E3"
             },
             "line": {
              "color": "white"
             }
            },
            "type": "table"
           }
          ]
         },
         "layout": {
          "annotationdefaults": {
           "arrowcolor": "#2a3f5f",
           "arrowhead": 0,
           "arrowwidth": 1
          },
          "autotypenumbers": "strict",
          "coloraxis": {
           "colorbar": {
            "outlinewidth": 0,
            "ticks": ""
           }
          },
          "colorscale": {
           "diverging": [
            [
             0,
             "#8e0152"
            ],
            [
             0.1,
             "#c51b7d"
            ],
            [
             0.2,
             "#de77ae"
            ],
            [
             0.3,
             "#f1b6da"
            ],
            [
             0.4,
             "#fde0ef"
            ],
            [
             0.5,
             "#f7f7f7"
            ],
            [
             0.6,
             "#e6f5d0"
            ],
            [
             0.7,
             "#b8e186"
            ],
            [
             0.8,
             "#7fbc41"
            ],
            [
             0.9,
             "#4d9221"
            ],
            [
             1,
             "#276419"
            ]
           ],
           "sequential": [
            [
             0,
             "#0d0887"
            ],
            [
             0.1111111111111111,
             "#46039f"
            ],
            [
             0.2222222222222222,
             "#7201a8"
            ],
            [
             0.3333333333333333,
             "#9c179e"
            ],
            [
             0.4444444444444444,
             "#bd3786"
            ],
            [
             0.5555555555555556,
             "#d8576b"
            ],
            [
             0.6666666666666666,
             "#ed7953"
            ],
            [
             0.7777777777777778,
             "#fb9f3a"
            ],
            [
             0.8888888888888888,
             "#fdca26"
            ],
            [
             1,
             "#f0f921"
            ]
           ],
           "sequentialminus": [
            [
             0,
             "#0d0887"
            ],
            [
             0.1111111111111111,
             "#46039f"
            ],
            [
             0.2222222222222222,
             "#7201a8"
            ],
            [
             0.3333333333333333,
             "#9c179e"
            ],
            [
             0.4444444444444444,
             "#bd3786"
            ],
            [
             0.5555555555555556,
             "#d8576b"
            ],
            [
             0.6666666666666666,
             "#ed7953"
            ],
            [
             0.7777777777777778,
             "#fb9f3a"
            ],
            [
             0.8888888888888888,
             "#fdca26"
            ],
            [
             1,
             "#f0f921"
            ]
           ]
          },
          "colorway": [
           "#636efa",
           "#EF553B",
           "#00cc96",
           "#ab63fa",
           "#FFA15A",
           "#19d3f3",
           "#FF6692",
           "#B6E880",
           "#FF97FF",
           "#FECB52"
          ],
          "font": {
           "color": "#2a3f5f"
          },
          "geo": {
           "bgcolor": "white",
           "lakecolor": "white",
           "landcolor": "#E5ECF6",
           "showlakes": true,
           "showland": true,
           "subunitcolor": "white"
          },
          "hoverlabel": {
           "align": "left"
          },
          "hovermode": "closest",
          "mapbox": {
           "style": "light"
          },
          "paper_bgcolor": "white",
          "plot_bgcolor": "#E5ECF6",
          "polar": {
           "angularaxis": {
            "gridcolor": "white",
            "linecolor": "white",
            "ticks": ""
           },
           "bgcolor": "#E5ECF6",
           "radialaxis": {
            "gridcolor": "white",
            "linecolor": "white",
            "ticks": ""
           }
          },
          "scene": {
           "xaxis": {
            "backgroundcolor": "#E5ECF6",
            "gridcolor": "white",
            "gridwidth": 2,
            "linecolor": "white",
            "showbackground": true,
            "ticks": "",
            "zerolinecolor": "white"
           },
           "yaxis": {
            "backgroundcolor": "#E5ECF6",
            "gridcolor": "white",
            "gridwidth": 2,
            "linecolor": "white",
            "showbackground": true,
            "ticks": "",
            "zerolinecolor": "white"
           },
           "zaxis": {
            "backgroundcolor": "#E5ECF6",
            "gridcolor": "white",
            "gridwidth": 2,
            "linecolor": "white",
            "showbackground": true,
            "ticks": "",
            "zerolinecolor": "white"
           }
          },
          "shapedefaults": {
           "line": {
            "color": "#2a3f5f"
           }
          },
          "ternary": {
           "aaxis": {
            "gridcolor": "white",
            "linecolor": "white",
            "ticks": ""
           },
           "baxis": {
            "gridcolor": "white",
            "linecolor": "white",
            "ticks": ""
           },
           "bgcolor": "#E5ECF6",
           "caxis": {
            "gridcolor": "white",
            "linecolor": "white",
            "ticks": ""
           }
          },
          "title": {
           "x": 0.05
          },
          "xaxis": {
           "automargin": true,
           "gridcolor": "white",
           "linecolor": "white",
           "ticks": "",
           "title": {
            "standoff": 15
           },
           "zerolinecolor": "white",
           "zerolinewidth": 2
          },
          "yaxis": {
           "automargin": true,
           "gridcolor": "white",
           "linecolor": "white",
           "ticks": "",
           "title": {
            "standoff": 15
           },
           "zerolinecolor": "white",
           "zerolinewidth": 2
          }
         }
        },
        "title": {
         "text": "Correlatiematrix van alle variabelen."
        },
        "xaxis": {
         "anchor": "y",
         "autorange": true,
         "constrain": "domain",
         "domain": [
          0.312,
          0.688
         ],
         "range": [
          -0.5,
          8.5
         ],
         "scaleanchor": "y",
         "title": {
          "text": "Columns"
         },
         "type": "category"
        },
        "yaxis": {
         "anchor": "x",
         "autorange": true,
         "constrain": "domain",
         "domain": [
          0,
          1
         ],
         "range": [
          8.5,
          -0.5
         ],
         "title": {
          "text": "Columns"
         },
         "type": "category"
        }
       }
      },
      "text/html": [
       "<div>                            <div id=\"e4754501-2315-4835-b099-f5f982a7e5c3\" class=\"plotly-graph-div\" style=\"height:525px; width:100%;\"></div>            <script type=\"text/javascript\">                require([\"plotly\"], function(Plotly) {                    window.PLOTLYENV=window.PLOTLYENV || {};                                    if (document.getElementById(\"e4754501-2315-4835-b099-f5f982a7e5c3\")) {                    Plotly.newPlot(                        \"e4754501-2315-4835-b099-f5f982a7e5c3\",                        [{\"coloraxis\":\"coloraxis\",\"name\":\"0\",\"texttemplate\":\"%{z}\",\"x\":[\"NOx\",\"SO2\",\"CO\",\"OC\",\"NMVOC\",\"BC\",\"NH3\",\"% smokers\",\"TBL rate\"],\"y\":[\"NOx\",\"SO2\",\"CO\",\"OC\",\"NMVOC\",\"BC\",\"NH3\",\"% smokers\",\"TBL rate\"],\"z\":[[1.0,0.5574,0.4321,-0.2288,0.5147,0.264,0.1894,0.1948,0.3939],[0.5574,1.0,0.1688,-0.1588,0.562,0.2399,-0.0018,0.1981,0.2544],[0.4321,0.1688,1.0,0.0972,0.3022,0.2162,0.4126,0.0591,0.2179],[-0.2288,-0.1588,0.0972,1.0,-0.0063,0.5144,0.0397,-0.2276,-0.1107],[0.5147,0.562,0.3022,-0.0063,1.0,0.4911,0.1162,-0.0567,0.0797],[0.264,0.2399,0.2162,0.5144,0.4911,1.0,0.0159,-0.1364,-0.017],[0.1894,-0.0018,0.4126,0.0397,0.1162,0.0159,1.0,0.1115,0.2186],[0.1948,0.1981,0.0591,-0.2276,-0.0567,-0.1364,0.1115,1.0,0.6417],[0.3939,0.2544,0.2179,-0.1107,0.0797,-0.017,0.2186,0.6417,1.0]],\"type\":\"heatmap\",\"xaxis\":\"x\",\"yaxis\":\"y\",\"hovertemplate\":\"x: %{x}\\u003cbr\\u003ey: %{y}\\u003cbr\\u003eCorrelation: %{z}\\u003cextra\\u003e\\u003c\\u002fextra\\u003e\",\"text\":[[\"1.000\",\"0.557\",\"0.432\",\"-0.229\",\"0.515\",\"0.264\",\"0.189\",\"0.195\",\"0.394\"],[\"0.557\",\"1.000\",\"0.169\",\"-0.159\",\"0.562\",\"0.240\",\"-0.002\",\"0.198\",\"0.254\"],[\"0.432\",\"0.169\",\"1.000\",\"0.097\",\"0.302\",\"0.216\",\"0.413\",\"0.059\",\"0.218\"],[\"-0.229\",\"-0.159\",\"0.097\",\"1.000\",\"-0.006\",\"0.514\",\"0.040\",\"-0.228\",\"-0.111\"],[\"0.515\",\"0.562\",\"0.302\",\"-0.006\",\"1.000\",\"0.491\",\"0.116\",\"-0.057\",\"0.080\"],[\"0.264\",\"0.240\",\"0.216\",\"0.514\",\"0.491\",\"1.000\",\"0.016\",\"-0.136\",\"-0.017\"],[\"0.189\",\"-0.002\",\"0.413\",\"0.040\",\"0.116\",\"0.016\",\"1.000\",\"0.112\",\"0.219\"],[\"0.195\",\"0.198\",\"0.059\",\"-0.228\",\"-0.057\",\"-0.136\",\"0.112\",\"1.000\",\"0.642\"],[\"0.394\",\"0.254\",\"0.218\",\"-0.111\",\"0.080\",\"-0.017\",\"0.219\",\"0.642\",\"1.000\"]]}],                        {\"template\":{\"data\":{\"histogram2dcontour\":[{\"type\":\"histogram2dcontour\",\"colorbar\":{\"outlinewidth\":0,\"ticks\":\"\"},\"colorscale\":[[0.0,\"#0d0887\"],[0.1111111111111111,\"#46039f\"],[0.2222222222222222,\"#7201a8\"],[0.3333333333333333,\"#9c179e\"],[0.4444444444444444,\"#bd3786\"],[0.5555555555555556,\"#d8576b\"],[0.6666666666666666,\"#ed7953\"],[0.7777777777777778,\"#fb9f3a\"],[0.8888888888888888,\"#fdca26\"],[1.0,\"#f0f921\"]]}],\"choropleth\":[{\"type\":\"choropleth\",\"colorbar\":{\"outlinewidth\":0,\"ticks\":\"\"}}],\"histogram2d\":[{\"type\":\"histogram2d\",\"colorbar\":{\"outlinewidth\":0,\"ticks\":\"\"},\"colorscale\":[[0.0,\"#0d0887\"],[0.1111111111111111,\"#46039f\"],[0.2222222222222222,\"#7201a8\"],[0.3333333333333333,\"#9c179e\"],[0.4444444444444444,\"#bd3786\"],[0.5555555555555556,\"#d8576b\"],[0.6666666666666666,\"#ed7953\"],[0.7777777777777778,\"#fb9f3a\"],[0.8888888888888888,\"#fdca26\"],[1.0,\"#f0f921\"]]}],\"heatmap\":[{\"type\":\"heatmap\",\"colorbar\":{\"outlinewidth\":0,\"ticks\":\"\"},\"colorscale\":[[0.0,\"#0d0887\"],[0.1111111111111111,\"#46039f\"],[0.2222222222222222,\"#7201a8\"],[0.3333333333333333,\"#9c179e\"],[0.4444444444444444,\"#bd3786\"],[0.5555555555555556,\"#d8576b\"],[0.6666666666666666,\"#ed7953\"],[0.7777777777777778,\"#fb9f3a\"],[0.8888888888888888,\"#fdca26\"],[1.0,\"#f0f921\"]]}],\"heatmapgl\":[{\"type\":\"heatmapgl\",\"colorbar\":{\"outlinewidth\":0,\"ticks\":\"\"},\"colorscale\":[[0.0,\"#0d0887\"],[0.1111111111111111,\"#46039f\"],[0.2222222222222222,\"#7201a8\"],[0.3333333333333333,\"#9c179e\"],[0.4444444444444444,\"#bd3786\"],[0.5555555555555556,\"#d8576b\"],[0.6666666666666666,\"#ed7953\"],[0.7777777777777778,\"#fb9f3a\"],[0.8888888888888888,\"#fdca26\"],[1.0,\"#f0f921\"]]}],\"contourcarpet\":[{\"type\":\"contourcarpet\",\"colorbar\":{\"outlinewidth\":0,\"ticks\":\"\"}}],\"contour\":[{\"type\":\"contour\",\"colorbar\":{\"outlinewidth\":0,\"ticks\":\"\"},\"colorscale\":[[0.0,\"#0d0887\"],[0.1111111111111111,\"#46039f\"],[0.2222222222222222,\"#7201a8\"],[0.3333333333333333,\"#9c179e\"],[0.4444444444444444,\"#bd3786\"],[0.5555555555555556,\"#d8576b\"],[0.6666666666666666,\"#ed7953\"],[0.7777777777777778,\"#fb9f3a\"],[0.8888888888888888,\"#fdca26\"],[1.0,\"#f0f921\"]]}],\"surface\":[{\"type\":\"surface\",\"colorbar\":{\"outlinewidth\":0,\"ticks\":\"\"},\"colorscale\":[[0.0,\"#0d0887\"],[0.1111111111111111,\"#46039f\"],[0.2222222222222222,\"#7201a8\"],[0.3333333333333333,\"#9c179e\"],[0.4444444444444444,\"#bd3786\"],[0.5555555555555556,\"#d8576b\"],[0.6666666666666666,\"#ed7953\"],[0.7777777777777778,\"#fb9f3a\"],[0.8888888888888888,\"#fdca26\"],[1.0,\"#f0f921\"]]}],\"mesh3d\":[{\"type\":\"mesh3d\",\"colorbar\":{\"outlinewidth\":0,\"ticks\":\"\"}}],\"scatter\":[{\"fillpattern\":{\"fillmode\":\"overlay\",\"size\":10,\"solidity\":0.2},\"type\":\"scatter\"}],\"parcoords\":[{\"type\":\"parcoords\",\"line\":{\"colorbar\":{\"outlinewidth\":0,\"ticks\":\"\"}}}],\"scatterpolargl\":[{\"type\":\"scatterpolargl\",\"marker\":{\"colorbar\":{\"outlinewidth\":0,\"ticks\":\"\"}}}],\"bar\":[{\"error_x\":{\"color\":\"#2a3f5f\"},\"error_y\":{\"color\":\"#2a3f5f\"},\"marker\":{\"line\":{\"color\":\"#E5ECF6\",\"width\":0.5},\"pattern\":{\"fillmode\":\"overlay\",\"size\":10,\"solidity\":0.2}},\"type\":\"bar\"}],\"scattergeo\":[{\"type\":\"scattergeo\",\"marker\":{\"colorbar\":{\"outlinewidth\":0,\"ticks\":\"\"}}}],\"scatterpolar\":[{\"type\":\"scatterpolar\",\"marker\":{\"colorbar\":{\"outlinewidth\":0,\"ticks\":\"\"}}}],\"histogram\":[{\"marker\":{\"pattern\":{\"fillmode\":\"overlay\",\"size\":10,\"solidity\":0.2}},\"type\":\"histogram\"}],\"scattergl\":[{\"type\":\"scattergl\",\"marker\":{\"colorbar\":{\"outlinewidth\":0,\"ticks\":\"\"}}}],\"scatter3d\":[{\"type\":\"scatter3d\",\"line\":{\"colorbar\":{\"outlinewidth\":0,\"ticks\":\"\"}},\"marker\":{\"colorbar\":{\"outlinewidth\":0,\"ticks\":\"\"}}}],\"scattermapbox\":[{\"type\":\"scattermapbox\",\"marker\":{\"colorbar\":{\"outlinewidth\":0,\"ticks\":\"\"}}}],\"scatterternary\":[{\"type\":\"scatterternary\",\"marker\":{\"colorbar\":{\"outlinewidth\":0,\"ticks\":\"\"}}}],\"scattercarpet\":[{\"type\":\"scattercarpet\",\"marker\":{\"colorbar\":{\"outlinewidth\":0,\"ticks\":\"\"}}}],\"carpet\":[{\"aaxis\":{\"endlinecolor\":\"#2a3f5f\",\"gridcolor\":\"white\",\"linecolor\":\"white\",\"minorgridcolor\":\"white\",\"startlinecolor\":\"#2a3f5f\"},\"baxis\":{\"endlinecolor\":\"#2a3f5f\",\"gridcolor\":\"white\",\"linecolor\":\"white\",\"minorgridcolor\":\"white\",\"startlinecolor\":\"#2a3f5f\"},\"type\":\"carpet\"}],\"table\":[{\"cells\":{\"fill\":{\"color\":\"#EBF0F8\"},\"line\":{\"color\":\"white\"}},\"header\":{\"fill\":{\"color\":\"#C8D4E3\"},\"line\":{\"color\":\"white\"}},\"type\":\"table\"}],\"barpolar\":[{\"marker\":{\"line\":{\"color\":\"#E5ECF6\",\"width\":0.5},\"pattern\":{\"fillmode\":\"overlay\",\"size\":10,\"solidity\":0.2}},\"type\":\"barpolar\"}],\"pie\":[{\"automargin\":true,\"type\":\"pie\"}]},\"layout\":{\"autotypenumbers\":\"strict\",\"colorway\":[\"#636efa\",\"#EF553B\",\"#00cc96\",\"#ab63fa\",\"#FFA15A\",\"#19d3f3\",\"#FF6692\",\"#B6E880\",\"#FF97FF\",\"#FECB52\"],\"font\":{\"color\":\"#2a3f5f\"},\"hovermode\":\"closest\",\"hoverlabel\":{\"align\":\"left\"},\"paper_bgcolor\":\"white\",\"plot_bgcolor\":\"#E5ECF6\",\"polar\":{\"bgcolor\":\"#E5ECF6\",\"angularaxis\":{\"gridcolor\":\"white\",\"linecolor\":\"white\",\"ticks\":\"\"},\"radialaxis\":{\"gridcolor\":\"white\",\"linecolor\":\"white\",\"ticks\":\"\"}},\"ternary\":{\"bgcolor\":\"#E5ECF6\",\"aaxis\":{\"gridcolor\":\"white\",\"linecolor\":\"white\",\"ticks\":\"\"},\"baxis\":{\"gridcolor\":\"white\",\"linecolor\":\"white\",\"ticks\":\"\"},\"caxis\":{\"gridcolor\":\"white\",\"linecolor\":\"white\",\"ticks\":\"\"}},\"coloraxis\":{\"colorbar\":{\"outlinewidth\":0,\"ticks\":\"\"}},\"colorscale\":{\"sequential\":[[0.0,\"#0d0887\"],[0.1111111111111111,\"#46039f\"],[0.2222222222222222,\"#7201a8\"],[0.3333333333333333,\"#9c179e\"],[0.4444444444444444,\"#bd3786\"],[0.5555555555555556,\"#d8576b\"],[0.6666666666666666,\"#ed7953\"],[0.7777777777777778,\"#fb9f3a\"],[0.8888888888888888,\"#fdca26\"],[1.0,\"#f0f921\"]],\"sequentialminus\":[[0.0,\"#0d0887\"],[0.1111111111111111,\"#46039f\"],[0.2222222222222222,\"#7201a8\"],[0.3333333333333333,\"#9c179e\"],[0.4444444444444444,\"#bd3786\"],[0.5555555555555556,\"#d8576b\"],[0.6666666666666666,\"#ed7953\"],[0.7777777777777778,\"#fb9f3a\"],[0.8888888888888888,\"#fdca26\"],[1.0,\"#f0f921\"]],\"diverging\":[[0,\"#8e0152\"],[0.1,\"#c51b7d\"],[0.2,\"#de77ae\"],[0.3,\"#f1b6da\"],[0.4,\"#fde0ef\"],[0.5,\"#f7f7f7\"],[0.6,\"#e6f5d0\"],[0.7,\"#b8e186\"],[0.8,\"#7fbc41\"],[0.9,\"#4d9221\"],[1,\"#276419\"]]},\"xaxis\":{\"gridcolor\":\"white\",\"linecolor\":\"white\",\"ticks\":\"\",\"title\":{\"standoff\":15},\"zerolinecolor\":\"white\",\"automargin\":true,\"zerolinewidth\":2},\"yaxis\":{\"gridcolor\":\"white\",\"linecolor\":\"white\",\"ticks\":\"\",\"title\":{\"standoff\":15},\"zerolinecolor\":\"white\",\"automargin\":true,\"zerolinewidth\":2},\"scene\":{\"xaxis\":{\"backgroundcolor\":\"#E5ECF6\",\"gridcolor\":\"white\",\"linecolor\":\"white\",\"showbackground\":true,\"ticks\":\"\",\"zerolinecolor\":\"white\",\"gridwidth\":2},\"yaxis\":{\"backgroundcolor\":\"#E5ECF6\",\"gridcolor\":\"white\",\"linecolor\":\"white\",\"showbackground\":true,\"ticks\":\"\",\"zerolinecolor\":\"white\",\"gridwidth\":2},\"zaxis\":{\"backgroundcolor\":\"#E5ECF6\",\"gridcolor\":\"white\",\"linecolor\":\"white\",\"showbackground\":true,\"ticks\":\"\",\"zerolinecolor\":\"white\",\"gridwidth\":2}},\"shapedefaults\":{\"line\":{\"color\":\"#2a3f5f\"}},\"annotationdefaults\":{\"arrowcolor\":\"#2a3f5f\",\"arrowhead\":0,\"arrowwidth\":1},\"geo\":{\"bgcolor\":\"white\",\"landcolor\":\"#E5ECF6\",\"subunitcolor\":\"white\",\"showland\":true,\"showlakes\":true,\"lakecolor\":\"white\"},\"title\":{\"x\":0.05},\"mapbox\":{\"style\":\"light\"}}},\"xaxis\":{\"anchor\":\"y\",\"domain\":[0.0,1.0],\"scaleanchor\":\"y\",\"constrain\":\"domain\",\"title\":{\"text\":\"Columns\"}},\"yaxis\":{\"anchor\":\"x\",\"domain\":[0.0,1.0],\"autorange\":\"reversed\",\"constrain\":\"domain\",\"title\":{\"text\":\"Columns\"}},\"coloraxis\":{\"colorbar\":{\"title\":{\"text\":\"Correlation\"}},\"colorscale\":[[0.0,\"rgb(121, 130, 52)\"],[0.16666666666666666,\"rgb(163, 173, 98)\"],[0.3333333333333333,\"rgb(208, 211, 162)\"],[0.5,\"rgb(253, 251, 228)\"],[0.6666666666666666,\"rgb(240, 198, 195)\"],[0.8333333333333334,\"rgb(223, 145, 163)\"],[1.0,\"rgb(212, 103, 128)\"]]},\"margin\":{\"t\":60},\"title\":{\"text\":\"Correlatiematrix van alle variabelen.\"}},                        {\"responsive\": true}                    ).then(function(){\n",
       "                            \n",
       "var gd = document.getElementById('e4754501-2315-4835-b099-f5f982a7e5c3');\n",
       "var x = new MutationObserver(function (mutations, observer) {{\n",
       "        var display = window.getComputedStyle(gd).display;\n",
       "        if (!display || display === 'none') {{\n",
       "            console.log([gd, 'removed!']);\n",
       "            Plotly.purge(gd);\n",
       "            observer.disconnect();\n",
       "        }}\n",
       "}});\n",
       "\n",
       "// Listen for the removal of the full notebook cells\n",
       "var notebookContainer = gd.closest('#notebook-container');\n",
       "if (notebookContainer) {{\n",
       "    x.observe(notebookContainer, {childList: true});\n",
       "}}\n",
       "\n",
       "// Listen for the clearing of the current output cell\n",
       "var outputEl = gd.closest('.output');\n",
       "if (outputEl) {{\n",
       "    x.observe(outputEl, {childList: true});\n",
       "}}\n",
       "\n",
       "                        })                };                });            </script>        </div>"
      ]
     },
     "metadata": {},
     "output_type": "display_data"
    }
   ],
   "source": [
    "# Load the CSV data\n",
    "norm = pd.read_csv('datasets/norm.csv')\n",
    "\n",
    "\n",
    "# Calculate the correlation matrix for numeric columns only\n",
    "corr2 = norm.corr(numeric_only=True)\n",
    "\n",
    "\n",
    "# Trim the correlation matrix\n",
    "corr_trimmed2 = corr2.iloc[2:, 2:]\n",
    "\n",
    "\n",
    "corr_rounded = corr_trimmed2.round(4)\n",
    "\n",
    "\n",
    "# Create a heatmap\n",
    "fig = px.imshow(corr_rounded,\n",
    "                labels=dict(color=\"Correlation\"),\n",
    "                x=['NOx','SO2','CO', 'OC', 'NMVOC', 'BC', 'NH3', '% smokers', 'TBL rate'],\n",
    "                y=['NOx','SO2','CO', 'OC', 'NMVOC', 'BC', 'NH3', '% smokers', 'TBL rate'],\n",
    "                color_continuous_scale='armyrose',\n",
    "                text_auto=True)\n",
    "\n",
    "\n",
    "# Customize the title\n",
    "fig.update_layout(title='Correlatiematrix van alle variabelen.',\n",
    "                  xaxis_title='Columns',\n",
    "                  yaxis_title='Columns')\n",
    "\n",
    "\n",
    "fig.update_traces(text=corr_rounded.map(lambda x: f'{x:.3f}'))\n",
    "\n",
    "\n",
    "\n",
    "\n",
    "# Show the figure\n",
    "fig.show()"
   ]
  },
  {
   "cell_type": "markdown",
   "id": "c3857f81-dcad-489c-a608-3f7f86e6a58e",
   "metadata": {},
   "source": [
    "> *Figure 5: Heatmap van de correlatie tussen elk variabel.*"
   ]
  },
  {
   "cell_type": "markdown",
   "id": "f011191d-d381-4024-ae5f-3f2d8e832244",
   "metadata": {},
   "source": [
    "In deze heatmap wordt de correlatie matrix grafisch weergegeven en is het voor ons belangrijk om te kijken naar de onderste rij of de laatste kolom. Hier wordt de TBL cancer rate gecorreleerd met alle broeikasgas uitstoten en de metriek van mensen die elke dag roken. We kijken niet naar TBL rate/TBL rate want die waarden zijn gelijk en geven altijd waarde 1. Dit geldt voor de hele identiteitsmatrix. De hoogste correlatie is te vinden tussen TBL en het aantal mensen dat rookt per dag (0.64). Dit suggereert dat hoe meer mensen er per dag roken, hoe meer mensen te maken krijgen met een vorm van TBL-kanker. Een ander redelijk significant cijfer is de 0.39 tussen TBL en het de uitstoot van stikstofoxiden (NOx). Dit is interessant want als we bekijken welke broeikasgas het meest wordt uitgestoot, dan zien we dat dat koolstofmonoxide is (CO), dat bijna in elk jaar meer dan de helft van de totale uitstoot beslaat."
   ]
  },
  {
   "cell_type": "markdown",
   "id": "bf522e30-74ba-4774-a6a0-a94f3d827123",
   "metadata": {},
   "source": [
    "### Argument: Luchtvervuiling neemt al af."
   ]
  },
  {
   "cell_type": "markdown",
   "id": "51f7128d-2dd5-42ff-a178-bd7d6457d749",
   "metadata": {},
   "source": [
    "We hebben al laten zien dat het verband met luchtvervuiling en longkanker zwak is vergeleken met het verband tussen longkanker en roken. Maar het is ook de vraag of het nodig is om het verminderingsproces van vervuiling te moeten versnellen. We zagen namelijk in figuur 2 dat de globale uitstoot van luchtvervuilende stoffen al aan het afnemen zijn. Laten we kijken naar hoe de totale uitstoot in de wereld is veranderd."
   ]
  },
  {
   "cell_type": "code",
   "execution_count": 9,
   "id": "e6372635",
   "metadata": {
    "editable": true,
    "slideshow": {
     "slide_type": ""
    },
    "tags": [
     "hide-input"
    ]
   },
   "outputs": [
    {
     "data": {
      "application/vnd.plotly.v1+json": {
       "config": {
        "plotlyServerURL": "https://plot.ly"
       },
       "data": [
        {
         "coloraxis": "coloraxis",
         "geo": "geo",
         "hovertemplate": "Year=1990<br>Code=%{location}<br>Total emission=%{z}<extra></extra>",
         "locations": [
          "AFG",
          "ALB",
          "DZA",
          "AGO",
          "ATG",
          "ARG",
          "ARM",
          "AUS",
          "AUT",
          "AZE",
          "BHS",
          "BHR",
          "BGD",
          "BRB",
          "BLR",
          "BEL",
          "BLZ",
          "BEN",
          "BTN",
          "BOL",
          "BIH",
          "BWA",
          "BRA",
          "BRN",
          "BGR",
          "BFA",
          "BDI",
          "CPV",
          "KHM",
          "CMR",
          "CAN",
          "CAF",
          "TCD",
          "CHL",
          "CHN",
          "COL",
          "COM",
          "COD",
          "COG",
          "CRI",
          "CIV",
          "HRV",
          "CUB",
          "CYP",
          "CZE",
          "DNK",
          "DJI",
          "DMA",
          "DOM",
          "ECU",
          "EGY",
          "SLV",
          "GNQ",
          "ERI",
          "EST",
          "SWZ",
          "ETH",
          "FJI",
          "FIN",
          "FRA",
          "GAB",
          "GMB",
          "GEO",
          "DEU",
          "GHA",
          "GRC",
          "GRD",
          "GTM",
          "GIN",
          "GNB",
          "GUY",
          "HTI",
          "HND",
          "HUN",
          "ISL",
          "IND",
          "IDN",
          "IRN",
          "IRQ",
          "IRL",
          "ISR",
          "ITA",
          "JAM",
          "JPN",
          "JOR",
          "KAZ",
          "KEN",
          "KIR",
          "PRK",
          "KOR",
          "KWT",
          "KGZ",
          "LAO",
          "LVA",
          "LBN",
          "LSO",
          "LBR",
          "LBY",
          "LTU",
          "LUX",
          "MDG",
          "MWI",
          "MYS",
          "MDV",
          "MLI",
          "MLT",
          "MHL",
          "MRT",
          "MUS",
          "MEX",
          "MDA",
          "MNG",
          "MNE",
          "MAR",
          "MOZ",
          "MMR",
          "NAM",
          "NPL",
          "NLD",
          "NZL",
          "NIC",
          "NER",
          "NGA",
          "MKD",
          "NOR",
          "OMN",
          "PAK",
          "PAN",
          "PNG",
          "PRY",
          "PER",
          "PHL",
          "POL",
          "PRT",
          "QAT",
          "ROU",
          "RUS",
          "RWA",
          "WSM",
          "STP",
          "SAU",
          "SEN",
          "SRB",
          "SYC",
          "SLE",
          "SGP",
          "SVK",
          "SVN",
          "SLB",
          "SOM",
          "ZAF",
          "ESP",
          "LKA",
          "LCA",
          "VCT",
          "SDN",
          "SUR",
          "SWE",
          "CHE",
          "SYR",
          "TJK",
          "TZA",
          "THA",
          "TGO",
          "TON",
          "TTO",
          "TUN",
          "TUR",
          "TKM",
          "UGA",
          "UKR",
          "ARE",
          "GBR",
          "USA",
          "URY",
          "UZB",
          "VUT",
          "VEN",
          "VNM",
          "YEM",
          "ZMB",
          "ZWE"
         ],
         "name": "",
         "type": "choropleth",
         "z": [
          158.39618336895924,
          103.86429803726834,
          85.23368747284673,
          124.38315092030255,
          172.45380682254353,
          80.02115415502624,
          94.2118229446796,
          629.4378706248425,
          254.2252899704995,
          116.47602212599526,
          231.76758571634866,
          473.3676827219915,
          35.261818531384634,
          156.01610801115984,
          355.13765649229555,
          278.52905392681464,
          85.06543326650743,
          96.97118195937087,
          1020.0344405844719,
          61.41043011623574,
          217.12848806846222,
          161.5557704801843,
          118.59783267909579,
          377.4406039710731,
          370.1276612876677,
          96.16560973433992,
          89.61763387723052,
          53.71911312324309,
          110.19064833236163,
          106.76717652703442,
          624.4793188708965,
          97.939974646689,
          78.46438180040019,
          298.8729757523057,
          202.9836483921123,
          111.92582631411605,
          62.020129618021635,
          130.21033618867062,
          91.68157847057182,
          80.45772154747354,
          77.6258886360002,
          225.98437101768172,
          196.64777459857225,
          148.75418635168893,
          515.9559526407445,
          291.860758705754,
          92.49923526163705,
          39.28701350487795,
          75.89450869377616,
          146.35925243970883,
          58.27440185376277,
          82.70607977603372,
          98.36755620389897,
          94.29838992532274,
          439.31495232523605,
          128.27468325186643,
          104.7467237054732,
          70.29128337174174,
          315.1361669298142,
          303.72522303631047,
          314.05169975818546,
          58.984241889591075,
          143.1494764473136,
          333.4999530233198,
          89.79271105523844,
          239.5767758134127,
          61.95407732713248,
          114.77311105991473,
          97.93000702267197,
          154.06493441242904,
          106.24661722110186,
          73.26946723014778,
          101.20832267976348,
          284.2616064333215,
          434.0313107375229,
          66.15569110117237,
          107.94770664187205,
          98.57225669411164,
          128.73500906733886,
          341.6817251920475,
          179.74264545064378,
          228.33252924404485,
          109.40467253686712,
          138.1224584537426,
          71.24727209756891,
          476.4290144360167,
          108.05010971954444,
          24.778206906077344,
          1067.0931626161346,
          104.70499903159097,
          361.5542320783604,
          263.1061946620514,
          92.3009106787599,
          275.34378336038776,
          88.89892503649604,
          101.2299576756408,
          131.6416769593316,
          286.7118754396606,
          262.1850723855399,
          1460.2242145606915,
          70.57714947959816,
          60.26647466638311,
          154.35725162930044,
          47.69492314862116,
          54.43424197385229,
          317.7398265522207,
          90.47604133612575,
          102.96991072315132,
          234.91329889731057,
          134.8584151232289,
          151.6030266778081,
          420.47433022990697,
          115.42900974979058,
          48.32325406766722,
          131.32459756814586,
          82.85620608721395,
          108.7630446191478,
          101.72269450156193,
          188.76070236384152,
          316.19203835065167,
          88.92687508655942,
          58.85473326098215,
          159.61536227667708,
          213.58908099175045,
          330.4024033631713,
          390.1558341670525,
          84.62635446531291,
          91.65352696759581,
          64.42868544591785,
          163.26068169952515,
          96.03835333211033,
          96.37407437027386,
          228.150121138947,
          168.85476927379528,
          912.4822546495955,
          143.56992108598308,
          297.63906717555477,
          73.01472144836478,
          56.37761417172903,
          79.07990067864004,
          367.9961239476807,
          56.390377644706746,
          307.2088269180069,
          114.15265685470526,
          95.83395659297896,
          368.66310350191594,
          310.08564238250125,
          330.8603524440723,
          38.1511618772165,
          97.96968473204217,
          245.24000741402787,
          210.6584757756143,
          106.02191746365372,
          73.14488146645415,
          39.8172136690112,
          130.54257372718024,
          153.19276364372308,
          225.10787694820615,
          203.2445755867864,
          83.01802940036738,
          174.12200681174622,
          119.6125283662076,
          224.24168954075014,
          82.92910731810194,
          51.846970978973175,
          320.6785414325911,
          69.64285216516939,
          139.39158150624166,
          245.33830406189853,
          129.0596963927057,
          326.80968946684806,
          765.963316820095,
          315.2496646234131,
          740.091271477388,
          104.76226345437887,
          190.9449077035592,
          41.630315678876734,
          215.67106788609695,
          133.60224958611605,
          48.7478133419892,
          290.8787751910109,
          169.4854909517168
         ]
        }
       ],
       "frames": [
        {
         "data": [
          {
           "coloraxis": "coloraxis",
           "geo": "geo",
           "hovertemplate": "Year=1990<br>Code=%{location}<br>Total emission=%{z}<extra></extra>",
           "locations": [
            "AFG",
            "ALB",
            "DZA",
            "AGO",
            "ATG",
            "ARG",
            "ARM",
            "AUS",
            "AUT",
            "AZE",
            "BHS",
            "BHR",
            "BGD",
            "BRB",
            "BLR",
            "BEL",
            "BLZ",
            "BEN",
            "BTN",
            "BOL",
            "BIH",
            "BWA",
            "BRA",
            "BRN",
            "BGR",
            "BFA",
            "BDI",
            "CPV",
            "KHM",
            "CMR",
            "CAN",
            "CAF",
            "TCD",
            "CHL",
            "CHN",
            "COL",
            "COM",
            "COD",
            "COG",
            "CRI",
            "CIV",
            "HRV",
            "CUB",
            "CYP",
            "CZE",
            "DNK",
            "DJI",
            "DMA",
            "DOM",
            "ECU",
            "EGY",
            "SLV",
            "GNQ",
            "ERI",
            "EST",
            "SWZ",
            "ETH",
            "FJI",
            "FIN",
            "FRA",
            "GAB",
            "GMB",
            "GEO",
            "DEU",
            "GHA",
            "GRC",
            "GRD",
            "GTM",
            "GIN",
            "GNB",
            "GUY",
            "HTI",
            "HND",
            "HUN",
            "ISL",
            "IND",
            "IDN",
            "IRN",
            "IRQ",
            "IRL",
            "ISR",
            "ITA",
            "JAM",
            "JPN",
            "JOR",
            "KAZ",
            "KEN",
            "KIR",
            "PRK",
            "KOR",
            "KWT",
            "KGZ",
            "LAO",
            "LVA",
            "LBN",
            "LSO",
            "LBR",
            "LBY",
            "LTU",
            "LUX",
            "MDG",
            "MWI",
            "MYS",
            "MDV",
            "MLI",
            "MLT",
            "MHL",
            "MRT",
            "MUS",
            "MEX",
            "MDA",
            "MNG",
            "MNE",
            "MAR",
            "MOZ",
            "MMR",
            "NAM",
            "NPL",
            "NLD",
            "NZL",
            "NIC",
            "NER",
            "NGA",
            "MKD",
            "NOR",
            "OMN",
            "PAK",
            "PAN",
            "PNG",
            "PRY",
            "PER",
            "PHL",
            "POL",
            "PRT",
            "QAT",
            "ROU",
            "RUS",
            "RWA",
            "WSM",
            "STP",
            "SAU",
            "SEN",
            "SRB",
            "SYC",
            "SLE",
            "SGP",
            "SVK",
            "SVN",
            "SLB",
            "SOM",
            "ZAF",
            "ESP",
            "LKA",
            "LCA",
            "VCT",
            "SDN",
            "SUR",
            "SWE",
            "CHE",
            "SYR",
            "TJK",
            "TZA",
            "THA",
            "TGO",
            "TON",
            "TTO",
            "TUN",
            "TUR",
            "TKM",
            "UGA",
            "UKR",
            "ARE",
            "GBR",
            "USA",
            "URY",
            "UZB",
            "VUT",
            "VEN",
            "VNM",
            "YEM",
            "ZMB",
            "ZWE"
           ],
           "name": "",
           "type": "choropleth",
           "z": [
            158.39618336895924,
            103.86429803726834,
            85.23368747284673,
            124.38315092030255,
            172.45380682254353,
            80.02115415502624,
            94.2118229446796,
            629.4378706248425,
            254.2252899704995,
            116.47602212599526,
            231.76758571634866,
            473.3676827219915,
            35.261818531384634,
            156.01610801115984,
            355.13765649229555,
            278.52905392681464,
            85.06543326650743,
            96.97118195937087,
            1020.0344405844719,
            61.41043011623574,
            217.12848806846222,
            161.5557704801843,
            118.59783267909579,
            377.4406039710731,
            370.1276612876677,
            96.16560973433992,
            89.61763387723052,
            53.71911312324309,
            110.19064833236163,
            106.76717652703442,
            624.4793188708965,
            97.939974646689,
            78.46438180040019,
            298.8729757523057,
            202.9836483921123,
            111.92582631411605,
            62.020129618021635,
            130.21033618867062,
            91.68157847057182,
            80.45772154747354,
            77.6258886360002,
            225.98437101768172,
            196.64777459857225,
            148.75418635168893,
            515.9559526407445,
            291.860758705754,
            92.49923526163705,
            39.28701350487795,
            75.89450869377616,
            146.35925243970883,
            58.27440185376277,
            82.70607977603372,
            98.36755620389897,
            94.29838992532274,
            439.31495232523605,
            128.27468325186643,
            104.7467237054732,
            70.29128337174174,
            315.1361669298142,
            303.72522303631047,
            314.05169975818546,
            58.984241889591075,
            143.1494764473136,
            333.4999530233198,
            89.79271105523844,
            239.5767758134127,
            61.95407732713248,
            114.77311105991473,
            97.93000702267197,
            154.06493441242904,
            106.24661722110186,
            73.26946723014778,
            101.20832267976348,
            284.2616064333215,
            434.0313107375229,
            66.15569110117237,
            107.94770664187205,
            98.57225669411164,
            128.73500906733886,
            341.6817251920475,
            179.74264545064378,
            228.33252924404485,
            109.40467253686712,
            138.1224584537426,
            71.24727209756891,
            476.4290144360167,
            108.05010971954444,
            24.778206906077344,
            1067.0931626161346,
            104.70499903159097,
            361.5542320783604,
            263.1061946620514,
            92.3009106787599,
            275.34378336038776,
            88.89892503649604,
            101.2299576756408,
            131.6416769593316,
            286.7118754396606,
            262.1850723855399,
            1460.2242145606915,
            70.57714947959816,
            60.26647466638311,
            154.35725162930044,
            47.69492314862116,
            54.43424197385229,
            317.7398265522207,
            90.47604133612575,
            102.96991072315132,
            234.91329889731057,
            134.8584151232289,
            151.6030266778081,
            420.47433022990697,
            115.42900974979058,
            48.32325406766722,
            131.32459756814586,
            82.85620608721395,
            108.7630446191478,
            101.72269450156193,
            188.76070236384152,
            316.19203835065167,
            88.92687508655942,
            58.85473326098215,
            159.61536227667708,
            213.58908099175045,
            330.4024033631713,
            390.1558341670525,
            84.62635446531291,
            91.65352696759581,
            64.42868544591785,
            163.26068169952515,
            96.03835333211033,
            96.37407437027386,
            228.150121138947,
            168.85476927379528,
            912.4822546495955,
            143.56992108598308,
            297.63906717555477,
            73.01472144836478,
            56.37761417172903,
            79.07990067864004,
            367.9961239476807,
            56.390377644706746,
            307.2088269180069,
            114.15265685470526,
            95.83395659297896,
            368.66310350191594,
            310.08564238250125,
            330.8603524440723,
            38.1511618772165,
            97.96968473204217,
            245.24000741402787,
            210.6584757756143,
            106.02191746365372,
            73.14488146645415,
            39.8172136690112,
            130.54257372718024,
            153.19276364372308,
            225.10787694820615,
            203.2445755867864,
            83.01802940036738,
            174.12200681174622,
            119.6125283662076,
            224.24168954075014,
            82.92910731810194,
            51.846970978973175,
            320.6785414325911,
            69.64285216516939,
            139.39158150624166,
            245.33830406189853,
            129.0596963927057,
            326.80968946684806,
            765.963316820095,
            315.2496646234131,
            740.091271477388,
            104.76226345437887,
            190.9449077035592,
            41.630315678876734,
            215.67106788609695,
            133.60224958611605,
            48.7478133419892,
            290.8787751910109,
            169.4854909517168
           ]
          }
         ],
         "name": "1990"
        },
        {
         "data": [
          {
           "coloraxis": "coloraxis",
           "geo": "geo",
           "hovertemplate": "Year=1991<br>Code=%{location}<br>Total emission=%{z}<extra></extra>",
           "locations": [
            "AFG",
            "ALB",
            "DZA",
            "AGO",
            "ATG",
            "ARG",
            "ARM",
            "AUS",
            "AUT",
            "AZE",
            "BHS",
            "BHR",
            "BGD",
            "BRB",
            "BLR",
            "BEL",
            "BLZ",
            "BEN",
            "BTN",
            "BOL",
            "BIH",
            "BWA",
            "BRA",
            "BRN",
            "BGR",
            "BFA",
            "BDI",
            "CPV",
            "KHM",
            "CMR",
            "CAN",
            "CAF",
            "TCD",
            "CHL",
            "CHN",
            "COL",
            "COM",
            "COD",
            "COG",
            "CRI",
            "CIV",
            "HRV",
            "CUB",
            "CYP",
            "CZE",
            "DNK",
            "DJI",
            "DMA",
            "DOM",
            "ECU",
            "EGY",
            "SLV",
            "GNQ",
            "ERI",
            "EST",
            "SWZ",
            "ETH",
            "FJI",
            "FIN",
            "FRA",
            "GAB",
            "GMB",
            "GEO",
            "DEU",
            "GHA",
            "GRC",
            "GRD",
            "GTM",
            "GIN",
            "GNB",
            "GUY",
            "HTI",
            "HND",
            "HUN",
            "ISL",
            "IND",
            "IDN",
            "IRN",
            "IRQ",
            "IRL",
            "ISR",
            "ITA",
            "JAM",
            "JPN",
            "JOR",
            "KAZ",
            "KEN",
            "KIR",
            "PRK",
            "KOR",
            "KWT",
            "KGZ",
            "LAO",
            "LVA",
            "LBN",
            "LSO",
            "LBR",
            "LBY",
            "LTU",
            "LUX",
            "MDG",
            "MWI",
            "MYS",
            "MDV",
            "MLI",
            "MLT",
            "MHL",
            "MRT",
            "MUS",
            "MEX",
            "MDA",
            "MNG",
            "MNE",
            "MAR",
            "MOZ",
            "MMR",
            "NAM",
            "NPL",
            "NLD",
            "NZL",
            "NIC",
            "NER",
            "NGA",
            "MKD",
            "NOR",
            "OMN",
            "PAK",
            "PAN",
            "PNG",
            "PRY",
            "PER",
            "PHL",
            "POL",
            "PRT",
            "QAT",
            "ROU",
            "RUS",
            "RWA",
            "WSM",
            "STP",
            "SAU",
            "SEN",
            "SRB",
            "SYC",
            "SLE",
            "SGP",
            "SVK",
            "SVN",
            "SLB",
            "SOM",
            "ZAF",
            "ESP",
            "LKA",
            "LCA",
            "VCT",
            "SDN",
            "SUR",
            "SWE",
            "CHE",
            "SYR",
            "TJK",
            "TZA",
            "THA",
            "TGO",
            "TON",
            "TTO",
            "TUN",
            "TUR",
            "TKM",
            "UGA",
            "UKR",
            "ARE",
            "GBR",
            "USA",
            "URY",
            "UZB",
            "VUT",
            "VEN",
            "VNM",
            "YEM",
            "ZMB",
            "ZWE"
           ],
           "name": "",
           "type": "choropleth",
           "z": [
            143.34032289754953,
            78.41184128762487,
            85.98827464456231,
            123.27604950027762,
            173.50906680133195,
            77.39616161310802,
            74.87304729067019,
            590.8032046979865,
            253.0181068953774,
            109.19303373676247,
            219.27431170692086,
            472.33641590160073,
            34.01586876755145,
            184.53363565033123,
            342.0284473219541,
            271.5398785105002,
            95.40335079109288,
            96.1132245292212,
            988.8037464087448,
            62.39455104384213,
            202.72845452575106,
            158.5322793409142,
            115.02260949535304,
            379.761235265392,
            286.4307222688747,
            96.91334230709901,
            91.95488301192144,
            54.35673855529562,
            109.29234310360769,
            104.26305628183827,
            596.5027328834108,
            98.78155684071164,
            81.73673854111665,
            288.21515527898754,
            209.83393976259578,
            111.49868786486726,
            62.21118413105843,
            123.68894067891485,
            91.91940957063623,
            83.13335779656069,
            77.45591970883986,
            187.34968080763966,
            157.56800123145626,
            144.78546322166093,
            484.40685155605365,
            320.61277820956417,
            92.41331454212285,
            40.7291741268082,
            75.50656187292901,
            135.76754530328316,
            56.996259404666816,
            85.64507826179411,
            102.63577588696396,
            95.85215738201997,
            411.7669555259224,
            123.13164968187529,
            104.08494802728056,
            62.929214319806476,
            296.5141052388038,
            311.3487244581823,
            318.59878723035763,
            58.98436096277425,
            117.70388014640501,
            273.4851380815153,
            90.52289676444319,
            232.71171763133592,
            65.20972423802613,
            113.26125208055146,
            100.74924117883886,
            154.29604740547077,
            102.01550517546617,
            73.64589405716178,
            99.17157544113658,
            269.28431681030327,
            418.51674472550104,
            66.13598120618478,
            109.76976444085956,
            101.54330840561582,
            78.02517611069179,
            337.1383632101431,
            166.61448914932308,
            235.04220700183504,
            108.674718796196,
            133.10547155042326,
            67.74968929630559,
            472.9584860642533,
            107.39796718033818,
            24.826734652336754,
            857.886242469971,
            105.7413670880603,
            340.2426649291881,
            235.6103163365893,
            92.01215668669147,
            254.46684828722456,
            96.97728710554726,
            101.53632656141411,
            129.49765359125038,
            290.9728577395305,
            285.7434793665672,
            1431.2720959689925,
            69.85592957575594,
            60.132125634937466,
            160.51293943386526,
            48.78036718012108,
            54.607773630955,
            311.77994121123,
            90.21636703578218,
            102.80110210583588,
            229.94005518254338,
            134.44471993333661,
            124.38058495935002,
            365.56570565986016,
            109.66086755997726,
            49.4607640083666,
            127.6841284594755,
            80.74320178059797,
            140.84716470196182,
            101.67292248632141,
            177.37128978105747,
            300.195162999628,
            88.37441568593636,
            58.97793939605983,
            161.30169006247638,
            199.88732367699424,
            312.373055837392,
            420.4370737070222,
            84.52590814251498,
            95.6612224240008,
            70.79178088801147,
            162.06580509857892,
            105.59029233058781,
            90.78990839241031,
            243.38299592328053,
            171.06756059470482,
            838.2949623783991,
            118.59243864058129,
            278.86152611231154,
            73.61847635530253,
            56.09384482642976,
            78.8799753189675,
            391.66008132026974,
            55.55636045715194,
            249.13455449945207,
            133.92855875296354,
            97.24491811270599,
            352.61116700897554,
            284.83427564076214,
            310.07157908582906,
            37.430634017083364,
            97.02981410579831,
            237.85376573313943,
            215.1622843756371,
            105.46635078587266,
            75.88239789992498,
            39.93566898010689,
            128.23839863415836,
            169.73197394704664,
            226.14137216959924,
            193.2492767770719,
            86.52899507397389,
            150.68122841224078,
            118.80349492339634,
            237.89294411834268,
            84.35963659774599,
            57.62450912374273,
            320.1206732063953,
            72.48908542230843,
            138.3845630216597,
            248.39885621842163,
            129.0552518610406,
            269.229554254286,
            768.8430788378615,
            313.64787983860026,
            713.4385357003094,
            111.14426917353737,
            180.18824264986637,
            40.97688540035564,
            218.72578035069807,
            131.0568199319342,
            51.255450416529705,
            280.34475634730006,
            167.62672410201486
           ]
          }
         ],
         "name": "1991"
        },
        {
         "data": [
          {
           "coloraxis": "coloraxis",
           "geo": "geo",
           "hovertemplate": "Year=1992<br>Code=%{location}<br>Total emission=%{z}<extra></extra>",
           "locations": [
            "AFG",
            "ALB",
            "DZA",
            "AGO",
            "ATG",
            "ARG",
            "ARM",
            "AUS",
            "AUT",
            "AZE",
            "BHS",
            "BHR",
            "BGD",
            "BRB",
            "BLR",
            "BEL",
            "BLZ",
            "BEN",
            "BTN",
            "BOL",
            "BIH",
            "BWA",
            "BRA",
            "BRN",
            "BGR",
            "BFA",
            "BDI",
            "CPV",
            "KHM",
            "CMR",
            "CAN",
            "CAF",
            "TCD",
            "CHL",
            "CHN",
            "COL",
            "COM",
            "COD",
            "COG",
            "CRI",
            "CIV",
            "HRV",
            "CUB",
            "CYP",
            "CZE",
            "DNK",
            "DJI",
            "DMA",
            "DOM",
            "ECU",
            "EGY",
            "SLV",
            "GNQ",
            "ERI",
            "EST",
            "SWZ",
            "ETH",
            "FJI",
            "FIN",
            "FRA",
            "GAB",
            "GMB",
            "GEO",
            "DEU",
            "GHA",
            "GRC",
            "GRD",
            "GTM",
            "GIN",
            "GNB",
            "GUY",
            "HTI",
            "HND",
            "HUN",
            "ISL",
            "IND",
            "IDN",
            "IRN",
            "IRQ",
            "IRL",
            "ISR",
            "ITA",
            "JAM",
            "JPN",
            "JOR",
            "KAZ",
            "KEN",
            "KIR",
            "PRK",
            "KOR",
            "KWT",
            "KGZ",
            "LAO",
            "LVA",
            "LBN",
            "LSO",
            "LBR",
            "LBY",
            "LTU",
            "LUX",
            "MDG",
            "MWI",
            "MYS",
            "MDV",
            "MLI",
            "MLT",
            "MHL",
            "MRT",
            "MUS",
            "MEX",
            "MDA",
            "MNG",
            "MNE",
            "MAR",
            "MOZ",
            "MMR",
            "NAM",
            "NPL",
            "NLD",
            "NZL",
            "NIC",
            "NER",
            "NGA",
            "MKD",
            "NOR",
            "OMN",
            "PAK",
            "PAN",
            "PNG",
            "PRY",
            "PER",
            "PHL",
            "POL",
            "PRT",
            "QAT",
            "ROU",
            "RUS",
            "RWA",
            "WSM",
            "STP",
            "SAU",
            "SEN",
            "SRB",
            "SYC",
            "SLE",
            "SGP",
            "SVK",
            "SVN",
            "SLB",
            "SOM",
            "ZAF",
            "ESP",
            "LKA",
            "LCA",
            "VCT",
            "SDN",
            "SUR",
            "SWE",
            "CHE",
            "SYR",
            "TJK",
            "TZA",
            "THA",
            "TGO",
            "TON",
            "TTO",
            "TUN",
            "TUR",
            "TKM",
            "UGA",
            "UKR",
            "ARE",
            "GBR",
            "USA",
            "URY",
            "UZB",
            "VUT",
            "VEN",
            "VNM",
            "YEM",
            "ZMB",
            "ZWE"
           ],
           "name": "",
           "type": "choropleth",
           "z": [
            89.67576955677059,
            62.8660005623585,
            85.69154856279297,
            122.7566739399019,
            177.90263693753778,
            78.64543450709387,
            59.50301901030465,
            586.6537214061161,
            236.0204351035091,
            97.96606981847737,
            225.7618251393645,
            514.2243609463835,
            34.19140355659591,
            158.9867045943869,
            274.75203220438533,
            270.5896821135118,
            96.42191785368766,
            95.21907711143865,
            941.8619133571307,
            60.60619340810958,
            152.66753754892912,
            167.515419558008,
            112.46483455333478,
            391.5283269682941,
            278.4626258933669,
            93.35108049133102,
            91.16168278790236,
            55.26554111373774,
            107.22607658920423,
            103.6675913970632,
            592.8425352497512,
            94.80830873238904,
            79.23431218289603,
            286.52030088735137,
            213.32837909989095,
            109.61083282308186,
            60.767798775570064,
            121.02907653882741,
            91.54177076505893,
            99.54497842702919,
            77.33454895058475,
            164.78070384355325,
            137.54913789899712,
            150.65377330563783,
            445.4576647647285,
            298.480837959767,
            92.39519505604387,
            41.77554794171014,
            77.32561735135879,
            126.87146095385751,
            55.94881238991433,
            87.54754120092173,
            101.23771768924979,
            105.33771308063976,
            290.8526940670841,
            112.46395149672489,
            100.69302260820596,
            66.51196577694975,
            276.0634259237222,
            294.28766229252324,
            314.64695061436555,
            56.988695491374486,
            98.95339661434289,
            236.80769347836008,
            91.82297211278158,
            226.69918050293202,
            69.45279266196675,
            114.62613511762032,
            94.16879122780425,
            148.77058764149558,
            102.67129850040473,
            69.03916857356104,
            99.27612905882877,
            222.35661508286785,
            424.5670688393723,
            65.81692277407876,
            111.02478027752734,
            104.37394638720374,
            105.95453642920667,
            319.0821917531046,
            165.77824655475308,
            236.7787299373294,
            126.14630907389493,
            125.99137858310056,
            68.51967636597486,
            428.62844530066894,
            107.48171884332032,
            25.58338245994169,
            707.060901389685,
            108.05933382679632,
            0,
            201.44202668645084,
            90.01929422838353,
            225.60073624757013,
            102.4186051508843,
            98.1667266682938,
            124.56860114586955,
            275.03852901114516,
            173.7819953655482,
            1310.115360107095,
            70.0705311195467,
            59.34421322462905,
            164.49548305247433,
            61.2827074683089,
            52.71164274704209,
            318.2941163762383,
            93.27390212204286,
            101.10894725911199,
            249.92604857249037,
            132.88727041695873,
            101.78990222126679,
            335.28874693279903,
            104.0833263217401,
            49.20590705930279,
            124.4071114437845,
            82.95309139137021,
            143.33397074935496,
            100.89610869922842,
            169.17372366714113,
            304.3390996120848,
            89.0981661867352,
            59.1965008982382,
            163.43266074431034,
            195.33577692304212,
            309.9379510456441,
            407.1032695415412,
            85.81101226231405,
            100.48338580580243,
            71.28120956938038,
            158.10274352218303,
            104.0585960144762,
            86.91957938063354,
            234.9043335716578,
            182.49435940378362,
            863.252366939513,
            110.61316222961862,
            255.17609157461362,
            75.7783533097273,
            57.47963689648922,
            76.34379037695865,
            396.92277869227655,
            55.18786929468682,
            248.87345160299768,
            148.2602953520908,
            91.60800522296263,
            338.01857462381196,
            267.9288535604794,
            308.84022032579054,
            37.38785657358445,
            93.32485382537782,
            231.8198511933783,
            216.245112191898,
            109.61486074646633,
            83.9226749435666,
            43.019525178323306,
            126.93926487921136,
            177.06097550249015,
            213.22070612744454,
            177.73044459900595,
            81.34832537046178,
            132.85334221173164,
            118.35448044090921,
            241.82084153123677,
            86.046012714447,
            53.31176584660217,
            311.4555538484802,
            72.42411654889717,
            142.3429209821143,
            221.08698591199698,
            129.1733984445584,
            227.08326051190403,
            735.5121297233999,
            304.21971211663305,
            688.5142469416874,
            113.18209293242846,
            146.83451452282156,
            41.766404201843145,
            215.2719681493289,
            123.20755162969495,
            47.64849642450626,
            296.2448016866424,
            168.1247810421942
           ]
          }
         ],
         "name": "1992"
        },
        {
         "data": [
          {
           "coloraxis": "coloraxis",
           "geo": "geo",
           "hovertemplate": "Year=1993<br>Code=%{location}<br>Total emission=%{z}<extra></extra>",
           "locations": [
            "AFG",
            "ALB",
            "DZA",
            "AGO",
            "ATG",
            "ARG",
            "ARM",
            "AUS",
            "AUT",
            "AZE",
            "BHS",
            "BHR",
            "BGD",
            "BRB",
            "BLR",
            "BEL",
            "BLZ",
            "BEN",
            "BTN",
            "BOL",
            "BIH",
            "BWA",
            "BRA",
            "BRN",
            "BGR",
            "BFA",
            "BDI",
            "CPV",
            "KHM",
            "CMR",
            "CAN",
            "CAF",
            "TCD",
            "CHL",
            "CHN",
            "COL",
            "COM",
            "COD",
            "COG",
            "CRI",
            "CIV",
            "HRV",
            "CUB",
            "CYP",
            "CZE",
            "DNK",
            "DJI",
            "DMA",
            "DOM",
            "ECU",
            "EGY",
            "SLV",
            "GNQ",
            "ERI",
            "EST",
            "SWZ",
            "ETH",
            "FJI",
            "FIN",
            "FRA",
            "GAB",
            "GMB",
            "GEO",
            "DEU",
            "GHA",
            "GRC",
            "GRD",
            "GTM",
            "GIN",
            "GNB",
            "GUY",
            "HTI",
            "HND",
            "HUN",
            "ISL",
            "IND",
            "IDN",
            "IRN",
            "IRQ",
            "IRL",
            "ISR",
            "ITA",
            "JAM",
            "JPN",
            "JOR",
            "KAZ",
            "KEN",
            "KIR",
            "PRK",
            "KOR",
            "KWT",
            "KGZ",
            "LAO",
            "LVA",
            "LBN",
            "LSO",
            "LBR",
            "LBY",
            "LTU",
            "LUX",
            "MDG",
            "MWI",
            "MYS",
            "MDV",
            "MLI",
            "MLT",
            "MHL",
            "MRT",
            "MUS",
            "MEX",
            "MDA",
            "MNG",
            "MNE",
            "MAR",
            "MOZ",
            "MMR",
            "NAM",
            "NPL",
            "NLD",
            "NZL",
            "NIC",
            "NER",
            "NGA",
            "MKD",
            "NOR",
            "OMN",
            "PAK",
            "PAN",
            "PNG",
            "PRY",
            "PER",
            "PHL",
            "POL",
            "PRT",
            "QAT",
            "ROU",
            "RUS",
            "RWA",
            "WSM",
            "STP",
            "SAU",
            "SEN",
            "SRB",
            "SYC",
            "SLE",
            "SGP",
            "SVK",
            "SVN",
            "SLB",
            "SOM",
            "ZAF",
            "ESP",
            "LKA",
            "LCA",
            "VCT",
            "SDN",
            "SUR",
            "SWE",
            "CHE",
            "SYR",
            "TJK",
            "TZA",
            "THA",
            "TGO",
            "TON",
            "TTO",
            "TUN",
            "TUR",
            "TKM",
            "UGA",
            "UKR",
            "ARE",
            "GBR",
            "USA",
            "URY",
            "UZB",
            "VUT",
            "VEN",
            "VNM",
            "YEM",
            "ZMB",
            "ZWE"
           ],
           "name": "",
           "type": "choropleth",
           "z": [
            83.23857161363917,
            65.44102162590437,
            86.56850661187245,
            120.05833087126481,
            183.46774291925752,
            78.45491911992869,
            40.472000363949064,
            579.9710836021961,
            222.67323813286046,
            92.57240046697798,
            237.88339318033417,
            567.0463433729323,
            33.75501135068189,
            164.45354938341785,
            218.86788016407854,
            258.4831205392447,
            95.05470382852111,
            94.42893249855165,
            895.7391475902934,
            63.22069875629884,
            140.5539909785319,
            164.91585600846253,
            113.19014721909937,
            372.36705187783343,
            337.069928530733,
            89.00883683978897,
            87.99203655089043,
            52.96347575351111,
            104.2883556003355,
            102.92988582946793,
            590.2875307253705,
            88.17479010383273,
            76.44336829413879,
            285.97192235432834,
            221.75214766980073,
            107.51745603429913,
            59.52708382857677,
            115.51839793008183,
            92.16657021656934,
            94.5839028757245,
            77.34619587039828,
            170.15528795688607,
            109.45365225529797,
            148.767566302614,
            405.8083696237749,
            286.95601083754707,
            92.1525811849732,
            100.66842145388317,
            77.77066943811957,
            119.55411584545352,
            55.04007711471707,
            88.0680183525038,
            91.42327933131158,
            106.83412043816162,
            259.75725272533543,
            101.27204299621722,
            99.51811871178927,
            69.31162540415887,
            267.7423244534089,
            277.45414171520935,
            316.3468152359052,
            54.825288586074336,
            105.77514365417116,
            215.93018965130315,
            90.89015292642563,
            223.97825618773254,
            73.93322072686551,
            115.9765208920907,
            89.53189462164606,
            140.39189408322414,
            111.31750461450335,
            70.6097398645085,
            98.48167696497782,
            228.14280927013147,
            417.1296427718267,
            65.68311981147026,
            112.45729370018289,
            104.42496874443478,
            124.5311916037306,
            308.0525906806019,
            171.0081329785212,
            235.9547811955559,
            131.64723162577513,
            121.73445124301406,
            65.16455846704375,
            386.9993960963279,
            107.13755292655982,
            25.80467998837762,
            621.8161291017321,
            108.93118629712193,
            0,
            170.00014448601854,
            87.74528104669668,
            220.5874873307351,
            112.5986494362819,
            94.757953442913,
            112.70668088565837,
            282.132648171986,
            154.39679683963533,
            1311.063141908296,
            68.52946911591374,
            55.52430025299858,
            170.69496098978811,
            55.07431672883906,
            50.90211914020374,
            384.25223127430604,
            96.54665142180572,
            96.86547773696266,
            232.62880743483993,
            131.64482286350287,
            84.66594933796685,
            304.0080827647396,
            99.72729609780882,
            48.828295196179525,
            119.15193966354055,
            78.52619743407799,
            139.09209061019186,
            100.55580716911561,
            162.69399781614152,
            301.24468974301544,
            88.09410493721342,
            59.72852327469753,
            161.55005070897585,
            204.88147813438115,
            314.21655017369005,
            401.6154903421836,
            88.33648201757528,
            102.22091535530387,
            70.38485398513775,
            157.10848732779414,
            102.79779885032255,
            84.04850413935787,
            253.71257885306747,
            171.47315025326967,
            820.3573966207957,
            104.25252468009883,
            239.208954685111,
            76.86650270756031,
            58.161708243826254,
            73.12365892241583,
            390.3116663358347,
            54.169056712484625,
            230.95942028289042,
            146.1185008234952,
            86.5516993123286,
            357.8165998736672,
            241.9286199757573,
            318.3432744938361,
            36.3260804585513,
            91.59015458869186,
            229.00717481944048,
            201.88171596225754,
            108.86533144567173,
            84.04658040987667,
            40.11784748178797,
            122.17884835266455,
            175.27800334088735,
            193.61008966961404,
            155.97406135395525,
            81.27990680771913,
            113.37609240673912,
            115.21903967923927,
            240.60335553090104,
            87.52646363798145,
            56.588066180394954,
            288.1649137675939,
            72.59649047991729,
            144.32661397282345,
            171.92396735405424,
            121.21909961562343,
            187.578359480406,
            690.1397928986594,
            291.0482540346516,
            653.6230914246362,
            113.07570214098362,
            138.47452830188678,
            41.86016413762019,
            219.59388303727562,
            129.10150562567452,
            45.383488209982104,
            273.3898019357971,
            162.50426241750705
           ]
          }
         ],
         "name": "1993"
        },
        {
         "data": [
          {
           "coloraxis": "coloraxis",
           "geo": "geo",
           "hovertemplate": "Year=1994<br>Code=%{location}<br>Total emission=%{z}<extra></extra>",
           "locations": [
            "AFG",
            "ALB",
            "DZA",
            "AGO",
            "ATG",
            "ARG",
            "ARM",
            "AUS",
            "AUT",
            "AZE",
            "BHS",
            "BHR",
            "BGD",
            "BRB",
            "BLR",
            "BEL",
            "BLZ",
            "BEN",
            "BTN",
            "BOL",
            "BIH",
            "BWA",
            "BRA",
            "BRN",
            "BGR",
            "BFA",
            "BDI",
            "CPV",
            "KHM",
            "CMR",
            "CAN",
            "CAF",
            "TCD",
            "CHL",
            "CHN",
            "COL",
            "COM",
            "COD",
            "COG",
            "CRI",
            "CIV",
            "HRV",
            "CUB",
            "CYP",
            "CZE",
            "DNK",
            "DJI",
            "DMA",
            "DOM",
            "ECU",
            "EGY",
            "SLV",
            "GNQ",
            "ERI",
            "EST",
            "SWZ",
            "ETH",
            "FJI",
            "FIN",
            "FRA",
            "GAB",
            "GMB",
            "GEO",
            "DEU",
            "GHA",
            "GRC",
            "GRD",
            "GTM",
            "GIN",
            "GNB",
            "GUY",
            "HTI",
            "HND",
            "HUN",
            "ISL",
            "IND",
            "IDN",
            "IRN",
            "IRQ",
            "IRL",
            "ISR",
            "ITA",
            "JAM",
            "JPN",
            "JOR",
            "KAZ",
            "KEN",
            "KIR",
            "PRK",
            "KOR",
            "KWT",
            "KGZ",
            "LAO",
            "LVA",
            "LBN",
            "LSO",
            "LBR",
            "LBY",
            "LTU",
            "LUX",
            "MDG",
            "MWI",
            "MYS",
            "MDV",
            "MLI",
            "MLT",
            "MHL",
            "MRT",
            "MUS",
            "MEX",
            "MDA",
            "MNG",
            "MNE",
            "MAR",
            "MOZ",
            "MMR",
            "NAM",
            "NPL",
            "NLD",
            "NZL",
            "NIC",
            "NER",
            "NGA",
            "MKD",
            "NOR",
            "OMN",
            "PAK",
            "PAN",
            "PNG",
            "PRY",
            "PER",
            "PHL",
            "POL",
            "PRT",
            "QAT",
            "ROU",
            "RUS",
            "RWA",
            "WSM",
            "STP",
            "SAU",
            "SEN",
            "SRB",
            "SYC",
            "SLE",
            "SGP",
            "SVK",
            "SVN",
            "SLB",
            "SOM",
            "ZAF",
            "ESP",
            "LKA",
            "LCA",
            "VCT",
            "SDN",
            "SUR",
            "SWE",
            "CHE",
            "SYR",
            "TJK",
            "TZA",
            "THA",
            "TGO",
            "TON",
            "TTO",
            "TUN",
            "TUR",
            "TKM",
            "UGA",
            "UKR",
            "ARE",
            "GBR",
            "USA",
            "URY",
            "UZB",
            "VUT",
            "VEN",
            "VNM",
            "YEM",
            "ZMB",
            "ZWE"
           ],
           "name": "",
           "type": "choropleth",
           "z": [
            75.49062444017756,
            73.69177733313047,
            82.83462290440123,
            118.81418024197282,
            189.29893510802927,
            77.29907121749147,
            25.044612306911755,
            561.0768916269953,
            209.1056393944747,
            80.11685507437147,
            250.9435738056742,
            560.6892394779314,
            33.98623816847469,
            147.00983997312122,
            166.3720550503569,
            246.01082555335557,
            90.89700128917097,
            93.75919689826434,
            863.3008613885772,
            63.9737949880223,
            55.86929207087268,
            161.91990008779277,
            113.58915186516674,
            371.15779837210744,
            321.2167296236874,
            98.81318885951005,
            99.13511519898316,
            53.98270882316216,
            102.66975427846309,
            103.30320284568404,
            586.1676758562381,
            90.31996200975118,
            82.21635633875742,
            282.0976974292584,
            220.35475069955154,
            102.60084422432755,
            62.569455391464416,
            111.39227550261813,
            88.11561497448093,
            96.2376866019011,
            77.40114403382842,
            163.41705530753924,
            108.99378085193268,
            149.8755616824551,
            370.5928188343506,
            278.50642574786116,
            97.34057580266274,
            124.18361395211352,
            83.5873588880992,
            114.63530427950532,
            53.09061285125244,
            88.85845230755785,
            99.58440811691972,
            122.45858949797832,
            287.33526537181865,
            121.25129206055398,
            108.93636900151752,
            67.7244607364856,
            261.37474324105756,
            258.94209326475453,
            317.6174788485276,
            56.46699725464535,
            64.44657370975972,
            189.71598969566523,
            90.05244626841467,
            224.53976864852606,
            80.70149448425799,
            112.98883100829067,
            100.17332733992775,
            154.38902842041892,
            114.26676013577618,
            69.4417412579318,
            99.28436193448862,
            206.70719417442407,
            407.5243369132512,
            66.10150261014036,
            114.87060871289663,
            109.66640179615938,
            129.30814438972862,
            299.1344916953219,
            175.14173067234674,
            224.4430888018662,
            127.49800776630771,
            120.60323960275608,
            63.13252413238923,
            346.1377574144936,
            107.23710420651362,
            25.142013303769403,
            459.5103713127576,
            106.02896351693961,
            0,
            124.37220462448228,
            87.1108467443508,
            208.44244920741593,
            104.96256319863005,
            100.65567097399484,
            120.40530945742069,
            317.50522763201934,
            141.35147680813228,
            1114.2230853136439,
            74.95542144544275,
            60.82314756574444,
            179.6195914403704,
            52.351810465509196,
            54.340077215775665,
            368.56188282190084,
            95.8446073284875,
            99.24551858643433,
            201.6802652298701,
            133.1986934926417,
            76.05773229020095,
            284.58028129178126,
            80.3452178891017,
            49.33302722739187,
            113.60976587043336,
            79.76679302520769,
            132.22708851869115,
            100.7450906101753,
            152.69589811710946,
            309.37493914364643,
            86.59507350944482,
            59.89746396065055,
            159.9088172416773,
            219.787688987704,
            315.8976401168377,
            388.86250978044785,
            87.48093284864964,
            102.53173953733742,
            71.34774184454902,
            157.2333090589259,
            106.06043303607068,
            81.64768639831892,
            241.67833845475917,
            169.02034561290697,
            856.0051810405865,
            101.97898919636076,
            198.9017674475469,
            89.59141385461318,
            57.18045306887027,
            80.62149080176472,
            371.82032054734503,
            53.55396576413285,
            222.19429167928848,
            145.6340888080318,
            95.38637281528621,
            351.20630371378235,
            222.60288644679875,
            313.3656578750937,
            33.97893386700107,
            103.03695583293704,
            227.49021220977912,
            196.32980675569218,
            105.90944905453748,
            91.65174589717611,
            55.57556758257522,
            131.32210594493282,
            169.72830098481975,
            193.72708033316073,
            144.48454337023034,
            81.86244703048123,
            98.84919735587982,
            112.71821197077489,
            245.8345391169253,
            92.59192661970927,
            61.492377087707204,
            293.8266543952878,
            70.78641755788078,
            139.59400736263112,
            161.13426977022687,
            133.43845893971172,
            150.8200657532347,
            659.9596147987369,
            270.5445017255027,
            636.0255367390528,
            111.90013848143995,
            127.77696268489967,
            41.35118936933753,
            214.49661005686318,
            125.04317040622468,
            52.6406710686602,
            248.2796242054446,
            158.07644934923044
           ]
          }
         ],
         "name": "1994"
        },
        {
         "data": [
          {
           "coloraxis": "coloraxis",
           "geo": "geo",
           "hovertemplate": "Year=1995<br>Code=%{location}<br>Total emission=%{z}<extra></extra>",
           "locations": [
            "AFG",
            "ALB",
            "DZA",
            "AGO",
            "ATG",
            "ARG",
            "ARM",
            "AUS",
            "AUT",
            "AZE",
            "BHS",
            "BHR",
            "BGD",
            "BRB",
            "BLR",
            "BEL",
            "BLZ",
            "BEN",
            "BTN",
            "BOL",
            "BIH",
            "BWA",
            "BRA",
            "BRN",
            "BGR",
            "BFA",
            "BDI",
            "CPV",
            "KHM",
            "CMR",
            "CAN",
            "CAF",
            "TCD",
            "CHL",
            "CHN",
            "COL",
            "COM",
            "COD",
            "COG",
            "CRI",
            "CIV",
            "HRV",
            "CUB",
            "CYP",
            "CZE",
            "DNK",
            "DJI",
            "DMA",
            "DOM",
            "ECU",
            "EGY",
            "SLV",
            "GNQ",
            "ERI",
            "EST",
            "SWZ",
            "ETH",
            "FJI",
            "FIN",
            "FRA",
            "GAB",
            "GMB",
            "GEO",
            "DEU",
            "GHA",
            "GRC",
            "GRD",
            "GTM",
            "GIN",
            "GNB",
            "GUY",
            "HTI",
            "HND",
            "HUN",
            "ISL",
            "IND",
            "IDN",
            "IRN",
            "IRQ",
            "IRL",
            "ISR",
            "ITA",
            "JAM",
            "JPN",
            "JOR",
            "KAZ",
            "KEN",
            "KIR",
            "PRK",
            "KOR",
            "KWT",
            "KGZ",
            "LAO",
            "LVA",
            "LBN",
            "LSO",
            "LBR",
            "LBY",
            "LTU",
            "LUX",
            "MDG",
            "MWI",
            "MYS",
            "MDV",
            "MLI",
            "MLT",
            "MHL",
            "MRT",
            "MUS",
            "MEX",
            "MDA",
            "MNG",
            "MNE",
            "MAR",
            "MOZ",
            "MMR",
            "NAM",
            "NPL",
            "NLD",
            "NZL",
            "NIC",
            "NER",
            "NGA",
            "MKD",
            "NOR",
            "OMN",
            "PAK",
            "PAN",
            "PNG",
            "PRY",
            "PER",
            "PHL",
            "POL",
            "PRT",
            "QAT",
            "ROU",
            "RUS",
            "RWA",
            "WSM",
            "STP",
            "SAU",
            "SEN",
            "SRB",
            "SYC",
            "SLE",
            "SGP",
            "SVK",
            "SVN",
            "SLB",
            "SOM",
            "ZAF",
            "ESP",
            "LKA",
            "LCA",
            "VCT",
            "SDN",
            "SUR",
            "SWE",
            "CHE",
            "SYR",
            "TJK",
            "TZA",
            "THA",
            "TGO",
            "TON",
            "TTO",
            "TUN",
            "TUR",
            "TKM",
            "UGA",
            "UKR",
            "ARE",
            "GBR",
            "USA",
            "URY",
            "UZB",
            "VUT",
            "VEN",
            "VNM",
            "YEM",
            "ZMB",
            "ZWE"
           ],
           "name": "",
           "type": "choropleth",
           "z": [
            62.47483736233313,
            74.14465976992167,
            81.17850588979644,
            117.60963631516094,
            198.86025300713553,
            74.75033548992096,
            23.165105111414746,
            540.1713524236388,
            193.92398623953514,
            76.74287929733245,
            292.8908652528339,
            557.9841237757163,
            35.85722570118781,
            153.903508262676,
            152.66604267216007,
            237.73062632814208,
            97.21422027125621,
            92.53723175693135,
            815.0024505630167,
            64.59183530040258,
            58.238075110014236,
            192.78702931034718,
            112.47516755596486,
            355.78122168595223,
            316.417295127436,
            99.0528569621952,
            101.70908543666714,
            55.929522889894486,
            163.7175338757812,
            102.24055734460941,
            574.9989094375526,
            89.47456576190571,
            82.30970055540932,
            289.95587185083286,
            225.83150702781663,
            110.19393934967641,
            63.754426665039944,
            107.37648963107144,
            89.03984724862487,
            94.0520951145864,
            77.72090426586021,
            168.94459668010816,
            104.46571965821512,
            142.7980544621532,
            341.4690305350319,
            263.0682851575839,
            99.67558321224386,
            136.6123932600073,
            84.89471152401248,
            113.58501865178482,
            55.69612106285307,
            91.60612827346054,
            100.18835251062872,
            127.63668732096859,
            304.6756400725585,
            116.9745153699502,
            108.84877738198568,
            69.6237498146178,
            245.63335076422487,
            252.86934709623557,
            326.04373213044704,
            56.11285089604147,
            72.22837904452005,
            173.9567118221271,
            89.11639410870669,
            211.1881089016605,
            79.51653091097639,
            117.09492867840355,
            135.1317206320821,
            156.101219539075,
            113.9679579819018,
            72.63655507654913,
            102.16726758771307,
            202.05271229982867,
            396.5909955583472,
            66.43130786348998,
            117.07350894658958,
            107.91627155033513,
            123.84223441981071,
            286.348931415931,
            180.56911805229936,
            222.75073873278032,
            141.57634043503776,
            121.64354071700188,
            65.67329636250358,
            314.9259234506431,
            107.91169522969649,
            25.70874239285668,
            466.02114356774644,
            103.7547870798812,
            643.6571810653334,
            145.04586251206035,
            85.73776633488656,
            193.80192848772825,
            115.6957682845952,
            101.23859341471969,
            120.00185742281971,
            350.4656714620399,
            142.51828623169038,
            690.3247037503825,
            77.26856508897696,
            59.61026399232458,
            186.00214466238052,
            55.47981899669079,
            54.513782733424634,
            461.8038438711352,
            84.26000911667361,
            99.49526786910613,
            212.91977679323125,
            123.02199825153549,
            71.90831688574393,
            301.7138195925188,
            81.1434980840657,
            48.671204534298965,
            109.82175037004419,
            80.70520385157735,
            134.2390246119918,
            100.67803619111191,
            147.4352046308799,
            311.92834276147437,
            87.76016115008323,
            59.836720023670516,
            160.50874813400318,
            211.5270868754954,
            312.6216071631755,
            400.3233830412421,
            88.83639886780435,
            100.14320490657991,
            91.37026022448168,
            164.58502550743242,
            105.78287335858523,
            82.58472067443226,
            240.6474361522185,
            172.89182954697782,
            841.8537303142322,
            103.52772004565279,
            183.96480006539073,
            80.95277336826297,
            65.28510102673269,
            81.97924079952611,
            356.5961331067306,
            53.76979297513832,
            237.78470744386132,
            152.07064020503563,
            101.32138845718023,
            331.895743119745,
            206.3745844973116,
            283.6454670451164,
            41.34430031089871,
            105.93034192660429,
            230.851553144026,
            182.63612383430188,
            106.18602638657688,
            95.94330680193367,
            61.332744545749065,
            127.53385026205092,
            174.3556709388459,
            182.57217286762716,
            134.48937350857946,
            82.49273844354728,
            96.26659851755738,
            110.16449791874199,
            253.7426620564447,
            95.57932283886747,
            60.91397943235809,
            295.3406717429437,
            70.71665570093491,
            142.71662687169828,
            151.79666570100918,
            132.14936899504787,
            141.4819381008215,
            642.521307156255,
            249.6180928050676,
            609.221623566348,
            112.33267410625812,
            99.24977555409262,
            43.139736735689056,
            217.34008200415445,
            122.41417577179243,
            53.72328472911622,
            240.94564643718257,
            158.2487291329885
           ]
          }
         ],
         "name": "1995"
        },
        {
         "data": [
          {
           "coloraxis": "coloraxis",
           "geo": "geo",
           "hovertemplate": "Year=1996<br>Code=%{location}<br>Total emission=%{z}<extra></extra>",
           "locations": [
            "AFG",
            "ALB",
            "DZA",
            "AGO",
            "ATG",
            "ARG",
            "ARM",
            "AUS",
            "AUT",
            "AZE",
            "BHS",
            "BHR",
            "BGD",
            "BRB",
            "BLR",
            "BEL",
            "BLZ",
            "BEN",
            "BTN",
            "BOL",
            "BIH",
            "BWA",
            "BRA",
            "BRN",
            "BGR",
            "BFA",
            "BDI",
            "CPV",
            "KHM",
            "CMR",
            "CAN",
            "CAF",
            "TCD",
            "CHL",
            "CHN",
            "COL",
            "COM",
            "COD",
            "COG",
            "CRI",
            "CIV",
            "HRV",
            "CUB",
            "CYP",
            "CZE",
            "DNK",
            "DJI",
            "DMA",
            "DOM",
            "ECU",
            "EGY",
            "SLV",
            "GNQ",
            "ERI",
            "EST",
            "SWZ",
            "ETH",
            "FJI",
            "FIN",
            "FRA",
            "GAB",
            "GMB",
            "GEO",
            "DEU",
            "GHA",
            "GRC",
            "GRD",
            "GTM",
            "GIN",
            "GNB",
            "GUY",
            "HTI",
            "HND",
            "HUN",
            "ISL",
            "IND",
            "IDN",
            "IRN",
            "IRQ",
            "IRL",
            "ISR",
            "ITA",
            "JAM",
            "JPN",
            "JOR",
            "KAZ",
            "KEN",
            "KIR",
            "PRK",
            "KOR",
            "KWT",
            "KGZ",
            "LAO",
            "LVA",
            "LBN",
            "LSO",
            "LBR",
            "LBY",
            "LTU",
            "LUX",
            "MDG",
            "MWI",
            "MYS",
            "MDV",
            "MLI",
            "MLT",
            "MHL",
            "MRT",
            "MUS",
            "MEX",
            "MDA",
            "MNG",
            "MNE",
            "MAR",
            "MOZ",
            "MMR",
            "NAM",
            "NPL",
            "NLD",
            "NZL",
            "NIC",
            "NER",
            "NGA",
            "MKD",
            "NOR",
            "OMN",
            "PAK",
            "PAN",
            "PNG",
            "PRY",
            "PER",
            "PHL",
            "POL",
            "PRT",
            "QAT",
            "ROU",
            "RUS",
            "RWA",
            "WSM",
            "STP",
            "SAU",
            "SEN",
            "SRB",
            "SYC",
            "SLE",
            "SGP",
            "SVK",
            "SVN",
            "SLB",
            "SOM",
            "ZAF",
            "ESP",
            "LKA",
            "LCA",
            "VCT",
            "SDN",
            "SUR",
            "SWE",
            "CHE",
            "SYR",
            "TJK",
            "TZA",
            "THA",
            "TGO",
            "TON",
            "TTO",
            "TUN",
            "TUR",
            "TKM",
            "UGA",
            "UKR",
            "ARE",
            "GBR",
            "USA",
            "URY",
            "UZB",
            "VUT",
            "VEN",
            "VNM",
            "YEM",
            "ZMB",
            "ZWE"
           ],
           "name": "",
           "type": "choropleth",
           "z": [
            58.14914916574628,
            72.44839560067715,
            81.19625772280538,
            117.44959699581666,
            209.19394889772423,
            80.16862440942154,
            22.389390070957802,
            520.8596959750969,
            194.5872429974707,
            69.53013448409119,
            320.0433014881436,
            546.4136193590085,
            33.995944094553316,
            143.6076499069459,
            151.8869184448819,
            229.99188402617912,
            86.08557122397784,
            95.37066670451648,
            799.9412463594139,
            63.069830653710696,
            57.2034260212383,
            183.6628015657294,
            110.68605159947816,
            331.1847624268766,
            308.60711391101523,
            96.68571154501534,
            103.52751178980054,
            53.68027302399547,
            164.15577746786215,
            102.02985087553601,
            566.7205358298949,
            78.15016152127133,
            80.84521236109629,
            296.9955081690532,
            220.6002076300768,
            106.69836823636565,
            63.67527494387333,
            103.89777399819724,
            89.55061594293939,
            92.8355830999223,
            78.23795688915615,
            176.93965515765848,
            114.4405976693375,
            141.7301352723709,
            328.9852129484905,
            271.0714968096592,
            99.62537673967691,
            153.79949413555883,
            85.2736430093541,
            118.99396368882492,
            57.700889532247665,
            90.75813500955545,
            101.07211723107164,
            133.67727515679752,
            345.8718642492127,
            109.2593226075295,
            108.97233402956648,
            69.30054204180085,
            244.67274670494496,
            243.62989737770926,
            318.9612431769479,
            54.50931765643751,
            102.33643817183653,
            160.93499149134544,
            88.06280826062893,
            211.18767853103088,
            82.44337155077673,
            117.63945108552365,
            136.62911380584265,
            153.0917862540994,
            118.32272675293606,
            79.00091350605986,
            100.05814589036001,
            199.75665157762822,
            387.477284430826,
            66.30831660032581,
            117.94167012320705,
            109.41962638366019,
            117.88556393946169,
            279.8489162366564,
            180.30770057976105,
            214.3479963456389,
            148.23094495233204,
            121.72117515525973,
            63.71444658973212,
            316.1509419694345,
            108.3952633787896,
            28.588391417309865,
            373.3544789371966,
            101.4599760073003,
            626.1228620892924,
            161.9592646054792,
            85.12190719614154,
            199.11342499782273,
            118.06947547058505,
            99.87469632542363,
            119.68601281753389,
            357.8193333189044,
            147.08106312366155,
            636.7553799746515,
            77.60217563682649,
            57.745165043382634,
            197.55998775883825,
            55.99513779838956,
            53.59760072887911,
            320.03932400205315,
            80.28723052262879,
            98.77630116047825,
            184.66800531042438,
            121.65648971104225,
            70.69302864749231,
            291.46859397177207,
            84.65497216871276,
            48.3037414940026,
            106.17878242344415,
            79.14725579648398,
            116.96277148068567,
            100.40531015531123,
            143.63723571517153,
            305.44738234190777,
            86.96437008945124,
            60.47317175282839,
            161.69214855634914,
            212.67745554911596,
            307.6629118150263,
            391.57403840737095,
            89.02643622905163,
            103.34553521074878,
            95.69837341049947,
            161.89151801935986,
            103.73103278911573,
            81.37799747734469,
            246.24535755534652,
            162.34459783911774,
            889.1433385387661,
            123.9242027190941,
            169.31535366036297,
            82.73525809535737,
            67.0033988256945,
            81.12969971451207,
            363.97704956618065,
            54.365377626779996,
            261.3728223026246,
            149.7704587984349,
            99.92877322287418,
            313.32365439981,
            196.69064862755357,
            285.26029719987855,
            42.3538816257716,
            106.33026562585012,
            231.76125055340174,
            178.51395883845342,
            115.00462953485567,
            96.50875626536947,
            58.36550525116692,
            128.27795644188052,
            172.67108339115555,
            177.52324816723183,
            128.80672886161327,
            82.24330930256738,
            95.1805853686881,
            107.0350811177024,
            253.39650620738146,
            100.97453806275517,
            61.22595701806323,
            292.69088854589364,
            73.31951449930617,
            143.785493487216,
            153.72800527412528,
            128.13759599817826,
            113.01913306096229,
            610.65672794497,
            241.8790234832667,
            569.9160153158571,
            115.99626191075207,
            97.55954329386435,
            44.948726954030356,
            218.1626256552747,
            116.93559465022315,
            52.17838423445082,
            236.44870361925763,
            157.13192837462464
           ]
          }
         ],
         "name": "1996"
        },
        {
         "data": [
          {
           "coloraxis": "coloraxis",
           "geo": "geo",
           "hovertemplate": "Year=1997<br>Code=%{location}<br>Total emission=%{z}<extra></extra>",
           "locations": [
            "AFG",
            "ALB",
            "DZA",
            "AGO",
            "ATG",
            "ARG",
            "ARM",
            "AUS",
            "AUT",
            "AZE",
            "BHS",
            "BHR",
            "BGD",
            "BRB",
            "BLR",
            "BEL",
            "BLZ",
            "BEN",
            "BTN",
            "BOL",
            "BIH",
            "BWA",
            "BRA",
            "BRN",
            "BGR",
            "BFA",
            "BDI",
            "CPV",
            "KHM",
            "CMR",
            "CAN",
            "CAF",
            "TCD",
            "CHL",
            "CHN",
            "COL",
            "COM",
            "COD",
            "COG",
            "CRI",
            "CIV",
            "HRV",
            "CUB",
            "CYP",
            "CZE",
            "DNK",
            "DJI",
            "DMA",
            "DOM",
            "ECU",
            "EGY",
            "SLV",
            "GNQ",
            "ERI",
            "EST",
            "SWZ",
            "ETH",
            "FJI",
            "FIN",
            "FRA",
            "GAB",
            "GMB",
            "GEO",
            "DEU",
            "GHA",
            "GRC",
            "GRD",
            "GTM",
            "GIN",
            "GNB",
            "GUY",
            "HTI",
            "HND",
            "HUN",
            "ISL",
            "IND",
            "IDN",
            "IRN",
            "IRQ",
            "IRL",
            "ISR",
            "ITA",
            "JAM",
            "JPN",
            "JOR",
            "KAZ",
            "KEN",
            "KIR",
            "PRK",
            "KOR",
            "KWT",
            "KGZ",
            "LAO",
            "LVA",
            "LBN",
            "LSO",
            "LBR",
            "LBY",
            "LTU",
            "LUX",
            "MDG",
            "MWI",
            "MYS",
            "MDV",
            "MLI",
            "MLT",
            "MHL",
            "MRT",
            "MUS",
            "MEX",
            "MDA",
            "MNG",
            "MNE",
            "MAR",
            "MOZ",
            "MMR",
            "NAM",
            "NPL",
            "NLD",
            "NZL",
            "NIC",
            "NER",
            "NGA",
            "MKD",
            "NOR",
            "OMN",
            "PAK",
            "PAN",
            "PNG",
            "PRY",
            "PER",
            "PHL",
            "POL",
            "PRT",
            "QAT",
            "ROU",
            "RUS",
            "RWA",
            "WSM",
            "STP",
            "SAU",
            "SEN",
            "SRB",
            "SYC",
            "SLE",
            "SGP",
            "SVK",
            "SVN",
            "SLB",
            "SOM",
            "ZAF",
            "ESP",
            "LKA",
            "LCA",
            "VCT",
            "SDN",
            "SUR",
            "SWE",
            "CHE",
            "SYR",
            "TJK",
            "TZA",
            "THA",
            "TGO",
            "TON",
            "TTO",
            "TUN",
            "TUR",
            "TKM",
            "UGA",
            "UKR",
            "ARE",
            "GBR",
            "USA",
            "URY",
            "UZB",
            "VUT",
            "VEN",
            "VNM",
            "YEM",
            "ZMB",
            "ZWE"
           ],
           "name": "",
           "type": "choropleth",
           "z": [
            52.3420657746403,
            64.25025564744698,
            78.54690261523568,
            115.70017294744268,
            208.43731125181301,
            75.35717928513579,
            22.48561385265468,
            495.20088432251447,
            180.9880053955546,
            67.72443115491342,
            301.25128480849673,
            540.0567940315768,
            35.410336872253694,
            166.34162979562768,
            146.27320110704756,
            212.2273414498914,
            107.51530222041703,
            92.68278966683695,
            779.0328482950251,
            62.445654880945526,
            85.1437779270731,
            181.28758297223172,
            112.46654026600477,
            320.2390930830432,
            285.65518554468025,
            94.24150137273796,
            102.4425543070794,
            54.16388164518292,
            165.24852919830775,
            100.56731471526024,
            549.9363016347115,
            76.84231502082869,
            78.82341461503329,
            296.3895087453048,
            225.0103918053777,
            94.90122625504323,
            62.418122453695865,
            100.32144269834382,
            89.09084707457939,
            82.42620264488703,
            78.88085670799752,
            176.40555515863565,
            117.90586158060997,
            139.93385514873373,
            291.73698238114406,
            235.8790223105394,
            97.09840048542587,
            144.13251710364167,
            89.0829433748202,
            110.95837752601108,
            58.97432954649298,
            94.34794881352889,
            122.27268855087051,
            137.2384817365691,
            341.870302207519,
            114.92347102943039,
            108.75597097228628,
            64.06099629637106,
            240.24989236035788,
            227.33383800119844,
            315.40185335106696,
            52.80314387193613,
            90.94882391900711,
            153.05324311809196,
            86.89346459333123,
            214.30436630420482,
            95.99099030196817,
            116.4938639433864,
            89.43775426369488,
            148.388396835348,
            123.0186788395319,
            76.22633292432093,
            107.11937440153737,
            195.00033590250257,
            386.5162817562185,
            66.2014203356553,
            120.01552055987808,
            110.87439095270562,
            141.42146117268933,
            270.9976064532653,
            181.13506984235778,
            202.73142548619649,
            152.76827845796845,
            119.90801121714777,
            66.3607565863628,
            300.71436710362786,
            108.79167079003736,
            26.820001209672387,
            267.29750868883724,
            101.04589485737563,
            610.6681961998671,
            173.0040371348267,
            82.54633213967841,
            183.7251829643492,
            123.57526150604743,
            98.05468316257156,
            120.71037773159857,
            333.7607878027521,
            146.1181466332619,
            474.1495462152819,
            69.90505430289436,
            56.11112678479472,
            203.33971178965547,
            57.52512120890533,
            52.00395322421374,
            338.15188354741883,
            75.9348378989098,
            96.48455256757273,
            180.12575773937456,
            124.232073242391,
            64.87373797659293,
            301.4029753388014,
            90.20546178960495,
            48.49619095175349,
            102.93631156034546,
            79.66146269747466,
            125.05222952217626,
            100.53269758056034,
            132.4594096338077,
            309.39334585988945,
            88.46520200983458,
            69.35651610731601,
            162.8854588693582,
            205.53522240470335,
            304.89935409793566,
            398.4827607542488,
            88.09692172281328,
            102.37428902002266,
            91.10217600168617,
            165.1314619555431,
            99.24627937522712,
            81.03735533312181,
            229.40610064875088,
            161.02183107153178,
            958.2449800213332,
            126.94072420395196,
            158.72817698764902,
            93.58429162692696,
            65.70251325057535,
            80.05543516991577,
            354.4203700884963,
            55.00423614292473,
            291.29041353380984,
            167.199113025259,
            103.57044092209514,
            285.689755055139,
            183.06905519318946,
            274.66307153834225,
            40.286586543648795,
            105.38887803836808,
            235.18759575030495,
            174.65065099475154,
            116.69797963282785,
            93.62953456627328,
            62.83859803512674,
            125.73756320208335,
            172.24973317832223,
            163.90074894342817,
            120.76082824345534,
            79.75473314690777,
            94.32525039972857,
            104.54193897660609,
            256.0278269204998,
            100.98613856905705,
            63.745042113869935,
            304.97279227335366,
            75.06489597847735,
            142.68660246488108,
            147.99500380701687,
            123.03792290494961,
            112.99934732165093,
            612.7215497188326,
            221.4545983317304,
            559.3613192032481,
            116.00560452014028,
            98.8495038238898,
            44.28607396481841,
            209.61282159099522,
            119.98458498047289,
            52.71608849157356,
            224.84532678920343,
            155.02051995487608
           ]
          }
         ],
         "name": "1997"
        },
        {
         "data": [
          {
           "coloraxis": "coloraxis",
           "geo": "geo",
           "hovertemplate": "Year=1998<br>Code=%{location}<br>Total emission=%{z}<extra></extra>",
           "locations": [
            "AFG",
            "ALB",
            "DZA",
            "AGO",
            "ATG",
            "ARG",
            "ARM",
            "AUS",
            "AUT",
            "AZE",
            "BHS",
            "BHR",
            "BGD",
            "BRB",
            "BLR",
            "BEL",
            "BLZ",
            "BEN",
            "BTN",
            "BOL",
            "BIH",
            "BWA",
            "BRA",
            "BRN",
            "BGR",
            "BFA",
            "BDI",
            "CPV",
            "KHM",
            "CMR",
            "CAN",
            "CAF",
            "TCD",
            "CHL",
            "CHN",
            "COL",
            "COM",
            "COD",
            "COG",
            "CRI",
            "CIV",
            "HRV",
            "CUB",
            "CYP",
            "CZE",
            "DNK",
            "DJI",
            "DMA",
            "DOM",
            "ECU",
            "EGY",
            "SLV",
            "GNQ",
            "ERI",
            "EST",
            "SWZ",
            "ETH",
            "FJI",
            "FIN",
            "FRA",
            "GAB",
            "GMB",
            "GEO",
            "DEU",
            "GHA",
            "GRC",
            "GRD",
            "GTM",
            "GIN",
            "GNB",
            "GUY",
            "HTI",
            "HND",
            "HUN",
            "ISL",
            "IND",
            "IDN",
            "IRN",
            "IRQ",
            "IRL",
            "ISR",
            "ITA",
            "JAM",
            "JPN",
            "JOR",
            "KAZ",
            "KEN",
            "KIR",
            "PRK",
            "KOR",
            "KWT",
            "KGZ",
            "LAO",
            "LVA",
            "LBN",
            "LSO",
            "LBR",
            "LBY",
            "LTU",
            "LUX",
            "MDG",
            "MWI",
            "MYS",
            "MDV",
            "MLI",
            "MLT",
            "MHL",
            "MRT",
            "MUS",
            "MEX",
            "MDA",
            "MNG",
            "MNE",
            "MAR",
            "MOZ",
            "MMR",
            "NAM",
            "NPL",
            "NLD",
            "NZL",
            "NIC",
            "NER",
            "NGA",
            "MKD",
            "NOR",
            "OMN",
            "PAK",
            "PAN",
            "PNG",
            "PRY",
            "PER",
            "PHL",
            "POL",
            "PRT",
            "QAT",
            "ROU",
            "RUS",
            "RWA",
            "WSM",
            "STP",
            "SAU",
            "SEN",
            "SRB",
            "SYC",
            "SLE",
            "SGP",
            "SVK",
            "SVN",
            "SLB",
            "SOM",
            "ZAF",
            "ESP",
            "LKA",
            "LCA",
            "VCT",
            "SDN",
            "SUR",
            "SWE",
            "CHE",
            "SYR",
            "TJK",
            "TZA",
            "THA",
            "TGO",
            "TON",
            "TTO",
            "TUN",
            "TUR",
            "TKM",
            "UGA",
            "UKR",
            "ARE",
            "GBR",
            "USA",
            "URY",
            "UZB",
            "VUT",
            "VEN",
            "VNM",
            "YEM",
            "ZMB",
            "ZWE"
           ],
           "name": "",
           "type": "choropleth",
           "z": [
            49.51947994111796,
            68.71768981918026,
            82.92512150431855,
            113.23602266751591,
            223.8576070140937,
            75.18025489457348,
            22.289360900598872,
            483.8396864945754,
            175.0535993869212,
            70.02997224819919,
            381.7298048500157,
            537.5846527619357,
            33.92118089236867,
            186.36305633112542,
            142.65290277088093,
            204.0957271620291,
            107.94346054620316,
            89.10619966879254,
            758.3664025642435,
            61.76764096161415,
            107.08672200714612,
            193.60226966970933,
            108.53767267769138,
            298.0074969292858,
            273.4489869787106,
            92.76354881388211,
            103.46734330688142,
            55.928544922111726,
            167.9574685867205,
            99.7531498730488,
            527.0750270608628,
            74.97854217474821,
            78.2498382635474,
            283.74582882469593,
            218.56195324231945,
            92.96005607712105,
            62.80509597679406,
            97.18326566438722,
            92.86787678201357,
            82.27690480816071,
            77.76640199561061,
            180.90036777368724,
            111.38252593694976,
            139.18718322398325,
            241.34429411096727,
            218.7126108480815,
            97.42923097949485,
            63.47535821044383,
            99.82911289236762,
            111.05948912029717,
            62.593913704489644,
            95.20181870082696,
            130.0573886465697,
            94.0468987487491,
            307.256264374284,
            113.68628701585236,
            108.9107382153284,
            61.139817610793884,
            237.75593367844522,
            222.32294970575362,
            308.2679403894327,
            52.11717161029782,
            83.70655682771756,
            142.7558754446145,
            87.5656690502603,
            218.3708254617388,
            94.30026372021447,
            121.74202312737893,
            86.49014281150944,
            149.30945423958158,
            140.05090716364765,
            76.49062058698323,
            108.79935184295046,
            182.04629442939563,
            394.53723288341047,
            65.42708224351482,
            118.12797562869878,
            110.59409584555306,
            117.67226174311274,
            278.8380176561722,
            172.60401812091774,
            188.9358562668776,
            156.28099995668632,
            116.13508591772151,
            68.02413786477481,
            306.351798650415,
            109.36101896934686,
            27.683465042424835,
            293.4674654330195,
            87.07394196532844,
            627.1825314466182,
            170.56506198364434,
            79.48998184893603,
            173.05125407725004,
            132.12726618510257,
            97.69367395304968,
            124.20767195462449,
            357.8687204384253,
            147.48263264260223,
            282.1992506710619,
            71.27026642485534,
            55.49074138830657,
            199.34241295387213,
            53.57603207241437,
            51.28613624300846,
            323.00435836142924,
            75.68184565890857,
            92.94993385989034,
            159.0100682424741,
            124.73214049078562,
            59.72418643517331,
            290.5979097188733,
            87.17346304359988,
            48.62789526298109,
            111.83179590945588,
            80.47128897231866,
            104.46076324222311,
            100.726235535153,
            126.51245953370837,
            308.6283709567497,
            89.59219365594798,
            69.35639371475582,
            167.55320455916694,
            187.34449386871245,
            297.2245482305622,
            390.44226569632986,
            87.45371323157167,
            110.722151545368,
            88.10087146316877,
            154.8936714724172,
            100.12685170844156,
            77.90214090114137,
            204.288846625062,
            163.8518353386096,
            999.0296708257639,
            115.09011276497128,
            154.79689435386217,
            82.55423638357087,
            65.51240015274331,
            80.18570251291278,
            360.2858746445993,
            55.91844096787107,
            268.9811810915933,
            169.371512822464,
            105.38698344829822,
            253.7306418572153,
            184.55813083571223,
            250.3926407011605,
            39.20646707261201,
            105.01307727541645,
            234.118456874713,
            169.6612808196321,
            117.20437855942916,
            96.94577243646296,
            73.34218112076884,
            122.08610133158587,
            175.76246975519265,
            155.5427387991423,
            116.39794227877042,
            80.85777659170678,
            94.26347893979947,
            106.8688176203404,
            226.84763579919644,
            104.87053735758603,
            64.21238636738396,
            295.3647979107471,
            79.51504780776408,
            137.90960992521795,
            173.49485920291,
            119.99473288956241,
            108.62847704135051,
            584.1824381294847,
            211.27879692392554,
            545.2689529968751,
            114.16055174438091,
            101.21831079788782,
            43.726524802373206,
            202.3223762100574,
            122.8624570908976,
            52.833504152809276,
            214.74913069266066,
            154.25871034075556
           ]
          }
         ],
         "name": "1998"
        },
        {
         "data": [
          {
           "coloraxis": "coloraxis",
           "geo": "geo",
           "hovertemplate": "Year=1999<br>Code=%{location}<br>Total emission=%{z}<extra></extra>",
           "locations": [
            "AFG",
            "ALB",
            "DZA",
            "AGO",
            "ATG",
            "ARG",
            "ARM",
            "AUS",
            "AUT",
            "AZE",
            "BHS",
            "BHR",
            "BGD",
            "BRB",
            "BLR",
            "BEL",
            "BLZ",
            "BEN",
            "BTN",
            "BOL",
            "BIH",
            "BWA",
            "BRA",
            "BRN",
            "BGR",
            "BFA",
            "BDI",
            "CPV",
            "KHM",
            "CMR",
            "CAN",
            "CAF",
            "TCD",
            "CHL",
            "CHN",
            "COL",
            "COM",
            "COD",
            "COG",
            "CRI",
            "CIV",
            "HRV",
            "CUB",
            "CYP",
            "CZE",
            "DNK",
            "DJI",
            "DMA",
            "DOM",
            "ECU",
            "EGY",
            "SLV",
            "GNQ",
            "ERI",
            "EST",
            "SWZ",
            "ETH",
            "FJI",
            "FIN",
            "FRA",
            "GAB",
            "GMB",
            "GEO",
            "DEU",
            "GHA",
            "GRC",
            "GRD",
            "GTM",
            "GIN",
            "GNB",
            "GUY",
            "HTI",
            "HND",
            "HUN",
            "ISL",
            "IND",
            "IDN",
            "IRN",
            "IRQ",
            "IRL",
            "ISR",
            "ITA",
            "JAM",
            "JPN",
            "JOR",
            "KAZ",
            "KEN",
            "KIR",
            "PRK",
            "KOR",
            "KWT",
            "KGZ",
            "LAO",
            "LVA",
            "LBN",
            "LSO",
            "LBR",
            "LBY",
            "LTU",
            "LUX",
            "MDG",
            "MWI",
            "MYS",
            "MDV",
            "MLI",
            "MLT",
            "MHL",
            "MRT",
            "MUS",
            "MEX",
            "MDA",
            "MNG",
            "MNE",
            "MAR",
            "MOZ",
            "MMR",
            "NAM",
            "NPL",
            "NLD",
            "NZL",
            "NIC",
            "NER",
            "NGA",
            "MKD",
            "NOR",
            "OMN",
            "PAK",
            "PAN",
            "PNG",
            "PRY",
            "PER",
            "PHL",
            "POL",
            "PRT",
            "QAT",
            "ROU",
            "RUS",
            "RWA",
            "WSM",
            "STP",
            "SAU",
            "SEN",
            "SRB",
            "SYC",
            "SLE",
            "SGP",
            "SVK",
            "SVN",
            "SLB",
            "SOM",
            "ZAF",
            "ESP",
            "LKA",
            "LCA",
            "VCT",
            "SDN",
            "SUR",
            "SWE",
            "CHE",
            "SYR",
            "TJK",
            "TZA",
            "THA",
            "TGO",
            "TON",
            "TTO",
            "TUN",
            "TUR",
            "TKM",
            "UGA",
            "UKR",
            "ARE",
            "GBR",
            "USA",
            "URY",
            "UZB",
            "VUT",
            "VEN",
            "VNM",
            "YEM",
            "ZMB",
            "ZWE"
           ],
           "name": "",
           "type": "choropleth",
           "z": [
            40.14260325447959,
            69.89663353253272,
            85.46086261600034,
            112.10537214367875,
            226.48014770870722,
            71.54155622729432,
            21.420653096675906,
            475.60088787910814,
            157.51548903673074,
            65.19271951395196,
            345.9661732219737,
            519.1577873852589,
            33.64246351321803,
            192.8546269379666,
            129.78397670309124,
            188.3266240117875,
            115.27083175724304,
            86.69524424760861,
            760.3894265082256,
            60.04680729208172,
            104.00689707679264,
            193.2583527918404,
            109.00669541475989,
            298.8021985837344,
            222.83387450210847,
            64.49084292847962,
            73.59398451347062,
            57.70572583790777,
            169.9256556494794,
            98.63903610975538,
            502.913740820043,
            60.59614990272662,
            78.6477691289888,
            280.81004227451393,
            215.34018639217393,
            86.39171254399835,
            63.62428312104801,
            95.02989286952395,
            92.9975206298773,
            80.21139088852458,
            78.4679406730286,
            182.00609360862492,
            111.78322827833397,
            137.80399625936508,
            206.78951486115133,
            199.7334923772957,
            98.86911189685344,
            142.61251345313954,
            104.30682873875905,
            98.0445842768693,
            63.71071323362925,
            95.44465696786537,
            137.07674929955138,
            95.69261809998639,
            281.27008136701187,
            116.54347133309459,
            108.65131945250995,
            66.67219317055745,
            232.81277973715478,
            210.3666895450428,
            293.4516276191524,
            52.18685195668737,
            80.9964887837752,
            132.88053553020544,
            86.88380739491524,
            215.10015965881965,
            95.70571188691035,
            128.03862752957764,
            121.41024629836113,
            154.25590941025257,
            149.59910254323876,
            74.3651328630156,
            87.76159418466126,
            180.9489469041849,
            400.34003280686125,
            65.32945620437857,
            118.36703351135505,
            113.30194699516427,
            98.01336484276162,
            253.79651399573766,
            175.11670785306123,
            177.53219748916644,
            157.25839288936157,
            117.12401176647109,
            67.69700381297844,
            288.04127380877253,
            109.66971747456014,
            26.89997095405679,
            231.3922218093831,
            88.65015172574398,
            610.044555798315,
            154.18703753821998,
            80.10141316352347,
            164.58541009721057,
            127.44942071356644,
            112.72549586058736,
            131.33870227639093,
            373.137727670934,
            128.32328208253813,
            282.503919089378,
            69.14578013666726,
            56.057173815186246,
            209.84993781027015,
            64.77173653789205,
            51.369646289332195,
            298.2814882681679,
            71.06857091010056,
            94.18505850869677,
            123.5048780404793,
            121.89312866641653,
            50.49856082546714,
            274.3750142768467,
            88.46214890734504,
            51.05466902735776,
            109.1406554486648,
            78.53067292042583,
            95.46864052058584,
            102.82216008497505,
            121.94514544821656,
            316.0344721650023,
            92.6145720130474,
            68.98109122136141,
            160.60798559195797,
            179.61005661941306,
            291.393955933251,
            419.53615577425916,
            87.77012901625895,
            107.05687305717966,
            86.38231718805682,
            139.16856675042254,
            100.30110989243046,
            73.41483290468258,
            199.1049485400658,
            161.68161756099238,
            973.9237126395075,
            102.74932182391987,
            157.85368610009635,
            81.95929265771474,
            65.85892280930136,
            81.53780349959632,
            345.612588697918,
            57.101548075072095,
            213.41356659944213,
            174.65705384902378,
            108.2126418470152,
            244.9252505921733,
            176.55173933751172,
            229.50281768694103,
            38.36810633338812,
            106.663874571657,
            221.07836164124745,
            164.87962926074374,
            121.62644435995293,
            96.84495080486468,
            73.66523225189776,
            121.17728636712572,
            167.69288829678652,
            145.39578424800354,
            112.21793132158201,
            75.88867343137888,
            91.75854773654946,
            109.97633451612664,
            216.28609057501495,
            111.81286251832465,
            65.75500666789766,
            294.5134041915197,
            84.19432078845068,
            130.56226844733933,
            188.055754584221,
            119.3898489091124,
            103.26518228852116,
            547.4690925997477,
            191.06561501692852,
            504.77925021502296,
            117.88515788334504,
            98.22788465612165,
            64.49436714202963,
            193.46365003034353,
            123.91569158515378,
            50.869289786408714,
            204.24446448278354,
            160.11088075424954
           ]
          }
         ],
         "name": "1999"
        },
        {
         "data": [
          {
           "coloraxis": "coloraxis",
           "geo": "geo",
           "hovertemplate": "Year=2000<br>Code=%{location}<br>Total emission=%{z}<extra></extra>",
           "locations": [
            "AFG",
            "ALB",
            "DZA",
            "AGO",
            "ATG",
            "ARG",
            "ARM",
            "AUS",
            "AUT",
            "AZE",
            "BHS",
            "BHR",
            "BGD",
            "BRB",
            "BLR",
            "BEL",
            "BLZ",
            "BEN",
            "BTN",
            "BOL",
            "BIH",
            "BWA",
            "BRA",
            "BRN",
            "BGR",
            "BFA",
            "BDI",
            "CPV",
            "KHM",
            "CMR",
            "CAN",
            "CAF",
            "TCD",
            "CHL",
            "CHN",
            "COL",
            "COM",
            "COD",
            "COG",
            "CRI",
            "CIV",
            "HRV",
            "CUB",
            "CYP",
            "CZE",
            "DNK",
            "DJI",
            "DMA",
            "DOM",
            "ECU",
            "EGY",
            "SLV",
            "GNQ",
            "ERI",
            "EST",
            "SWZ",
            "ETH",
            "FJI",
            "FIN",
            "FRA",
            "GAB",
            "GMB",
            "GEO",
            "DEU",
            "GHA",
            "GRC",
            "GRD",
            "GTM",
            "GIN",
            "GNB",
            "GUY",
            "HTI",
            "HND",
            "HUN",
            "ISL",
            "IND",
            "IDN",
            "IRN",
            "IRQ",
            "IRL",
            "ISR",
            "ITA",
            "JAM",
            "JPN",
            "JOR",
            "KAZ",
            "KEN",
            "KIR",
            "PRK",
            "KOR",
            "KWT",
            "KGZ",
            "LAO",
            "LVA",
            "LBN",
            "LSO",
            "LBR",
            "LBY",
            "LTU",
            "LUX",
            "MDG",
            "MWI",
            "MYS",
            "MDV",
            "MLI",
            "MLT",
            "MHL",
            "MRT",
            "MUS",
            "MEX",
            "MDA",
            "MNG",
            "MNE",
            "MAR",
            "MOZ",
            "MMR",
            "NAM",
            "NPL",
            "NLD",
            "NZL",
            "NIC",
            "NER",
            "NGA",
            "MKD",
            "NOR",
            "OMN",
            "PAK",
            "PAN",
            "PNG",
            "PRY",
            "PER",
            "PHL",
            "POL",
            "PRT",
            "QAT",
            "ROU",
            "RUS",
            "RWA",
            "WSM",
            "STP",
            "SAU",
            "SEN",
            "SRB",
            "SYC",
            "SLE",
            "SGP",
            "SVK",
            "SVN",
            "SLB",
            "SOM",
            "ZAF",
            "ESP",
            "LKA",
            "LCA",
            "VCT",
            "SDN",
            "SUR",
            "SWE",
            "CHE",
            "SYR",
            "TJK",
            "TZA",
            "THA",
            "TGO",
            "TON",
            "TTO",
            "TUN",
            "TUR",
            "TKM",
            "UGA",
            "UKR",
            "ARE",
            "GBR",
            "USA",
            "URY",
            "UZB",
            "VUT",
            "VEN",
            "VNM",
            "YEM",
            "ZMB",
            "ZWE"
           ],
           "name": "",
           "type": "choropleth",
           "z": [
            33.93160746802459,
            69.0046359581836,
            87.4704102008119,
            109.44411539697575,
            197.49222171648077,
            68.1338020802214,
            30.447511932371444,
            467.65842933221955,
            153.07190828859174,
            68.39744356782546,
            335.23672700309675,
            509.0902131171468,
            33.937893911329574,
            180.695939156216,
            119.79344924300648,
            185.6810736251676,
            108.25981865232599,
            71.92373401732694,
            613.9020210110978,
            52.33610477172016,
            142.91366288865143,
            188.55561596121055,
            107.84143277025494,
            295.45539207299686,
            224.5743859003213,
            66.43665414592871,
            76.9471106720923,
            68.77904903920708,
            160.3105159018264,
            98.482644291958,
            489.55888362440777,
            61.72926321555136,
            81.30711551722942,
            263.333985080385,
            216.53518835460483,
            85.05469244890634,
            66.98532951542988,
            91.71234507171151,
            83.7647281409447,
            79.74833882331089,
            78.13218139679269,
            174.4565903334197,
            112.3067356735269,
            129.85156316721262,
            204.0978796522264,
            188.34426970029304,
            83.01260591094562,
            145.08505072505386,
            102.4522790483326,
            93.79644783825535,
            63.5755065180056,
            62.97887290215111,
            141.56475475146863,
            95.71301299589604,
            266.7926416532748,
            121.27130694674446,
            108.33299721053157,
            70.75907606108956,
            219.6248229157671,
            194.4850681387236,
            272.32999910449706,
            59.626702223490426,
            78.46222208705093,
            123.67105061495771,
            81.55670523188722,
            207.44233813889718,
            88.894714128733,
            125.67108967993387,
            123.69985662677942,
            161.21404568879908,
            139.65982911820444,
            69.03730532103405,
            89.47332762035917,
            171.31795007546293,
            382.2359201650042,
            65.11590820468626,
            121.29060841569678,
            116.56752087155489,
            108.02193033879865,
            240.26553631975833,
            173.71624819526156,
            156.6559421720039,
            154.8654017533425,
            118.51502771142279,
            72.1265599386861,
            315.83788560663913,
            110.21373476253714,
            30.381434902128067,
            272.4011286979523,
            90.20155838638146,
            618.2518091576887,
            130.97754066634002,
            109.55656736855947,
            153.38279947625185,
            119.49865083541127,
            117.37585994517917,
            145.0996485464406,
            393.4908050574377,
            109.24038415378497,
            256.23349163419664,
            72.34347666864171,
            56.838591078934535,
            202.6342207900861,
            65.19511889848889,
            53.083865994850385,
            253.29499295029058,
            64.5565256438043,
            83.20816152571325,
            115.33222728969315,
            125.72403303564329,
            47.845194735724235,
            287.01236934902465,
            90.81692305149186,
            50.564024590258164,
            101.0845614935066,
            79.11851512063403,
            116.70764639571239,
            106.60958464331853,
            114.5269791937001,
            320.39811125800344,
            92.77201812004888,
            42.071630677055246,
            164.19309172879326,
            175.15596981844578,
            283.5124652218553,
            441.54957025502506,
            86.90513326143875,
            90.9539497704539,
            83.61986912206164,
            130.43678469026437,
            96.77280409210238,
            69.8908353325297,
            178.68813383250088,
            153.04294386591584,
            956.779543705314,
            106.01778980153742,
            157.86437942272832,
            58.32337692932196,
            67.76758841872356,
            83.86486004695561,
            347.7732107236781,
            53.36256944718034,
            232.52955718110903,
            263.21732383429264,
            111.91398549613474,
            231.6418975010967,
            176.7641400555234,
            220.24403132345364,
            36.94614103620413,
            113.20774495410073,
            207.8199928713289,
            157.72122779252072,
            128.54432017167687,
            112.62542701095524,
            62.56668714280413,
            118.17886358632619,
            133.73140514153337,
            135.66762829446753,
            105.92096243866791,
            73.04233912836193,
            92.67702487685281,
            113.42998279360867,
            208.19739602032908,
            109.86994944766897,
            60.597067151153894,
            216.15125568893416,
            89.47312643240097,
            126.90431286469489,
            188.51592047886984,
            122.82908005912176,
            103.33572450255711,
            567.3169902190832,
            176.0171913700271,
            493.9592743272951,
            101.26942970766349,
            97.65872123778925,
            64.88268191942564,
            191.55193048689662,
            125.51956403378323,
            51.839801357591035,
            193.6402667871486,
            157.47767992144412
           ]
          }
         ],
         "name": "2000"
        },
        {
         "data": [
          {
           "coloraxis": "coloraxis",
           "geo": "geo",
           "hovertemplate": "Year=2001<br>Code=%{location}<br>Total emission=%{z}<extra></extra>",
           "locations": [
            "AFG",
            "ALB",
            "DZA",
            "AGO",
            "ATG",
            "ARG",
            "ARM",
            "AUS",
            "AUT",
            "AZE",
            "BHS",
            "BHR",
            "BGD",
            "BRB",
            "BLR",
            "BEL",
            "BLZ",
            "BEN",
            "BTN",
            "BOL",
            "BIH",
            "BWA",
            "BRA",
            "BRN",
            "BGR",
            "BFA",
            "BDI",
            "CPV",
            "KHM",
            "CMR",
            "CAN",
            "CAF",
            "TCD",
            "CHL",
            "CHN",
            "COL",
            "COM",
            "COD",
            "COG",
            "CRI",
            "CIV",
            "HRV",
            "CUB",
            "CYP",
            "CZE",
            "DNK",
            "DJI",
            "DMA",
            "DOM",
            "ECU",
            "EGY",
            "SLV",
            "GNQ",
            "ERI",
            "EST",
            "SWZ",
            "ETH",
            "FJI",
            "FIN",
            "FRA",
            "GAB",
            "GMB",
            "GEO",
            "DEU",
            "GHA",
            "GRC",
            "GRD",
            "GTM",
            "GIN",
            "GNB",
            "GUY",
            "HTI",
            "HND",
            "HUN",
            "ISL",
            "IND",
            "IDN",
            "IRN",
            "IRQ",
            "IRL",
            "ISR",
            "ITA",
            "JAM",
            "JPN",
            "JOR",
            "KAZ",
            "KEN",
            "KIR",
            "PRK",
            "KOR",
            "KWT",
            "KGZ",
            "LAO",
            "LVA",
            "LBN",
            "LSO",
            "LBR",
            "LBY",
            "LTU",
            "LUX",
            "MDG",
            "MWI",
            "MYS",
            "MDV",
            "MLI",
            "MLT",
            "MHL",
            "MRT",
            "MUS",
            "MEX",
            "MDA",
            "MNG",
            "MNE",
            "MAR",
            "MOZ",
            "MMR",
            "NAM",
            "NPL",
            "NLD",
            "NZL",
            "NIC",
            "NER",
            "NGA",
            "MKD",
            "NOR",
            "OMN",
            "PAK",
            "PAN",
            "PNG",
            "PRY",
            "PER",
            "PHL",
            "POL",
            "PRT",
            "QAT",
            "ROU",
            "RUS",
            "RWA",
            "WSM",
            "STP",
            "SAU",
            "SEN",
            "SRB",
            "SYC",
            "SLE",
            "SGP",
            "SVK",
            "SVN",
            "SLB",
            "SOM",
            "ZAF",
            "ESP",
            "LKA",
            "LCA",
            "VCT",
            "SDN",
            "SUR",
            "SWE",
            "CHE",
            "SYR",
            "TJK",
            "TZA",
            "THA",
            "TGO",
            "TON",
            "TTO",
            "TUN",
            "TUR",
            "TKM",
            "UGA",
            "UKR",
            "ARE",
            "GBR",
            "USA",
            "URY",
            "UZB",
            "VUT",
            "VEN",
            "VNM",
            "YEM",
            "ZMB",
            "ZWE"
           ],
           "name": "",
           "type": "choropleth",
           "z": [
            30.918074745077845,
            68.8380779125886,
            83.72441730468044,
            107.27918841965892,
            189.10574927472413,
            65.96881224237205,
            29.89264091006386,
            430.10534100860247,
            150.10945416935198,
            54.77633281142124,
            325.3775050724015,
            481.45225361804626,
            34.36228930164896,
            173.97663717431192,
            118.74560768144468,
            176.04324055540377,
            106.17192426969022,
            73.08349163378072,
            597.7741246438275,
            50.354665087844324,
            140.80874724937638,
            189.3159314208463,
            105.19820695329932,
            290.09389178729185,
            209.07829827464664,
            72.85273879289421,
            101.80409947368379,
            76.71815927603058,
            154.15608611985996,
            97.96620208162393,
            461.4419499794042,
            60.67351232584044,
            80.43002121098391,
            246.74362180785872,
            212.63074725793138,
            77.11179833290305,
            67.46233728736723,
            88.66635896246729,
            83.13271743072339,
            80.07048787404494,
            77.51990046179243,
            174.84980735605427,
            110.70886691022672,
            124.45632788906522,
            198.05174530090966,
            183.87714402691807,
            82.09740032605063,
            141.28484021188328,
            104.21680980429258,
            92.17549155545396,
            62.65702408637072,
            65.44535774048482,
            168.3391035768903,
            97.51461109974136,
            275.76517694859575,
            124.64986498738665,
            108.92187524826903,
            74.5602606382652,
            223.26371863728815,
            185.55487004589338,
            268.6790734998247,
            59.20116228969893,
            77.94523152183417,
            118.87938324169693,
            76.46431950351797,
            208.68983556819234,
            89.10907193290006,
            123.80807989511071,
            122.02306048854703,
            160.6993015273334,
            139.12417479193672,
            70.12893812728552,
            89.49837912579429,
            164.6386258419078,
            363.3251232068161,
            63.90508257494695,
            123.45292085479909,
            120.19586212077596,
            113.55746543110634,
            233.3942965043843,
            173.35454191644664,
            148.6867030808736,
            150.5646378549835,
            116.09586634578329,
            71.40395567776353,
            332.23104378788065,
            110.04569520908127,
            29.359988817575044,
            275.3716688035869,
            90.59935650634439,
            630.7211713407903,
            126.31278180421022,
            112.3030867819362,
            166.72323857485762,
            117.66320433144467,
            117.70460604988848,
            146.40020758806838,
            396.95607034623447,
            109.19668101294852,
            265.6208498726006,
            70.29807971646397,
            55.99545366515046,
            206.05757485126296,
            241.57025423847213,
            52.36241479470527,
            238.2341850326185,
            65.63492050095289,
            84.02731146388396,
            111.24242418416316,
            120.83914267095227,
            47.52384792263404,
            296.1829334167635,
            91.38532752486464,
            50.80571266616838,
            90.7365759245145,
            79.95975815413493,
            138.10061760009478,
            107.68484467928138,
            110.94981260337352,
            324.93105733797194,
            90.98735930544105,
            41.84947867758341,
            169.7791333728876,
            153.6159049500647,
            281.2307469774031,
            443.1029538615455,
            86.98703323249147,
            95.68512455140521,
            84.18209239435619,
            131.03962417223056,
            97.3477279337863,
            67.71012274152585,
            171.05160677886124,
            143.250246547191,
            928.1123778072622,
            107.05991644666065,
            160.38980922968128,
            56.619433248501174,
            70.43617371373838,
            84.07874498290215,
            334.0612992003544,
            53.934771899533914,
            198.13189082917114,
            286.8159137705968,
            109.19371633412368,
            222.20158810559275,
            180.83614958317432,
            210.65495738080176,
            36.89483259581454,
            114.86606808193346,
            243.67758788134827,
            144.78379542414407,
            125.74641992033514,
            115.9932773629875,
            70.73085253392156,
            118.4355063204205,
            134.32088726108367,
            127.5236539957464,
            100.65130882311038,
            74.06076168511836,
            98.35528968603846,
            110.63953126541331,
            205.00935350204935,
            109.83385221370895,
            59.88890493161534,
            224.33607993507556,
            91.46036232950236,
            111.89803774265997,
            193.86456043853715,
            121.09371905363115,
            103.90666890658908,
            621.5266495272532,
            164.43844912673995,
            471.81338805835884,
            97.53300583105019,
            96.89442703524412,
            64.82370311649464,
            194.5145067415734,
            127.05631437045317,
            52.330596695358444,
            217.95615866642137,
            154.04739903357236
           ]
          }
         ],
         "name": "2001"
        },
        {
         "data": [
          {
           "coloraxis": "coloraxis",
           "geo": "geo",
           "hovertemplate": "Year=2002<br>Code=%{location}<br>Total emission=%{z}<extra></extra>",
           "locations": [
            "AFG",
            "ALB",
            "DZA",
            "AGO",
            "ATG",
            "ARG",
            "ARM",
            "AUS",
            "AUT",
            "AZE",
            "BHS",
            "BHR",
            "BGD",
            "BRB",
            "BLR",
            "BEL",
            "BLZ",
            "BEN",
            "BTN",
            "BOL",
            "BIH",
            "BWA",
            "BRA",
            "BRN",
            "BGR",
            "BFA",
            "BDI",
            "CPV",
            "KHM",
            "CMR",
            "CAN",
            "CAF",
            "TCD",
            "CHL",
            "CHN",
            "COL",
            "COM",
            "COD",
            "COG",
            "CRI",
            "CIV",
            "HRV",
            "CUB",
            "CYP",
            "CZE",
            "DNK",
            "DJI",
            "DMA",
            "DOM",
            "ECU",
            "EGY",
            "SLV",
            "GNQ",
            "ERI",
            "EST",
            "SWZ",
            "ETH",
            "FJI",
            "FIN",
            "FRA",
            "GAB",
            "GMB",
            "GEO",
            "DEU",
            "GHA",
            "GRC",
            "GRD",
            "GTM",
            "GIN",
            "GNB",
            "GUY",
            "HTI",
            "HND",
            "HUN",
            "ISL",
            "IND",
            "IDN",
            "IRN",
            "IRQ",
            "IRL",
            "ISR",
            "ITA",
            "JAM",
            "JPN",
            "JOR",
            "KAZ",
            "KEN",
            "KIR",
            "PRK",
            "KOR",
            "KWT",
            "KGZ",
            "LAO",
            "LVA",
            "LBN",
            "LSO",
            "LBR",
            "LBY",
            "LTU",
            "LUX",
            "MDG",
            "MWI",
            "MYS",
            "MDV",
            "MLI",
            "MLT",
            "MHL",
            "MRT",
            "MUS",
            "MEX",
            "MDA",
            "MNG",
            "MNE",
            "MAR",
            "MOZ",
            "MMR",
            "NAM",
            "NPL",
            "NLD",
            "NZL",
            "NIC",
            "NER",
            "NGA",
            "MKD",
            "NOR",
            "OMN",
            "PAK",
            "PAN",
            "PNG",
            "PRY",
            "PER",
            "PHL",
            "POL",
            "PRT",
            "QAT",
            "ROU",
            "RUS",
            "RWA",
            "WSM",
            "STP",
            "SAU",
            "SEN",
            "SRB",
            "SYC",
            "SLE",
            "SGP",
            "SVK",
            "SVN",
            "SLB",
            "SOM",
            "ZAF",
            "ESP",
            "LKA",
            "LCA",
            "VCT",
            "SDN",
            "SUR",
            "SWE",
            "CHE",
            "SYR",
            "TJK",
            "TZA",
            "THA",
            "TGO",
            "TON",
            "TTO",
            "TUN",
            "TUR",
            "TKM",
            "UGA",
            "UKR",
            "ARE",
            "GBR",
            "USA",
            "URY",
            "UZB",
            "VUT",
            "VEN",
            "VNM",
            "YEM",
            "ZMB",
            "ZWE"
           ],
           "name": "",
           "type": "choropleth",
           "z": [
            27.74030337019491,
            78.59043523292289,
            85.32312484003742,
            107.53448610761419,
            158.27285308129512,
            61.87863997501815,
            32.86446277131871,
            430.6904076554342,
            144.97440582769744,
            53.44101079913607,
            263.8175745173243,
            462.5203525830244,
            34.41682222824385,
            139.07384593947154,
            124.53742782458714,
            174.00753131900063,
            73.87003262468652,
            73.92172145877248,
            598.3325078812633,
            49.48672855215723,
            138.47208449143437,
            187.7402202925893,
            107.0627598064182,
            280.14397085200505,
            209.70067860032478,
            63.9134002814587,
            100.61460867380966,
            77.44255301376451,
            152.0656682170773,
            100.41661803484398,
            444.74917585507364,
            59.754437830604346,
            79.53439057401,
            229.0548750035784,
            211.22752483598873,
            77.2729183547252,
            67.90174029244274,
            85.33956545586426,
            81.230434145615,
            80.78524586526211,
            78.5826215522595,
            172.59777010413805,
            98.66479136715957,
            121.8124555050135,
            190.7899279546875,
            177.03406498334894,
            82.71625855822808,
            114.21062700287814,
            111.97927294920616,
            88.07979455950162,
            61.88952440023012,
            65.683302007871,
            177.89958018420862,
            96.04177165547924,
            261.58871693188826,
            123.99381547093938,
            109.21182057432536,
            67.95071075746665,
            216.2378616843678,
            177.9357904885355,
            296.65093994869267,
            58.5519956760175,
            78.48023785256558,
            112.40180633675035,
            72.59473735083817,
            202.4572847679082,
            75.9424901673196,
            123.51822718023553,
            120.64447953744633,
            160.21260230554677,
            138.9989783683701,
            70.38996703277874,
            91.03531947472062,
            140.7412978923884,
            368.96268788931667,
            63.62020811510356,
            125.0779289059123,
            120.42725016213173,
            106.39893286994875,
            215.53017054909438,
            180.53979802130902,
            134.5220435048931,
            157.02467995744277,
            113.2846286162658,
            73.76298505351946,
            338.7537211921059,
            110.27350851462793,
            34.3909386633068,
            265.53770891717136,
            88.69759005485936,
            625.1614967639168,
            126.4959164045124,
            114.92700776553608,
            162.77232640152923,
            111.78520322413655,
            118.29771334432606,
            148.7444564124588,
            398.6333605190588,
            110.35961368163908,
            252.14831770045384,
            72.09471187108328,
            55.50802771873941,
            214.48079940546236,
            298.8982061688864,
            52.164959709085586,
            230.62960242342206,
            63.57521113232767,
            84.7558114379653,
            102.2958645914358,
            117.28234143016795,
            51.82406559138898,
            299.14863283688135,
            91.77252869661609,
            50.83652449749392,
            94.54035574743439,
            82.04243460952753,
            131.68741236268738,
            108.03252544414748,
            106.5874622831025,
            333.3967404584019,
            90.93830949118353,
            41.536707828058496,
            163.43128199339455,
            148.1017007918287,
            267.7890640676098,
            438.89106673724916,
            88.27438864805478,
            86.89462054980521,
            83.385051177963,
            126.86245711738441,
            95.22598499064684,
            65.05319851625126,
            169.13900636677172,
            134.44765680281768,
            1257.4929253450007,
            109.47988011870507,
            157.82610587605038,
            56.02137760974765,
            71.04218353013202,
            85.17159996473309,
            320.8956490558058,
            53.796207084629756,
            212.7249244783114,
            245.65063972862896,
            105.76177900851552,
            213.03606987631557,
            158.25953904397173,
            192.04916401357715,
            36.2783411646365,
            114.8691700603978,
            242.94858686760975,
            144.56825113841967,
            127.92684677682581,
            92.0548333667938,
            60.95247370417311,
            118.66985074749577,
            109.95396690410277,
            121.69506209440986,
            93.30811024066293,
            76.09129713768492,
            103.5424135274621,
            108.3502125723805,
            211.97378308200334,
            111.24511477803384,
            63.136693361071266,
            211.33289921101652,
            92.38646996211526,
            107.14509010287718,
            200.77903971904587,
            119.5764387434038,
            108.28843721079022,
            610.5368355028219,
            148.43149072454005,
            415.0164296977977,
            92.33524557732318,
            95.36887766427861,
            63.508293213696376,
            179.9769163114799,
            130.9299263683858,
            50.62100337725241,
            215.20035103044216,
            152.29323991638148
           ]
          }
         ],
         "name": "2002"
        },
        {
         "data": [
          {
           "coloraxis": "coloraxis",
           "geo": "geo",
           "hovertemplate": "Year=2003<br>Code=%{location}<br>Total emission=%{z}<extra></extra>",
           "locations": [
            "AFG",
            "ALB",
            "DZA",
            "AGO",
            "ATG",
            "ARG",
            "ARM",
            "AUS",
            "AUT",
            "AZE",
            "BHS",
            "BHR",
            "BGD",
            "BRB",
            "BLR",
            "BEL",
            "BLZ",
            "BEN",
            "BTN",
            "BOL",
            "BIH",
            "BWA",
            "BRA",
            "BRN",
            "BGR",
            "BFA",
            "BDI",
            "CPV",
            "KHM",
            "CMR",
            "CAN",
            "CAF",
            "TCD",
            "CHL",
            "CHN",
            "COL",
            "COM",
            "COD",
            "COG",
            "CRI",
            "CIV",
            "HRV",
            "CUB",
            "CYP",
            "CZE",
            "DNK",
            "DJI",
            "DMA",
            "DOM",
            "ECU",
            "EGY",
            "SLV",
            "GNQ",
            "ERI",
            "EST",
            "SWZ",
            "ETH",
            "FJI",
            "FIN",
            "FRA",
            "GAB",
            "GMB",
            "GEO",
            "DEU",
            "GHA",
            "GRC",
            "GRD",
            "GTM",
            "GIN",
            "GNB",
            "GUY",
            "HTI",
            "HND",
            "HUN",
            "ISL",
            "IND",
            "IDN",
            "IRN",
            "IRQ",
            "IRL",
            "ISR",
            "ITA",
            "JAM",
            "JPN",
            "JOR",
            "KAZ",
            "KEN",
            "KIR",
            "PRK",
            "KOR",
            "KWT",
            "KGZ",
            "LAO",
            "LVA",
            "LBN",
            "LSO",
            "LBR",
            "LBY",
            "LTU",
            "LUX",
            "MDG",
            "MWI",
            "MYS",
            "MDV",
            "MLI",
            "MLT",
            "MHL",
            "MRT",
            "MUS",
            "MEX",
            "MDA",
            "MNG",
            "MNE",
            "MAR",
            "MOZ",
            "MMR",
            "NAM",
            "NPL",
            "NLD",
            "NZL",
            "NIC",
            "NER",
            "NGA",
            "MKD",
            "NOR",
            "OMN",
            "PAK",
            "PAN",
            "PNG",
            "PRY",
            "PER",
            "PHL",
            "POL",
            "PRT",
            "QAT",
            "ROU",
            "RUS",
            "RWA",
            "WSM",
            "STP",
            "SAU",
            "SEN",
            "SRB",
            "SYC",
            "SLE",
            "SGP",
            "SVK",
            "SVN",
            "SLB",
            "SOM",
            "ZAF",
            "ESP",
            "LKA",
            "LCA",
            "VCT",
            "SDN",
            "SUR",
            "SWE",
            "CHE",
            "SYR",
            "TJK",
            "TZA",
            "THA",
            "TGO",
            "TON",
            "TTO",
            "TUN",
            "TUR",
            "TKM",
            "UGA",
            "UKR",
            "ARE",
            "GBR",
            "USA",
            "URY",
            "UZB",
            "VUT",
            "VEN",
            "VNM",
            "YEM",
            "ZMB",
            "ZWE"
           ],
           "name": "",
           "type": "choropleth",
           "z": [
            28.344559011364066,
            72.51488349186214,
            85.50377510250772,
            105.19051458217069,
            183.0566886506936,
            64.30266099430926,
            35.265122120047764,
            404.69055892316817,
            145.4279870042479,
            58.870648158268665,
            205.73646600602308,
            443.4536426491059,
            34.25735373144869,
            146.9279786679498,
            122.14331866622284,
            167.5752938980254,
            75.1975044260926,
            74.87807677757824,
            596.5462667658427,
            49.385751625649874,
            136.94337208841804,
            185.94667636839986,
            112.43595724499073,
            284.4783661153773,
            224.73223796246774,
            64.81821431080392,
            98.93838438106894,
            63.54236614584491,
            147.45124038953145,
            100.51026831058996,
            425.32046416467597,
            58.7232373084378,
            79.69102499958395,
            218.33604182602875,
            221.53182194970503,
            75.83298997497076,
            69.18806346245184,
            82.04236671710848,
            82.41969783869429,
            84.54133662563854,
            77.27918669788706,
            179.83092604241438,
            92.50610633916999,
            121.93789754650685,
            192.71119176205448,
            179.12800412349407,
            83.49333316658792,
            126.8155639229672,
            99.59319242463295,
            84.05437513154767,
            62.09804611662768,
            65.8971079617429,
            222.2577663893841,
            94.82816857383756,
            274.95900986342946,
            121.3828677495742,
            108.87729629567636,
            72.318771658522,
            215.60580769589333,
            171.61307597221722,
            329.2986513156151,
            58.00989478766144,
            79.0837081222025,
            106.00160951506925,
            66.35024338685432,
            201.34455132516536,
            83.27237808759195,
            119.78550411934143,
            119.17678315539433,
            159.4437926291879,
            143.35621015026646,
            67.0169019036182,
            93.86003597643169,
            151.84798044375506,
            356.9393853986412,
            63.293544700136266,
            127.66061190043537,
            120.60622965204466,
            83.26783397094246,
            201.42927378587524,
            176.69149606110886,
            133.12084599424674,
            156.24821898423917,
            109.9953521038538,
            67.10088150047018,
            354.63189822428285,
            110.46566795215023,
            34.65534744188664,
            266.95787626135046,
            90.31785655448377,
            636.0206459859384,
            128.52211038407393,
            117.27539199231076,
            164.6850947680352,
            102.79238652804283,
            119.32474417196637,
            151.98324737460266,
            411.1303281335429,
            105.18292165086042,
            243.7838535084029,
            72.82273893129295,
            55.11108290783281,
            217.34616015445923,
            333.37545712841484,
            51.58921628231379,
            218.72711558223904,
            60.45856803726429,
            84.69839644288639,
            104.01147448840831,
            118.98313123017216,
            55.88447886518371,
            295.5584998067857,
            91.70201521558405,
            49.693552880909735,
            100.58682925441386,
            86.05410592748304,
            156.97649348071462,
            109.12435444828233,
            104.11586290350712,
            339.42695793603497,
            88.07070224057739,
            41.608633850264205,
            162.9071923090345,
            144.52434889302077,
            255.73787119196558,
            402.5033401699631,
            89.72632107334914,
            93.55475546018634,
            83.67036862783664,
            128.0160666737322,
            93.05799762138453,
            64.3665464604085,
            163.70096252882837,
            118.07133523941178,
            1245.1229153343857,
            117.67548779971156,
            157.64564615473896,
            55.288167699544275,
            71.8675954790291,
            86.01729608084302,
            328.06186844706883,
            52.38726757860172,
            213.77452615709103,
            249.5883922639253,
            102.11725964080466,
            203.85688459244696,
            162.86804246270594,
            189.0382868850693,
            35.80954612464403,
            117.75091183131184,
            241.95318622349578,
            133.74533970786948,
            129.52990399467083,
            102.16086080483399,
            67.06763243358012,
            113.95470901242439,
            114.8891092998758,
            119.02557968768157,
            90.08035943856663,
            74.07419259964306,
            101.44057116764581,
            105.97384457862618,
            221.71359364247172,
            113.00463359083219,
            68.4867270080029,
            211.69580767226128,
            91.70483255519177,
            101.98434517534292,
            220.8309236570833,
            117.82019138777345,
            119.79219805078327,
            591.4105949408557,
            139.55921329377722,
            393.93537507986724,
            93.49577463814077,
            98.7921421405565,
            63.71983539322172,
            172.4116064012213,
            132.1075395736873,
            51.09304787990519,
            187.53625973338828,
            149.50370557252143
           ]
          }
         ],
         "name": "2003"
        },
        {
         "data": [
          {
           "coloraxis": "coloraxis",
           "geo": "geo",
           "hovertemplate": "Year=2004<br>Code=%{location}<br>Total emission=%{z}<extra></extra>",
           "locations": [
            "AFG",
            "ALB",
            "DZA",
            "AGO",
            "ATG",
            "ARG",
            "ARM",
            "AUS",
            "AUT",
            "AZE",
            "BHS",
            "BHR",
            "BGD",
            "BRB",
            "BLR",
            "BEL",
            "BLZ",
            "BEN",
            "BTN",
            "BOL",
            "BIH",
            "BWA",
            "BRA",
            "BRN",
            "BGR",
            "BFA",
            "BDI",
            "CPV",
            "KHM",
            "CMR",
            "CAN",
            "CAF",
            "TCD",
            "CHL",
            "CHN",
            "COL",
            "COM",
            "COD",
            "COG",
            "CRI",
            "CIV",
            "HRV",
            "CUB",
            "CYP",
            "CZE",
            "DNK",
            "DJI",
            "DMA",
            "DOM",
            "ECU",
            "EGY",
            "SLV",
            "GNQ",
            "ERI",
            "EST",
            "SWZ",
            "ETH",
            "FJI",
            "FIN",
            "FRA",
            "GAB",
            "GMB",
            "GEO",
            "DEU",
            "GHA",
            "GRC",
            "GRD",
            "GTM",
            "GIN",
            "GNB",
            "GUY",
            "HTI",
            "HND",
            "HUN",
            "ISL",
            "IND",
            "IDN",
            "IRN",
            "IRQ",
            "IRL",
            "ISR",
            "ITA",
            "JAM",
            "JPN",
            "JOR",
            "KAZ",
            "KEN",
            "KIR",
            "PRK",
            "KOR",
            "KWT",
            "KGZ",
            "LAO",
            "LVA",
            "LBN",
            "LSO",
            "LBR",
            "LBY",
            "LTU",
            "LUX",
            "MDG",
            "MWI",
            "MYS",
            "MDV",
            "MLI",
            "MLT",
            "MHL",
            "MRT",
            "MUS",
            "MEX",
            "MDA",
            "MNG",
            "MNE",
            "MAR",
            "MOZ",
            "MMR",
            "NAM",
            "NPL",
            "NLD",
            "NZL",
            "NIC",
            "NER",
            "NGA",
            "MKD",
            "NOR",
            "OMN",
            "PAK",
            "PAN",
            "PNG",
            "PRY",
            "PER",
            "PHL",
            "POL",
            "PRT",
            "QAT",
            "ROU",
            "RUS",
            "RWA",
            "WSM",
            "STP",
            "SAU",
            "SEN",
            "SRB",
            "SYC",
            "SLE",
            "SGP",
            "SVK",
            "SVN",
            "SLB",
            "SOM",
            "ZAF",
            "ESP",
            "LKA",
            "LCA",
            "VCT",
            "SDN",
            "SUR",
            "SWE",
            "CHE",
            "SYR",
            "TJK",
            "TZA",
            "THA",
            "TGO",
            "TON",
            "TTO",
            "TUN",
            "TUR",
            "TKM",
            "UGA",
            "UKR",
            "ARE",
            "GBR",
            "USA",
            "URY",
            "UZB",
            "VUT",
            "VEN",
            "VNM",
            "YEM",
            "ZMB",
            "ZWE"
           ],
           "name": "",
           "type": "choropleth",
           "z": [
            27.978606557191412,
            77.43052456623671,
            87.75862683053428,
            105.93984698380358,
            192.98503794064928,
            68.44531054423504,
            35.67604532912101,
            391.04403221479186,
            140.5024524453479,
            55.42765685908627,
            230.8217338676802,
            418.24921885318196,
            34.491219714372875,
            152.11309046294005,
            127.51228846925831,
            161.2222341957504,
            72.35088407400978,
            74.9826412218626,
            593.9435068368776,
            51.677416162837105,
            143.38199274532607,
            169.21324074907943,
            115.98965582087297,
            275.3789354344203,
            213.5356573787784,
            73.58498217537544,
            97.74224395245281,
            64.51211014920601,
            141.9582431948524,
            100.40603037593249,
            402.66167732001736,
            57.891273865967996,
            81.66644219630527,
            208.28965391195524,
            232.8777853133499,
            74.18333996221831,
            70.2529776567743,
            78.59479855237193,
            84.72999588658836,
            95.2754487586846,
            98.29357195188958,
            172.78447707104027,
            89.91623628211174,
            112.55188726732175,
            189.29050923394794,
            171.12210605820349,
            82.9362567278769,
            131.93875293398878,
            99.38041105387698,
            83.77004966318997,
            66.68148532130145,
            70.06744928489456,
            371.301279170485,
            81.30653775291813,
            252.65490572823012,
            121.62744819670151,
            109.18050035489863,
            84.53052373266819,
            204.71259017492156,
            170.36057175440612,
            353.4141690580922,
            57.6972225025008,
            77.7732695412162,
            102.13359688139042,
            62.066304794262486,
            198.57293146660552,
            82.34585622011174,
            119.28248884176038,
            117.97876683207214,
            158.3000410356515,
            143.41895574445147,
            68.97868451876778,
            100.19298957442126,
            135.59322298302607,
            355.358562076734,
            63.81761617740346,
            131.65050265024612,
            122.54614962120866,
            89.46219293437925,
            193.21141813475396,
            165.0792080041122,
            119.29092897401796,
            152.17941717752015,
            105.18512926479912,
            61.523450838350435,
            363.69214223553803,
            111.85509373564184,
            34.98058991812064,
            268.7391170025902,
            90.61187314250319,
            648.6368297180812,
            127.8910827864517,
            119.90705196630007,
            164.36811152911773,
            97.81844496121792,
            121.19530554253868,
            155.40443754741835,
            436.5600510949442,
            106.57391843533236,
            263.25038299915957,
            73.23689887719466,
            54.72899724415165,
            226.60472781728714,
            416.3567213146354,
            51.20827653170368,
            151.01332325278867,
            56.19035400910493,
            85.11776720364094,
            102.61604107442815,
            117.57268856090342,
            54.29078022635811,
            307.87994100283174,
            90.78218979934883,
            58.97889302729179,
            101.47581553740952,
            87.36763438071328,
            198.64677076863,
            110.2846508155364,
            102.80627995257767,
            341.76303691743124,
            89.58030451440699,
            41.66836249752017,
            162.40288956533107,
            148.13976963104412,
            242.95452654777642,
            388.0835147332854,
            91.81414453570227,
            90.54707229803056,
            83.98208798999724,
            125.62305653437393,
            96.26865254043618,
            63.324082721605066,
            164.31311839316214,
            114.77310391658189,
            1118.0616492817262,
            123.08854252809607,
            155.3897432225363,
            54.98539536322922,
            71.03730259253038,
            87.36631025712744,
            329.18009031551117,
            52.91877999456617,
            228.68186055847414,
            338.77218829948475,
            99.19474855589564,
            212.80106027267857,
            162.75156598315797,
            176.61065191395946,
            34.511080475161336,
            117.38857799363747,
            251.59203799574595,
            129.57359855616812,
            133.20653032448863,
            102.87337710733178,
            73.0831137385727,
            109.68943625269091,
            126.75143581152933,
            111.89919910211019,
            85.62018030684915,
            68.55275475275306,
            106.68456523628386,
            104.51231857598256,
            235.8686392072756,
            113.6545895343729,
            65.01808441597318,
            222.6734153255155,
            94.96311566722812,
            98.52735426892299,
            213.7713324889798,
            116.14127459980774,
            112.30559500742926,
            547.3357203390873,
            129.1583782764209,
            370.2338993196769,
            101.26326145364291,
            87.57321262664632,
            59.24492688375375,
            187.54510940933264,
            137.5169195132441,
            49.36928180708204,
            188.3023038026804,
            147.57838293658057
           ]
          }
         ],
         "name": "2004"
        },
        {
         "data": [
          {
           "coloraxis": "coloraxis",
           "geo": "geo",
           "hovertemplate": "Year=2005<br>Code=%{location}<br>Total emission=%{z}<extra></extra>",
           "locations": [
            "AFG",
            "ALB",
            "DZA",
            "AGO",
            "ATG",
            "ARG",
            "ARM",
            "AUS",
            "AUT",
            "AZE",
            "BHS",
            "BHR",
            "BGD",
            "BRB",
            "BLR",
            "BEL",
            "BLZ",
            "BEN",
            "BTN",
            "BOL",
            "BIH",
            "BWA",
            "BRA",
            "BRN",
            "BGR",
            "BFA",
            "BDI",
            "CPV",
            "KHM",
            "CMR",
            "CAN",
            "CAF",
            "TCD",
            "CHL",
            "CHN",
            "COL",
            "COM",
            "COD",
            "COG",
            "CRI",
            "CIV",
            "HRV",
            "CUB",
            "CYP",
            "CZE",
            "DNK",
            "DJI",
            "DMA",
            "DOM",
            "ECU",
            "EGY",
            "SLV",
            "GNQ",
            "ERI",
            "EST",
            "SWZ",
            "ETH",
            "FJI",
            "FIN",
            "FRA",
            "GAB",
            "GMB",
            "GEO",
            "DEU",
            "GHA",
            "GRC",
            "GRD",
            "GTM",
            "GIN",
            "GNB",
            "GUY",
            "HTI",
            "HND",
            "HUN",
            "ISL",
            "IND",
            "IDN",
            "IRN",
            "IRQ",
            "IRL",
            "ISR",
            "ITA",
            "JAM",
            "JPN",
            "JOR",
            "KAZ",
            "KEN",
            "KIR",
            "PRK",
            "KOR",
            "KWT",
            "KGZ",
            "LAO",
            "LVA",
            "LBN",
            "LSO",
            "LBR",
            "LBY",
            "LTU",
            "LUX",
            "MDG",
            "MWI",
            "MYS",
            "MDV",
            "MLI",
            "MLT",
            "MHL",
            "MRT",
            "MUS",
            "MEX",
            "MDA",
            "MNG",
            "MNE",
            "MAR",
            "MOZ",
            "MMR",
            "NAM",
            "NPL",
            "NLD",
            "NZL",
            "NIC",
            "NER",
            "NGA",
            "MKD",
            "NOR",
            "OMN",
            "PAK",
            "PAN",
            "PNG",
            "PRY",
            "PER",
            "PHL",
            "POL",
            "PRT",
            "QAT",
            "ROU",
            "RUS",
            "RWA",
            "WSM",
            "STP",
            "SAU",
            "SEN",
            "SRB",
            "SYC",
            "SLE",
            "SGP",
            "SVK",
            "SVN",
            "SLB",
            "SOM",
            "ZAF",
            "ESP",
            "LKA",
            "LCA",
            "VCT",
            "SDN",
            "SUR",
            "SWE",
            "CHE",
            "SYR",
            "TJK",
            "TZA",
            "THA",
            "TGO",
            "TON",
            "TTO",
            "TUN",
            "TUR",
            "TKM",
            "UGA",
            "UKR",
            "ARE",
            "GBR",
            "USA",
            "URY",
            "UZB",
            "VUT",
            "VEN",
            "VNM",
            "YEM",
            "ZMB",
            "ZWE"
           ],
           "name": "",
           "type": "choropleth",
           "z": [
            28.87509713877339,
            74.57766037176982,
            87.54307453660853,
            104.1924293550933,
            191.79757472534214,
            70.01027654614151,
            38.36708037080854,
            365.5828476866652,
            137.8379810032513,
            60.52106933512873,
            217.39665461015394,
            445.16911867776923,
            34.98391026810023,
            161.5855744907228,
            131.729783664281,
            150.17591391115835,
            72.31401173361522,
            76.14446846587259,
            599.6041606254596,
            51.52524183015598,
            148.05452859257258,
            175.37048110198666,
            113.33425761212219,
            269.74621351139643,
            211.89294823117254,
            85.73038542147067,
            96.06552445924987,
            73.15801758841721,
            142.38708475642252,
            100.20048727232944,
            375.47126527113636,
            57.22483088524067,
            81.699554019642,
            195.94580824819263,
            242.01637882367376,
            71.70959431995935,
            71.89844235130235,
            75.17507717268072,
            88.16557307588796,
            96.11309071842692,
            100.08358047508095,
            171.83732797852508,
            83.3497001043015,
            104.39045182170793,
            178.7228954220536,
            167.29999001740404,
            82.97109034872467,
            127.3079831418493,
            101.33473958139248,
            78.13564528813315,
            68.84393857234157,
            71.52250772167055,
            253.22782618556838,
            80.144536677399,
            229.31346208780056,
            124.14610136631931,
            109.25047092321199,
            79.22397188913395,
            189.05154938072045,
            159.21297439411813,
            376.33000275430777,
            57.718178373185665,
            62.59993906421806,
            98.08105582454549,
            59.12766645448502,
            195.23996098591522,
            84.58872868594797,
            118.18579006404862,
            117.14116735994773,
            156.5996715070673,
            131.22720719199424,
            131.0289879664454,
            99.68562067090896,
            117.17551408660499,
            339.24239200765663,
            64.27030279601267,
            138.04159694218208,
            126.49808986500983,
            78.90538789353832,
            190.08260507308566,
            155.36116900189032,
            117.34577985893405,
            146.7287527422415,
            101.06257107526628,
            58.022881313159786,
            376.1157605890898,
            112.49615413231902,
            38.96579644733279,
            276.9991872128403,
            84.95385295717438,
            688.0502415207839,
            129.33447067369156,
            121.13187853418727,
            158.88313542216162,
            90.2550083819933,
            129.7513797809143,
            159.01977958532262,
            463.0476123087345,
            109.76442513050303,
            253.20391537929046,
            74.68725705856727,
            54.671411391394486,
            227.6408491024211,
            369.0529344071487,
            50.85580045455698,
            156.34610621195833,
            51.10807611567555,
            86.14727547240687,
            100.01778019855828,
            115.93471294045821,
            53.97449675583798,
            325.54775500866043,
            169.6898288186943,
            58.071563088264895,
            100.91125984895523,
            85.18403624079171,
            211.92124545998598,
            111.17460156538289,
            101.49474916096136,
            334.72313128038894,
            86.44827362839213,
            41.55170748330926,
            166.11908005685174,
            117.98726547404158,
            230.98697265649082,
            356.63282049464584,
            92.28968149068362,
            95.8378723668758,
            81.55518876879302,
            122.7040153527689,
            92.2380024219353,
            61.66810720956835,
            165.79199218036104,
            107.95934784492157,
            896.3527889477432,
            126.95451682330203,
            150.78819443142837,
            53.764980546287624,
            70.79267038341484,
            88.51979501117661,
            324.2044675252957,
            51.81929611917495,
            213.44575574110684,
            311.04587342199915,
            97.32873654001753,
            220.73207178459558,
            170.9007574997576,
            176.42323394355537,
            33.32844887831494,
            118.91866410040984,
            244.205862933926,
            122.43841486371375,
            136.72777256245948,
            103.37134331189533,
            73.1894362605189,
            106.06509985487332,
            140.7600338763154,
            109.53997310171512,
            82.54783891334208,
            75.27699837962449,
            103.3953324051109,
            102.3959220625472,
            235.4349600677594,
            114.63590454840296,
            65.6998477776126,
            249.69797007640554,
            96.48965787391444,
            101.89932141758472,
            210.68783858987607,
            114.9790603326725,
            109.25727347428587,
            490.3322663775207,
            121.13729401363277,
            357.3702019019243,
            100.59830835844268,
            84.08713260977568,
            57.9426808038914,
            192.5358110053148,
            138.3837998414484,
            47.745152326687155,
            167.0153150486828,
            149.04787823228844
           ]
          }
         ],
         "name": "2005"
        },
        {
         "data": [
          {
           "coloraxis": "coloraxis",
           "geo": "geo",
           "hovertemplate": "Year=2006<br>Code=%{location}<br>Total emission=%{z}<extra></extra>",
           "locations": [
            "AFG",
            "ALB",
            "DZA",
            "AGO",
            "ATG",
            "ARG",
            "ARM",
            "AUS",
            "AUT",
            "AZE",
            "BHS",
            "BHR",
            "BGD",
            "BRB",
            "BLR",
            "BEL",
            "BLZ",
            "BEN",
            "BTN",
            "BOL",
            "BIH",
            "BWA",
            "BRA",
            "BRN",
            "BGR",
            "BFA",
            "BDI",
            "CPV",
            "KHM",
            "CMR",
            "CAN",
            "CAF",
            "TCD",
            "CHL",
            "CHN",
            "COL",
            "COM",
            "COD",
            "COG",
            "CRI",
            "CIV",
            "HRV",
            "CUB",
            "CYP",
            "CZE",
            "DNK",
            "DJI",
            "DMA",
            "DOM",
            "ECU",
            "EGY",
            "SLV",
            "GNQ",
            "ERI",
            "EST",
            "SWZ",
            "ETH",
            "FJI",
            "FIN",
            "FRA",
            "GAB",
            "GMB",
            "GEO",
            "DEU",
            "GHA",
            "GRC",
            "GRD",
            "GTM",
            "GIN",
            "GNB",
            "GUY",
            "HTI",
            "HND",
            "HUN",
            "ISL",
            "IND",
            "IDN",
            "IRN",
            "IRQ",
            "IRL",
            "ISR",
            "ITA",
            "JAM",
            "JPN",
            "JOR",
            "KAZ",
            "KEN",
            "KIR",
            "PRK",
            "KOR",
            "KWT",
            "KGZ",
            "LAO",
            "LVA",
            "LBN",
            "LSO",
            "LBR",
            "LBY",
            "LTU",
            "LUX",
            "MDG",
            "MWI",
            "MYS",
            "MDV",
            "MLI",
            "MLT",
            "MHL",
            "MRT",
            "MUS",
            "MEX",
            "MDA",
            "MNG",
            "MNE",
            "MAR",
            "MOZ",
            "MMR",
            "NAM",
            "NPL",
            "NLD",
            "NZL",
            "NIC",
            "NER",
            "NGA",
            "MKD",
            "NOR",
            "OMN",
            "PAK",
            "PAN",
            "PNG",
            "PRY",
            "PER",
            "PHL",
            "POL",
            "PRT",
            "QAT",
            "ROU",
            "RUS",
            "RWA",
            "WSM",
            "STP",
            "SAU",
            "SEN",
            "SRB",
            "SYC",
            "SLE",
            "SGP",
            "SVK",
            "SVN",
            "SLB",
            "SOM",
            "ZAF",
            "ESP",
            "LKA",
            "LCA",
            "VCT",
            "SDN",
            "SUR",
            "SWE",
            "CHE",
            "SYR",
            "TJK",
            "TZA",
            "THA",
            "TGO",
            "TON",
            "TTO",
            "TUN",
            "TUR",
            "TKM",
            "UGA",
            "UKR",
            "ARE",
            "GBR",
            "USA",
            "URY",
            "UZB",
            "VUT",
            "VEN",
            "VNM",
            "YEM",
            "ZMB",
            "ZWE"
           ],
           "name": "",
           "type": "choropleth",
           "z": [
            29.673856103395412,
            72.93151258777223,
            80.80814762889642,
            104.96700504880891,
            175.33039861433545,
            70.14437380029534,
            37.64536618410462,
            351.88425014131866,
            136.53854049292983,
            61.11422954664655,
            212.96909388187888,
            435.06111461804767,
            35.46927056032683,
            145.27013049730246,
            146.14619543059374,
            139.8061086325903,
            79.1054622986383,
            81.11254634200722,
            592.4979521759633,
            51.63782888007658,
            155.0385684586915,
            170.7321742701704,
            111.98620817098585,
            291.2069110335086,
            211.8159190961426,
            86.99851495128848,
            95.03301613899016,
            74.29516848903384,
            141.26930311375622,
            87.93985416991107,
            342.1442338246696,
            56.669472852446134,
            80.67537024520318,
            187.89078054583618,
            245.7134121523699,
            66.67058896948366,
            72.22927517260645,
            75.37859866011259,
            109.24102446343142,
            97.56529327944047,
            101.34969722071803,
            167.32784687365972,
            79.97652910228067,
            93.89546625704085,
            175.7345020781031,
            163.67028024347505,
            82.09120975932682,
            120.75626962018156,
            97.93509411211099,
            74.3927017712867,
            66.90412317154707,
            70.44241420903612,
            255.53895226999245,
            78.58202569730366,
            215.39498823145064,
            125.67449029622851,
            109.33633634923,
            79.52247474845085,
            188.67636455265855,
            145.65313219151906,
            391.7314404343035,
            57.52618381408091,
            63.56927205221594,
            97.88787738622048,
            58.84917562426117,
            190.03177967293635,
            80.59862556107232,
            115.05813704796596,
            116.14823605884548,
            156.0222826824702,
            116.92601270461435,
            131.60761237417447,
            95.95701351977613,
            105.9800897991038,
            345.54126133213947,
            64.78583007202441,
            145.01144095536534,
            126.78919110489498,
            72.13693671742374,
            177.8470651262603,
            144.91376616527498,
            112.99537358803738,
            143.2566611615495,
            98.08276862671484,
            51.88387968702537,
            400.6832725114391,
            112.81474674263215,
            39.401714149433445,
            256.0804105980395,
            85.68932069281055,
            638.110430253211,
            130.07372761766058,
            120.43781005851105,
            157.0451024789968,
            81.10794128392797,
            131.74593060390293,
            164.05161144787758,
            425.7764019669529,
            113.67496110748037,
            229.87921531746352,
            81.13384454427,
            54.29524951210907,
            231.10326826301284,
            528.9213949561358,
            50.44209050138532,
            151.55143801750765,
            51.798650725339364,
            88.26274964603687,
            102.80325179336076,
            113.80523914836752,
            55.68552877596052,
            358.6137507933233,
            176.26653859599202,
            55.6598581455943,
            96.55608225004518,
            85.82297855725182,
            198.93975043080337,
            112.41745763453768,
            101.02424782521533,
            328.6865178272714,
            83.83025059292538,
            41.234348932135106,
            162.41078896488654,
            115.4613116665883,
            218.76259534827236,
            349.1864831960222,
            93.92822235434626,
            92.68758551107332,
            79.68666497665451,
            143.56063538427273,
            90.59288953804662,
            60.09761517055525,
            176.08702608122593,
            99.02288076509596,
            889.5350110637318,
            124.86569273220044,
            152.58769961087006,
            53.155773825524804,
            69.78885802981048,
            88.29304500838069,
            307.43765467903705,
            55.2417411011584,
            208.60062572445864,
            327.97068321513,
            96.54180665497044,
            203.03647641129513,
            159.82715139285776,
            151.322242569018,
            32.24280948203826,
            121.09366405593508,
            242.1996888024674,
            114.15611384101821,
            137.22362176388145,
            95.7202369377377,
            67.27314618380707,
            107.36630964047775,
            122.69978460107463,
            104.25983998687299,
            78.14961707305277,
            75.41573591164986,
            108.9832719328771,
            101.51562000970804,
            235.43441602068032,
            113.0995075378977,
            66.90260604094154,
            251.37978919989163,
            93.34939096464403,
            101.55970402059083,
            189.2505015998598,
            113.68752040277934,
            118.33136710080703,
            430.93113343071377,
            115.03359348935574,
            334.4495870419052,
            105.04727084041895,
            84.25586684662068,
            56.002534151233846,
            168.1616840086891,
            140.19750070730018,
            44.97706228635196,
            176.85327309764457,
            151.3213657926282
           ]
          }
         ],
         "name": "2006"
        },
        {
         "data": [
          {
           "coloraxis": "coloraxis",
           "geo": "geo",
           "hovertemplate": "Year=2007<br>Code=%{location}<br>Total emission=%{z}<extra></extra>",
           "locations": [
            "AFG",
            "ALB",
            "DZA",
            "AGO",
            "ATG",
            "ARG",
            "ARM",
            "AUS",
            "AUT",
            "AZE",
            "BHS",
            "BHR",
            "BGD",
            "BRB",
            "BLR",
            "BEL",
            "BLZ",
            "BEN",
            "BTN",
            "BOL",
            "BIH",
            "BWA",
            "BRA",
            "BRN",
            "BGR",
            "BFA",
            "BDI",
            "CPV",
            "KHM",
            "CMR",
            "CAN",
            "CAF",
            "TCD",
            "CHL",
            "CHN",
            "COL",
            "COM",
            "COD",
            "COG",
            "CRI",
            "CIV",
            "HRV",
            "CUB",
            "CYP",
            "CZE",
            "DNK",
            "DJI",
            "DMA",
            "DOM",
            "ECU",
            "EGY",
            "SLV",
            "GNQ",
            "ERI",
            "EST",
            "SWZ",
            "ETH",
            "FJI",
            "FIN",
            "FRA",
            "GAB",
            "GMB",
            "GEO",
            "DEU",
            "GHA",
            "GRC",
            "GRD",
            "GTM",
            "GIN",
            "GNB",
            "GUY",
            "HTI",
            "HND",
            "HUN",
            "ISL",
            "IND",
            "IDN",
            "IRN",
            "IRQ",
            "IRL",
            "ISR",
            "ITA",
            "JAM",
            "JPN",
            "JOR",
            "KAZ",
            "KEN",
            "KIR",
            "PRK",
            "KOR",
            "KWT",
            "KGZ",
            "LAO",
            "LVA",
            "LBN",
            "LSO",
            "LBR",
            "LBY",
            "LTU",
            "LUX",
            "MDG",
            "MWI",
            "MYS",
            "MDV",
            "MLI",
            "MLT",
            "MHL",
            "MRT",
            "MUS",
            "MEX",
            "MDA",
            "MNG",
            "MNE",
            "MAR",
            "MOZ",
            "MMR",
            "NAM",
            "NPL",
            "NLD",
            "NZL",
            "NIC",
            "NER",
            "NGA",
            "MKD",
            "NOR",
            "OMN",
            "PAK",
            "PAN",
            "PNG",
            "PRY",
            "PER",
            "PHL",
            "POL",
            "PRT",
            "QAT",
            "ROU",
            "RUS",
            "RWA",
            "WSM",
            "STP",
            "SAU",
            "SEN",
            "SRB",
            "SYC",
            "SLE",
            "SGP",
            "SVK",
            "SVN",
            "SLB",
            "SOM",
            "ZAF",
            "ESP",
            "LKA",
            "LCA",
            "VCT",
            "SDN",
            "SUR",
            "SWE",
            "CHE",
            "SYR",
            "TJK",
            "TZA",
            "THA",
            "TGO",
            "TON",
            "TTO",
            "TUN",
            "TUR",
            "TKM",
            "UGA",
            "UKR",
            "ARE",
            "GBR",
            "USA",
            "URY",
            "UZB",
            "VUT",
            "VEN",
            "VNM",
            "YEM",
            "ZMB",
            "ZWE"
           ],
           "name": "",
           "type": "choropleth",
           "z": [
            32.96295206116956,
            65.57509482268956,
            82.36143094565125,
            106.93421267069127,
            175.45994778996976,
            74.24826526463428,
            38.364083423071136,
            341.2874318692504,
            131.75112166410483,
            60.11870424061622,
            226.277176463963,
            387.8048106270857,
            35.689236764664074,
            137.30835834230356,
            141.08142336857006,
            123.80657233876357,
            73.03990716495278,
            82.61225981523144,
            593.8484249694678,
            54.29245287855056,
            155.74220779496895,
            166.2584529973729,
            114.02151721699822,
            273.9042972010721,
            220.12455982753855,
            88.94902596621209,
            94.62378887168423,
            76.29779733086349,
            140.5235138080062,
            75.85717913910746,
            333.01289867972685,
            68.47233196204868,
            80.17707759753537,
            181.36887302297404,
            241.9103612227167,
            65.65855054502867,
            71.7696615753873,
            75.45264827880905,
            88.69178518512976,
            98.93841189312697,
            101.82271410029514,
            164.78606930927145,
            79.78596299995681,
            86.95184766943716,
            173.93461272486536,
            160.57027385461487,
            82.69314682084944,
            127.1440974786355,
            96.91992767640508,
            73.32028165942333,
            67.00971562501063,
            64.29523638960268,
            219.7189626950408,
            79.00916755213353,
            246.8386554584241,
            128.84953081181447,
            109.4383314383898,
            68.90091797318792,
            182.28952582099262,
            138.4720767899076,
            413.66351017774986,
            57.34494514125699,
            68.67182550558812,
            96.04027277391059,
            57.97432653778231,
            183.90852958594365,
            81.8140903412872,
            117.53264049455454,
            115.38401058943943,
            156.21032975970266,
            129.59980535155947,
            133.9543254956543,
            103.04257017784938,
            99.57128162111742,
            396.4986686608937,
            66.06787424365717,
            156.56358569341452,
            122.5462848423615,
            61.99488066603112,
            164.5080610746857,
            141.05741641481316,
            111.53794478313971,
            137.88870298570168,
            95.10229560706559,
            48.27251170211405,
            405.3973897378694,
            114.15496273284413,
            35.43158931697867,
            230.94122219511547,
            82.86615749628244,
            576.1004592616908,
            134.54168855819609,
            119.10358420292326,
            156.0841290718417,
            74.25384056615171,
            137.58039560687334,
            160.3825496958183,
            373.8095291095733,
            111.74706962597648,
            215.0819144029184,
            80.32939893061118,
            54.20109103670073,
            239.0925120423108,
            519.0172277269079,
            50.46823745057674,
            149.0766052753218,
            49.78578269790013,
            87.695161212259,
            101.40275824237877,
            114.0572861339412,
            53.890415179912225,
            384.7064992944769,
            166.9070730911305,
            53.650807720899905,
            71.88012102070581,
            87.9226316428522,
            206.1431623203227,
            113.31141748413471,
            99.29907698812139,
            329.0816009280743,
            84.11587995109173,
            41.23514323989427,
            164.9537146230384,
            120.01839460721422,
            213.3660015293621,
            332.8989640811725,
            95.65179977451031,
            87.28501816181316,
            77.77243151736194,
            163.02719729689136,
            80.32038807538278,
            60.347028205720086,
            166.91049318268148,
            95.50049312508324,
            909.0056621039795,
            118.53542458639288,
            152.13268685881937,
            52.454293518797186,
            67.72076829482658,
            87.21836969332531,
            287.0012235653404,
            59.69832317396648,
            215.16925152463995,
            268.3718796232051,
            95.41630166656287,
            205.54292650109545,
            154.84257194273383,
            149.6507936091079,
            29.949609921728317,
            117.7788500685146,
            248.80604666647488,
            112.37963021617955,
            138.93102061461005,
            95.22736666288873,
            66.99843901472566,
            100.64737632816131,
            112.20793214145283,
            102.44943502973078,
            74.40308607322598,
            73.64826538588349,
            121.04241794040557,
            99.82773251195252,
            244.09773224520168,
            113.33017560252681,
            60.88810695937845,
            237.50823760308947,
            93.77618803255905,
            105.11221313064291,
            201.43718680834908,
            113.52455774603139,
            125.33616768067412,
            349.7891327831919,
            109.57976811857671,
            312.7369574627107,
            103.39620400576393,
            83.39536228971268,
            60.51817133848509,
            159.20039761285483,
            142.40586825099643,
            42.21269817030553,
            167.18150160945913,
            153.10957209094508
           ]
          }
         ],
         "name": "2007"
        },
        {
         "data": [
          {
           "coloraxis": "coloraxis",
           "geo": "geo",
           "hovertemplate": "Year=2008<br>Code=%{location}<br>Total emission=%{z}<extra></extra>",
           "locations": [
            "AFG",
            "ALB",
            "DZA",
            "AGO",
            "ATG",
            "ARG",
            "ARM",
            "AUS",
            "AUT",
            "AZE",
            "BHS",
            "BHR",
            "BGD",
            "BRB",
            "BLR",
            "BEL",
            "BLZ",
            "BEN",
            "BTN",
            "BOL",
            "BIH",
            "BWA",
            "BRA",
            "BRN",
            "BGR",
            "BFA",
            "BDI",
            "CPV",
            "KHM",
            "CMR",
            "CAN",
            "CAF",
            "TCD",
            "CHL",
            "CHN",
            "COL",
            "COM",
            "COD",
            "COG",
            "CRI",
            "CIV",
            "HRV",
            "CUB",
            "CYP",
            "CZE",
            "DNK",
            "DJI",
            "DMA",
            "DOM",
            "ECU",
            "EGY",
            "SLV",
            "GNQ",
            "ERI",
            "EST",
            "SWZ",
            "ETH",
            "FJI",
            "FIN",
            "FRA",
            "GAB",
            "GMB",
            "GEO",
            "DEU",
            "GHA",
            "GRC",
            "GRD",
            "GTM",
            "GIN",
            "GNB",
            "GUY",
            "HTI",
            "HND",
            "HUN",
            "ISL",
            "IND",
            "IDN",
            "IRN",
            "IRQ",
            "IRL",
            "ISR",
            "ITA",
            "JAM",
            "JPN",
            "JOR",
            "KAZ",
            "KEN",
            "KIR",
            "PRK",
            "KOR",
            "KWT",
            "KGZ",
            "LAO",
            "LVA",
            "LBN",
            "LSO",
            "LBR",
            "LBY",
            "LTU",
            "LUX",
            "MDG",
            "MWI",
            "MYS",
            "MDV",
            "MLI",
            "MLT",
            "MHL",
            "MRT",
            "MUS",
            "MEX",
            "MDA",
            "MNG",
            "MNE",
            "MAR",
            "MOZ",
            "MMR",
            "NAM",
            "NPL",
            "NLD",
            "NZL",
            "NIC",
            "NER",
            "NGA",
            "MKD",
            "NOR",
            "OMN",
            "PAK",
            "PAN",
            "PNG",
            "PRY",
            "PER",
            "PHL",
            "POL",
            "PRT",
            "QAT",
            "ROU",
            "RUS",
            "RWA",
            "WSM",
            "STP",
            "SAU",
            "SEN",
            "SRB",
            "SYC",
            "SLE",
            "SGP",
            "SVK",
            "SVN",
            "SLB",
            "SOM",
            "ZAF",
            "ESP",
            "LKA",
            "LCA",
            "VCT",
            "SDN",
            "SUR",
            "SWE",
            "CHE",
            "SYR",
            "TJK",
            "TZA",
            "THA",
            "TGO",
            "TON",
            "TTO",
            "TUN",
            "TUR",
            "TKM",
            "UGA",
            "UKR",
            "ARE",
            "GBR",
            "USA",
            "URY",
            "UZB",
            "VUT",
            "VEN",
            "VNM",
            "YEM",
            "ZMB",
            "ZWE"
           ],
           "name": "",
           "type": "choropleth",
           "z": [
            34.449678987396275,
            58.71743312724739,
            81.95399593925912,
            108.84415159289652,
            177.31283172710988,
            73.36288904535311,
            39.48468072490952,
            330.44202247614027,
            126.37075268677651,
            59.73378118082023,
            208.4639904620855,
            351.11596886351737,
            36.570418046209305,
            156.65205811120714,
            154.76765202716,
            117.19608495745041,
            69.62717296291348,
            82.17907682500508,
            619.519852504344,
            55.94077320121044,
            159.809042501194,
            170.44060138679575,
            113.64145118884899,
            283.1979347479449,
            177.9227638854058,
            91.50863743194647,
            93.19120566047532,
            75.1198031785909,
            139.97081026033587,
            75.16084899618579,
            312.75646298124246,
            68.25771635287032,
            79.43253063328154,
            170.17581617425347,
            231.44830314308254,
            64.98033949855355,
            71.95694651331576,
            75.52073891271311,
            91.83378476205576,
            95.49730885870326,
            100.04812918207067,
            150.39156055924937,
            76.27811133445124,
            75.09843247226468,
            160.70293667461337,
            149.38759481223767,
            84.72502027296848,
            124.23094643285752,
            91.52681407157378,
            71.42726345045133,
            71.32424365092108,
            61.67907587441395,
            210.42867489893592,
            78.66789213325546,
            227.47093351980791,
            129.34011362499942,
            109.72992208341346,
            55.744108942806676,
            165.86233331997087,
            131.58464253754224,
            430.90746506512835,
            57.01332682170268,
            64.89521742395442,
            94.68310602531622,
            51.288905897068915,
            167.96223063681816,
            85.74154054771657,
            115.44120904567257,
            114.692807177728,
            155.49019984297854,
            124.26581465071095,
            134.7957194570511,
            101.24195362585056,
            91.18744793383027,
            505.49096000806514,
            67.34212716683174,
            162.74100497880488,
            118.9076170243943,
            69.71483476248957,
            154.94267021327778,
            132.4938345829685,
            109.98194246081769,
            120.73981942401458,
            86.76240533955942,
            41.955358364658586,
            405.876081663902,
            114.58501244258235,
            36.978951812962606,
            239.62500642735858,
            77.53133052998704,
            534.5532145034148,
            148.18125761934306,
            118.63811600530545,
            146.00728128407283,
            81.94475434026738,
            139.35320907701515,
            159.82230410825252,
            415.76062876356633,
            116.01178338900473,
            194.90949902793412,
            79.55776831244191,
            54.12350846342737,
            245.19684163676567,
            518.6252295517278,
            50.38038556774091,
            155.13897568023765,
            49.7301233666821,
            88.60793137510096,
            98.61838149183238,
            116.53468879753946,
            53.96526124456235,
            418.85471393648237,
            179.13959113018643,
            54.849740863145605,
            67.20423995658942,
            88.36520402048946,
            205.41369407955588,
            114.79341397260751,
            97.51263242985522,
            320.9973279731443,
            82.3799352863872,
            41.1386105928906,
            164.3136791525723,
            104.7788557901005,
            199.38891548865695,
            292.7033026616498,
            93.04540313451078,
            82.43152265909487,
            76.45098512786544,
            166.6553815173608,
            82.4860581163636,
            59.049941989702866,
            162.4163485899389,
            85.12579378049827,
            740.6695705679473,
            124.12179921243067,
            157.9380889623197,
            51.610180718552726,
            68.41372562928687,
            86.75608783309957,
            285.0184425611316,
            59.779250478624995,
            213.0144892222303,
            282.5632761396568,
            94.71993945483592,
            189.4816407667403,
            146.47393838489617,
            144.28813955858462,
            29.615882648601396,
            123.26589632460218,
            254.5494406720393,
            87.69546745180944,
            142.17231949345037,
            95.98235004793808,
            67.48010939820837,
            99.29738512064895,
            113.22299636643505,
            96.70973850705838,
            72.16269022938343,
            71.4844508609595,
            119.21654860726801,
            98.88570147654424,
            248.36744416706654,
            114.77540372027576,
            63.02327697114501,
            224.1753039119992,
            93.91083335981902,
            99.34762204317481,
            228.4984704504893,
            113.22623050489133,
            121.49549525166238,
            303.11686415392256,
            93.72089591153882,
            285.4042287376396,
            131.2022721251079,
            84.82940343114993,
            60.38592619624038,
            166.5700667886532,
            142.3467138643968,
            40.32524559264314,
            164.34836794559374,
            149.86995447087773
           ]
          }
         ],
         "name": "2008"
        },
        {
         "data": [
          {
           "coloraxis": "coloraxis",
           "geo": "geo",
           "hovertemplate": "Year=2009<br>Code=%{location}<br>Total emission=%{z}<extra></extra>",
           "locations": [
            "AFG",
            "ALB",
            "DZA",
            "AGO",
            "ATG",
            "ARG",
            "ARM",
            "AUS",
            "AUT",
            "AZE",
            "BHS",
            "BHR",
            "BGD",
            "BRB",
            "BLR",
            "BEL",
            "BLZ",
            "BEN",
            "BTN",
            "BOL",
            "BIH",
            "BWA",
            "BRA",
            "BRN",
            "BGR",
            "BFA",
            "BDI",
            "CPV",
            "KHM",
            "CMR",
            "CAN",
            "CAF",
            "TCD",
            "CHL",
            "CHN",
            "COL",
            "COM",
            "COD",
            "COG",
            "CRI",
            "CIV",
            "HRV",
            "CUB",
            "CYP",
            "CZE",
            "DNK",
            "DJI",
            "DMA",
            "DOM",
            "ECU",
            "EGY",
            "SLV",
            "GNQ",
            "ERI",
            "EST",
            "SWZ",
            "ETH",
            "FJI",
            "FIN",
            "FRA",
            "GAB",
            "GMB",
            "GEO",
            "DEU",
            "GHA",
            "GRC",
            "GRD",
            "GTM",
            "GIN",
            "GNB",
            "GUY",
            "HTI",
            "HND",
            "HUN",
            "ISL",
            "IND",
            "IDN",
            "IRN",
            "IRQ",
            "IRL",
            "ISR",
            "ITA",
            "JAM",
            "JPN",
            "JOR",
            "KAZ",
            "KEN",
            "KIR",
            "PRK",
            "KOR",
            "KWT",
            "KGZ",
            "LAO",
            "LVA",
            "LBN",
            "LSO",
            "LBR",
            "LBY",
            "LTU",
            "LUX",
            "MDG",
            "MWI",
            "MYS",
            "MDV",
            "MLI",
            "MLT",
            "MHL",
            "MRT",
            "MUS",
            "MEX",
            "MDA",
            "MNG",
            "MNE",
            "MAR",
            "MOZ",
            "MMR",
            "NAM",
            "NPL",
            "NLD",
            "NZL",
            "NIC",
            "NER",
            "NGA",
            "MKD",
            "NOR",
            "OMN",
            "PAK",
            "PAN",
            "PNG",
            "PRY",
            "PER",
            "PHL",
            "POL",
            "PRT",
            "QAT",
            "ROU",
            "RUS",
            "RWA",
            "WSM",
            "STP",
            "SAU",
            "SEN",
            "SRB",
            "SYC",
            "SLE",
            "SGP",
            "SVK",
            "SVN",
            "SLB",
            "SOM",
            "ZAF",
            "ESP",
            "LKA",
            "LCA",
            "VCT",
            "SDN",
            "SUR",
            "SWE",
            "CHE",
            "SYR",
            "TJK",
            "TZA",
            "THA",
            "TGO",
            "TON",
            "TTO",
            "TUN",
            "TUR",
            "TKM",
            "UGA",
            "UKR",
            "ARE",
            "GBR",
            "USA",
            "URY",
            "UZB",
            "VUT",
            "VEN",
            "VNM",
            "YEM",
            "ZMB",
            "ZWE"
           ],
           "name": "",
           "type": "choropleth",
           "z": [
            44.43016004366714,
            60.27973300941855,
            78.87317238092243,
            107.9081299997988,
            199.96303607082746,
            68.90335396366476,
            37.7144686249607,
            299.6433898219134,
            119.71017475890599,
            53.36019601792418,
            190.45973973409914,
            308.70408007587696,
            36.48282859012646,
            162.7204740238488,
            160.01330031824705,
            92.43348949515365,
            78.97921321765106,
            82.944050146746,
            590.8164685555405,
            57.25734439640089,
            145.24696983729388,
            166.1688344702682,
            100.85022254359234,
            261.718508957922,
            152.93213027489094,
            90.81486719126974,
            92.35065196671265,
            74.86953506578365,
            154.72677379043714,
            75.89643509910273,
            287.290925170155,
            68.05515575920003,
            78.882162674921,
            160.30028272814238,
            230.1063816234244,
            65.01741490635966,
            72.61648828373328,
            75.40304218956224,
            96.1636029267203,
            93.4107296371833,
            91.89973940566865,
            144.22099593489799,
            78.08624824959834,
            67.09078202649526,
            158.61075316815422,
            135.71387781669515,
            82.91432057335928,
            117.5307575898717,
            89.12134062990349,
            73.27184335578835,
            71.75763138031107,
            63.862898692788164,
            195.51644056836795,
            79.23405952716736,
            213.73990625807878,
            129.75062399110328,
            108.31832794066369,
            53.24405774351392,
            154.47060031980544,
            120.50656562253505,
            446.73920855514086,
            57.16718411243254,
            70.12093862787492,
            84.79764511395264,
            52.114409782987344,
            157.49194781100994,
            90.11362466797115,
            121.15405205215072,
            114.2365926874779,
            155.55203619330138,
            131.16561584715095,
            137.04665787443741,
            100.07601841542677,
            94.67251595137014,
            512.1411341636865,
            68.3634897356628,
            162.4846517523303,
            115.34070096036005,
            74.58144671955377,
            143.9830991924593,
            124.77865161109332,
            98.74272730187892,
            106.48854074826251,
            78.71561055706105,
            38.314858804107196,
            334.13757823208385,
            115.3072070289732,
            33.637078103636185,
            221.84393954546482,
            76.67547198127845,
            473.5593784572738,
            152.25474783125594,
            113.90048853214776,
            149.23826454975068,
            87.46381186181003,
            141.83439622818798,
            160.22794986219188,
            402.7542932945375,
            108.71896503100304,
            172.77964494568917,
            78.42406448463491,
            53.68131836039454,
            230.0382741831272,
            502.13674174726515,
            50.54082892012846,
            126.4804153904339,
            48.89278389333333,
            89.13177692403127,
            98.62760076926222,
            108.15648475674686,
            52.81166734046795,
            365.72815278353323,
            139.67909214710153,
            50.26416289322647,
            64.24555196375059,
            87.6930680128167,
            213.05191778741823,
            115.64356945617457,
            90.19909227780983,
            308.8530809278111,
            82.83386220861242,
            41.396265094789015,
            161.22673301274008,
            114.85920826045329,
            181.50193850303373,
            304.2666728438286,
            93.8912122504016,
            92.00051379981365,
            73.77890763825206,
            142.7836792574658,
            87.9837590524389,
            58.24456828357404,
            156.7031497994986,
            78.0285486987577,
            559.8654226411674,
            111.20845698833638,
            150.72035219803956,
            50.96801511228415,
            66.96943030841588,
            87.26694347153676,
            275.95218856503436,
            70.76222758596535,
            212.8785092954916,
            313.0312270613302,
            94.68577583554476,
            172.0071994936215,
            131.40821137508016,
            127.82437380771097,
            28.38584192740027,
            125.61921362159032,
            237.2753929506642,
            79.27671500857602,
            142.08493732802452,
            99.80093879375919,
            90.59134540618912,
            99.34775774699983,
            122.83981397829523,
            90.82608868190243,
            67.68611716862105,
            63.79728379963419,
            118.78633974554205,
            97.9096087894103,
            242.59357512024758,
            124.51210910222393,
            64.4458686110309,
            236.82735421256234,
            92.9077125935829,
            97.8376786748112,
            223.76234480188913,
            112.77506461410961,
            108.21043051153022,
            258.6789383901627,
            78.43118200560183,
            255.1512490261116,
            135.92525306925208,
            81.22397433681225,
            59.87252133578287,
            171.09184731808975,
            146.23193998933453,
            40.76075510981744,
            172.09930625776994,
            151.20256825115223
           ]
          }
         ],
         "name": "2009"
        },
        {
         "data": [
          {
           "coloraxis": "coloraxis",
           "geo": "geo",
           "hovertemplate": "Year=2010<br>Code=%{location}<br>Total emission=%{z}<extra></extra>",
           "locations": [
            "AFG",
            "ALB",
            "DZA",
            "AGO",
            "ATG",
            "ARG",
            "ARM",
            "AUS",
            "AUT",
            "AZE",
            "BHS",
            "BHR",
            "BGD",
            "BRB",
            "BLR",
            "BEL",
            "BLZ",
            "BEN",
            "BTN",
            "BOL",
            "BIH",
            "BWA",
            "BRA",
            "BRN",
            "BGR",
            "BFA",
            "BDI",
            "CPV",
            "KHM",
            "CMR",
            "CAN",
            "CAF",
            "TCD",
            "CHL",
            "CHN",
            "COL",
            "COM",
            "COD",
            "COG",
            "CRI",
            "CIV",
            "HRV",
            "CUB",
            "CYP",
            "CZE",
            "DNK",
            "DJI",
            "DMA",
            "DOM",
            "ECU",
            "EGY",
            "SLV",
            "GNQ",
            "ERI",
            "EST",
            "SWZ",
            "ETH",
            "FJI",
            "FIN",
            "FRA",
            "GAB",
            "GMB",
            "GEO",
            "DEU",
            "GHA",
            "GRC",
            "GRD",
            "GTM",
            "GIN",
            "GNB",
            "GUY",
            "HTI",
            "HND",
            "HUN",
            "ISL",
            "IND",
            "IDN",
            "IRN",
            "IRQ",
            "IRL",
            "ISR",
            "ITA",
            "JAM",
            "JPN",
            "JOR",
            "KAZ",
            "KEN",
            "KIR",
            "PRK",
            "KOR",
            "KWT",
            "KGZ",
            "LAO",
            "LVA",
            "LBN",
            "LSO",
            "LBR",
            "LBY",
            "LTU",
            "LUX",
            "MDG",
            "MWI",
            "MYS",
            "MDV",
            "MLI",
            "MLT",
            "MHL",
            "MRT",
            "MUS",
            "MEX",
            "MDA",
            "MNG",
            "MNE",
            "MAR",
            "MOZ",
            "MMR",
            "NAM",
            "NPL",
            "NLD",
            "NZL",
            "NIC",
            "NER",
            "NGA",
            "MKD",
            "NOR",
            "OMN",
            "PAK",
            "PAN",
            "PNG",
            "PRY",
            "PER",
            "PHL",
            "POL",
            "PRT",
            "QAT",
            "ROU",
            "RUS",
            "RWA",
            "WSM",
            "STP",
            "SAU",
            "SEN",
            "SRB",
            "SYC",
            "SLE",
            "SGP",
            "SVK",
            "SVN",
            "SLB",
            "SOM",
            "ZAF",
            "ESP",
            "LKA",
            "LCA",
            "VCT",
            "SDN",
            "SUR",
            "SWE",
            "CHE",
            "SYR",
            "TJK",
            "TZA",
            "THA",
            "TGO",
            "TON",
            "TTO",
            "TUN",
            "TUR",
            "TKM",
            "UGA",
            "UKR",
            "ARE",
            "GBR",
            "USA",
            "URY",
            "UZB",
            "VUT",
            "VEN",
            "VNM",
            "YEM",
            "ZMB",
            "ZWE"
           ],
           "name": "",
           "type": "choropleth",
           "z": [
            52.32749148404377,
            60.995566870269734,
            79.18527905878834,
            106.62626207139625,
            194.83890517789797,
            73.1703568899757,
            38.39629672622327,
            280.2658490587447,
            122.39223292334079,
            52.40887809282894,
            208.26654929537784,
            285.9010859806908,
            36.76591658923169,
            157.1331501323853,
            156.79413509159554,
            97.08100109530592,
            71.12761883497073,
            88.0928382383842,
            593.0855035353601,
            60.540373425525374,
            141.57870090503988,
            153.20628094640196,
            107.09062406408219,
            252.69866279339033,
            122.36237762485501,
            89.87104210085639,
            91.09662019995847,
            74.88013601838206,
            156.1092993172544,
            74.2137289460363,
            274.48246871207255,
            68.2268445014644,
            78.30473525401652,
            158.3132787529357,
            226.62324525960508,
            65.48500611418602,
            72.77749222841501,
            73.69868260962241,
            100.17553332205512,
            92.77979113807076,
            94.07006328851918,
            135.24454714281023,
            77.1819949113794,
            67.59461714416167,
            162.02708279511685,
            132.22584149094317,
            84.86789090190646,
            104.234242797483,
            89.74225692490067,
            81.64794518622432,
            70.29225221204106,
            61.4505298053405,
            180.4352568090128,
            80.10147721054052,
            240.46133648772977,
            109.12737921390784,
            108.09492664784754,
            53.83434322147245,
            161.00489153052047,
            126.99788884725353,
            468.79576545125417,
            56.74073062844218,
            65.74488315008206,
            91.26932620238985,
            51.71599611761586,
            129.35135721492577,
            93.90570566584773,
            139.20436675783975,
            114.0057692292598,
            154.63693474118924,
            138.99682134298325,
            137.0763576653766,
            98.24658315569519,
            95.06751308471992,
            499.9263724802777,
            69.45579652649161,
            165.45397804855693,
            109.08116501552774,
            75.78763428495806,
            133.39320352049435,
            132.35323951938716,
            95.5276479405302,
            98.53849807504822,
            77.21259002108222,
            40.51951156634978,
            324.344247767658,
            115.70296739933471,
            34.84633054494934,
            207.64249473987277,
            77.56819966827375,
            427.49662433436595,
            141.18175113346425,
            110.94007413790483,
            130.6012245686049,
            89.44520801177289,
            140.99739148648942,
            162.55979774145564,
            396.7985634262463,
            110.95536683453427,
            168.45743139896598,
            78.9733778562797,
            53.46439258489154,
            240.93913117308594,
            482.98762504989963,
            49.87182704798008,
            79.86365841913786,
            48.21737098605542,
            87.90619407331302,
            102.22152351247601,
            106.97389394646538,
            89.59708630512736,
            331.5639088406321,
            174.0800417481935,
            50.62797924484661,
            60.41802108095277,
            85.36836934138101,
            220.61144371963601,
            118.00054428921669,
            91.50184058229374,
            309.46680596225895,
            82.87423761582332,
            41.01933561203898,
            165.29005878663756,
            107.31112516727103,
            188.70392996720153,
            299.80845351238924,
            92.43997216636481,
            94.04814687619331,
            70.65881438866003,
            146.21762014206104,
            93.47714859964324,
            58.68928785257938,
            166.25936359984496,
            73.01828005031636,
            534.307492952481,
            101.65960280973786,
            154.3277582944866,
            50.15918171098532,
            68.17193050244958,
            86.87931779498922,
            283.00676670728814,
            68.18638524333365,
            201.01029248559547,
            273.5512432884037,
            94.08695778156921,
            165.47255137753976,
            139.843331191662,
            125.62764203354222,
            28.167080159360133,
            126.30581781639692,
            239.49393142475213,
            76.66150802188476,
            148.93715805313238,
            104.13420742740615,
            74.17148159438364,
            98.64981970045864,
            134.73702287335274,
            89.2479621515002,
            65.03954996792935,
            63.61618252220981,
            116.11239749108391,
            97.55284545970625,
            253.16092955568078,
            122.61052407010688,
            61.340971861596756,
            223.0770281452279,
            88.25313617628332,
            91.41721239656763,
            234.02108631975898,
            111.94711554310176,
            111.95526050036995,
            268.0842805393411,
            75.31168166262297,
            235.218702947242,
            141.4437000543272,
            74.92398205332886,
            58.649948351262225,
            174.95143885676268,
            145.9462992822214,
            37.16341661392394,
            181.17918160127192,
            153.7840289948048
           ]
          }
         ],
         "name": "2010"
        },
        {
         "data": [
          {
           "coloraxis": "coloraxis",
           "geo": "geo",
           "hovertemplate": "Year=2011<br>Code=%{location}<br>Total emission=%{z}<extra></extra>",
           "locations": [
            "AFG",
            "ALB",
            "DZA",
            "AGO",
            "ATG",
            "ARG",
            "ARM",
            "AUS",
            "AUT",
            "AZE",
            "BHS",
            "BHR",
            "BGD",
            "BRB",
            "BLR",
            "BEL",
            "BLZ",
            "BEN",
            "BTN",
            "BOL",
            "BIH",
            "BWA",
            "BRA",
            "BRN",
            "BGR",
            "BFA",
            "BDI",
            "CPV",
            "KHM",
            "CMR",
            "CAN",
            "CAF",
            "TCD",
            "CHL",
            "CHN",
            "COL",
            "COM",
            "COD",
            "COG",
            "CRI",
            "CIV",
            "HRV",
            "CUB",
            "CYP",
            "CZE",
            "DNK",
            "DJI",
            "DMA",
            "DOM",
            "ECU",
            "EGY",
            "SLV",
            "GNQ",
            "ERI",
            "EST",
            "SWZ",
            "ETH",
            "FJI",
            "FIN",
            "FRA",
            "GAB",
            "GMB",
            "GEO",
            "DEU",
            "GHA",
            "GRC",
            "GRD",
            "GTM",
            "GIN",
            "GNB",
            "GUY",
            "HTI",
            "HND",
            "HUN",
            "ISL",
            "IND",
            "IDN",
            "IRN",
            "IRQ",
            "IRL",
            "ISR",
            "ITA",
            "JAM",
            "JPN",
            "JOR",
            "KAZ",
            "KEN",
            "KIR",
            "PRK",
            "KOR",
            "KWT",
            "KGZ",
            "LAO",
            "LVA",
            "LBN",
            "LSO",
            "LBR",
            "LBY",
            "LTU",
            "LUX",
            "MDG",
            "MWI",
            "MYS",
            "MDV",
            "MLI",
            "MLT",
            "MHL",
            "MRT",
            "MUS",
            "MEX",
            "MDA",
            "MNG",
            "MNE",
            "MAR",
            "MOZ",
            "MMR",
            "NAM",
            "NPL",
            "NLD",
            "NZL",
            "NIC",
            "NER",
            "NGA",
            "MKD",
            "NOR",
            "OMN",
            "PAK",
            "PAN",
            "PNG",
            "PRY",
            "PER",
            "PHL",
            "POL",
            "PRT",
            "QAT",
            "ROU",
            "RUS",
            "RWA",
            "WSM",
            "STP",
            "SAU",
            "SEN",
            "SRB",
            "SYC",
            "SLE",
            "SGP",
            "SVK",
            "SVN",
            "SLB",
            "SOM",
            "ZAF",
            "ESP",
            "LKA",
            "LCA",
            "VCT",
            "SDN",
            "SUR",
            "SWE",
            "CHE",
            "SYR",
            "TJK",
            "TZA",
            "THA",
            "TGO",
            "TON",
            "TTO",
            "TUN",
            "TUR",
            "TKM",
            "UGA",
            "UKR",
            "ARE",
            "GBR",
            "USA",
            "URY",
            "UZB",
            "VUT",
            "VEN",
            "VNM",
            "YEM",
            "ZMB",
            "ZWE"
           ],
           "name": "",
           "type": "choropleth",
           "z": [
            59.18427509029411,
            61.945985071570064,
            80.82405562094061,
            104.10325713241268,
            191.62724119077228,
            75.25356488580513,
            39.66525669050782,
            275.82240762140634,
            117.78789135810473,
            54.58904488153491,
            178.61666738973847,
            271.03256468132486,
            37.24884868928554,
            162.93863601508195,
            160.65271199551745,
            83.29210411166103,
            75.19640827648023,
            89.0815023946102,
            590.0149542476684,
            61.91459323130212,
            153.958080288432,
            150.29658038445925,
            106.86109453595958,
            251.19615507711688,
            194.04923047800804,
            89.14620401766929,
            89.66357616522404,
            82.65747363968762,
            157.94539798477768,
            73.87549073517624,
            252.44283749524743,
            68.77382198941031,
            77.42897921841043,
            161.5093175670563,
            227.14344892235124,
            66.50550712731959,
            72.10597468895465,
            74.80824815127006,
            124.08332894182362,
            92.78626470564113,
            106.39659122278624,
            126.75445657196549,
            76.84814179823736,
            64.21616213251211,
            155.98927495653618,
            121.20566046000302,
            81.18698297007991,
            100.54854888882625,
            90.85383433147767,
            80.3271144235363,
            70.77090299511707,
            59.93122464805152,
            167.1742106473811,
            81.48134177895763,
            214.2581960451667,
            98.7614784819856,
            107.97928043584947,
            74.68618021446547,
            147.13004608898734,
            108.55847819759123,
            371.69472615729813,
            56.19366332872871,
            64.52946770626771,
            89.83981452851881,
            53.29309354801989,
            116.13448331227505,
            91.71860943293757,
            141.93756532978824,
            112.69051427713778,
            153.59976480960518,
            147.56352064018895,
            140.19870400145737,
            107.64291563721784,
            96.43574532275102,
            482.73925031503325,
            69.52450124822327,
            168.5125464531709,
            108.17660125638714,
            77.28345760659782,
            123.17104930826598,
            127.21123643410851,
            81.69955573349966,
            100.04655768067775,
            75.17612802640946,
            45.51478241726522,
            331.4336359146694,
            115.4067496054785,
            34.91686380910549,
            164.81573894299464,
            74.62452019697442,
            406.5191556346786,
            160.2067264171472,
            109.64755521288707,
            133.76083786593153,
            88.35584240216377,
            138.36659295623738,
            163.11215994850457,
            276.32247389690394,
            109.60930258593217,
            161.21963781019275,
            78.10670932309638,
            52.56122598200041,
            220.48608976559422,
            459.52613211737344,
            49.25314540357525,
            79.27430996377333,
            44.55460904636394,
            88.33009471890554,
            103.0760533342276,
            105.7003130450921,
            95.2147266641094,
            340.64001762224575,
            170.6435484833384,
            51.19363962070475,
            62.767565146391604,
            85.33180909859587,
            225.15359574646646,
            121.16372621026021,
            86.95542708311245,
            307.13224543795616,
            82.10741687459628,
            35.67361978937363,
            166.2927658193153,
            118.13387553215051,
            177.80604834802045,
            287.1594307233104,
            91.999186028591,
            93.87281468713064,
            62.79197318058939,
            142.29120296635162,
            94.70688283253348,
            57.48837896877879,
            155.5066882745577,
            67.85136594061507,
            532.5369093326641,
            98.4956496896294,
            157.55033739712957,
            49.325649568638184,
            69.0854150819602,
            87.5903279248228,
            284.4346027274607,
            68.496704301866,
            213.1722674793364,
            264.447434155602,
            93.8132826165126,
            181.93287038108772,
            131.1328285094206,
            121.42039625046824,
            27.013383525292646,
            127.35028514979675,
            229.18415072544562,
            74.553832847942,
            140.36385587883916,
            103.65542430957483,
            69.22814268436795,
            96.48947412000692,
            141.76575461667966,
            85.28574301373035,
            59.52726135616534,
            60.19460165139952,
            114.03337477963653,
            97.73083789058728,
            245.5112088438375,
            120.87710986889974,
            61.50189282748498,
            242.7553027366114,
            87.81732192130242,
            88.90518991355343,
            248.60387160241862,
            113.33546274076178,
            119.14026274312792,
            250.0718894189494,
            70.25509887081341,
            233.94294978707484,
            147.81336093256797,
            69.62939467064767,
            59.29097750697498,
            159.55834578269204,
            143.18949708782543,
            32.90188797790015,
            182.74985932233835,
            158.2876110683188
           ]
          }
         ],
         "name": "2011"
        },
        {
         "data": [
          {
           "coloraxis": "coloraxis",
           "geo": "geo",
           "hovertemplate": "Year=2012<br>Code=%{location}<br>Total emission=%{z}<extra></extra>",
           "locations": [
            "AFG",
            "ALB",
            "DZA",
            "AGO",
            "ATG",
            "ARG",
            "ARM",
            "AUS",
            "AUT",
            "AZE",
            "BHS",
            "BHR",
            "BGD",
            "BRB",
            "BLR",
            "BEL",
            "BLZ",
            "BEN",
            "BTN",
            "BOL",
            "BIH",
            "BWA",
            "BRA",
            "BRN",
            "BGR",
            "BFA",
            "BDI",
            "CPV",
            "KHM",
            "CMR",
            "CAN",
            "CAF",
            "TCD",
            "CHL",
            "CHN",
            "COL",
            "COM",
            "COD",
            "COG",
            "CRI",
            "CIV",
            "HRV",
            "CUB",
            "CYP",
            "CZE",
            "DNK",
            "DJI",
            "DMA",
            "DOM",
            "ECU",
            "EGY",
            "SLV",
            "GNQ",
            "ERI",
            "EST",
            "SWZ",
            "ETH",
            "FJI",
            "FIN",
            "FRA",
            "GAB",
            "GMB",
            "GEO",
            "DEU",
            "GHA",
            "GRC",
            "GRD",
            "GTM",
            "GIN",
            "GNB",
            "GUY",
            "HTI",
            "HND",
            "HUN",
            "ISL",
            "IND",
            "IDN",
            "IRN",
            "IRQ",
            "IRL",
            "ISR",
            "ITA",
            "JAM",
            "JPN",
            "JOR",
            "KAZ",
            "KEN",
            "KIR",
            "PRK",
            "KOR",
            "KWT",
            "KGZ",
            "LAO",
            "LVA",
            "LBN",
            "LSO",
            "LBR",
            "LBY",
            "LTU",
            "LUX",
            "MDG",
            "MWI",
            "MYS",
            "MDV",
            "MLI",
            "MLT",
            "MHL",
            "MRT",
            "MUS",
            "MEX",
            "MDA",
            "MNG",
            "MNE",
            "MAR",
            "MOZ",
            "MMR",
            "NAM",
            "NPL",
            "NLD",
            "NZL",
            "NIC",
            "NER",
            "NGA",
            "MKD",
            "NOR",
            "OMN",
            "PAK",
            "PAN",
            "PNG",
            "PRY",
            "PER",
            "PHL",
            "POL",
            "PRT",
            "QAT",
            "ROU",
            "RUS",
            "RWA",
            "WSM",
            "STP",
            "SAU",
            "SEN",
            "SRB",
            "SYC",
            "SLE",
            "SGP",
            "SVK",
            "SVN",
            "SLB",
            "SOM",
            "ZAF",
            "ESP",
            "LKA",
            "LCA",
            "VCT",
            "SDN",
            "SUR",
            "SWE",
            "CHE",
            "SYR",
            "TJK",
            "TZA",
            "THA",
            "TGO",
            "TON",
            "TTO",
            "TUN",
            "TUR",
            "TKM",
            "UGA",
            "UKR",
            "ARE",
            "GBR",
            "USA",
            "URY",
            "UZB",
            "VUT",
            "VEN",
            "VNM",
            "YEM",
            "ZMB",
            "ZWE"
           ],
           "name": "",
           "type": "choropleth",
           "z": [
            57.32693161560003,
            58.42887455906959,
            85.26975565702945,
            102.84989977867951,
            191.4409735203354,
            73.60682597824646,
            41.98661715141205,
            265.11099064748817,
            116.62241744979326,
            56.03770304903814,
            193.7907232991551,
            271.9151573953627,
            37.88909399896126,
            152.59907123722246,
            166.0617304990916,
            75.83551290311311,
            72.58305378698225,
            88.53871499626695,
            573.8851425704443,
            63.63586649843376,
            145.64599001046332,
            151.34709536559762,
            106.37921736867762,
            252.53379742298662,
            141.46304900923747,
            89.32558414738395,
            60.46381009795816,
            76.44557285223709,
            156.3594526934017,
            73.72630941595045,
            243.81823279807335,
            69.59143265451947,
            77.37884876904124,
            171.4210760279666,
            225.3998965717649,
            65.2557428624458,
            72.32023048305568,
            86.49333954615123,
            123.28944418848131,
            89.97908063139931,
            108.90651814983931,
            120.01319056472109,
            78.61046391961838,
            57.548778586947144,
            151.24655929124228,
            113.63291596710192,
            85.94112143719417,
            80.19287713661664,
            90.19566065993342,
            80.8351082990147,
            72.29562477204942,
            59.04172061758377,
            152.6086007344905,
            0,
            199.94906380604462,
            95.91624070683636,
            108.080153475519,
            55.426284689429394,
            140.94971683446403,
            103.3573208231538,
            324.82727318449867,
            55.52126481159427,
            66.9300956803582,
            86.28311522531763,
            55.66864716792667,
            113.62461569300383,
            91.34991633006348,
            139.19337459178232,
            112.54830633675518,
            154.2635472489048,
            155.57452922230502,
            143.95557720128807,
            109.7157568763887,
            97.80986799675254,
            480.74526531261307,
            69.63807779374217,
            168.84575373393534,
            101.90569710069103,
            80.57986173162497,
            123.94614388025914,
            135.9067815940838,
            85.65060033792233,
            94.43042722857348,
            73.30301639909425,
            49.078204895590986,
            323.3758514500489,
            114.49836519112988,
            33.89260806618407,
            156.8378025913231,
            75.30874596385769,
            392.46248826090607,
            202.5569112926238,
            107.53064001564117,
            137.05349878755496,
            86.76954508999873,
            138.46081628196666,
            166.95928847131742,
            391.3920095454003,
            112.53038065475522,
            155.12495954390843,
            77.77737728010217,
            52.47647318249117,
            221.03253917800572,
            440.5616999926996,
            48.91477014392004,
            80.60216429380898,
            44.835383394749364,
            89.45598210629066,
            102.43815629175353,
            101.64426526884803,
            93.74085732331093,
            349.8835824277207,
            154.33777805707695,
            49.87829371235059,
            76.55779460820102,
            87.78033035087263,
            218.08840150101332,
            106.24371343580786,
            82.68397992188821,
            304.585645924548,
            83.61661724495639,
            37.56426115347681,
            169.73816077947882,
            112.27932339348921,
            173.86050775788252,
            296.15760635489306,
            91.14417675319996,
            92.88761409252157,
            64.56306422144824,
            138.13117315672696,
            90.5056020329966,
            60.64766732284335,
            153.8615231776318,
            69.2619323215827,
            497.8866580725421,
            94.40571701066429,
            164.58560368838027,
            49.32354361905642,
            67.03343929810458,
            85.00741661535848,
            282.93573092156805,
            67.7487158064798,
            194.24190858078063,
            287.2693660464537,
            94.61291527059413,
            162.5142941553942,
            130.9282890735392,
            116.42784952451414,
            25.893069304972087,
            126.1033279829122,
            236.9488885803755,
            73.08175288101238,
            145.96710452876377,
            102.69280521494967,
            78.38562063909252,
            95.0818644737965,
            163.67356243475695,
            80.23875284236127,
            57.36788363584161,
            50.906968365625396,
            121.05833098725243,
            97.528023060038,
            250.0575848734617,
            119.46335714908912,
            60.80942663305332,
            204.09341256096553,
            88.6422772854656,
            86.1450303092912,
            254.0907338787752,
            112.08168017818022,
            119.45028364009815,
            264.29731890361376,
            70.14009660720923,
            211.8838459197417,
            159.9534836610166,
            72.28311528321213,
            55.31375813129512,
            172.4947470491988,
            140.4744459916795,
            30.195223113238505,
            181.78247516906356,
            157.01863854810142
           ]
          }
         ],
         "name": "2012"
        }
       ],
       "layout": {
        "autosize": true,
        "coloraxis": {
         "cmax": 900,
         "cmin": 0,
         "colorbar": {
          "title": {
           "text": "Totale uitstoot"
          }
         },
         "colorscale": [
          [
           0,
           "rgb(0,0,131)"
          ],
          [
           0.2,
           "rgb(0,60,170)"
          ],
          [
           0.4,
           "rgb(5,255,255)"
          ],
          [
           0.6,
           "rgb(255,255,0)"
          ],
          [
           0.8,
           "rgb(250,0,0)"
          ],
          [
           1,
           "rgb(128,0,0)"
          ]
         ]
        },
        "geo": {
         "center": {
          "lat": 52.399447556659744,
          "lon": 9.879045670363414
         },
         "domain": {
          "x": [
           0,
           1
          ],
          "y": [
           0,
           1
          ]
         },
         "projection": {
          "rotation": {
           "lon": 9.879045670363414
          },
          "scale": 0.7578582832551993
         }
        },
        "legend": {
         "tracegroupgap": 0
        },
        "margin": {
         "t": 60
        },
        "sliders": [
         {
          "active": 0,
          "currentvalue": {
           "prefix": "Year="
          },
          "len": 0.9,
          "pad": {
           "b": 10,
           "t": 60
          },
          "steps": [
           {
            "args": [
             [
              "1990"
             ],
             {
              "frame": {
               "duration": 0,
               "redraw": true
              },
              "fromcurrent": true,
              "mode": "immediate",
              "transition": {
               "duration": 0,
               "easing": "linear"
              }
             }
            ],
            "label": "1990",
            "method": "animate"
           },
           {
            "args": [
             [
              "1991"
             ],
             {
              "frame": {
               "duration": 0,
               "redraw": true
              },
              "fromcurrent": true,
              "mode": "immediate",
              "transition": {
               "duration": 0,
               "easing": "linear"
              }
             }
            ],
            "label": "1991",
            "method": "animate"
           },
           {
            "args": [
             [
              "1992"
             ],
             {
              "frame": {
               "duration": 0,
               "redraw": true
              },
              "fromcurrent": true,
              "mode": "immediate",
              "transition": {
               "duration": 0,
               "easing": "linear"
              }
             }
            ],
            "label": "1992",
            "method": "animate"
           },
           {
            "args": [
             [
              "1993"
             ],
             {
              "frame": {
               "duration": 0,
               "redraw": true
              },
              "fromcurrent": true,
              "mode": "immediate",
              "transition": {
               "duration": 0,
               "easing": "linear"
              }
             }
            ],
            "label": "1993",
            "method": "animate"
           },
           {
            "args": [
             [
              "1994"
             ],
             {
              "frame": {
               "duration": 0,
               "redraw": true
              },
              "fromcurrent": true,
              "mode": "immediate",
              "transition": {
               "duration": 0,
               "easing": "linear"
              }
             }
            ],
            "label": "1994",
            "method": "animate"
           },
           {
            "args": [
             [
              "1995"
             ],
             {
              "frame": {
               "duration": 0,
               "redraw": true
              },
              "fromcurrent": true,
              "mode": "immediate",
              "transition": {
               "duration": 0,
               "easing": "linear"
              }
             }
            ],
            "label": "1995",
            "method": "animate"
           },
           {
            "args": [
             [
              "1996"
             ],
             {
              "frame": {
               "duration": 0,
               "redraw": true
              },
              "fromcurrent": true,
              "mode": "immediate",
              "transition": {
               "duration": 0,
               "easing": "linear"
              }
             }
            ],
            "label": "1996",
            "method": "animate"
           },
           {
            "args": [
             [
              "1997"
             ],
             {
              "frame": {
               "duration": 0,
               "redraw": true
              },
              "fromcurrent": true,
              "mode": "immediate",
              "transition": {
               "duration": 0,
               "easing": "linear"
              }
             }
            ],
            "label": "1997",
            "method": "animate"
           },
           {
            "args": [
             [
              "1998"
             ],
             {
              "frame": {
               "duration": 0,
               "redraw": true
              },
              "fromcurrent": true,
              "mode": "immediate",
              "transition": {
               "duration": 0,
               "easing": "linear"
              }
             }
            ],
            "label": "1998",
            "method": "animate"
           },
           {
            "args": [
             [
              "1999"
             ],
             {
              "frame": {
               "duration": 0,
               "redraw": true
              },
              "fromcurrent": true,
              "mode": "immediate",
              "transition": {
               "duration": 0,
               "easing": "linear"
              }
             }
            ],
            "label": "1999",
            "method": "animate"
           },
           {
            "args": [
             [
              "2000"
             ],
             {
              "frame": {
               "duration": 0,
               "redraw": true
              },
              "fromcurrent": true,
              "mode": "immediate",
              "transition": {
               "duration": 0,
               "easing": "linear"
              }
             }
            ],
            "label": "2000",
            "method": "animate"
           },
           {
            "args": [
             [
              "2001"
             ],
             {
              "frame": {
               "duration": 0,
               "redraw": true
              },
              "fromcurrent": true,
              "mode": "immediate",
              "transition": {
               "duration": 0,
               "easing": "linear"
              }
             }
            ],
            "label": "2001",
            "method": "animate"
           },
           {
            "args": [
             [
              "2002"
             ],
             {
              "frame": {
               "duration": 0,
               "redraw": true
              },
              "fromcurrent": true,
              "mode": "immediate",
              "transition": {
               "duration": 0,
               "easing": "linear"
              }
             }
            ],
            "label": "2002",
            "method": "animate"
           },
           {
            "args": [
             [
              "2003"
             ],
             {
              "frame": {
               "duration": 0,
               "redraw": true
              },
              "fromcurrent": true,
              "mode": "immediate",
              "transition": {
               "duration": 0,
               "easing": "linear"
              }
             }
            ],
            "label": "2003",
            "method": "animate"
           },
           {
            "args": [
             [
              "2004"
             ],
             {
              "frame": {
               "duration": 0,
               "redraw": true
              },
              "fromcurrent": true,
              "mode": "immediate",
              "transition": {
               "duration": 0,
               "easing": "linear"
              }
             }
            ],
            "label": "2004",
            "method": "animate"
           },
           {
            "args": [
             [
              "2005"
             ],
             {
              "frame": {
               "duration": 0,
               "redraw": true
              },
              "fromcurrent": true,
              "mode": "immediate",
              "transition": {
               "duration": 0,
               "easing": "linear"
              }
             }
            ],
            "label": "2005",
            "method": "animate"
           },
           {
            "args": [
             [
              "2006"
             ],
             {
              "frame": {
               "duration": 0,
               "redraw": true
              },
              "fromcurrent": true,
              "mode": "immediate",
              "transition": {
               "duration": 0,
               "easing": "linear"
              }
             }
            ],
            "label": "2006",
            "method": "animate"
           },
           {
            "args": [
             [
              "2007"
             ],
             {
              "frame": {
               "duration": 0,
               "redraw": true
              },
              "fromcurrent": true,
              "mode": "immediate",
              "transition": {
               "duration": 0,
               "easing": "linear"
              }
             }
            ],
            "label": "2007",
            "method": "animate"
           },
           {
            "args": [
             [
              "2008"
             ],
             {
              "frame": {
               "duration": 0,
               "redraw": true
              },
              "fromcurrent": true,
              "mode": "immediate",
              "transition": {
               "duration": 0,
               "easing": "linear"
              }
             }
            ],
            "label": "2008",
            "method": "animate"
           },
           {
            "args": [
             [
              "2009"
             ],
             {
              "frame": {
               "duration": 0,
               "redraw": true
              },
              "fromcurrent": true,
              "mode": "immediate",
              "transition": {
               "duration": 0,
               "easing": "linear"
              }
             }
            ],
            "label": "2009",
            "method": "animate"
           },
           {
            "args": [
             [
              "2010"
             ],
             {
              "frame": {
               "duration": 0,
               "redraw": true
              },
              "fromcurrent": true,
              "mode": "immediate",
              "transition": {
               "duration": 0,
               "easing": "linear"
              }
             }
            ],
            "label": "2010",
            "method": "animate"
           },
           {
            "args": [
             [
              "2011"
             ],
             {
              "frame": {
               "duration": 0,
               "redraw": true
              },
              "fromcurrent": true,
              "mode": "immediate",
              "transition": {
               "duration": 0,
               "easing": "linear"
              }
             }
            ],
            "label": "2011",
            "method": "animate"
           },
           {
            "args": [
             [
              "2012"
             ],
             {
              "frame": {
               "duration": 0,
               "redraw": true
              },
              "fromcurrent": true,
              "mode": "immediate",
              "transition": {
               "duration": 0,
               "easing": "linear"
              }
             }
            ],
            "label": "2012",
            "method": "animate"
           }
          ],
          "x": 0.1,
          "xanchor": "left",
          "y": 0,
          "yanchor": "top"
         }
        ],
        "template": {
         "data": {
          "bar": [
           {
            "error_x": {
             "color": "#2a3f5f"
            },
            "error_y": {
             "color": "#2a3f5f"
            },
            "marker": {
             "line": {
              "color": "#E5ECF6",
              "width": 0.5
             },
             "pattern": {
              "fillmode": "overlay",
              "size": 10,
              "solidity": 0.2
             }
            },
            "type": "bar"
           }
          ],
          "barpolar": [
           {
            "marker": {
             "line": {
              "color": "#E5ECF6",
              "width": 0.5
             },
             "pattern": {
              "fillmode": "overlay",
              "size": 10,
              "solidity": 0.2
             }
            },
            "type": "barpolar"
           }
          ],
          "carpet": [
           {
            "aaxis": {
             "endlinecolor": "#2a3f5f",
             "gridcolor": "white",
             "linecolor": "white",
             "minorgridcolor": "white",
             "startlinecolor": "#2a3f5f"
            },
            "baxis": {
             "endlinecolor": "#2a3f5f",
             "gridcolor": "white",
             "linecolor": "white",
             "minorgridcolor": "white",
             "startlinecolor": "#2a3f5f"
            },
            "type": "carpet"
           }
          ],
          "choropleth": [
           {
            "colorbar": {
             "outlinewidth": 0,
             "ticks": ""
            },
            "type": "choropleth"
           }
          ],
          "contour": [
           {
            "colorbar": {
             "outlinewidth": 0,
             "ticks": ""
            },
            "colorscale": [
             [
              0,
              "#0d0887"
             ],
             [
              0.1111111111111111,
              "#46039f"
             ],
             [
              0.2222222222222222,
              "#7201a8"
             ],
             [
              0.3333333333333333,
              "#9c179e"
             ],
             [
              0.4444444444444444,
              "#bd3786"
             ],
             [
              0.5555555555555556,
              "#d8576b"
             ],
             [
              0.6666666666666666,
              "#ed7953"
             ],
             [
              0.7777777777777778,
              "#fb9f3a"
             ],
             [
              0.8888888888888888,
              "#fdca26"
             ],
             [
              1,
              "#f0f921"
             ]
            ],
            "type": "contour"
           }
          ],
          "contourcarpet": [
           {
            "colorbar": {
             "outlinewidth": 0,
             "ticks": ""
            },
            "type": "contourcarpet"
           }
          ],
          "heatmap": [
           {
            "colorbar": {
             "outlinewidth": 0,
             "ticks": ""
            },
            "colorscale": [
             [
              0,
              "#0d0887"
             ],
             [
              0.1111111111111111,
              "#46039f"
             ],
             [
              0.2222222222222222,
              "#7201a8"
             ],
             [
              0.3333333333333333,
              "#9c179e"
             ],
             [
              0.4444444444444444,
              "#bd3786"
             ],
             [
              0.5555555555555556,
              "#d8576b"
             ],
             [
              0.6666666666666666,
              "#ed7953"
             ],
             [
              0.7777777777777778,
              "#fb9f3a"
             ],
             [
              0.8888888888888888,
              "#fdca26"
             ],
             [
              1,
              "#f0f921"
             ]
            ],
            "type": "heatmap"
           }
          ],
          "heatmapgl": [
           {
            "colorbar": {
             "outlinewidth": 0,
             "ticks": ""
            },
            "colorscale": [
             [
              0,
              "#0d0887"
             ],
             [
              0.1111111111111111,
              "#46039f"
             ],
             [
              0.2222222222222222,
              "#7201a8"
             ],
             [
              0.3333333333333333,
              "#9c179e"
             ],
             [
              0.4444444444444444,
              "#bd3786"
             ],
             [
              0.5555555555555556,
              "#d8576b"
             ],
             [
              0.6666666666666666,
              "#ed7953"
             ],
             [
              0.7777777777777778,
              "#fb9f3a"
             ],
             [
              0.8888888888888888,
              "#fdca26"
             ],
             [
              1,
              "#f0f921"
             ]
            ],
            "type": "heatmapgl"
           }
          ],
          "histogram": [
           {
            "marker": {
             "pattern": {
              "fillmode": "overlay",
              "size": 10,
              "solidity": 0.2
             }
            },
            "type": "histogram"
           }
          ],
          "histogram2d": [
           {
            "colorbar": {
             "outlinewidth": 0,
             "ticks": ""
            },
            "colorscale": [
             [
              0,
              "#0d0887"
             ],
             [
              0.1111111111111111,
              "#46039f"
             ],
             [
              0.2222222222222222,
              "#7201a8"
             ],
             [
              0.3333333333333333,
              "#9c179e"
             ],
             [
              0.4444444444444444,
              "#bd3786"
             ],
             [
              0.5555555555555556,
              "#d8576b"
             ],
             [
              0.6666666666666666,
              "#ed7953"
             ],
             [
              0.7777777777777778,
              "#fb9f3a"
             ],
             [
              0.8888888888888888,
              "#fdca26"
             ],
             [
              1,
              "#f0f921"
             ]
            ],
            "type": "histogram2d"
           }
          ],
          "histogram2dcontour": [
           {
            "colorbar": {
             "outlinewidth": 0,
             "ticks": ""
            },
            "colorscale": [
             [
              0,
              "#0d0887"
             ],
             [
              0.1111111111111111,
              "#46039f"
             ],
             [
              0.2222222222222222,
              "#7201a8"
             ],
             [
              0.3333333333333333,
              "#9c179e"
             ],
             [
              0.4444444444444444,
              "#bd3786"
             ],
             [
              0.5555555555555556,
              "#d8576b"
             ],
             [
              0.6666666666666666,
              "#ed7953"
             ],
             [
              0.7777777777777778,
              "#fb9f3a"
             ],
             [
              0.8888888888888888,
              "#fdca26"
             ],
             [
              1,
              "#f0f921"
             ]
            ],
            "type": "histogram2dcontour"
           }
          ],
          "mesh3d": [
           {
            "colorbar": {
             "outlinewidth": 0,
             "ticks": ""
            },
            "type": "mesh3d"
           }
          ],
          "parcoords": [
           {
            "line": {
             "colorbar": {
              "outlinewidth": 0,
              "ticks": ""
             }
            },
            "type": "parcoords"
           }
          ],
          "pie": [
           {
            "automargin": true,
            "type": "pie"
           }
          ],
          "scatter": [
           {
            "fillpattern": {
             "fillmode": "overlay",
             "size": 10,
             "solidity": 0.2
            },
            "type": "scatter"
           }
          ],
          "scatter3d": [
           {
            "line": {
             "colorbar": {
              "outlinewidth": 0,
              "ticks": ""
             }
            },
            "marker": {
             "colorbar": {
              "outlinewidth": 0,
              "ticks": ""
             }
            },
            "type": "scatter3d"
           }
          ],
          "scattercarpet": [
           {
            "marker": {
             "colorbar": {
              "outlinewidth": 0,
              "ticks": ""
             }
            },
            "type": "scattercarpet"
           }
          ],
          "scattergeo": [
           {
            "marker": {
             "colorbar": {
              "outlinewidth": 0,
              "ticks": ""
             }
            },
            "type": "scattergeo"
           }
          ],
          "scattergl": [
           {
            "marker": {
             "colorbar": {
              "outlinewidth": 0,
              "ticks": ""
             }
            },
            "type": "scattergl"
           }
          ],
          "scattermapbox": [
           {
            "marker": {
             "colorbar": {
              "outlinewidth": 0,
              "ticks": ""
             }
            },
            "type": "scattermapbox"
           }
          ],
          "scatterpolar": [
           {
            "marker": {
             "colorbar": {
              "outlinewidth": 0,
              "ticks": ""
             }
            },
            "type": "scatterpolar"
           }
          ],
          "scatterpolargl": [
           {
            "marker": {
             "colorbar": {
              "outlinewidth": 0,
              "ticks": ""
             }
            },
            "type": "scatterpolargl"
           }
          ],
          "scatterternary": [
           {
            "marker": {
             "colorbar": {
              "outlinewidth": 0,
              "ticks": ""
             }
            },
            "type": "scatterternary"
           }
          ],
          "surface": [
           {
            "colorbar": {
             "outlinewidth": 0,
             "ticks": ""
            },
            "colorscale": [
             [
              0,
              "#0d0887"
             ],
             [
              0.1111111111111111,
              "#46039f"
             ],
             [
              0.2222222222222222,
              "#7201a8"
             ],
             [
              0.3333333333333333,
              "#9c179e"
             ],
             [
              0.4444444444444444,
              "#bd3786"
             ],
             [
              0.5555555555555556,
              "#d8576b"
             ],
             [
              0.6666666666666666,
              "#ed7953"
             ],
             [
              0.7777777777777778,
              "#fb9f3a"
             ],
             [
              0.8888888888888888,
              "#fdca26"
             ],
             [
              1,
              "#f0f921"
             ]
            ],
            "type": "surface"
           }
          ],
          "table": [
           {
            "cells": {
             "fill": {
              "color": "#EBF0F8"
             },
             "line": {
              "color": "white"
             }
            },
            "header": {
             "fill": {
              "color": "#C8D4E3"
             },
             "line": {
              "color": "white"
             }
            },
            "type": "table"
           }
          ]
         },
         "layout": {
          "annotationdefaults": {
           "arrowcolor": "#2a3f5f",
           "arrowhead": 0,
           "arrowwidth": 1
          },
          "autotypenumbers": "strict",
          "coloraxis": {
           "colorbar": {
            "outlinewidth": 0,
            "ticks": ""
           }
          },
          "colorscale": {
           "diverging": [
            [
             0,
             "#8e0152"
            ],
            [
             0.1,
             "#c51b7d"
            ],
            [
             0.2,
             "#de77ae"
            ],
            [
             0.3,
             "#f1b6da"
            ],
            [
             0.4,
             "#fde0ef"
            ],
            [
             0.5,
             "#f7f7f7"
            ],
            [
             0.6,
             "#e6f5d0"
            ],
            [
             0.7,
             "#b8e186"
            ],
            [
             0.8,
             "#7fbc41"
            ],
            [
             0.9,
             "#4d9221"
            ],
            [
             1,
             "#276419"
            ]
           ],
           "sequential": [
            [
             0,
             "#0d0887"
            ],
            [
             0.1111111111111111,
             "#46039f"
            ],
            [
             0.2222222222222222,
             "#7201a8"
            ],
            [
             0.3333333333333333,
             "#9c179e"
            ],
            [
             0.4444444444444444,
             "#bd3786"
            ],
            [
             0.5555555555555556,
             "#d8576b"
            ],
            [
             0.6666666666666666,
             "#ed7953"
            ],
            [
             0.7777777777777778,
             "#fb9f3a"
            ],
            [
             0.8888888888888888,
             "#fdca26"
            ],
            [
             1,
             "#f0f921"
            ]
           ],
           "sequentialminus": [
            [
             0,
             "#0d0887"
            ],
            [
             0.1111111111111111,
             "#46039f"
            ],
            [
             0.2222222222222222,
             "#7201a8"
            ],
            [
             0.3333333333333333,
             "#9c179e"
            ],
            [
             0.4444444444444444,
             "#bd3786"
            ],
            [
             0.5555555555555556,
             "#d8576b"
            ],
            [
             0.6666666666666666,
             "#ed7953"
            ],
            [
             0.7777777777777778,
             "#fb9f3a"
            ],
            [
             0.8888888888888888,
             "#fdca26"
            ],
            [
             1,
             "#f0f921"
            ]
           ]
          },
          "colorway": [
           "#636efa",
           "#EF553B",
           "#00cc96",
           "#ab63fa",
           "#FFA15A",
           "#19d3f3",
           "#FF6692",
           "#B6E880",
           "#FF97FF",
           "#FECB52"
          ],
          "font": {
           "color": "#2a3f5f"
          },
          "geo": {
           "bgcolor": "white",
           "lakecolor": "white",
           "landcolor": "#E5ECF6",
           "showlakes": true,
           "showland": true,
           "subunitcolor": "white"
          },
          "hoverlabel": {
           "align": "left"
          },
          "hovermode": "closest",
          "mapbox": {
           "style": "light"
          },
          "paper_bgcolor": "white",
          "plot_bgcolor": "#E5ECF6",
          "polar": {
           "angularaxis": {
            "gridcolor": "white",
            "linecolor": "white",
            "ticks": ""
           },
           "bgcolor": "#E5ECF6",
           "radialaxis": {
            "gridcolor": "white",
            "linecolor": "white",
            "ticks": ""
           }
          },
          "scene": {
           "xaxis": {
            "backgroundcolor": "#E5ECF6",
            "gridcolor": "white",
            "gridwidth": 2,
            "linecolor": "white",
            "showbackground": true,
            "ticks": "",
            "zerolinecolor": "white"
           },
           "yaxis": {
            "backgroundcolor": "#E5ECF6",
            "gridcolor": "white",
            "gridwidth": 2,
            "linecolor": "white",
            "showbackground": true,
            "ticks": "",
            "zerolinecolor": "white"
           },
           "zaxis": {
            "backgroundcolor": "#E5ECF6",
            "gridcolor": "white",
            "gridwidth": 2,
            "linecolor": "white",
            "showbackground": true,
            "ticks": "",
            "zerolinecolor": "white"
           }
          },
          "shapedefaults": {
           "line": {
            "color": "#2a3f5f"
           }
          },
          "ternary": {
           "aaxis": {
            "gridcolor": "white",
            "linecolor": "white",
            "ticks": ""
           },
           "baxis": {
            "gridcolor": "white",
            "linecolor": "white",
            "ticks": ""
           },
           "bgcolor": "#E5ECF6",
           "caxis": {
            "gridcolor": "white",
            "linecolor": "white",
            "ticks": ""
           }
          },
          "title": {
           "x": 0.05
          },
          "xaxis": {
           "automargin": true,
           "gridcolor": "white",
           "linecolor": "white",
           "ticks": "",
           "title": {
            "standoff": 15
           },
           "zerolinecolor": "white",
           "zerolinewidth": 2
          },
          "yaxis": {
           "automargin": true,
           "gridcolor": "white",
           "linecolor": "white",
           "ticks": "",
           "title": {
            "standoff": 15
           },
           "zerolinecolor": "white",
           "zerolinewidth": 2
          }
         }
        },
        "title": {
         "text": "Totale uitstoot per 1.000 inwoners (ton)"
        },
        "updatemenus": [
         {
          "buttons": [
           {
            "args": [
             null,
             {
              "frame": {
               "duration": 500,
               "redraw": true
              },
              "fromcurrent": true,
              "mode": "immediate",
              "transition": {
               "duration": 500,
               "easing": "linear"
              }
             }
            ],
            "label": "&#9654;",
            "method": "animate"
           },
           {
            "args": [
             [
              null
             ],
             {
              "frame": {
               "duration": 0,
               "redraw": true
              },
              "fromcurrent": true,
              "mode": "immediate",
              "transition": {
               "duration": 0,
               "easing": "linear"
              }
             }
            ],
            "label": "&#9724;",
            "method": "animate"
           }
          ],
          "direction": "left",
          "pad": {
           "r": 10,
           "t": 70
          },
          "showactive": false,
          "type": "buttons",
          "x": 0.1,
          "xanchor": "right",
          "y": 0,
          "yanchor": "top"
         }
        ]
       }
      },
      "image/png": "[encoded data removed]",
      "text/html": [
       "<div>                            <div id=\"0f1cda64-ac4f-41a1-aa1d-6ef5ac8f1230\" class=\"plotly-graph-div\" style=\"height:600px; width:100%;\"></div>            <script type=\"text/javascript\">                require([\"plotly\"], function(Plotly) {                    window.PLOTLYENV=window.PLOTLYENV || {};                                    if (document.getElementById(\"0f1cda64-ac4f-41a1-aa1d-6ef5ac8f1230\")) {                    Plotly.newPlot(                        \"0f1cda64-ac4f-41a1-aa1d-6ef5ac8f1230\",                        [{\"coloraxis\":\"coloraxis\",\"geo\":\"geo\",\"hovertemplate\":\"Year=1990\\u003cbr\\u003eCode=%{location}\\u003cbr\\u003eTotal emission=%{z}\\u003cextra\\u003e\\u003c\\u002fextra\\u003e\",\"locations\":[\"AFG\",\"ALB\",\"DZA\",\"AGO\",\"ATG\",\"ARG\",\"ARM\",\"AUS\",\"AUT\",\"AZE\",\"BHS\",\"BHR\",\"BGD\",\"BRB\",\"BLR\",\"BEL\",\"BLZ\",\"BEN\",\"BTN\",\"BOL\",\"BIH\",\"BWA\",\"BRA\",\"BRN\",\"BGR\",\"BFA\",\"BDI\",\"CPV\",\"KHM\",\"CMR\",\"CAN\",\"CAF\",\"TCD\",\"CHL\",\"CHN\",\"COL\",\"COM\",\"COD\",\"COG\",\"CRI\",\"CIV\",\"HRV\",\"CUB\",\"CYP\",\"CZE\",\"DNK\",\"DJI\",\"DMA\",\"DOM\",\"ECU\",\"EGY\",\"SLV\",\"GNQ\",\"ERI\",\"EST\",\"SWZ\",\"ETH\",\"FJI\",\"FIN\",\"FRA\",\"GAB\",\"GMB\",\"GEO\",\"DEU\",\"GHA\",\"GRC\",\"GRD\",\"GTM\",\"GIN\",\"GNB\",\"GUY\",\"HTI\",\"HND\",\"HUN\",\"ISL\",\"IND\",\"IDN\",\"IRN\",\"IRQ\",\"IRL\",\"ISR\",\"ITA\",\"JAM\",\"JPN\",\"JOR\",\"KAZ\",\"KEN\",\"KIR\",\"PRK\",\"KOR\",\"KWT\",\"KGZ\",\"LAO\",\"LVA\",\"LBN\",\"LSO\",\"LBR\",\"LBY\",\"LTU\",\"LUX\",\"MDG\",\"MWI\",\"MYS\",\"MDV\",\"MLI\",\"MLT\",\"MHL\",\"MRT\",\"MUS\",\"MEX\",\"MDA\",\"MNG\",\"MNE\",\"MAR\",\"MOZ\",\"MMR\",\"NAM\",\"NPL\",\"NLD\",\"NZL\",\"NIC\",\"NER\",\"NGA\",\"MKD\",\"NOR\",\"OMN\",\"PAK\",\"PAN\",\"PNG\",\"PRY\",\"PER\",\"PHL\",\"POL\",\"PRT\",\"QAT\",\"ROU\",\"RUS\",\"RWA\",\"WSM\",\"STP\",\"SAU\",\"SEN\",\"SRB\",\"SYC\",\"SLE\",\"SGP\",\"SVK\",\"SVN\",\"SLB\",\"SOM\",\"ZAF\",\"ESP\",\"LKA\",\"LCA\",\"VCT\",\"SDN\",\"SUR\",\"SWE\",\"CHE\",\"SYR\",\"TJK\",\"TZA\",\"THA\",\"TGO\",\"TON\",\"TTO\",\"TUN\",\"TUR\",\"TKM\",\"UGA\",\"UKR\",\"ARE\",\"GBR\",\"USA\",\"URY\",\"UZB\",\"VUT\",\"VEN\",\"VNM\",\"YEM\",\"ZMB\",\"ZWE\"],\"name\":\"\",\"z\":[158.39618336895924,103.86429803726834,85.23368747284673,124.38315092030255,172.45380682254353,80.02115415502624,94.2118229446796,629.4378706248425,254.2252899704995,116.47602212599526,231.76758571634866,473.3676827219915,35.261818531384634,156.01610801115984,355.13765649229555,278.52905392681464,85.06543326650743,96.97118195937087,1020.0344405844719,61.41043011623574,217.12848806846222,161.5557704801843,118.59783267909579,377.4406039710731,370.1276612876677,96.16560973433992,89.61763387723052,53.71911312324309,110.19064833236163,106.76717652703442,624.4793188708965,97.939974646689,78.46438180040019,298.8729757523057,202.9836483921123,111.92582631411605,62.020129618021635,130.21033618867062,91.68157847057182,80.45772154747354,77.6258886360002,225.98437101768172,196.64777459857225,148.75418635168893,515.9559526407445,291.860758705754,92.49923526163705,39.28701350487795,75.89450869377616,146.35925243970883,58.27440185376277,82.70607977603372,98.36755620389897,94.29838992532274,439.31495232523605,128.27468325186643,104.7467237054732,70.29128337174174,315.1361669298142,303.72522303631047,314.05169975818546,58.984241889591075,143.1494764473136,333.4999530233198,89.79271105523844,239.5767758134127,61.95407732713248,114.77311105991473,97.93000702267197,154.06493441242904,106.24661722110186,73.26946723014778,101.20832267976348,284.2616064333215,434.0313107375229,66.15569110117237,107.94770664187205,98.57225669411164,128.73500906733886,341.6817251920475,179.74264545064378,228.33252924404485,109.40467253686712,138.1224584537426,71.24727209756891,476.4290144360167,108.05010971954444,24.778206906077344,1067.0931626161346,104.70499903159097,361.5542320783604,263.1061946620514,92.3009106787599,275.34378336038776,88.89892503649604,101.2299576756408,131.6416769593316,286.7118754396606,262.1850723855399,1460.2242145606915,70.57714947959816,60.26647466638311,154.35725162930044,47.69492314862116,54.43424197385229,317.7398265522207,90.47604133612575,102.96991072315132,234.91329889731057,134.8584151232289,151.6030266778081,420.47433022990697,115.42900974979058,48.32325406766722,131.32459756814586,82.85620608721395,108.7630446191478,101.72269450156193,188.76070236384152,316.19203835065167,88.92687508655942,58.85473326098215,159.61536227667708,213.58908099175045,330.4024033631713,390.1558341670525,84.62635446531291,91.65352696759581,64.42868544591785,163.26068169952515,96.03835333211033,96.37407437027386,228.150121138947,168.85476927379528,912.4822546495955,143.56992108598308,297.63906717555477,73.01472144836478,56.37761417172903,79.07990067864004,367.9961239476807,56.390377644706746,307.2088269180069,114.15265685470526,95.83395659297896,368.66310350191594,310.08564238250125,330.8603524440723,38.1511618772165,97.96968473204217,245.24000741402787,210.6584757756143,106.02191746365372,73.14488146645415,39.8172136690112,130.54257372718024,153.19276364372308,225.10787694820615,203.2445755867864,83.01802940036738,174.12200681174622,119.6125283662076,224.24168954075014,82.92910731810194,51.846970978973175,320.6785414325911,69.64285216516939,139.39158150624166,245.33830406189853,129.0596963927057,326.80968946684806,765.963316820095,315.2496646234131,740.091271477388,104.76226345437887,190.9449077035592,41.630315678876734,215.67106788609695,133.60224958611605,48.7478133419892,290.8787751910109,169.4854909517168],\"type\":\"choropleth\"}],                        {\"template\":{\"data\":{\"histogram2dcontour\":[{\"type\":\"histogram2dcontour\",\"colorbar\":{\"outlinewidth\":0,\"ticks\":\"\"},\"colorscale\":[[0.0,\"#0d0887\"],[0.1111111111111111,\"#46039f\"],[0.2222222222222222,\"#7201a8\"],[0.3333333333333333,\"#9c179e\"],[0.4444444444444444,\"#bd3786\"],[0.5555555555555556,\"#d8576b\"],[0.6666666666666666,\"#ed7953\"],[0.7777777777777778,\"#fb9f3a\"],[0.8888888888888888,\"#fdca26\"],[1.0,\"#f0f921\"]]}],\"choropleth\":[{\"type\":\"choropleth\",\"colorbar\":{\"outlinewidth\":0,\"ticks\":\"\"}}],\"histogram2d\":[{\"type\":\"histogram2d\",\"colorbar\":{\"outlinewidth\":0,\"ticks\":\"\"},\"colorscale\":[[0.0,\"#0d0887\"],[0.1111111111111111,\"#46039f\"],[0.2222222222222222,\"#7201a8\"],[0.3333333333333333,\"#9c179e\"],[0.4444444444444444,\"#bd3786\"],[0.5555555555555556,\"#d8576b\"],[0.6666666666666666,\"#ed7953\"],[0.7777777777777778,\"#fb9f3a\"],[0.8888888888888888,\"#fdca26\"],[1.0,\"#f0f921\"]]}],\"heatmap\":[{\"type\":\"heatmap\",\"colorbar\":{\"outlinewidth\":0,\"ticks\":\"\"},\"colorscale\":[[0.0,\"#0d0887\"],[0.1111111111111111,\"#46039f\"],[0.2222222222222222,\"#7201a8\"],[0.3333333333333333,\"#9c179e\"],[0.4444444444444444,\"#bd3786\"],[0.5555555555555556,\"#d8576b\"],[0.6666666666666666,\"#ed7953\"],[0.7777777777777778,\"#fb9f3a\"],[0.8888888888888888,\"#fdca26\"],[1.0,\"#f0f921\"]]}],\"heatmapgl\":[{\"type\":\"heatmapgl\",\"colorbar\":{\"outlinewidth\":0,\"ticks\":\"\"},\"colorscale\":[[0.0,\"#0d0887\"],[0.1111111111111111,\"#46039f\"],[0.2222222222222222,\"#7201a8\"],[0.3333333333333333,\"#9c179e\"],[0.4444444444444444,\"#bd3786\"],[0.5555555555555556,\"#d8576b\"],[0.6666666666666666,\"#ed7953\"],[0.7777777777777778,\"#fb9f3a\"],[0.8888888888888888,\"#fdca26\"],[1.0,\"#f0f921\"]]}],\"contourcarpet\":[{\"type\":\"contourcarpet\",\"colorbar\":{\"outlinewidth\":0,\"ticks\":\"\"}}],\"contour\":[{\"type\":\"contour\",\"colorbar\":{\"outlinewidth\":0,\"ticks\":\"\"},\"colorscale\":[[0.0,\"#0d0887\"],[0.1111111111111111,\"#46039f\"],[0.2222222222222222,\"#7201a8\"],[0.3333333333333333,\"#9c179e\"],[0.4444444444444444,\"#bd3786\"],[0.5555555555555556,\"#d8576b\"],[0.6666666666666666,\"#ed7953\"],[0.7777777777777778,\"#fb9f3a\"],[0.8888888888888888,\"#fdca26\"],[1.0,\"#f0f921\"]]}],\"surface\":[{\"type\":\"surface\",\"colorbar\":{\"outlinewidth\":0,\"ticks\":\"\"},\"colorscale\":[[0.0,\"#0d0887\"],[0.1111111111111111,\"#46039f\"],[0.2222222222222222,\"#7201a8\"],[0.3333333333333333,\"#9c179e\"],[0.4444444444444444,\"#bd3786\"],[0.5555555555555556,\"#d8576b\"],[0.6666666666666666,\"#ed7953\"],[0.7777777777777778,\"#fb9f3a\"],[0.8888888888888888,\"#fdca26\"],[1.0,\"#f0f921\"]]}],\"mesh3d\":[{\"type\":\"mesh3d\",\"colorbar\":{\"outlinewidth\":0,\"ticks\":\"\"}}],\"scatter\":[{\"fillpattern\":{\"fillmode\":\"overlay\",\"size\":10,\"solidity\":0.2},\"type\":\"scatter\"}],\"parcoords\":[{\"type\":\"parcoords\",\"line\":{\"colorbar\":{\"outlinewidth\":0,\"ticks\":\"\"}}}],\"scatterpolargl\":[{\"type\":\"scatterpolargl\",\"marker\":{\"colorbar\":{\"outlinewidth\":0,\"ticks\":\"\"}}}],\"bar\":[{\"error_x\":{\"color\":\"#2a3f5f\"},\"error_y\":{\"color\":\"#2a3f5f\"},\"marker\":{\"line\":{\"color\":\"#E5ECF6\",\"width\":0.5},\"pattern\":{\"fillmode\":\"overlay\",\"size\":10,\"solidity\":0.2}},\"type\":\"bar\"}],\"scattergeo\":[{\"type\":\"scattergeo\",\"marker\":{\"colorbar\":{\"outlinewidth\":0,\"ticks\":\"\"}}}],\"scatterpolar\":[{\"type\":\"scatterpolar\",\"marker\":{\"colorbar\":{\"outlinewidth\":0,\"ticks\":\"\"}}}],\"histogram\":[{\"marker\":{\"pattern\":{\"fillmode\":\"overlay\",\"size\":10,\"solidity\":0.2}},\"type\":\"histogram\"}],\"scattergl\":[{\"type\":\"scattergl\",\"marker\":{\"colorbar\":{\"outlinewidth\":0,\"ticks\":\"\"}}}],\"scatter3d\":[{\"type\":\"scatter3d\",\"line\":{\"colorbar\":{\"outlinewidth\":0,\"ticks\":\"\"}},\"marker\":{\"colorbar\":{\"outlinewidth\":0,\"ticks\":\"\"}}}],\"scattermapbox\":[{\"type\":\"scattermapbox\",\"marker\":{\"colorbar\":{\"outlinewidth\":0,\"ticks\":\"\"}}}],\"scatterternary\":[{\"type\":\"scatterternary\",\"marker\":{\"colorbar\":{\"outlinewidth\":0,\"ticks\":\"\"}}}],\"scattercarpet\":[{\"type\":\"scattercarpet\",\"marker\":{\"colorbar\":{\"outlinewidth\":0,\"ticks\":\"\"}}}],\"carpet\":[{\"aaxis\":{\"endlinecolor\":\"#2a3f5f\",\"gridcolor\":\"white\",\"linecolor\":\"white\",\"minorgridcolor\":\"white\",\"startlinecolor\":\"#2a3f5f\"},\"baxis\":{\"endlinecolor\":\"#2a3f5f\",\"gridcolor\":\"white\",\"linecolor\":\"white\",\"minorgridcolor\":\"white\",\"startlinecolor\":\"#2a3f5f\"},\"type\":\"carpet\"}],\"table\":[{\"cells\":{\"fill\":{\"color\":\"#EBF0F8\"},\"line\":{\"color\":\"white\"}},\"header\":{\"fill\":{\"color\":\"#C8D4E3\"},\"line\":{\"color\":\"white\"}},\"type\":\"table\"}],\"barpolar\":[{\"marker\":{\"line\":{\"color\":\"#E5ECF6\",\"width\":0.5},\"pattern\":{\"fillmode\":\"overlay\",\"size\":10,\"solidity\":0.2}},\"type\":\"barpolar\"}],\"pie\":[{\"automargin\":true,\"type\":\"pie\"}]},\"layout\":{\"autotypenumbers\":\"strict\",\"colorway\":[\"#636efa\",\"#EF553B\",\"#00cc96\",\"#ab63fa\",\"#FFA15A\",\"#19d3f3\",\"#FF6692\",\"#B6E880\",\"#FF97FF\",\"#FECB52\"],\"font\":{\"color\":\"#2a3f5f\"},\"hovermode\":\"closest\",\"hoverlabel\":{\"align\":\"left\"},\"paper_bgcolor\":\"white\",\"plot_bgcolor\":\"#E5ECF6\",\"polar\":{\"bgcolor\":\"#E5ECF6\",\"angularaxis\":{\"gridcolor\":\"white\",\"linecolor\":\"white\",\"ticks\":\"\"},\"radialaxis\":{\"gridcolor\":\"white\",\"linecolor\":\"white\",\"ticks\":\"\"}},\"ternary\":{\"bgcolor\":\"#E5ECF6\",\"aaxis\":{\"gridcolor\":\"white\",\"linecolor\":\"white\",\"ticks\":\"\"},\"baxis\":{\"gridcolor\":\"white\",\"linecolor\":\"white\",\"ticks\":\"\"},\"caxis\":{\"gridcolor\":\"white\",\"linecolor\":\"white\",\"ticks\":\"\"}},\"coloraxis\":{\"colorbar\":{\"outlinewidth\":0,\"ticks\":\"\"}},\"colorscale\":{\"sequential\":[[0.0,\"#0d0887\"],[0.1111111111111111,\"#46039f\"],[0.2222222222222222,\"#7201a8\"],[0.3333333333333333,\"#9c179e\"],[0.4444444444444444,\"#bd3786\"],[0.5555555555555556,\"#d8576b\"],[0.6666666666666666,\"#ed7953\"],[0.7777777777777778,\"#fb9f3a\"],[0.8888888888888888,\"#fdca26\"],[1.0,\"#f0f921\"]],\"sequentialminus\":[[0.0,\"#0d0887\"],[0.1111111111111111,\"#46039f\"],[0.2222222222222222,\"#7201a8\"],[0.3333333333333333,\"#9c179e\"],[0.4444444444444444,\"#bd3786\"],[0.5555555555555556,\"#d8576b\"],[0.6666666666666666,\"#ed7953\"],[0.7777777777777778,\"#fb9f3a\"],[0.8888888888888888,\"#fdca26\"],[1.0,\"#f0f921\"]],\"diverging\":[[0,\"#8e0152\"],[0.1,\"#c51b7d\"],[0.2,\"#de77ae\"],[0.3,\"#f1b6da\"],[0.4,\"#fde0ef\"],[0.5,\"#f7f7f7\"],[0.6,\"#e6f5d0\"],[0.7,\"#b8e186\"],[0.8,\"#7fbc41\"],[0.9,\"#4d9221\"],[1,\"#276419\"]]},\"xaxis\":{\"gridcolor\":\"white\",\"linecolor\":\"white\",\"ticks\":\"\",\"title\":{\"standoff\":15},\"zerolinecolor\":\"white\",\"automargin\":true,\"zerolinewidth\":2},\"yaxis\":{\"gridcolor\":\"white\",\"linecolor\":\"white\",\"ticks\":\"\",\"title\":{\"standoff\":15},\"zerolinecolor\":\"white\",\"automargin\":true,\"zerolinewidth\":2},\"scene\":{\"xaxis\":{\"backgroundcolor\":\"#E5ECF6\",\"gridcolor\":\"white\",\"linecolor\":\"white\",\"showbackground\":true,\"ticks\":\"\",\"zerolinecolor\":\"white\",\"gridwidth\":2},\"yaxis\":{\"backgroundcolor\":\"#E5ECF6\",\"gridcolor\":\"white\",\"linecolor\":\"white\",\"showbackground\":true,\"ticks\":\"\",\"zerolinecolor\":\"white\",\"gridwidth\":2},\"zaxis\":{\"backgroundcolor\":\"#E5ECF6\",\"gridcolor\":\"white\",\"linecolor\":\"white\",\"showbackground\":true,\"ticks\":\"\",\"zerolinecolor\":\"white\",\"gridwidth\":2}},\"shapedefaults\":{\"line\":{\"color\":\"#2a3f5f\"}},\"annotationdefaults\":{\"arrowcolor\":\"#2a3f5f\",\"arrowhead\":0,\"arrowwidth\":1},\"geo\":{\"bgcolor\":\"white\",\"landcolor\":\"#E5ECF6\",\"subunitcolor\":\"white\",\"showland\":true,\"showlakes\":true,\"lakecolor\":\"white\"},\"title\":{\"x\":0.05},\"mapbox\":{\"style\":\"light\"}}},\"geo\":{\"domain\":{\"x\":[0.0,1.0],\"y\":[0.0,1.0]},\"center\":{}},\"coloraxis\":{\"colorbar\":{\"title\":{\"text\":\"Totale uitstoot\"}},\"colorscale\":[[0.0,\"rgb(0,0,131)\"],[0.2,\"rgb(0,60,170)\"],[0.4,\"rgb(5,255,255)\"],[0.6,\"rgb(255,255,0)\"],[0.8,\"rgb(250,0,0)\"],[1.0,\"rgb(128,0,0)\"]],\"cmin\":0.0,\"cmax\":900},\"legend\":{\"tracegroupgap\":0},\"margin\":{\"t\":60},\"height\":600,\"updatemenus\":[{\"buttons\":[{\"args\":[null,{\"frame\":{\"duration\":500,\"redraw\":true},\"mode\":\"immediate\",\"fromcurrent\":true,\"transition\":{\"duration\":500,\"easing\":\"linear\"}}],\"label\":\"&#9654;\",\"method\":\"animate\"},{\"args\":[[null],{\"frame\":{\"duration\":0,\"redraw\":true},\"mode\":\"immediate\",\"fromcurrent\":true,\"transition\":{\"duration\":0,\"easing\":\"linear\"}}],\"label\":\"&#9724;\",\"method\":\"animate\"}],\"direction\":\"left\",\"pad\":{\"r\":10,\"t\":70},\"showactive\":false,\"type\":\"buttons\",\"x\":0.1,\"xanchor\":\"right\",\"y\":0,\"yanchor\":\"top\"}],\"sliders\":[{\"active\":0,\"currentvalue\":{\"prefix\":\"Year=\"},\"len\":0.9,\"pad\":{\"b\":10,\"t\":60},\"steps\":[{\"args\":[[\"1990\"],{\"frame\":{\"duration\":0,\"redraw\":true},\"mode\":\"immediate\",\"fromcurrent\":true,\"transition\":{\"duration\":0,\"easing\":\"linear\"}}],\"label\":\"1990\",\"method\":\"animate\"},{\"args\":[[\"1991\"],{\"frame\":{\"duration\":0,\"redraw\":true},\"mode\":\"immediate\",\"fromcurrent\":true,\"transition\":{\"duration\":0,\"easing\":\"linear\"}}],\"label\":\"1991\",\"method\":\"animate\"},{\"args\":[[\"1992\"],{\"frame\":{\"duration\":0,\"redraw\":true},\"mode\":\"immediate\",\"fromcurrent\":true,\"transition\":{\"duration\":0,\"easing\":\"linear\"}}],\"label\":\"1992\",\"method\":\"animate\"},{\"args\":[[\"1993\"],{\"frame\":{\"duration\":0,\"redraw\":true},\"mode\":\"immediate\",\"fromcurrent\":true,\"transition\":{\"duration\":0,\"easing\":\"linear\"}}],\"label\":\"1993\",\"method\":\"animate\"},{\"args\":[[\"1994\"],{\"frame\":{\"duration\":0,\"redraw\":true},\"mode\":\"immediate\",\"fromcurrent\":true,\"transition\":{\"duration\":0,\"easing\":\"linear\"}}],\"label\":\"1994\",\"method\":\"animate\"},{\"args\":[[\"1995\"],{\"frame\":{\"duration\":0,\"redraw\":true},\"mode\":\"immediate\",\"fromcurrent\":true,\"transition\":{\"duration\":0,\"easing\":\"linear\"}}],\"label\":\"1995\",\"method\":\"animate\"},{\"args\":[[\"1996\"],{\"frame\":{\"duration\":0,\"redraw\":true},\"mode\":\"immediate\",\"fromcurrent\":true,\"transition\":{\"duration\":0,\"easing\":\"linear\"}}],\"label\":\"1996\",\"method\":\"animate\"},{\"args\":[[\"1997\"],{\"frame\":{\"duration\":0,\"redraw\":true},\"mode\":\"immediate\",\"fromcurrent\":true,\"transition\":{\"duration\":0,\"easing\":\"linear\"}}],\"label\":\"1997\",\"method\":\"animate\"},{\"args\":[[\"1998\"],{\"frame\":{\"duration\":0,\"redraw\":true},\"mode\":\"immediate\",\"fromcurrent\":true,\"transition\":{\"duration\":0,\"easing\":\"linear\"}}],\"label\":\"1998\",\"method\":\"animate\"},{\"args\":[[\"1999\"],{\"frame\":{\"duration\":0,\"redraw\":true},\"mode\":\"immediate\",\"fromcurrent\":true,\"transition\":{\"duration\":0,\"easing\":\"linear\"}}],\"label\":\"1999\",\"method\":\"animate\"},{\"args\":[[\"2000\"],{\"frame\":{\"duration\":0,\"redraw\":true},\"mode\":\"immediate\",\"fromcurrent\":true,\"transition\":{\"duration\":0,\"easing\":\"linear\"}}],\"label\":\"2000\",\"method\":\"animate\"},{\"args\":[[\"2001\"],{\"frame\":{\"duration\":0,\"redraw\":true},\"mode\":\"immediate\",\"fromcurrent\":true,\"transition\":{\"duration\":0,\"easing\":\"linear\"}}],\"label\":\"2001\",\"method\":\"animate\"},{\"args\":[[\"2002\"],{\"frame\":{\"duration\":0,\"redraw\":true},\"mode\":\"immediate\",\"fromcurrent\":true,\"transition\":{\"duration\":0,\"easing\":\"linear\"}}],\"label\":\"2002\",\"method\":\"animate\"},{\"args\":[[\"2003\"],{\"frame\":{\"duration\":0,\"redraw\":true},\"mode\":\"immediate\",\"fromcurrent\":true,\"transition\":{\"duration\":0,\"easing\":\"linear\"}}],\"label\":\"2003\",\"method\":\"animate\"},{\"args\":[[\"2004\"],{\"frame\":{\"duration\":0,\"redraw\":true},\"mode\":\"immediate\",\"fromcurrent\":true,\"transition\":{\"duration\":0,\"easing\":\"linear\"}}],\"label\":\"2004\",\"method\":\"animate\"},{\"args\":[[\"2005\"],{\"frame\":{\"duration\":0,\"redraw\":true},\"mode\":\"immediate\",\"fromcurrent\":true,\"transition\":{\"duration\":0,\"easing\":\"linear\"}}],\"label\":\"2005\",\"method\":\"animate\"},{\"args\":[[\"2006\"],{\"frame\":{\"duration\":0,\"redraw\":true},\"mode\":\"immediate\",\"fromcurrent\":true,\"transition\":{\"duration\":0,\"easing\":\"linear\"}}],\"label\":\"2006\",\"method\":\"animate\"},{\"args\":[[\"2007\"],{\"frame\":{\"duration\":0,\"redraw\":true},\"mode\":\"immediate\",\"fromcurrent\":true,\"transition\":{\"duration\":0,\"easing\":\"linear\"}}],\"label\":\"2007\",\"method\":\"animate\"},{\"args\":[[\"2008\"],{\"frame\":{\"duration\":0,\"redraw\":true},\"mode\":\"immediate\",\"fromcurrent\":true,\"transition\":{\"duration\":0,\"easing\":\"linear\"}}],\"label\":\"2008\",\"method\":\"animate\"},{\"args\":[[\"2009\"],{\"frame\":{\"duration\":0,\"redraw\":true},\"mode\":\"immediate\",\"fromcurrent\":true,\"transition\":{\"duration\":0,\"easing\":\"linear\"}}],\"label\":\"2009\",\"method\":\"animate\"},{\"args\":[[\"2010\"],{\"frame\":{\"duration\":0,\"redraw\":true},\"mode\":\"immediate\",\"fromcurrent\":true,\"transition\":{\"duration\":0,\"easing\":\"linear\"}}],\"label\":\"2010\",\"method\":\"animate\"},{\"args\":[[\"2011\"],{\"frame\":{\"duration\":0,\"redraw\":true},\"mode\":\"immediate\",\"fromcurrent\":true,\"transition\":{\"duration\":0,\"easing\":\"linear\"}}],\"label\":\"2011\",\"method\":\"animate\"},{\"args\":[[\"2012\"],{\"frame\":{\"duration\":0,\"redraw\":true},\"mode\":\"immediate\",\"fromcurrent\":true,\"transition\":{\"duration\":0,\"easing\":\"linear\"}}],\"label\":\"2012\",\"method\":\"animate\"}],\"x\":0.1,\"xanchor\":\"left\",\"y\":0,\"yanchor\":\"top\"}],\"title\":{\"text\":\"Totale uitstoot per 1.000 inwoners (ton)\"}},                        {\"responsive\": true}                    ).then(function(){\n",
       "                            Plotly.addFrames('0f1cda64-ac4f-41a1-aa1d-6ef5ac8f1230', [{\"data\":[{\"coloraxis\":\"coloraxis\",\"geo\":\"geo\",\"hovertemplate\":\"Year=1990\\u003cbr\\u003eCode=%{location}\\u003cbr\\u003eTotal emission=%{z}\\u003cextra\\u003e\\u003c\\u002fextra\\u003e\",\"locations\":[\"AFG\",\"ALB\",\"DZA\",\"AGO\",\"ATG\",\"ARG\",\"ARM\",\"AUS\",\"AUT\",\"AZE\",\"BHS\",\"BHR\",\"BGD\",\"BRB\",\"BLR\",\"BEL\",\"BLZ\",\"BEN\",\"BTN\",\"BOL\",\"BIH\",\"BWA\",\"BRA\",\"BRN\",\"BGR\",\"BFA\",\"BDI\",\"CPV\",\"KHM\",\"CMR\",\"CAN\",\"CAF\",\"TCD\",\"CHL\",\"CHN\",\"COL\",\"COM\",\"COD\",\"COG\",\"CRI\",\"CIV\",\"HRV\",\"CUB\",\"CYP\",\"CZE\",\"DNK\",\"DJI\",\"DMA\",\"DOM\",\"ECU\",\"EGY\",\"SLV\",\"GNQ\",\"ERI\",\"EST\",\"SWZ\",\"ETH\",\"FJI\",\"FIN\",\"FRA\",\"GAB\",\"GMB\",\"GEO\",\"DEU\",\"GHA\",\"GRC\",\"GRD\",\"GTM\",\"GIN\",\"GNB\",\"GUY\",\"HTI\",\"HND\",\"HUN\",\"ISL\",\"IND\",\"IDN\",\"IRN\",\"IRQ\",\"IRL\",\"ISR\",\"ITA\",\"JAM\",\"JPN\",\"JOR\",\"KAZ\",\"KEN\",\"KIR\",\"PRK\",\"KOR\",\"KWT\",\"KGZ\",\"LAO\",\"LVA\",\"LBN\",\"LSO\",\"LBR\",\"LBY\",\"LTU\",\"LUX\",\"MDG\",\"MWI\",\"MYS\",\"MDV\",\"MLI\",\"MLT\",\"MHL\",\"MRT\",\"MUS\",\"MEX\",\"MDA\",\"MNG\",\"MNE\",\"MAR\",\"MOZ\",\"MMR\",\"NAM\",\"NPL\",\"NLD\",\"NZL\",\"NIC\",\"NER\",\"NGA\",\"MKD\",\"NOR\",\"OMN\",\"PAK\",\"PAN\",\"PNG\",\"PRY\",\"PER\",\"PHL\",\"POL\",\"PRT\",\"QAT\",\"ROU\",\"RUS\",\"RWA\",\"WSM\",\"STP\",\"SAU\",\"SEN\",\"SRB\",\"SYC\",\"SLE\",\"SGP\",\"SVK\",\"SVN\",\"SLB\",\"SOM\",\"ZAF\",\"ESP\",\"LKA\",\"LCA\",\"VCT\",\"SDN\",\"SUR\",\"SWE\",\"CHE\",\"SYR\",\"TJK\",\"TZA\",\"THA\",\"TGO\",\"TON\",\"TTO\",\"TUN\",\"TUR\",\"TKM\",\"UGA\",\"UKR\",\"ARE\",\"GBR\",\"USA\",\"URY\",\"UZB\",\"VUT\",\"VEN\",\"VNM\",\"YEM\",\"ZMB\",\"ZWE\"],\"name\":\"\",\"z\":[158.39618336895924,103.86429803726834,85.23368747284673,124.38315092030255,172.45380682254353,80.02115415502624,94.2118229446796,629.4378706248425,254.2252899704995,116.47602212599526,231.76758571634866,473.3676827219915,35.261818531384634,156.01610801115984,355.13765649229555,278.52905392681464,85.06543326650743,96.97118195937087,1020.0344405844719,61.41043011623574,217.12848806846222,161.5557704801843,118.59783267909579,377.4406039710731,370.1276612876677,96.16560973433992,89.61763387723052,53.71911312324309,110.19064833236163,106.76717652703442,624.4793188708965,97.939974646689,78.46438180040019,298.8729757523057,202.9836483921123,111.92582631411605,62.020129618021635,130.21033618867062,91.68157847057182,80.45772154747354,77.6258886360002,225.98437101768172,196.64777459857225,148.75418635168893,515.9559526407445,291.860758705754,92.49923526163705,39.28701350487795,75.89450869377616,146.35925243970883,58.27440185376277,82.70607977603372,98.36755620389897,94.29838992532274,439.31495232523605,128.27468325186643,104.7467237054732,70.29128337174174,315.1361669298142,303.72522303631047,314.05169975818546,58.984241889591075,143.1494764473136,333.4999530233198,89.79271105523844,239.5767758134127,61.95407732713248,114.77311105991473,97.93000702267197,154.06493441242904,106.24661722110186,73.26946723014778,101.20832267976348,284.2616064333215,434.0313107375229,66.15569110117237,107.94770664187205,98.57225669411164,128.73500906733886,341.6817251920475,179.74264545064378,228.33252924404485,109.40467253686712,138.1224584537426,71.24727209756891,476.4290144360167,108.05010971954444,24.778206906077344,1067.0931626161346,104.70499903159097,361.5542320783604,263.1061946620514,92.3009106787599,275.34378336038776,88.89892503649604,101.2299576756408,131.6416769593316,286.7118754396606,262.1850723855399,1460.2242145606915,70.57714947959816,60.26647466638311,154.35725162930044,47.69492314862116,54.43424197385229,317.7398265522207,90.47604133612575,102.96991072315132,234.91329889731057,134.8584151232289,151.6030266778081,420.47433022990697,115.42900974979058,48.32325406766722,131.32459756814586,82.85620608721395,108.7630446191478,101.72269450156193,188.76070236384152,316.19203835065167,88.92687508655942,58.85473326098215,159.61536227667708,213.58908099175045,330.4024033631713,390.1558341670525,84.62635446531291,91.65352696759581,64.42868544591785,163.26068169952515,96.03835333211033,96.37407437027386,228.150121138947,168.85476927379528,912.4822546495955,143.56992108598308,297.63906717555477,73.01472144836478,56.37761417172903,79.07990067864004,367.9961239476807,56.390377644706746,307.2088269180069,114.15265685470526,95.83395659297896,368.66310350191594,310.08564238250125,330.8603524440723,38.1511618772165,97.96968473204217,245.24000741402787,210.6584757756143,106.02191746365372,73.14488146645415,39.8172136690112,130.54257372718024,153.19276364372308,225.10787694820615,203.2445755867864,83.01802940036738,174.12200681174622,119.6125283662076,224.24168954075014,82.92910731810194,51.846970978973175,320.6785414325911,69.64285216516939,139.39158150624166,245.33830406189853,129.0596963927057,326.80968946684806,765.963316820095,315.2496646234131,740.091271477388,104.76226345437887,190.9449077035592,41.630315678876734,215.67106788609695,133.60224958611605,48.7478133419892,290.8787751910109,169.4854909517168],\"type\":\"choropleth\"}],\"name\":\"1990\"},{\"data\":[{\"coloraxis\":\"coloraxis\",\"geo\":\"geo\",\"hovertemplate\":\"Year=1991\\u003cbr\\u003eCode=%{location}\\u003cbr\\u003eTotal emission=%{z}\\u003cextra\\u003e\\u003c\\u002fextra\\u003e\",\"locations\":[\"AFG\",\"ALB\",\"DZA\",\"AGO\",\"ATG\",\"ARG\",\"ARM\",\"AUS\",\"AUT\",\"AZE\",\"BHS\",\"BHR\",\"BGD\",\"BRB\",\"BLR\",\"BEL\",\"BLZ\",\"BEN\",\"BTN\",\"BOL\",\"BIH\",\"BWA\",\"BRA\",\"BRN\",\"BGR\",\"BFA\",\"BDI\",\"CPV\",\"KHM\",\"CMR\",\"CAN\",\"CAF\",\"TCD\",\"CHL\",\"CHN\",\"COL\",\"COM\",\"COD\",\"COG\",\"CRI\",\"CIV\",\"HRV\",\"CUB\",\"CYP\",\"CZE\",\"DNK\",\"DJI\",\"DMA\",\"DOM\",\"ECU\",\"EGY\",\"SLV\",\"GNQ\",\"ERI\",\"EST\",\"SWZ\",\"ETH\",\"FJI\",\"FIN\",\"FRA\",\"GAB\",\"GMB\",\"GEO\",\"DEU\",\"GHA\",\"GRC\",\"GRD\",\"GTM\",\"GIN\",\"GNB\",\"GUY\",\"HTI\",\"HND\",\"HUN\",\"ISL\",\"IND\",\"IDN\",\"IRN\",\"IRQ\",\"IRL\",\"ISR\",\"ITA\",\"JAM\",\"JPN\",\"JOR\",\"KAZ\",\"KEN\",\"KIR\",\"PRK\",\"KOR\",\"KWT\",\"KGZ\",\"LAO\",\"LVA\",\"LBN\",\"LSO\",\"LBR\",\"LBY\",\"LTU\",\"LUX\",\"MDG\",\"MWI\",\"MYS\",\"MDV\",\"MLI\",\"MLT\",\"MHL\",\"MRT\",\"MUS\",\"MEX\",\"MDA\",\"MNG\",\"MNE\",\"MAR\",\"MOZ\",\"MMR\",\"NAM\",\"NPL\",\"NLD\",\"NZL\",\"NIC\",\"NER\",\"NGA\",\"MKD\",\"NOR\",\"OMN\",\"PAK\",\"PAN\",\"PNG\",\"PRY\",\"PER\",\"PHL\",\"POL\",\"PRT\",\"QAT\",\"ROU\",\"RUS\",\"RWA\",\"WSM\",\"STP\",\"SAU\",\"SEN\",\"SRB\",\"SYC\",\"SLE\",\"SGP\",\"SVK\",\"SVN\",\"SLB\",\"SOM\",\"ZAF\",\"ESP\",\"LKA\",\"LCA\",\"VCT\",\"SDN\",\"SUR\",\"SWE\",\"CHE\",\"SYR\",\"TJK\",\"TZA\",\"THA\",\"TGO\",\"TON\",\"TTO\",\"TUN\",\"TUR\",\"TKM\",\"UGA\",\"UKR\",\"ARE\",\"GBR\",\"USA\",\"URY\",\"UZB\",\"VUT\",\"VEN\",\"VNM\",\"YEM\",\"ZMB\",\"ZWE\"],\"name\":\"\",\"z\":[143.34032289754953,78.41184128762487,85.98827464456231,123.27604950027762,173.50906680133195,77.39616161310802,74.87304729067019,590.8032046979865,253.0181068953774,109.19303373676247,219.27431170692086,472.33641590160073,34.01586876755145,184.53363565033123,342.0284473219541,271.5398785105002,95.40335079109288,96.1132245292212,988.8037464087448,62.39455104384213,202.72845452575106,158.5322793409142,115.02260949535304,379.761235265392,286.4307222688747,96.91334230709901,91.95488301192144,54.35673855529562,109.29234310360769,104.26305628183827,596.5027328834108,98.78155684071164,81.73673854111665,288.21515527898754,209.83393976259578,111.49868786486726,62.21118413105843,123.68894067891485,91.91940957063623,83.13335779656069,77.45591970883986,187.34968080763966,157.56800123145626,144.78546322166093,484.40685155605365,320.61277820956417,92.41331454212285,40.7291741268082,75.50656187292901,135.76754530328316,56.996259404666816,85.64507826179411,102.63577588696396,95.85215738201997,411.7669555259224,123.13164968187529,104.08494802728056,62.929214319806476,296.5141052388038,311.3487244581823,318.59878723035763,58.98436096277425,117.70388014640501,273.4851380815153,90.52289676444319,232.71171763133592,65.20972423802613,113.26125208055146,100.74924117883886,154.29604740547077,102.01550517546617,73.64589405716178,99.17157544113658,269.28431681030327,418.51674472550104,66.13598120618478,109.76976444085956,101.54330840561582,78.02517611069179,337.1383632101431,166.61448914932308,235.04220700183504,108.674718796196,133.10547155042326,67.74968929630559,472.9584860642533,107.39796718033818,24.826734652336754,857.886242469971,105.7413670880603,340.2426649291881,235.6103163365893,92.01215668669147,254.46684828722456,96.97728710554726,101.53632656141411,129.49765359125038,290.9728577395305,285.7434793665672,1431.2720959689925,69.85592957575594,60.132125634937466,160.51293943386526,48.78036718012108,54.607773630955,311.77994121123,90.21636703578218,102.80110210583588,229.94005518254338,134.44471993333661,124.38058495935002,365.56570565986016,109.66086755997726,49.4607640083666,127.6841284594755,80.74320178059797,140.84716470196182,101.67292248632141,177.37128978105747,300.195162999628,88.37441568593636,58.97793939605983,161.30169006247638,199.88732367699424,312.373055837392,420.4370737070222,84.52590814251498,95.6612224240008,70.79178088801147,162.06580509857892,105.59029233058781,90.78990839241031,243.38299592328053,171.06756059470482,838.2949623783991,118.59243864058129,278.86152611231154,73.61847635530253,56.09384482642976,78.8799753189675,391.66008132026974,55.55636045715194,249.13455449945207,133.92855875296354,97.24491811270599,352.61116700897554,284.83427564076214,310.07157908582906,37.430634017083364,97.02981410579831,237.85376573313943,215.1622843756371,105.46635078587266,75.88239789992498,39.93566898010689,128.23839863415836,169.73197394704664,226.14137216959924,193.2492767770719,86.52899507397389,150.68122841224078,118.80349492339634,237.89294411834268,84.35963659774599,57.62450912374273,320.1206732063953,72.48908542230843,138.3845630216597,248.39885621842163,129.0552518610406,269.229554254286,768.8430788378615,313.64787983860026,713.4385357003094,111.14426917353737,180.18824264986637,40.97688540035564,218.72578035069807,131.0568199319342,51.255450416529705,280.34475634730006,167.62672410201486],\"type\":\"choropleth\"}],\"name\":\"1991\"},{\"data\":[{\"coloraxis\":\"coloraxis\",\"geo\":\"geo\",\"hovertemplate\":\"Year=1992\\u003cbr\\u003eCode=%{location}\\u003cbr\\u003eTotal emission=%{z}\\u003cextra\\u003e\\u003c\\u002fextra\\u003e\",\"locations\":[\"AFG\",\"ALB\",\"DZA\",\"AGO\",\"ATG\",\"ARG\",\"ARM\",\"AUS\",\"AUT\",\"AZE\",\"BHS\",\"BHR\",\"BGD\",\"BRB\",\"BLR\",\"BEL\",\"BLZ\",\"BEN\",\"BTN\",\"BOL\",\"BIH\",\"BWA\",\"BRA\",\"BRN\",\"BGR\",\"BFA\",\"BDI\",\"CPV\",\"KHM\",\"CMR\",\"CAN\",\"CAF\",\"TCD\",\"CHL\",\"CHN\",\"COL\",\"COM\",\"COD\",\"COG\",\"CRI\",\"CIV\",\"HRV\",\"CUB\",\"CYP\",\"CZE\",\"DNK\",\"DJI\",\"DMA\",\"DOM\",\"ECU\",\"EGY\",\"SLV\",\"GNQ\",\"ERI\",\"EST\",\"SWZ\",\"ETH\",\"FJI\",\"FIN\",\"FRA\",\"GAB\",\"GMB\",\"GEO\",\"DEU\",\"GHA\",\"GRC\",\"GRD\",\"GTM\",\"GIN\",\"GNB\",\"GUY\",\"HTI\",\"HND\",\"HUN\",\"ISL\",\"IND\",\"IDN\",\"IRN\",\"IRQ\",\"IRL\",\"ISR\",\"ITA\",\"JAM\",\"JPN\",\"JOR\",\"KAZ\",\"KEN\",\"KIR\",\"PRK\",\"KOR\",\"KWT\",\"KGZ\",\"LAO\",\"LVA\",\"LBN\",\"LSO\",\"LBR\",\"LBY\",\"LTU\",\"LUX\",\"MDG\",\"MWI\",\"MYS\",\"MDV\",\"MLI\",\"MLT\",\"MHL\",\"MRT\",\"MUS\",\"MEX\",\"MDA\",\"MNG\",\"MNE\",\"MAR\",\"MOZ\",\"MMR\",\"NAM\",\"NPL\",\"NLD\",\"NZL\",\"NIC\",\"NER\",\"NGA\",\"MKD\",\"NOR\",\"OMN\",\"PAK\",\"PAN\",\"PNG\",\"PRY\",\"PER\",\"PHL\",\"POL\",\"PRT\",\"QAT\",\"ROU\",\"RUS\",\"RWA\",\"WSM\",\"STP\",\"SAU\",\"SEN\",\"SRB\",\"SYC\",\"SLE\",\"SGP\",\"SVK\",\"SVN\",\"SLB\",\"SOM\",\"ZAF\",\"ESP\",\"LKA\",\"LCA\",\"VCT\",\"SDN\",\"SUR\",\"SWE\",\"CHE\",\"SYR\",\"TJK\",\"TZA\",\"THA\",\"TGO\",\"TON\",\"TTO\",\"TUN\",\"TUR\",\"TKM\",\"UGA\",\"UKR\",\"ARE\",\"GBR\",\"USA\",\"URY\",\"UZB\",\"VUT\",\"VEN\",\"VNM\",\"YEM\",\"ZMB\",\"ZWE\"],\"name\":\"\",\"z\":[89.67576955677059,62.8660005623585,85.69154856279297,122.7566739399019,177.90263693753778,78.64543450709387,59.50301901030465,586.6537214061161,236.0204351035091,97.96606981847737,225.7618251393645,514.2243609463835,34.19140355659591,158.9867045943869,274.75203220438533,270.5896821135118,96.42191785368766,95.21907711143865,941.8619133571307,60.60619340810958,152.66753754892912,167.515419558008,112.46483455333478,391.5283269682941,278.4626258933669,93.35108049133102,91.16168278790236,55.26554111373774,107.22607658920423,103.6675913970632,592.8425352497512,94.80830873238904,79.23431218289603,286.52030088735137,213.32837909989095,109.61083282308186,60.767798775570064,121.02907653882741,91.54177076505893,99.54497842702919,77.33454895058475,164.78070384355325,137.54913789899712,150.65377330563783,445.4576647647285,298.480837959767,92.39519505604387,41.77554794171014,77.32561735135879,126.87146095385751,55.94881238991433,87.54754120092173,101.23771768924979,105.33771308063976,290.8526940670841,112.46395149672489,100.69302260820596,66.51196577694975,276.0634259237222,294.28766229252324,314.64695061436555,56.988695491374486,98.95339661434289,236.80769347836008,91.82297211278158,226.69918050293202,69.45279266196675,114.62613511762032,94.16879122780425,148.77058764149558,102.67129850040473,69.03916857356104,99.27612905882877,222.35661508286785,424.5670688393723,65.81692277407876,111.02478027752734,104.37394638720374,105.95453642920667,319.0821917531046,165.77824655475308,236.7787299373294,126.14630907389493,125.99137858310056,68.51967636597486,428.62844530066894,107.48171884332032,25.58338245994169,707.060901389685,108.05933382679632,0.0,201.44202668645084,90.01929422838353,225.60073624757013,102.4186051508843,98.1667266682938,124.56860114586955,275.03852901114516,173.7819953655482,1310.115360107095,70.0705311195467,59.34421322462905,164.49548305247433,61.2827074683089,52.71164274704209,318.2941163762383,93.27390212204286,101.10894725911199,249.92604857249037,132.88727041695873,101.78990222126679,335.28874693279903,104.0833263217401,49.20590705930279,124.4071114437845,82.95309139137021,143.33397074935496,100.89610869922842,169.17372366714113,304.3390996120848,89.0981661867352,59.1965008982382,163.43266074431034,195.33577692304212,309.9379510456441,407.1032695415412,85.81101226231405,100.48338580580243,71.28120956938038,158.10274352218303,104.0585960144762,86.91957938063354,234.9043335716578,182.49435940378362,863.252366939513,110.61316222961862,255.17609157461362,75.7783533097273,57.47963689648922,76.34379037695865,396.92277869227655,55.18786929468682,248.87345160299768,148.2602953520908,91.60800522296263,338.01857462381196,267.9288535604794,308.84022032579054,37.38785657358445,93.32485382537782,231.8198511933783,216.245112191898,109.61486074646633,83.9226749435666,43.019525178323306,126.93926487921136,177.06097550249015,213.22070612744454,177.73044459900595,81.34832537046178,132.85334221173164,118.35448044090921,241.82084153123677,86.046012714447,53.31176584660217,311.4555538484802,72.42411654889717,142.3429209821143,221.08698591199698,129.1733984445584,227.08326051190403,735.5121297233999,304.21971211663305,688.5142469416874,113.18209293242846,146.83451452282156,41.766404201843145,215.2719681493289,123.20755162969495,47.64849642450626,296.2448016866424,168.1247810421942],\"type\":\"choropleth\"}],\"name\":\"1992\"},{\"data\":[{\"coloraxis\":\"coloraxis\",\"geo\":\"geo\",\"hovertemplate\":\"Year=1993\\u003cbr\\u003eCode=%{location}\\u003cbr\\u003eTotal emission=%{z}\\u003cextra\\u003e\\u003c\\u002fextra\\u003e\",\"locations\":[\"AFG\",\"ALB\",\"DZA\",\"AGO\",\"ATG\",\"ARG\",\"ARM\",\"AUS\",\"AUT\",\"AZE\",\"BHS\",\"BHR\",\"BGD\",\"BRB\",\"BLR\",\"BEL\",\"BLZ\",\"BEN\",\"BTN\",\"BOL\",\"BIH\",\"BWA\",\"BRA\",\"BRN\",\"BGR\",\"BFA\",\"BDI\",\"CPV\",\"KHM\",\"CMR\",\"CAN\",\"CAF\",\"TCD\",\"CHL\",\"CHN\",\"COL\",\"COM\",\"COD\",\"COG\",\"CRI\",\"CIV\",\"HRV\",\"CUB\",\"CYP\",\"CZE\",\"DNK\",\"DJI\",\"DMA\",\"DOM\",\"ECU\",\"EGY\",\"SLV\",\"GNQ\",\"ERI\",\"EST\",\"SWZ\",\"ETH\",\"FJI\",\"FIN\",\"FRA\",\"GAB\",\"GMB\",\"GEO\",\"DEU\",\"GHA\",\"GRC\",\"GRD\",\"GTM\",\"GIN\",\"GNB\",\"GUY\",\"HTI\",\"HND\",\"HUN\",\"ISL\",\"IND\",\"IDN\",\"IRN\",\"IRQ\",\"IRL\",\"ISR\",\"ITA\",\"JAM\",\"JPN\",\"JOR\",\"KAZ\",\"KEN\",\"KIR\",\"PRK\",\"KOR\",\"KWT\",\"KGZ\",\"LAO\",\"LVA\",\"LBN\",\"LSO\",\"LBR\",\"LBY\",\"LTU\",\"LUX\",\"MDG\",\"MWI\",\"MYS\",\"MDV\",\"MLI\",\"MLT\",\"MHL\",\"MRT\",\"MUS\",\"MEX\",\"MDA\",\"MNG\",\"MNE\",\"MAR\",\"MOZ\",\"MMR\",\"NAM\",\"NPL\",\"NLD\",\"NZL\",\"NIC\",\"NER\",\"NGA\",\"MKD\",\"NOR\",\"OMN\",\"PAK\",\"PAN\",\"PNG\",\"PRY\",\"PER\",\"PHL\",\"POL\",\"PRT\",\"QAT\",\"ROU\",\"RUS\",\"RWA\",\"WSM\",\"STP\",\"SAU\",\"SEN\",\"SRB\",\"SYC\",\"SLE\",\"SGP\",\"SVK\",\"SVN\",\"SLB\",\"SOM\",\"ZAF\",\"ESP\",\"LKA\",\"LCA\",\"VCT\",\"SDN\",\"SUR\",\"SWE\",\"CHE\",\"SYR\",\"TJK\",\"TZA\",\"THA\",\"TGO\",\"TON\",\"TTO\",\"TUN\",\"TUR\",\"TKM\",\"UGA\",\"UKR\",\"ARE\",\"GBR\",\"USA\",\"URY\",\"UZB\",\"VUT\",\"VEN\",\"VNM\",\"YEM\",\"ZMB\",\"ZWE\"],\"name\":\"\",\"z\":[83.23857161363917,65.44102162590437,86.56850661187245,120.05833087126481,183.46774291925752,78.45491911992869,40.472000363949064,579.9710836021961,222.67323813286046,92.57240046697798,237.88339318033417,567.0463433729323,33.75501135068189,164.45354938341785,218.86788016407854,258.4831205392447,95.05470382852111,94.42893249855165,895.7391475902934,63.22069875629884,140.5539909785319,164.91585600846253,113.19014721909937,372.36705187783343,337.069928530733,89.00883683978897,87.99203655089043,52.96347575351111,104.2883556003355,102.92988582946793,590.2875307253705,88.17479010383273,76.44336829413879,285.97192235432834,221.75214766980073,107.51745603429913,59.52708382857677,115.51839793008183,92.16657021656934,94.5839028757245,77.34619587039828,170.15528795688607,109.45365225529797,148.767566302614,405.8083696237749,286.95601083754707,92.1525811849732,100.66842145388317,77.77066943811957,119.55411584545352,55.04007711471707,88.0680183525038,91.42327933131158,106.83412043816162,259.75725272533543,101.27204299621722,99.51811871178927,69.31162540415887,267.7423244534089,277.45414171520935,316.3468152359052,54.825288586074336,105.77514365417116,215.93018965130315,90.89015292642563,223.97825618773254,73.93322072686551,115.9765208920907,89.53189462164606,140.39189408322414,111.31750461450335,70.6097398645085,98.48167696497782,228.14280927013147,417.1296427718267,65.68311981147026,112.45729370018289,104.42496874443478,124.5311916037306,308.0525906806019,171.0081329785212,235.9547811955559,131.64723162577513,121.73445124301406,65.16455846704375,386.9993960963279,107.13755292655982,25.80467998837762,621.8161291017321,108.93118629712193,0.0,170.00014448601854,87.74528104669668,220.5874873307351,112.5986494362819,94.757953442913,112.70668088565837,282.132648171986,154.39679683963533,1311.063141908296,68.52946911591374,55.52430025299858,170.69496098978811,55.07431672883906,50.90211914020374,384.25223127430604,96.54665142180572,96.86547773696266,232.62880743483993,131.64482286350287,84.66594933796685,304.0080827647396,99.72729609780882,48.828295196179525,119.15193966354055,78.52619743407799,139.09209061019186,100.55580716911561,162.69399781614152,301.24468974301544,88.09410493721342,59.72852327469753,161.55005070897585,204.88147813438115,314.21655017369005,401.6154903421836,88.33648201757528,102.22091535530387,70.38485398513775,157.10848732779414,102.79779885032255,84.04850413935787,253.71257885306747,171.47315025326967,820.3573966207957,104.25252468009883,239.208954685111,76.86650270756031,58.161708243826254,73.12365892241583,390.3116663358347,54.169056712484625,230.95942028289042,146.1185008234952,86.5516993123286,357.8165998736672,241.9286199757573,318.3432744938361,36.3260804585513,91.59015458869186,229.00717481944048,201.88171596225754,108.86533144567173,84.04658040987667,40.11784748178797,122.17884835266455,175.27800334088735,193.61008966961404,155.97406135395525,81.27990680771913,113.37609240673912,115.21903967923927,240.60335553090104,87.52646363798145,56.588066180394954,288.1649137675939,72.59649047991729,144.32661397282345,171.92396735405424,121.21909961562343,187.578359480406,690.1397928986594,291.0482540346516,653.6230914246362,113.07570214098362,138.47452830188678,41.86016413762019,219.59388303727562,129.10150562567452,45.383488209982104,273.3898019357971,162.50426241750705],\"type\":\"choropleth\"}],\"name\":\"1993\"},{\"data\":[{\"coloraxis\":\"coloraxis\",\"geo\":\"geo\",\"hovertemplate\":\"Year=1994\\u003cbr\\u003eCode=%{location}\\u003cbr\\u003eTotal emission=%{z}\\u003cextra\\u003e\\u003c\\u002fextra\\u003e\",\"locations\":[\"AFG\",\"ALB\",\"DZA\",\"AGO\",\"ATG\",\"ARG\",\"ARM\",\"AUS\",\"AUT\",\"AZE\",\"BHS\",\"BHR\",\"BGD\",\"BRB\",\"BLR\",\"BEL\",\"BLZ\",\"BEN\",\"BTN\",\"BOL\",\"BIH\",\"BWA\",\"BRA\",\"BRN\",\"BGR\",\"BFA\",\"BDI\",\"CPV\",\"KHM\",\"CMR\",\"CAN\",\"CAF\",\"TCD\",\"CHL\",\"CHN\",\"COL\",\"COM\",\"COD\",\"COG\",\"CRI\",\"CIV\",\"HRV\",\"CUB\",\"CYP\",\"CZE\",\"DNK\",\"DJI\",\"DMA\",\"DOM\",\"ECU\",\"EGY\",\"SLV\",\"GNQ\",\"ERI\",\"EST\",\"SWZ\",\"ETH\",\"FJI\",\"FIN\",\"FRA\",\"GAB\",\"GMB\",\"GEO\",\"DEU\",\"GHA\",\"GRC\",\"GRD\",\"GTM\",\"GIN\",\"GNB\",\"GUY\",\"HTI\",\"HND\",\"HUN\",\"ISL\",\"IND\",\"IDN\",\"IRN\",\"IRQ\",\"IRL\",\"ISR\",\"ITA\",\"JAM\",\"JPN\",\"JOR\",\"KAZ\",\"KEN\",\"KIR\",\"PRK\",\"KOR\",\"KWT\",\"KGZ\",\"LAO\",\"LVA\",\"LBN\",\"LSO\",\"LBR\",\"LBY\",\"LTU\",\"LUX\",\"MDG\",\"MWI\",\"MYS\",\"MDV\",\"MLI\",\"MLT\",\"MHL\",\"MRT\",\"MUS\",\"MEX\",\"MDA\",\"MNG\",\"MNE\",\"MAR\",\"MOZ\",\"MMR\",\"NAM\",\"NPL\",\"NLD\",\"NZL\",\"NIC\",\"NER\",\"NGA\",\"MKD\",\"NOR\",\"OMN\",\"PAK\",\"PAN\",\"PNG\",\"PRY\",\"PER\",\"PHL\",\"POL\",\"PRT\",\"QAT\",\"ROU\",\"RUS\",\"RWA\",\"WSM\",\"STP\",\"SAU\",\"SEN\",\"SRB\",\"SYC\",\"SLE\",\"SGP\",\"SVK\",\"SVN\",\"SLB\",\"SOM\",\"ZAF\",\"ESP\",\"LKA\",\"LCA\",\"VCT\",\"SDN\",\"SUR\",\"SWE\",\"CHE\",\"SYR\",\"TJK\",\"TZA\",\"THA\",\"TGO\",\"TON\",\"TTO\",\"TUN\",\"TUR\",\"TKM\",\"UGA\",\"UKR\",\"ARE\",\"GBR\",\"USA\",\"URY\",\"UZB\",\"VUT\",\"VEN\",\"VNM\",\"YEM\",\"ZMB\",\"ZWE\"],\"name\":\"\",\"z\":[75.49062444017756,73.69177733313047,82.83462290440123,118.81418024197282,189.29893510802927,77.29907121749147,25.044612306911755,561.0768916269953,209.1056393944747,80.11685507437147,250.9435738056742,560.6892394779314,33.98623816847469,147.00983997312122,166.3720550503569,246.01082555335557,90.89700128917097,93.75919689826434,863.3008613885772,63.9737949880223,55.86929207087268,161.91990008779277,113.58915186516674,371.15779837210744,321.2167296236874,98.81318885951005,99.13511519898316,53.98270882316216,102.66975427846309,103.30320284568404,586.1676758562381,90.31996200975118,82.21635633875742,282.0976974292584,220.35475069955154,102.60084422432755,62.569455391464416,111.39227550261813,88.11561497448093,96.2376866019011,77.40114403382842,163.41705530753924,108.99378085193268,149.8755616824551,370.5928188343506,278.50642574786116,97.34057580266274,124.18361395211352,83.5873588880992,114.63530427950532,53.09061285125244,88.85845230755785,99.58440811691972,122.45858949797832,287.33526537181865,121.25129206055398,108.93636900151752,67.7244607364856,261.37474324105756,258.94209326475453,317.6174788485276,56.46699725464535,64.44657370975972,189.71598969566523,90.05244626841467,224.53976864852606,80.70149448425799,112.98883100829067,100.17332733992775,154.38902842041892,114.26676013577618,69.4417412579318,99.28436193448862,206.70719417442407,407.5243369132512,66.10150261014036,114.87060871289663,109.66640179615938,129.30814438972862,299.1344916953219,175.14173067234674,224.4430888018662,127.49800776630771,120.60323960275608,63.13252413238923,346.1377574144936,107.23710420651362,25.142013303769403,459.5103713127576,106.02896351693961,0.0,124.37220462448228,87.1108467443508,208.44244920741593,104.96256319863005,100.65567097399484,120.40530945742069,317.50522763201934,141.35147680813228,1114.2230853136439,74.95542144544275,60.82314756574444,179.6195914403704,52.351810465509196,54.340077215775665,368.56188282190084,95.8446073284875,99.24551858643433,201.6802652298701,133.1986934926417,76.05773229020095,284.58028129178126,80.3452178891017,49.33302722739187,113.60976587043336,79.76679302520769,132.22708851869115,100.7450906101753,152.69589811710946,309.37493914364643,86.59507350944482,59.89746396065055,159.9088172416773,219.787688987704,315.8976401168377,388.86250978044785,87.48093284864964,102.53173953733742,71.34774184454902,157.2333090589259,106.06043303607068,81.64768639831892,241.67833845475917,169.02034561290697,856.0051810405865,101.97898919636076,198.9017674475469,89.59141385461318,57.18045306887027,80.62149080176472,371.82032054734503,53.55396576413285,222.19429167928848,145.6340888080318,95.38637281528621,351.20630371378235,222.60288644679875,313.3656578750937,33.97893386700107,103.03695583293704,227.49021220977912,196.32980675569218,105.90944905453748,91.65174589717611,55.57556758257522,131.32210594493282,169.72830098481975,193.72708033316073,144.48454337023034,81.86244703048123,98.84919735587982,112.71821197077489,245.8345391169253,92.59192661970927,61.492377087707204,293.8266543952878,70.78641755788078,139.59400736263112,161.13426977022687,133.43845893971172,150.8200657532347,659.9596147987369,270.5445017255027,636.0255367390528,111.90013848143995,127.77696268489967,41.35118936933753,214.49661005686318,125.04317040622468,52.6406710686602,248.2796242054446,158.07644934923044],\"type\":\"choropleth\"}],\"name\":\"1994\"},{\"data\":[{\"coloraxis\":\"coloraxis\",\"geo\":\"geo\",\"hovertemplate\":\"Year=1995\\u003cbr\\u003eCode=%{location}\\u003cbr\\u003eTotal emission=%{z}\\u003cextra\\u003e\\u003c\\u002fextra\\u003e\",\"locations\":[\"AFG\",\"ALB\",\"DZA\",\"AGO\",\"ATG\",\"ARG\",\"ARM\",\"AUS\",\"AUT\",\"AZE\",\"BHS\",\"BHR\",\"BGD\",\"BRB\",\"BLR\",\"BEL\",\"BLZ\",\"BEN\",\"BTN\",\"BOL\",\"BIH\",\"BWA\",\"BRA\",\"BRN\",\"BGR\",\"BFA\",\"BDI\",\"CPV\",\"KHM\",\"CMR\",\"CAN\",\"CAF\",\"TCD\",\"CHL\",\"CHN\",\"COL\",\"COM\",\"COD\",\"COG\",\"CRI\",\"CIV\",\"HRV\",\"CUB\",\"CYP\",\"CZE\",\"DNK\",\"DJI\",\"DMA\",\"DOM\",\"ECU\",\"EGY\",\"SLV\",\"GNQ\",\"ERI\",\"EST\",\"SWZ\",\"ETH\",\"FJI\",\"FIN\",\"FRA\",\"GAB\",\"GMB\",\"GEO\",\"DEU\",\"GHA\",\"GRC\",\"GRD\",\"GTM\",\"GIN\",\"GNB\",\"GUY\",\"HTI\",\"HND\",\"HUN\",\"ISL\",\"IND\",\"IDN\",\"IRN\",\"IRQ\",\"IRL\",\"ISR\",\"ITA\",\"JAM\",\"JPN\",\"JOR\",\"KAZ\",\"KEN\",\"KIR\",\"PRK\",\"KOR\",\"KWT\",\"KGZ\",\"LAO\",\"LVA\",\"LBN\",\"LSO\",\"LBR\",\"LBY\",\"LTU\",\"LUX\",\"MDG\",\"MWI\",\"MYS\",\"MDV\",\"MLI\",\"MLT\",\"MHL\",\"MRT\",\"MUS\",\"MEX\",\"MDA\",\"MNG\",\"MNE\",\"MAR\",\"MOZ\",\"MMR\",\"NAM\",\"NPL\",\"NLD\",\"NZL\",\"NIC\",\"NER\",\"NGA\",\"MKD\",\"NOR\",\"OMN\",\"PAK\",\"PAN\",\"PNG\",\"PRY\",\"PER\",\"PHL\",\"POL\",\"PRT\",\"QAT\",\"ROU\",\"RUS\",\"RWA\",\"WSM\",\"STP\",\"SAU\",\"SEN\",\"SRB\",\"SYC\",\"SLE\",\"SGP\",\"SVK\",\"SVN\",\"SLB\",\"SOM\",\"ZAF\",\"ESP\",\"LKA\",\"LCA\",\"VCT\",\"SDN\",\"SUR\",\"SWE\",\"CHE\",\"SYR\",\"TJK\",\"TZA\",\"THA\",\"TGO\",\"TON\",\"TTO\",\"TUN\",\"TUR\",\"TKM\",\"UGA\",\"UKR\",\"ARE\",\"GBR\",\"USA\",\"URY\",\"UZB\",\"VUT\",\"VEN\",\"VNM\",\"YEM\",\"ZMB\",\"ZWE\"],\"name\":\"\",\"z\":[62.47483736233313,74.14465976992167,81.17850588979644,117.60963631516094,198.86025300713553,74.75033548992096,23.165105111414746,540.1713524236388,193.92398623953514,76.74287929733245,292.8908652528339,557.9841237757163,35.85722570118781,153.903508262676,152.66604267216007,237.73062632814208,97.21422027125621,92.53723175693135,815.0024505630167,64.59183530040258,58.238075110014236,192.78702931034718,112.47516755596486,355.78122168595223,316.417295127436,99.0528569621952,101.70908543666714,55.929522889894486,163.7175338757812,102.24055734460941,574.9989094375526,89.47456576190571,82.30970055540932,289.95587185083286,225.83150702781663,110.19393934967641,63.754426665039944,107.37648963107144,89.03984724862487,94.0520951145864,77.72090426586021,168.94459668010816,104.46571965821512,142.7980544621532,341.4690305350319,263.0682851575839,99.67558321224386,136.6123932600073,84.89471152401248,113.58501865178482,55.69612106285307,91.60612827346054,100.18835251062872,127.63668732096859,304.6756400725585,116.9745153699502,108.84877738198568,69.6237498146178,245.63335076422487,252.86934709623557,326.04373213044704,56.11285089604147,72.22837904452005,173.9567118221271,89.11639410870669,211.1881089016605,79.51653091097639,117.09492867840355,135.1317206320821,156.101219539075,113.9679579819018,72.63655507654913,102.16726758771307,202.05271229982867,396.5909955583472,66.43130786348998,117.07350894658958,107.91627155033513,123.84223441981071,286.348931415931,180.56911805229936,222.75073873278032,141.57634043503776,121.64354071700188,65.67329636250358,314.9259234506431,107.91169522969649,25.70874239285668,466.02114356774644,103.7547870798812,643.6571810653334,145.04586251206035,85.73776633488656,193.80192848772825,115.6957682845952,101.23859341471969,120.00185742281971,350.4656714620399,142.51828623169038,690.3247037503825,77.26856508897696,59.61026399232458,186.00214466238052,55.47981899669079,54.513782733424634,461.8038438711352,84.26000911667361,99.49526786910613,212.91977679323125,123.02199825153549,71.90831688574393,301.7138195925188,81.1434980840657,48.671204534298965,109.82175037004419,80.70520385157735,134.2390246119918,100.67803619111191,147.4352046308799,311.92834276147437,87.76016115008323,59.836720023670516,160.50874813400318,211.5270868754954,312.6216071631755,400.3233830412421,88.83639886780435,100.14320490657991,91.37026022448168,164.58502550743242,105.78287335858523,82.58472067443226,240.6474361522185,172.89182954697782,841.8537303142322,103.52772004565279,183.96480006539073,80.95277336826297,65.28510102673269,81.97924079952611,356.5961331067306,53.76979297513832,237.78470744386132,152.07064020503563,101.32138845718023,331.895743119745,206.3745844973116,283.6454670451164,41.34430031089871,105.93034192660429,230.851553144026,182.63612383430188,106.18602638657688,95.94330680193367,61.332744545749065,127.53385026205092,174.3556709388459,182.57217286762716,134.48937350857946,82.49273844354728,96.26659851755738,110.16449791874199,253.7426620564447,95.57932283886747,60.91397943235809,295.3406717429437,70.71665570093491,142.71662687169828,151.79666570100918,132.14936899504787,141.4819381008215,642.521307156255,249.6180928050676,609.221623566348,112.33267410625812,99.24977555409262,43.139736735689056,217.34008200415445,122.41417577179243,53.72328472911622,240.94564643718257,158.2487291329885],\"type\":\"choropleth\"}],\"name\":\"1995\"},{\"data\":[{\"coloraxis\":\"coloraxis\",\"geo\":\"geo\",\"hovertemplate\":\"Year=1996\\u003cbr\\u003eCode=%{location}\\u003cbr\\u003eTotal emission=%{z}\\u003cextra\\u003e\\u003c\\u002fextra\\u003e\",\"locations\":[\"AFG\",\"ALB\",\"DZA\",\"AGO\",\"ATG\",\"ARG\",\"ARM\",\"AUS\",\"AUT\",\"AZE\",\"BHS\",\"BHR\",\"BGD\",\"BRB\",\"BLR\",\"BEL\",\"BLZ\",\"BEN\",\"BTN\",\"BOL\",\"BIH\",\"BWA\",\"BRA\",\"BRN\",\"BGR\",\"BFA\",\"BDI\",\"CPV\",\"KHM\",\"CMR\",\"CAN\",\"CAF\",\"TCD\",\"CHL\",\"CHN\",\"COL\",\"COM\",\"COD\",\"COG\",\"CRI\",\"CIV\",\"HRV\",\"CUB\",\"CYP\",\"CZE\",\"DNK\",\"DJI\",\"DMA\",\"DOM\",\"ECU\",\"EGY\",\"SLV\",\"GNQ\",\"ERI\",\"EST\",\"SWZ\",\"ETH\",\"FJI\",\"FIN\",\"FRA\",\"GAB\",\"GMB\",\"GEO\",\"DEU\",\"GHA\",\"GRC\",\"GRD\",\"GTM\",\"GIN\",\"GNB\",\"GUY\",\"HTI\",\"HND\",\"HUN\",\"ISL\",\"IND\",\"IDN\",\"IRN\",\"IRQ\",\"IRL\",\"ISR\",\"ITA\",\"JAM\",\"JPN\",\"JOR\",\"KAZ\",\"KEN\",\"KIR\",\"PRK\",\"KOR\",\"KWT\",\"KGZ\",\"LAO\",\"LVA\",\"LBN\",\"LSO\",\"LBR\",\"LBY\",\"LTU\",\"LUX\",\"MDG\",\"MWI\",\"MYS\",\"MDV\",\"MLI\",\"MLT\",\"MHL\",\"MRT\",\"MUS\",\"MEX\",\"MDA\",\"MNG\",\"MNE\",\"MAR\",\"MOZ\",\"MMR\",\"NAM\",\"NPL\",\"NLD\",\"NZL\",\"NIC\",\"NER\",\"NGA\",\"MKD\",\"NOR\",\"OMN\",\"PAK\",\"PAN\",\"PNG\",\"PRY\",\"PER\",\"PHL\",\"POL\",\"PRT\",\"QAT\",\"ROU\",\"RUS\",\"RWA\",\"WSM\",\"STP\",\"SAU\",\"SEN\",\"SRB\",\"SYC\",\"SLE\",\"SGP\",\"SVK\",\"SVN\",\"SLB\",\"SOM\",\"ZAF\",\"ESP\",\"LKA\",\"LCA\",\"VCT\",\"SDN\",\"SUR\",\"SWE\",\"CHE\",\"SYR\",\"TJK\",\"TZA\",\"THA\",\"TGO\",\"TON\",\"TTO\",\"TUN\",\"TUR\",\"TKM\",\"UGA\",\"UKR\",\"ARE\",\"GBR\",\"USA\",\"URY\",\"UZB\",\"VUT\",\"VEN\",\"VNM\",\"YEM\",\"ZMB\",\"ZWE\"],\"name\":\"\",\"z\":[58.14914916574628,72.44839560067715,81.19625772280538,117.44959699581666,209.19394889772423,80.16862440942154,22.389390070957802,520.8596959750969,194.5872429974707,69.53013448409119,320.0433014881436,546.4136193590085,33.995944094553316,143.6076499069459,151.8869184448819,229.99188402617912,86.08557122397784,95.37066670451648,799.9412463594139,63.069830653710696,57.2034260212383,183.6628015657294,110.68605159947816,331.1847624268766,308.60711391101523,96.68571154501534,103.52751178980054,53.68027302399547,164.15577746786215,102.02985087553601,566.7205358298949,78.15016152127133,80.84521236109629,296.9955081690532,220.6002076300768,106.69836823636565,63.67527494387333,103.89777399819724,89.55061594293939,92.8355830999223,78.23795688915615,176.93965515765848,114.4405976693375,141.7301352723709,328.9852129484905,271.0714968096592,99.62537673967691,153.79949413555883,85.2736430093541,118.99396368882492,57.700889532247665,90.75813500955545,101.07211723107164,133.67727515679752,345.8718642492127,109.2593226075295,108.97233402956648,69.30054204180085,244.67274670494496,243.62989737770926,318.9612431769479,54.50931765643751,102.33643817183653,160.93499149134544,88.06280826062893,211.18767853103088,82.44337155077673,117.63945108552365,136.62911380584265,153.0917862540994,118.32272675293606,79.00091350605986,100.05814589036001,199.75665157762822,387.477284430826,66.30831660032581,117.94167012320705,109.41962638366019,117.88556393946169,279.8489162366564,180.30770057976105,214.3479963456389,148.23094495233204,121.72117515525973,63.71444658973212,316.1509419694345,108.3952633787896,28.588391417309865,373.3544789371966,101.4599760073003,626.1228620892924,161.9592646054792,85.12190719614154,199.11342499782273,118.06947547058505,99.87469632542363,119.68601281753389,357.8193333189044,147.08106312366155,636.7553799746515,77.60217563682649,57.745165043382634,197.55998775883825,55.99513779838956,53.59760072887911,320.03932400205315,80.28723052262879,98.77630116047825,184.66800531042438,121.65648971104225,70.69302864749231,291.46859397177207,84.65497216871276,48.3037414940026,106.17878242344415,79.14725579648398,116.96277148068567,100.40531015531123,143.63723571517153,305.44738234190777,86.96437008945124,60.47317175282839,161.69214855634914,212.67745554911596,307.6629118150263,391.57403840737095,89.02643622905163,103.34553521074878,95.69837341049947,161.89151801935986,103.73103278911573,81.37799747734469,246.24535755534652,162.34459783911774,889.1433385387661,123.9242027190941,169.31535366036297,82.73525809535737,67.0033988256945,81.12969971451207,363.97704956618065,54.365377626779996,261.3728223026246,149.7704587984349,99.92877322287418,313.32365439981,196.69064862755357,285.26029719987855,42.3538816257716,106.33026562585012,231.76125055340174,178.51395883845342,115.00462953485567,96.50875626536947,58.36550525116692,128.27795644188052,172.67108339115555,177.52324816723183,128.80672886161327,82.24330930256738,95.1805853686881,107.0350811177024,253.39650620738146,100.97453806275517,61.22595701806323,292.69088854589364,73.31951449930617,143.785493487216,153.72800527412528,128.13759599817826,113.01913306096229,610.65672794497,241.8790234832667,569.9160153158571,115.99626191075207,97.55954329386435,44.948726954030356,218.1626256552747,116.93559465022315,52.17838423445082,236.44870361925763,157.13192837462464],\"type\":\"choropleth\"}],\"name\":\"1996\"},{\"data\":[{\"coloraxis\":\"coloraxis\",\"geo\":\"geo\",\"hovertemplate\":\"Year=1997\\u003cbr\\u003eCode=%{location}\\u003cbr\\u003eTotal emission=%{z}\\u003cextra\\u003e\\u003c\\u002fextra\\u003e\",\"locations\":[\"AFG\",\"ALB\",\"DZA\",\"AGO\",\"ATG\",\"ARG\",\"ARM\",\"AUS\",\"AUT\",\"AZE\",\"BHS\",\"BHR\",\"BGD\",\"BRB\",\"BLR\",\"BEL\",\"BLZ\",\"BEN\",\"BTN\",\"BOL\",\"BIH\",\"BWA\",\"BRA\",\"BRN\",\"BGR\",\"BFA\",\"BDI\",\"CPV\",\"KHM\",\"CMR\",\"CAN\",\"CAF\",\"TCD\",\"CHL\",\"CHN\",\"COL\",\"COM\",\"COD\",\"COG\",\"CRI\",\"CIV\",\"HRV\",\"CUB\",\"CYP\",\"CZE\",\"DNK\",\"DJI\",\"DMA\",\"DOM\",\"ECU\",\"EGY\",\"SLV\",\"GNQ\",\"ERI\",\"EST\",\"SWZ\",\"ETH\",\"FJI\",\"FIN\",\"FRA\",\"GAB\",\"GMB\",\"GEO\",\"DEU\",\"GHA\",\"GRC\",\"GRD\",\"GTM\",\"GIN\",\"GNB\",\"GUY\",\"HTI\",\"HND\",\"HUN\",\"ISL\",\"IND\",\"IDN\",\"IRN\",\"IRQ\",\"IRL\",\"ISR\",\"ITA\",\"JAM\",\"JPN\",\"JOR\",\"KAZ\",\"KEN\",\"KIR\",\"PRK\",\"KOR\",\"KWT\",\"KGZ\",\"LAO\",\"LVA\",\"LBN\",\"LSO\",\"LBR\",\"LBY\",\"LTU\",\"LUX\",\"MDG\",\"MWI\",\"MYS\",\"MDV\",\"MLI\",\"MLT\",\"MHL\",\"MRT\",\"MUS\",\"MEX\",\"MDA\",\"MNG\",\"MNE\",\"MAR\",\"MOZ\",\"MMR\",\"NAM\",\"NPL\",\"NLD\",\"NZL\",\"NIC\",\"NER\",\"NGA\",\"MKD\",\"NOR\",\"OMN\",\"PAK\",\"PAN\",\"PNG\",\"PRY\",\"PER\",\"PHL\",\"POL\",\"PRT\",\"QAT\",\"ROU\",\"RUS\",\"RWA\",\"WSM\",\"STP\",\"SAU\",\"SEN\",\"SRB\",\"SYC\",\"SLE\",\"SGP\",\"SVK\",\"SVN\",\"SLB\",\"SOM\",\"ZAF\",\"ESP\",\"LKA\",\"LCA\",\"VCT\",\"SDN\",\"SUR\",\"SWE\",\"CHE\",\"SYR\",\"TJK\",\"TZA\",\"THA\",\"TGO\",\"TON\",\"TTO\",\"TUN\",\"TUR\",\"TKM\",\"UGA\",\"UKR\",\"ARE\",\"GBR\",\"USA\",\"URY\",\"UZB\",\"VUT\",\"VEN\",\"VNM\",\"YEM\",\"ZMB\",\"ZWE\"],\"name\":\"\",\"z\":[52.3420657746403,64.25025564744698,78.54690261523568,115.70017294744268,208.43731125181301,75.35717928513579,22.48561385265468,495.20088432251447,180.9880053955546,67.72443115491342,301.25128480849673,540.0567940315768,35.410336872253694,166.34162979562768,146.27320110704756,212.2273414498914,107.51530222041703,92.68278966683695,779.0328482950251,62.445654880945526,85.1437779270731,181.28758297223172,112.46654026600477,320.2390930830432,285.65518554468025,94.24150137273796,102.4425543070794,54.16388164518292,165.24852919830775,100.56731471526024,549.9363016347115,76.84231502082869,78.82341461503329,296.3895087453048,225.0103918053777,94.90122625504323,62.418122453695865,100.32144269834382,89.09084707457939,82.42620264488703,78.88085670799752,176.40555515863565,117.90586158060997,139.93385514873373,291.73698238114406,235.8790223105394,97.09840048542587,144.13251710364167,89.0829433748202,110.95837752601108,58.97432954649298,94.34794881352889,122.27268855087051,137.2384817365691,341.870302207519,114.92347102943039,108.75597097228628,64.06099629637106,240.24989236035788,227.33383800119844,315.40185335106696,52.80314387193613,90.94882391900711,153.05324311809196,86.89346459333123,214.30436630420482,95.99099030196817,116.4938639433864,89.43775426369488,148.388396835348,123.0186788395319,76.22633292432093,107.11937440153737,195.00033590250257,386.5162817562185,66.2014203356553,120.01552055987808,110.87439095270562,141.42146117268933,270.9976064532653,181.13506984235778,202.73142548619649,152.76827845796845,119.90801121714777,66.3607565863628,300.71436710362786,108.79167079003736,26.820001209672387,267.29750868883724,101.04589485737563,610.6681961998671,173.0040371348267,82.54633213967841,183.7251829643492,123.57526150604743,98.05468316257156,120.71037773159857,333.7607878027521,146.1181466332619,474.1495462152819,69.90505430289436,56.11112678479472,203.33971178965547,57.52512120890533,52.00395322421374,338.15188354741883,75.9348378989098,96.48455256757273,180.12575773937456,124.232073242391,64.87373797659293,301.4029753388014,90.20546178960495,48.49619095175349,102.93631156034546,79.66146269747466,125.05222952217626,100.53269758056034,132.4594096338077,309.39334585988945,88.46520200983458,69.35651610731601,162.8854588693582,205.53522240470335,304.89935409793566,398.4827607542488,88.09692172281328,102.37428902002266,91.10217600168617,165.1314619555431,99.24627937522712,81.03735533312181,229.40610064875088,161.02183107153178,958.2449800213332,126.94072420395196,158.72817698764902,93.58429162692696,65.70251325057535,80.05543516991577,354.4203700884963,55.00423614292473,291.29041353380984,167.199113025259,103.57044092209514,285.689755055139,183.06905519318946,274.66307153834225,40.286586543648795,105.38887803836808,235.18759575030495,174.65065099475154,116.69797963282785,93.62953456627328,62.83859803512674,125.73756320208335,172.24973317832223,163.90074894342817,120.76082824345534,79.75473314690777,94.32525039972857,104.54193897660609,256.0278269204998,100.98613856905705,63.745042113869935,304.97279227335366,75.06489597847735,142.68660246488108,147.99500380701687,123.03792290494961,112.99934732165093,612.7215497188326,221.4545983317304,559.3613192032481,116.00560452014028,98.8495038238898,44.28607396481841,209.61282159099522,119.98458498047289,52.71608849157356,224.84532678920343,155.02051995487608],\"type\":\"choropleth\"}],\"name\":\"1997\"},{\"data\":[{\"coloraxis\":\"coloraxis\",\"geo\":\"geo\",\"hovertemplate\":\"Year=1998\\u003cbr\\u003eCode=%{location}\\u003cbr\\u003eTotal emission=%{z}\\u003cextra\\u003e\\u003c\\u002fextra\\u003e\",\"locations\":[\"AFG\",\"ALB\",\"DZA\",\"AGO\",\"ATG\",\"ARG\",\"ARM\",\"AUS\",\"AUT\",\"AZE\",\"BHS\",\"BHR\",\"BGD\",\"BRB\",\"BLR\",\"BEL\",\"BLZ\",\"BEN\",\"BTN\",\"BOL\",\"BIH\",\"BWA\",\"BRA\",\"BRN\",\"BGR\",\"BFA\",\"BDI\",\"CPV\",\"KHM\",\"CMR\",\"CAN\",\"CAF\",\"TCD\",\"CHL\",\"CHN\",\"COL\",\"COM\",\"COD\",\"COG\",\"CRI\",\"CIV\",\"HRV\",\"CUB\",\"CYP\",\"CZE\",\"DNK\",\"DJI\",\"DMA\",\"DOM\",\"ECU\",\"EGY\",\"SLV\",\"GNQ\",\"ERI\",\"EST\",\"SWZ\",\"ETH\",\"FJI\",\"FIN\",\"FRA\",\"GAB\",\"GMB\",\"GEO\",\"DEU\",\"GHA\",\"GRC\",\"GRD\",\"GTM\",\"GIN\",\"GNB\",\"GUY\",\"HTI\",\"HND\",\"HUN\",\"ISL\",\"IND\",\"IDN\",\"IRN\",\"IRQ\",\"IRL\",\"ISR\",\"ITA\",\"JAM\",\"JPN\",\"JOR\",\"KAZ\",\"KEN\",\"KIR\",\"PRK\",\"KOR\",\"KWT\",\"KGZ\",\"LAO\",\"LVA\",\"LBN\",\"LSO\",\"LBR\",\"LBY\",\"LTU\",\"LUX\",\"MDG\",\"MWI\",\"MYS\",\"MDV\",\"MLI\",\"MLT\",\"MHL\",\"MRT\",\"MUS\",\"MEX\",\"MDA\",\"MNG\",\"MNE\",\"MAR\",\"MOZ\",\"MMR\",\"NAM\",\"NPL\",\"NLD\",\"NZL\",\"NIC\",\"NER\",\"NGA\",\"MKD\",\"NOR\",\"OMN\",\"PAK\",\"PAN\",\"PNG\",\"PRY\",\"PER\",\"PHL\",\"POL\",\"PRT\",\"QAT\",\"ROU\",\"RUS\",\"RWA\",\"WSM\",\"STP\",\"SAU\",\"SEN\",\"SRB\",\"SYC\",\"SLE\",\"SGP\",\"SVK\",\"SVN\",\"SLB\",\"SOM\",\"ZAF\",\"ESP\",\"LKA\",\"LCA\",\"VCT\",\"SDN\",\"SUR\",\"SWE\",\"CHE\",\"SYR\",\"TJK\",\"TZA\",\"THA\",\"TGO\",\"TON\",\"TTO\",\"TUN\",\"TUR\",\"TKM\",\"UGA\",\"UKR\",\"ARE\",\"GBR\",\"USA\",\"URY\",\"UZB\",\"VUT\",\"VEN\",\"VNM\",\"YEM\",\"ZMB\",\"ZWE\"],\"name\":\"\",\"z\":[49.51947994111796,68.71768981918026,82.92512150431855,113.23602266751591,223.8576070140937,75.18025489457348,22.289360900598872,483.8396864945754,175.0535993869212,70.02997224819919,381.7298048500157,537.5846527619357,33.92118089236867,186.36305633112542,142.65290277088093,204.0957271620291,107.94346054620316,89.10619966879254,758.3664025642435,61.76764096161415,107.08672200714612,193.60226966970933,108.53767267769138,298.0074969292858,273.4489869787106,92.76354881388211,103.46734330688142,55.928544922111726,167.9574685867205,99.7531498730488,527.0750270608628,74.97854217474821,78.2498382635474,283.74582882469593,218.56195324231945,92.96005607712105,62.80509597679406,97.18326566438722,92.86787678201357,82.27690480816071,77.76640199561061,180.90036777368724,111.38252593694976,139.18718322398325,241.34429411096727,218.7126108480815,97.42923097949485,63.47535821044383,99.82911289236762,111.05948912029717,62.593913704489644,95.20181870082696,130.0573886465697,94.0468987487491,307.256264374284,113.68628701585236,108.9107382153284,61.139817610793884,237.75593367844522,222.32294970575362,308.2679403894327,52.11717161029782,83.70655682771756,142.7558754446145,87.5656690502603,218.3708254617388,94.30026372021447,121.74202312737893,86.49014281150944,149.30945423958158,140.05090716364765,76.49062058698323,108.79935184295046,182.04629442939563,394.53723288341047,65.42708224351482,118.12797562869878,110.59409584555306,117.67226174311274,278.8380176561722,172.60401812091774,188.9358562668776,156.28099995668632,116.13508591772151,68.02413786477481,306.351798650415,109.36101896934686,27.683465042424835,293.4674654330195,87.07394196532844,627.1825314466182,170.56506198364434,79.48998184893603,173.05125407725004,132.12726618510257,97.69367395304968,124.20767195462449,357.8687204384253,147.48263264260223,282.1992506710619,71.27026642485534,55.49074138830657,199.34241295387213,53.57603207241437,51.28613624300846,323.00435836142924,75.68184565890857,92.94993385989034,159.0100682424741,124.73214049078562,59.72418643517331,290.5979097188733,87.17346304359988,48.62789526298109,111.83179590945588,80.47128897231866,104.46076324222311,100.726235535153,126.51245953370837,308.6283709567497,89.59219365594798,69.35639371475582,167.55320455916694,187.34449386871245,297.2245482305622,390.44226569632986,87.45371323157167,110.722151545368,88.10087146316877,154.8936714724172,100.12685170844156,77.90214090114137,204.288846625062,163.8518353386096,999.0296708257639,115.09011276497128,154.79689435386217,82.55423638357087,65.51240015274331,80.18570251291278,360.2858746445993,55.91844096787107,268.9811810915933,169.371512822464,105.38698344829822,253.7306418572153,184.55813083571223,250.3926407011605,39.20646707261201,105.01307727541645,234.118456874713,169.6612808196321,117.20437855942916,96.94577243646296,73.34218112076884,122.08610133158587,175.76246975519265,155.5427387991423,116.39794227877042,80.85777659170678,94.26347893979947,106.8688176203404,226.84763579919644,104.87053735758603,64.21238636738396,295.3647979107471,79.51504780776408,137.90960992521795,173.49485920291,119.99473288956241,108.62847704135051,584.1824381294847,211.27879692392554,545.2689529968751,114.16055174438091,101.21831079788782,43.726524802373206,202.3223762100574,122.8624570908976,52.833504152809276,214.74913069266066,154.25871034075556],\"type\":\"choropleth\"}],\"name\":\"1998\"},{\"data\":[{\"coloraxis\":\"coloraxis\",\"geo\":\"geo\",\"hovertemplate\":\"Year=1999\\u003cbr\\u003eCode=%{location}\\u003cbr\\u003eTotal emission=%{z}\\u003cextra\\u003e\\u003c\\u002fextra\\u003e\",\"locations\":[\"AFG\",\"ALB\",\"DZA\",\"AGO\",\"ATG\",\"ARG\",\"ARM\",\"AUS\",\"AUT\",\"AZE\",\"BHS\",\"BHR\",\"BGD\",\"BRB\",\"BLR\",\"BEL\",\"BLZ\",\"BEN\",\"BTN\",\"BOL\",\"BIH\",\"BWA\",\"BRA\",\"BRN\",\"BGR\",\"BFA\",\"BDI\",\"CPV\",\"KHM\",\"CMR\",\"CAN\",\"CAF\",\"TCD\",\"CHL\",\"CHN\",\"COL\",\"COM\",\"COD\",\"COG\",\"CRI\",\"CIV\",\"HRV\",\"CUB\",\"CYP\",\"CZE\",\"DNK\",\"DJI\",\"DMA\",\"DOM\",\"ECU\",\"EGY\",\"SLV\",\"GNQ\",\"ERI\",\"EST\",\"SWZ\",\"ETH\",\"FJI\",\"FIN\",\"FRA\",\"GAB\",\"GMB\",\"GEO\",\"DEU\",\"GHA\",\"GRC\",\"GRD\",\"GTM\",\"GIN\",\"GNB\",\"GUY\",\"HTI\",\"HND\",\"HUN\",\"ISL\",\"IND\",\"IDN\",\"IRN\",\"IRQ\",\"IRL\",\"ISR\",\"ITA\",\"JAM\",\"JPN\",\"JOR\",\"KAZ\",\"KEN\",\"KIR\",\"PRK\",\"KOR\",\"KWT\",\"KGZ\",\"LAO\",\"LVA\",\"LBN\",\"LSO\",\"LBR\",\"LBY\",\"LTU\",\"LUX\",\"MDG\",\"MWI\",\"MYS\",\"MDV\",\"MLI\",\"MLT\",\"MHL\",\"MRT\",\"MUS\",\"MEX\",\"MDA\",\"MNG\",\"MNE\",\"MAR\",\"MOZ\",\"MMR\",\"NAM\",\"NPL\",\"NLD\",\"NZL\",\"NIC\",\"NER\",\"NGA\",\"MKD\",\"NOR\",\"OMN\",\"PAK\",\"PAN\",\"PNG\",\"PRY\",\"PER\",\"PHL\",\"POL\",\"PRT\",\"QAT\",\"ROU\",\"RUS\",\"RWA\",\"WSM\",\"STP\",\"SAU\",\"SEN\",\"SRB\",\"SYC\",\"SLE\",\"SGP\",\"SVK\",\"SVN\",\"SLB\",\"SOM\",\"ZAF\",\"ESP\",\"LKA\",\"LCA\",\"VCT\",\"SDN\",\"SUR\",\"SWE\",\"CHE\",\"SYR\",\"TJK\",\"TZA\",\"THA\",\"TGO\",\"TON\",\"TTO\",\"TUN\",\"TUR\",\"TKM\",\"UGA\",\"UKR\",\"ARE\",\"GBR\",\"USA\",\"URY\",\"UZB\",\"VUT\",\"VEN\",\"VNM\",\"YEM\",\"ZMB\",\"ZWE\"],\"name\":\"\",\"z\":[40.14260325447959,69.89663353253272,85.46086261600034,112.10537214367875,226.48014770870722,71.54155622729432,21.420653096675906,475.60088787910814,157.51548903673074,65.19271951395196,345.9661732219737,519.1577873852589,33.64246351321803,192.8546269379666,129.78397670309124,188.3266240117875,115.27083175724304,86.69524424760861,760.3894265082256,60.04680729208172,104.00689707679264,193.2583527918404,109.00669541475989,298.8021985837344,222.83387450210847,64.49084292847962,73.59398451347062,57.70572583790777,169.9256556494794,98.63903610975538,502.913740820043,60.59614990272662,78.6477691289888,280.81004227451393,215.34018639217393,86.39171254399835,63.62428312104801,95.02989286952395,92.9975206298773,80.21139088852458,78.4679406730286,182.00609360862492,111.78322827833397,137.80399625936508,206.78951486115133,199.7334923772957,98.86911189685344,142.61251345313954,104.30682873875905,98.0445842768693,63.71071323362925,95.44465696786537,137.07674929955138,95.69261809998639,281.27008136701187,116.54347133309459,108.65131945250995,66.67219317055745,232.81277973715478,210.3666895450428,293.4516276191524,52.18685195668737,80.9964887837752,132.88053553020544,86.88380739491524,215.10015965881965,95.70571188691035,128.03862752957764,121.41024629836113,154.25590941025257,149.59910254323876,74.3651328630156,87.76159418466126,180.9489469041849,400.34003280686125,65.32945620437857,118.36703351135505,113.30194699516427,98.01336484276162,253.79651399573766,175.11670785306123,177.53219748916644,157.25839288936157,117.12401176647109,67.69700381297844,288.04127380877253,109.66971747456014,26.89997095405679,231.3922218093831,88.65015172574398,610.044555798315,154.18703753821998,80.10141316352347,164.58541009721057,127.44942071356644,112.72549586058736,131.33870227639093,373.137727670934,128.32328208253813,282.503919089378,69.14578013666726,56.057173815186246,209.84993781027015,64.77173653789205,51.369646289332195,298.2814882681679,71.06857091010056,94.18505850869677,123.5048780404793,121.89312866641653,50.49856082546714,274.3750142768467,88.46214890734504,51.05466902735776,109.1406554486648,78.53067292042583,95.46864052058584,102.82216008497505,121.94514544821656,316.0344721650023,92.6145720130474,68.98109122136141,160.60798559195797,179.61005661941306,291.393955933251,419.53615577425916,87.77012901625895,107.05687305717966,86.38231718805682,139.16856675042254,100.30110989243046,73.41483290468258,199.1049485400658,161.68161756099238,973.9237126395075,102.74932182391987,157.85368610009635,81.95929265771474,65.85892280930136,81.53780349959632,345.612588697918,57.101548075072095,213.41356659944213,174.65705384902378,108.2126418470152,244.9252505921733,176.55173933751172,229.50281768694103,38.36810633338812,106.663874571657,221.07836164124745,164.87962926074374,121.62644435995293,96.84495080486468,73.66523225189776,121.17728636712572,167.69288829678652,145.39578424800354,112.21793132158201,75.88867343137888,91.75854773654946,109.97633451612664,216.28609057501495,111.81286251832465,65.75500666789766,294.5134041915197,84.19432078845068,130.56226844733933,188.055754584221,119.3898489091124,103.26518228852116,547.4690925997477,191.06561501692852,504.77925021502296,117.88515788334504,98.22788465612165,64.49436714202963,193.46365003034353,123.91569158515378,50.869289786408714,204.24446448278354,160.11088075424954],\"type\":\"choropleth\"}],\"name\":\"1999\"},{\"data\":[{\"coloraxis\":\"coloraxis\",\"geo\":\"geo\",\"hovertemplate\":\"Year=2000\\u003cbr\\u003eCode=%{location}\\u003cbr\\u003eTotal emission=%{z}\\u003cextra\\u003e\\u003c\\u002fextra\\u003e\",\"locations\":[\"AFG\",\"ALB\",\"DZA\",\"AGO\",\"ATG\",\"ARG\",\"ARM\",\"AUS\",\"AUT\",\"AZE\",\"BHS\",\"BHR\",\"BGD\",\"BRB\",\"BLR\",\"BEL\",\"BLZ\",\"BEN\",\"BTN\",\"BOL\",\"BIH\",\"BWA\",\"BRA\",\"BRN\",\"BGR\",\"BFA\",\"BDI\",\"CPV\",\"KHM\",\"CMR\",\"CAN\",\"CAF\",\"TCD\",\"CHL\",\"CHN\",\"COL\",\"COM\",\"COD\",\"COG\",\"CRI\",\"CIV\",\"HRV\",\"CUB\",\"CYP\",\"CZE\",\"DNK\",\"DJI\",\"DMA\",\"DOM\",\"ECU\",\"EGY\",\"SLV\",\"GNQ\",\"ERI\",\"EST\",\"SWZ\",\"ETH\",\"FJI\",\"FIN\",\"FRA\",\"GAB\",\"GMB\",\"GEO\",\"DEU\",\"GHA\",\"GRC\",\"GRD\",\"GTM\",\"GIN\",\"GNB\",\"GUY\",\"HTI\",\"HND\",\"HUN\",\"ISL\",\"IND\",\"IDN\",\"IRN\",\"IRQ\",\"IRL\",\"ISR\",\"ITA\",\"JAM\",\"JPN\",\"JOR\",\"KAZ\",\"KEN\",\"KIR\",\"PRK\",\"KOR\",\"KWT\",\"KGZ\",\"LAO\",\"LVA\",\"LBN\",\"LSO\",\"LBR\",\"LBY\",\"LTU\",\"LUX\",\"MDG\",\"MWI\",\"MYS\",\"MDV\",\"MLI\",\"MLT\",\"MHL\",\"MRT\",\"MUS\",\"MEX\",\"MDA\",\"MNG\",\"MNE\",\"MAR\",\"MOZ\",\"MMR\",\"NAM\",\"NPL\",\"NLD\",\"NZL\",\"NIC\",\"NER\",\"NGA\",\"MKD\",\"NOR\",\"OMN\",\"PAK\",\"PAN\",\"PNG\",\"PRY\",\"PER\",\"PHL\",\"POL\",\"PRT\",\"QAT\",\"ROU\",\"RUS\",\"RWA\",\"WSM\",\"STP\",\"SAU\",\"SEN\",\"SRB\",\"SYC\",\"SLE\",\"SGP\",\"SVK\",\"SVN\",\"SLB\",\"SOM\",\"ZAF\",\"ESP\",\"LKA\",\"LCA\",\"VCT\",\"SDN\",\"SUR\",\"SWE\",\"CHE\",\"SYR\",\"TJK\",\"TZA\",\"THA\",\"TGO\",\"TON\",\"TTO\",\"TUN\",\"TUR\",\"TKM\",\"UGA\",\"UKR\",\"ARE\",\"GBR\",\"USA\",\"URY\",\"UZB\",\"VUT\",\"VEN\",\"VNM\",\"YEM\",\"ZMB\",\"ZWE\"],\"name\":\"\",\"z\":[33.93160746802459,69.0046359581836,87.4704102008119,109.44411539697575,197.49222171648077,68.1338020802214,30.447511932371444,467.65842933221955,153.07190828859174,68.39744356782546,335.23672700309675,509.0902131171468,33.937893911329574,180.695939156216,119.79344924300648,185.6810736251676,108.25981865232599,71.92373401732694,613.9020210110978,52.33610477172016,142.91366288865143,188.55561596121055,107.84143277025494,295.45539207299686,224.5743859003213,66.43665414592871,76.9471106720923,68.77904903920708,160.3105159018264,98.482644291958,489.55888362440777,61.72926321555136,81.30711551722942,263.333985080385,216.53518835460483,85.05469244890634,66.98532951542988,91.71234507171151,83.7647281409447,79.74833882331089,78.13218139679269,174.4565903334197,112.3067356735269,129.85156316721262,204.0978796522264,188.34426970029304,83.01260591094562,145.08505072505386,102.4522790483326,93.79644783825535,63.5755065180056,62.97887290215111,141.56475475146863,95.71301299589604,266.7926416532748,121.27130694674446,108.33299721053157,70.75907606108956,219.6248229157671,194.4850681387236,272.32999910449706,59.626702223490426,78.46222208705093,123.67105061495771,81.55670523188722,207.44233813889718,88.894714128733,125.67108967993387,123.69985662677942,161.21404568879908,139.65982911820444,69.03730532103405,89.47332762035917,171.31795007546293,382.2359201650042,65.11590820468626,121.29060841569678,116.56752087155489,108.02193033879865,240.26553631975833,173.71624819526156,156.6559421720039,154.8654017533425,118.51502771142279,72.1265599386861,315.83788560663913,110.21373476253714,30.381434902128067,272.4011286979523,90.20155838638146,618.2518091576887,130.97754066634002,109.55656736855947,153.38279947625185,119.49865083541127,117.37585994517917,145.0996485464406,393.4908050574377,109.24038415378497,256.23349163419664,72.34347666864171,56.838591078934535,202.6342207900861,65.19511889848889,53.083865994850385,253.29499295029058,64.5565256438043,83.20816152571325,115.33222728969315,125.72403303564329,47.845194735724235,287.01236934902465,90.81692305149186,50.564024590258164,101.0845614935066,79.11851512063403,116.70764639571239,106.60958464331853,114.5269791937001,320.39811125800344,92.77201812004888,42.071630677055246,164.19309172879326,175.15596981844578,283.5124652218553,441.54957025502506,86.90513326143875,90.9539497704539,83.61986912206164,130.43678469026437,96.77280409210238,69.8908353325297,178.68813383250088,153.04294386591584,956.779543705314,106.01778980153742,157.86437942272832,58.32337692932196,67.76758841872356,83.86486004695561,347.7732107236781,53.36256944718034,232.52955718110903,263.21732383429264,111.91398549613474,231.6418975010967,176.7641400555234,220.24403132345364,36.94614103620413,113.20774495410073,207.8199928713289,157.72122779252072,128.54432017167687,112.62542701095524,62.56668714280413,118.17886358632619,133.73140514153337,135.66762829446753,105.92096243866791,73.04233912836193,92.67702487685281,113.42998279360867,208.19739602032908,109.86994944766897,60.597067151153894,216.15125568893416,89.47312643240097,126.90431286469489,188.51592047886984,122.82908005912176,103.33572450255711,567.3169902190832,176.0171913700271,493.9592743272951,101.26942970766349,97.65872123778925,64.88268191942564,191.55193048689662,125.51956403378323,51.839801357591035,193.6402667871486,157.47767992144412],\"type\":\"choropleth\"}],\"name\":\"2000\"},{\"data\":[{\"coloraxis\":\"coloraxis\",\"geo\":\"geo\",\"hovertemplate\":\"Year=2001\\u003cbr\\u003eCode=%{location}\\u003cbr\\u003eTotal emission=%{z}\\u003cextra\\u003e\\u003c\\u002fextra\\u003e\",\"locations\":[\"AFG\",\"ALB\",\"DZA\",\"AGO\",\"ATG\",\"ARG\",\"ARM\",\"AUS\",\"AUT\",\"AZE\",\"BHS\",\"BHR\",\"BGD\",\"BRB\",\"BLR\",\"BEL\",\"BLZ\",\"BEN\",\"BTN\",\"BOL\",\"BIH\",\"BWA\",\"BRA\",\"BRN\",\"BGR\",\"BFA\",\"BDI\",\"CPV\",\"KHM\",\"CMR\",\"CAN\",\"CAF\",\"TCD\",\"CHL\",\"CHN\",\"COL\",\"COM\",\"COD\",\"COG\",\"CRI\",\"CIV\",\"HRV\",\"CUB\",\"CYP\",\"CZE\",\"DNK\",\"DJI\",\"DMA\",\"DOM\",\"ECU\",\"EGY\",\"SLV\",\"GNQ\",\"ERI\",\"EST\",\"SWZ\",\"ETH\",\"FJI\",\"FIN\",\"FRA\",\"GAB\",\"GMB\",\"GEO\",\"DEU\",\"GHA\",\"GRC\",\"GRD\",\"GTM\",\"GIN\",\"GNB\",\"GUY\",\"HTI\",\"HND\",\"HUN\",\"ISL\",\"IND\",\"IDN\",\"IRN\",\"IRQ\",\"IRL\",\"ISR\",\"ITA\",\"JAM\",\"JPN\",\"JOR\",\"KAZ\",\"KEN\",\"KIR\",\"PRK\",\"KOR\",\"KWT\",\"KGZ\",\"LAO\",\"LVA\",\"LBN\",\"LSO\",\"LBR\",\"LBY\",\"LTU\",\"LUX\",\"MDG\",\"MWI\",\"MYS\",\"MDV\",\"MLI\",\"MLT\",\"MHL\",\"MRT\",\"MUS\",\"MEX\",\"MDA\",\"MNG\",\"MNE\",\"MAR\",\"MOZ\",\"MMR\",\"NAM\",\"NPL\",\"NLD\",\"NZL\",\"NIC\",\"NER\",\"NGA\",\"MKD\",\"NOR\",\"OMN\",\"PAK\",\"PAN\",\"PNG\",\"PRY\",\"PER\",\"PHL\",\"POL\",\"PRT\",\"QAT\",\"ROU\",\"RUS\",\"RWA\",\"WSM\",\"STP\",\"SAU\",\"SEN\",\"SRB\",\"SYC\",\"SLE\",\"SGP\",\"SVK\",\"SVN\",\"SLB\",\"SOM\",\"ZAF\",\"ESP\",\"LKA\",\"LCA\",\"VCT\",\"SDN\",\"SUR\",\"SWE\",\"CHE\",\"SYR\",\"TJK\",\"TZA\",\"THA\",\"TGO\",\"TON\",\"TTO\",\"TUN\",\"TUR\",\"TKM\",\"UGA\",\"UKR\",\"ARE\",\"GBR\",\"USA\",\"URY\",\"UZB\",\"VUT\",\"VEN\",\"VNM\",\"YEM\",\"ZMB\",\"ZWE\"],\"name\":\"\",\"z\":[30.918074745077845,68.8380779125886,83.72441730468044,107.27918841965892,189.10574927472413,65.96881224237205,29.89264091006386,430.10534100860247,150.10945416935198,54.77633281142124,325.3775050724015,481.45225361804626,34.36228930164896,173.97663717431192,118.74560768144468,176.04324055540377,106.17192426969022,73.08349163378072,597.7741246438275,50.354665087844324,140.80874724937638,189.3159314208463,105.19820695329932,290.09389178729185,209.07829827464664,72.85273879289421,101.80409947368379,76.71815927603058,154.15608611985996,97.96620208162393,461.4419499794042,60.67351232584044,80.43002121098391,246.74362180785872,212.63074725793138,77.11179833290305,67.46233728736723,88.66635896246729,83.13271743072339,80.07048787404494,77.51990046179243,174.84980735605427,110.70886691022672,124.45632788906522,198.05174530090966,183.87714402691807,82.09740032605063,141.28484021188328,104.21680980429258,92.17549155545396,62.65702408637072,65.44535774048482,168.3391035768903,97.51461109974136,275.76517694859575,124.64986498738665,108.92187524826903,74.5602606382652,223.26371863728815,185.55487004589338,268.6790734998247,59.20116228969893,77.94523152183417,118.87938324169693,76.46431950351797,208.68983556819234,89.10907193290006,123.80807989511071,122.02306048854703,160.6993015273334,139.12417479193672,70.12893812728552,89.49837912579429,164.6386258419078,363.3251232068161,63.90508257494695,123.45292085479909,120.19586212077596,113.55746543110634,233.3942965043843,173.35454191644664,148.6867030808736,150.5646378549835,116.09586634578329,71.40395567776353,332.23104378788065,110.04569520908127,29.359988817575044,275.3716688035869,90.59935650634439,630.7211713407903,126.31278180421022,112.3030867819362,166.72323857485762,117.66320433144467,117.70460604988848,146.40020758806838,396.95607034623447,109.19668101294852,265.6208498726006,70.29807971646397,55.99545366515046,206.05757485126296,241.57025423847213,52.36241479470527,238.2341850326185,65.63492050095289,84.02731146388396,111.24242418416316,120.83914267095227,47.52384792263404,296.1829334167635,91.38532752486464,50.80571266616838,90.7365759245145,79.95975815413493,138.10061760009478,107.68484467928138,110.94981260337352,324.93105733797194,90.98735930544105,41.84947867758341,169.7791333728876,153.6159049500647,281.2307469774031,443.1029538615455,86.98703323249147,95.68512455140521,84.18209239435619,131.03962417223056,97.3477279337863,67.71012274152585,171.05160677886124,143.250246547191,928.1123778072622,107.05991644666065,160.38980922968128,56.619433248501174,70.43617371373838,84.07874498290215,334.0612992003544,53.934771899533914,198.13189082917114,286.8159137705968,109.19371633412368,222.20158810559275,180.83614958317432,210.65495738080176,36.89483259581454,114.86606808193346,243.67758788134827,144.78379542414407,125.74641992033514,115.9932773629875,70.73085253392156,118.4355063204205,134.32088726108367,127.5236539957464,100.65130882311038,74.06076168511836,98.35528968603846,110.63953126541331,205.00935350204935,109.83385221370895,59.88890493161534,224.33607993507556,91.46036232950236,111.89803774265997,193.86456043853715,121.09371905363115,103.90666890658908,621.5266495272532,164.43844912673995,471.81338805835884,97.53300583105019,96.89442703524412,64.82370311649464,194.5145067415734,127.05631437045317,52.330596695358444,217.95615866642137,154.04739903357236],\"type\":\"choropleth\"}],\"name\":\"2001\"},{\"data\":[{\"coloraxis\":\"coloraxis\",\"geo\":\"geo\",\"hovertemplate\":\"Year=2002\\u003cbr\\u003eCode=%{location}\\u003cbr\\u003eTotal emission=%{z}\\u003cextra\\u003e\\u003c\\u002fextra\\u003e\",\"locations\":[\"AFG\",\"ALB\",\"DZA\",\"AGO\",\"ATG\",\"ARG\",\"ARM\",\"AUS\",\"AUT\",\"AZE\",\"BHS\",\"BHR\",\"BGD\",\"BRB\",\"BLR\",\"BEL\",\"BLZ\",\"BEN\",\"BTN\",\"BOL\",\"BIH\",\"BWA\",\"BRA\",\"BRN\",\"BGR\",\"BFA\",\"BDI\",\"CPV\",\"KHM\",\"CMR\",\"CAN\",\"CAF\",\"TCD\",\"CHL\",\"CHN\",\"COL\",\"COM\",\"COD\",\"COG\",\"CRI\",\"CIV\",\"HRV\",\"CUB\",\"CYP\",\"CZE\",\"DNK\",\"DJI\",\"DMA\",\"DOM\",\"ECU\",\"EGY\",\"SLV\",\"GNQ\",\"ERI\",\"EST\",\"SWZ\",\"ETH\",\"FJI\",\"FIN\",\"FRA\",\"GAB\",\"GMB\",\"GEO\",\"DEU\",\"GHA\",\"GRC\",\"GRD\",\"GTM\",\"GIN\",\"GNB\",\"GUY\",\"HTI\",\"HND\",\"HUN\",\"ISL\",\"IND\",\"IDN\",\"IRN\",\"IRQ\",\"IRL\",\"ISR\",\"ITA\",\"JAM\",\"JPN\",\"JOR\",\"KAZ\",\"KEN\",\"KIR\",\"PRK\",\"KOR\",\"KWT\",\"KGZ\",\"LAO\",\"LVA\",\"LBN\",\"LSO\",\"LBR\",\"LBY\",\"LTU\",\"LUX\",\"MDG\",\"MWI\",\"MYS\",\"MDV\",\"MLI\",\"MLT\",\"MHL\",\"MRT\",\"MUS\",\"MEX\",\"MDA\",\"MNG\",\"MNE\",\"MAR\",\"MOZ\",\"MMR\",\"NAM\",\"NPL\",\"NLD\",\"NZL\",\"NIC\",\"NER\",\"NGA\",\"MKD\",\"NOR\",\"OMN\",\"PAK\",\"PAN\",\"PNG\",\"PRY\",\"PER\",\"PHL\",\"POL\",\"PRT\",\"QAT\",\"ROU\",\"RUS\",\"RWA\",\"WSM\",\"STP\",\"SAU\",\"SEN\",\"SRB\",\"SYC\",\"SLE\",\"SGP\",\"SVK\",\"SVN\",\"SLB\",\"SOM\",\"ZAF\",\"ESP\",\"LKA\",\"LCA\",\"VCT\",\"SDN\",\"SUR\",\"SWE\",\"CHE\",\"SYR\",\"TJK\",\"TZA\",\"THA\",\"TGO\",\"TON\",\"TTO\",\"TUN\",\"TUR\",\"TKM\",\"UGA\",\"UKR\",\"ARE\",\"GBR\",\"USA\",\"URY\",\"UZB\",\"VUT\",\"VEN\",\"VNM\",\"YEM\",\"ZMB\",\"ZWE\"],\"name\":\"\",\"z\":[27.74030337019491,78.59043523292289,85.32312484003742,107.53448610761419,158.27285308129512,61.87863997501815,32.86446277131871,430.6904076554342,144.97440582769744,53.44101079913607,263.8175745173243,462.5203525830244,34.41682222824385,139.07384593947154,124.53742782458714,174.00753131900063,73.87003262468652,73.92172145877248,598.3325078812633,49.48672855215723,138.47208449143437,187.7402202925893,107.0627598064182,280.14397085200505,209.70067860032478,63.9134002814587,100.61460867380966,77.44255301376451,152.0656682170773,100.41661803484398,444.74917585507364,59.754437830604346,79.53439057401,229.0548750035784,211.22752483598873,77.2729183547252,67.90174029244274,85.33956545586426,81.230434145615,80.78524586526211,78.5826215522595,172.59777010413805,98.66479136715957,121.8124555050135,190.7899279546875,177.03406498334894,82.71625855822808,114.21062700287814,111.97927294920616,88.07979455950162,61.88952440023012,65.683302007871,177.89958018420862,96.04177165547924,261.58871693188826,123.99381547093938,109.21182057432536,67.95071075746665,216.2378616843678,177.9357904885355,296.65093994869267,58.5519956760175,78.48023785256558,112.40180633675035,72.59473735083817,202.4572847679082,75.9424901673196,123.51822718023553,120.64447953744633,160.21260230554677,138.9989783683701,70.38996703277874,91.03531947472062,140.7412978923884,368.96268788931667,63.62020811510356,125.0779289059123,120.42725016213173,106.39893286994875,215.53017054909438,180.53979802130902,134.5220435048931,157.02467995744277,113.2846286162658,73.76298505351946,338.7537211921059,110.27350851462793,34.3909386633068,265.53770891717136,88.69759005485936,625.1614967639168,126.4959164045124,114.92700776553608,162.77232640152923,111.78520322413655,118.29771334432606,148.7444564124588,398.6333605190588,110.35961368163908,252.14831770045384,72.09471187108328,55.50802771873941,214.48079940546236,298.8982061688864,52.164959709085586,230.62960242342206,63.57521113232767,84.7558114379653,102.2958645914358,117.28234143016795,51.82406559138898,299.14863283688135,91.77252869661609,50.83652449749392,94.54035574743439,82.04243460952753,131.68741236268738,108.03252544414748,106.5874622831025,333.3967404584019,90.93830949118353,41.536707828058496,163.43128199339455,148.1017007918287,267.7890640676098,438.89106673724916,88.27438864805478,86.89462054980521,83.385051177963,126.86245711738441,95.22598499064684,65.05319851625126,169.13900636677172,134.44765680281768,1257.4929253450007,109.47988011870507,157.82610587605038,56.02137760974765,71.04218353013202,85.17159996473309,320.8956490558058,53.796207084629756,212.7249244783114,245.65063972862896,105.76177900851552,213.03606987631557,158.25953904397173,192.04916401357715,36.2783411646365,114.8691700603978,242.94858686760975,144.56825113841967,127.92684677682581,92.0548333667938,60.95247370417311,118.66985074749577,109.95396690410277,121.69506209440986,93.30811024066293,76.09129713768492,103.5424135274621,108.3502125723805,211.97378308200334,111.24511477803384,63.136693361071266,211.33289921101652,92.38646996211526,107.14509010287718,200.77903971904587,119.5764387434038,108.28843721079022,610.5368355028219,148.43149072454005,415.0164296977977,92.33524557732318,95.36887766427861,63.508293213696376,179.9769163114799,130.9299263683858,50.62100337725241,215.20035103044216,152.29323991638148],\"type\":\"choropleth\"}],\"name\":\"2002\"},{\"data\":[{\"coloraxis\":\"coloraxis\",\"geo\":\"geo\",\"hovertemplate\":\"Year=2003\\u003cbr\\u003eCode=%{location}\\u003cbr\\u003eTotal emission=%{z}\\u003cextra\\u003e\\u003c\\u002fextra\\u003e\",\"locations\":[\"AFG\",\"ALB\",\"DZA\",\"AGO\",\"ATG\",\"ARG\",\"ARM\",\"AUS\",\"AUT\",\"AZE\",\"BHS\",\"BHR\",\"BGD\",\"BRB\",\"BLR\",\"BEL\",\"BLZ\",\"BEN\",\"BTN\",\"BOL\",\"BIH\",\"BWA\",\"BRA\",\"BRN\",\"BGR\",\"BFA\",\"BDI\",\"CPV\",\"KHM\",\"CMR\",\"CAN\",\"CAF\",\"TCD\",\"CHL\",\"CHN\",\"COL\",\"COM\",\"COD\",\"COG\",\"CRI\",\"CIV\",\"HRV\",\"CUB\",\"CYP\",\"CZE\",\"DNK\",\"DJI\",\"DMA\",\"DOM\",\"ECU\",\"EGY\",\"SLV\",\"GNQ\",\"ERI\",\"EST\",\"SWZ\",\"ETH\",\"FJI\",\"FIN\",\"FRA\",\"GAB\",\"GMB\",\"GEO\",\"DEU\",\"GHA\",\"GRC\",\"GRD\",\"GTM\",\"GIN\",\"GNB\",\"GUY\",\"HTI\",\"HND\",\"HUN\",\"ISL\",\"IND\",\"IDN\",\"IRN\",\"IRQ\",\"IRL\",\"ISR\",\"ITA\",\"JAM\",\"JPN\",\"JOR\",\"KAZ\",\"KEN\",\"KIR\",\"PRK\",\"KOR\",\"KWT\",\"KGZ\",\"LAO\",\"LVA\",\"LBN\",\"LSO\",\"LBR\",\"LBY\",\"LTU\",\"LUX\",\"MDG\",\"MWI\",\"MYS\",\"MDV\",\"MLI\",\"MLT\",\"MHL\",\"MRT\",\"MUS\",\"MEX\",\"MDA\",\"MNG\",\"MNE\",\"MAR\",\"MOZ\",\"MMR\",\"NAM\",\"NPL\",\"NLD\",\"NZL\",\"NIC\",\"NER\",\"NGA\",\"MKD\",\"NOR\",\"OMN\",\"PAK\",\"PAN\",\"PNG\",\"PRY\",\"PER\",\"PHL\",\"POL\",\"PRT\",\"QAT\",\"ROU\",\"RUS\",\"RWA\",\"WSM\",\"STP\",\"SAU\",\"SEN\",\"SRB\",\"SYC\",\"SLE\",\"SGP\",\"SVK\",\"SVN\",\"SLB\",\"SOM\",\"ZAF\",\"ESP\",\"LKA\",\"LCA\",\"VCT\",\"SDN\",\"SUR\",\"SWE\",\"CHE\",\"SYR\",\"TJK\",\"TZA\",\"THA\",\"TGO\",\"TON\",\"TTO\",\"TUN\",\"TUR\",\"TKM\",\"UGA\",\"UKR\",\"ARE\",\"GBR\",\"USA\",\"URY\",\"UZB\",\"VUT\",\"VEN\",\"VNM\",\"YEM\",\"ZMB\",\"ZWE\"],\"name\":\"\",\"z\":[28.344559011364066,72.51488349186214,85.50377510250772,105.19051458217069,183.0566886506936,64.30266099430926,35.265122120047764,404.69055892316817,145.4279870042479,58.870648158268665,205.73646600602308,443.4536426491059,34.25735373144869,146.9279786679498,122.14331866622284,167.5752938980254,75.1975044260926,74.87807677757824,596.5462667658427,49.385751625649874,136.94337208841804,185.94667636839986,112.43595724499073,284.4783661153773,224.73223796246774,64.81821431080392,98.93838438106894,63.54236614584491,147.45124038953145,100.51026831058996,425.32046416467597,58.7232373084378,79.69102499958395,218.33604182602875,221.53182194970503,75.83298997497076,69.18806346245184,82.04236671710848,82.41969783869429,84.54133662563854,77.27918669788706,179.83092604241438,92.50610633916999,121.93789754650685,192.71119176205448,179.12800412349407,83.49333316658792,126.8155639229672,99.59319242463295,84.05437513154767,62.09804611662768,65.8971079617429,222.2577663893841,94.82816857383756,274.95900986342946,121.3828677495742,108.87729629567636,72.318771658522,215.60580769589333,171.61307597221722,329.2986513156151,58.00989478766144,79.0837081222025,106.00160951506925,66.35024338685432,201.34455132516536,83.27237808759195,119.78550411934143,119.17678315539433,159.4437926291879,143.35621015026646,67.0169019036182,93.86003597643169,151.84798044375506,356.9393853986412,63.293544700136266,127.66061190043537,120.60622965204466,83.26783397094246,201.42927378587524,176.69149606110886,133.12084599424674,156.24821898423917,109.9953521038538,67.10088150047018,354.63189822428285,110.46566795215023,34.65534744188664,266.95787626135046,90.31785655448377,636.0206459859384,128.52211038407393,117.27539199231076,164.6850947680352,102.79238652804283,119.32474417196637,151.98324737460266,411.1303281335429,105.18292165086042,243.7838535084029,72.82273893129295,55.11108290783281,217.34616015445923,333.37545712841484,51.58921628231379,218.72711558223904,60.45856803726429,84.69839644288639,104.01147448840831,118.98313123017216,55.88447886518371,295.5584998067857,91.70201521558405,49.693552880909735,100.58682925441386,86.05410592748304,156.97649348071462,109.12435444828233,104.11586290350712,339.42695793603497,88.07070224057739,41.608633850264205,162.9071923090345,144.52434889302077,255.73787119196558,402.5033401699631,89.72632107334914,93.55475546018634,83.67036862783664,128.0160666737322,93.05799762138453,64.3665464604085,163.70096252882837,118.07133523941178,1245.1229153343857,117.67548779971156,157.64564615473896,55.288167699544275,71.8675954790291,86.01729608084302,328.06186844706883,52.38726757860172,213.77452615709103,249.5883922639253,102.11725964080466,203.85688459244696,162.86804246270594,189.0382868850693,35.80954612464403,117.75091183131184,241.95318622349578,133.74533970786948,129.52990399467083,102.16086080483399,67.06763243358012,113.95470901242439,114.8891092998758,119.02557968768157,90.08035943856663,74.07419259964306,101.44057116764581,105.97384457862618,221.71359364247172,113.00463359083219,68.4867270080029,211.69580767226128,91.70483255519177,101.98434517534292,220.8309236570833,117.82019138777345,119.79219805078327,591.4105949408557,139.55921329377722,393.93537507986724,93.49577463814077,98.7921421405565,63.71983539322172,172.4116064012213,132.1075395736873,51.09304787990519,187.53625973338828,149.50370557252143],\"type\":\"choropleth\"}],\"name\":\"2003\"},{\"data\":[{\"coloraxis\":\"coloraxis\",\"geo\":\"geo\",\"hovertemplate\":\"Year=2004\\u003cbr\\u003eCode=%{location}\\u003cbr\\u003eTotal emission=%{z}\\u003cextra\\u003e\\u003c\\u002fextra\\u003e\",\"locations\":[\"AFG\",\"ALB\",\"DZA\",\"AGO\",\"ATG\",\"ARG\",\"ARM\",\"AUS\",\"AUT\",\"AZE\",\"BHS\",\"BHR\",\"BGD\",\"BRB\",\"BLR\",\"BEL\",\"BLZ\",\"BEN\",\"BTN\",\"BOL\",\"BIH\",\"BWA\",\"BRA\",\"BRN\",\"BGR\",\"BFA\",\"BDI\",\"CPV\",\"KHM\",\"CMR\",\"CAN\",\"CAF\",\"TCD\",\"CHL\",\"CHN\",\"COL\",\"COM\",\"COD\",\"COG\",\"CRI\",\"CIV\",\"HRV\",\"CUB\",\"CYP\",\"CZE\",\"DNK\",\"DJI\",\"DMA\",\"DOM\",\"ECU\",\"EGY\",\"SLV\",\"GNQ\",\"ERI\",\"EST\",\"SWZ\",\"ETH\",\"FJI\",\"FIN\",\"FRA\",\"GAB\",\"GMB\",\"GEO\",\"DEU\",\"GHA\",\"GRC\",\"GRD\",\"GTM\",\"GIN\",\"GNB\",\"GUY\",\"HTI\",\"HND\",\"HUN\",\"ISL\",\"IND\",\"IDN\",\"IRN\",\"IRQ\",\"IRL\",\"ISR\",\"ITA\",\"JAM\",\"JPN\",\"JOR\",\"KAZ\",\"KEN\",\"KIR\",\"PRK\",\"KOR\",\"KWT\",\"KGZ\",\"LAO\",\"LVA\",\"LBN\",\"LSO\",\"LBR\",\"LBY\",\"LTU\",\"LUX\",\"MDG\",\"MWI\",\"MYS\",\"MDV\",\"MLI\",\"MLT\",\"MHL\",\"MRT\",\"MUS\",\"MEX\",\"MDA\",\"MNG\",\"MNE\",\"MAR\",\"MOZ\",\"MMR\",\"NAM\",\"NPL\",\"NLD\",\"NZL\",\"NIC\",\"NER\",\"NGA\",\"MKD\",\"NOR\",\"OMN\",\"PAK\",\"PAN\",\"PNG\",\"PRY\",\"PER\",\"PHL\",\"POL\",\"PRT\",\"QAT\",\"ROU\",\"RUS\",\"RWA\",\"WSM\",\"STP\",\"SAU\",\"SEN\",\"SRB\",\"SYC\",\"SLE\",\"SGP\",\"SVK\",\"SVN\",\"SLB\",\"SOM\",\"ZAF\",\"ESP\",\"LKA\",\"LCA\",\"VCT\",\"SDN\",\"SUR\",\"SWE\",\"CHE\",\"SYR\",\"TJK\",\"TZA\",\"THA\",\"TGO\",\"TON\",\"TTO\",\"TUN\",\"TUR\",\"TKM\",\"UGA\",\"UKR\",\"ARE\",\"GBR\",\"USA\",\"URY\",\"UZB\",\"VUT\",\"VEN\",\"VNM\",\"YEM\",\"ZMB\",\"ZWE\"],\"name\":\"\",\"z\":[27.978606557191412,77.43052456623671,87.75862683053428,105.93984698380358,192.98503794064928,68.44531054423504,35.67604532912101,391.04403221479186,140.5024524453479,55.42765685908627,230.8217338676802,418.24921885318196,34.491219714372875,152.11309046294005,127.51228846925831,161.2222341957504,72.35088407400978,74.9826412218626,593.9435068368776,51.677416162837105,143.38199274532607,169.21324074907943,115.98965582087297,275.3789354344203,213.5356573787784,73.58498217537544,97.74224395245281,64.51211014920601,141.9582431948524,100.40603037593249,402.66167732001736,57.891273865967996,81.66644219630527,208.28965391195524,232.8777853133499,74.18333996221831,70.2529776567743,78.59479855237193,84.72999588658836,95.2754487586846,98.29357195188958,172.78447707104027,89.91623628211174,112.55188726732175,189.29050923394794,171.12210605820349,82.9362567278769,131.93875293398878,99.38041105387698,83.77004966318997,66.68148532130145,70.06744928489456,371.301279170485,81.30653775291813,252.65490572823012,121.62744819670151,109.18050035489863,84.53052373266819,204.71259017492156,170.36057175440612,353.4141690580922,57.6972225025008,77.7732695412162,102.13359688139042,62.066304794262486,198.57293146660552,82.34585622011174,119.28248884176038,117.97876683207214,158.3000410356515,143.41895574445147,68.97868451876778,100.19298957442126,135.59322298302607,355.358562076734,63.81761617740346,131.65050265024612,122.54614962120866,89.46219293437925,193.21141813475396,165.0792080041122,119.29092897401796,152.17941717752015,105.18512926479912,61.523450838350435,363.69214223553803,111.85509373564184,34.98058991812064,268.7391170025902,90.61187314250319,648.6368297180812,127.8910827864517,119.90705196630007,164.36811152911773,97.81844496121792,121.19530554253868,155.40443754741835,436.5600510949442,106.57391843533236,263.25038299915957,73.23689887719466,54.72899724415165,226.60472781728714,416.3567213146354,51.20827653170368,151.01332325278867,56.19035400910493,85.11776720364094,102.61604107442815,117.57268856090342,54.29078022635811,307.87994100283174,90.78218979934883,58.97889302729179,101.47581553740952,87.36763438071328,198.64677076863,110.2846508155364,102.80627995257767,341.76303691743124,89.58030451440699,41.66836249752017,162.40288956533107,148.13976963104412,242.95452654777642,388.0835147332854,91.81414453570227,90.54707229803056,83.98208798999724,125.62305653437393,96.26865254043618,63.324082721605066,164.31311839316214,114.77310391658189,1118.0616492817262,123.08854252809607,155.3897432225363,54.98539536322922,71.03730259253038,87.36631025712744,329.18009031551117,52.91877999456617,228.68186055847414,338.77218829948475,99.19474855589564,212.80106027267857,162.75156598315797,176.61065191395946,34.511080475161336,117.38857799363747,251.59203799574595,129.57359855616812,133.20653032448863,102.87337710733178,73.0831137385727,109.68943625269091,126.75143581152933,111.89919910211019,85.62018030684915,68.55275475275306,106.68456523628386,104.51231857598256,235.8686392072756,113.6545895343729,65.01808441597318,222.6734153255155,94.96311566722812,98.52735426892299,213.7713324889798,116.14127459980774,112.30559500742926,547.3357203390873,129.1583782764209,370.2338993196769,101.26326145364291,87.57321262664632,59.24492688375375,187.54510940933264,137.5169195132441,49.36928180708204,188.3023038026804,147.57838293658057],\"type\":\"choropleth\"}],\"name\":\"2004\"},{\"data\":[{\"coloraxis\":\"coloraxis\",\"geo\":\"geo\",\"hovertemplate\":\"Year=2005\\u003cbr\\u003eCode=%{location}\\u003cbr\\u003eTotal emission=%{z}\\u003cextra\\u003e\\u003c\\u002fextra\\u003e\",\"locations\":[\"AFG\",\"ALB\",\"DZA\",\"AGO\",\"ATG\",\"ARG\",\"ARM\",\"AUS\",\"AUT\",\"AZE\",\"BHS\",\"BHR\",\"BGD\",\"BRB\",\"BLR\",\"BEL\",\"BLZ\",\"BEN\",\"BTN\",\"BOL\",\"BIH\",\"BWA\",\"BRA\",\"BRN\",\"BGR\",\"BFA\",\"BDI\",\"CPV\",\"KHM\",\"CMR\",\"CAN\",\"CAF\",\"TCD\",\"CHL\",\"CHN\",\"COL\",\"COM\",\"COD\",\"COG\",\"CRI\",\"CIV\",\"HRV\",\"CUB\",\"CYP\",\"CZE\",\"DNK\",\"DJI\",\"DMA\",\"DOM\",\"ECU\",\"EGY\",\"SLV\",\"GNQ\",\"ERI\",\"EST\",\"SWZ\",\"ETH\",\"FJI\",\"FIN\",\"FRA\",\"GAB\",\"GMB\",\"GEO\",\"DEU\",\"GHA\",\"GRC\",\"GRD\",\"GTM\",\"GIN\",\"GNB\",\"GUY\",\"HTI\",\"HND\",\"HUN\",\"ISL\",\"IND\",\"IDN\",\"IRN\",\"IRQ\",\"IRL\",\"ISR\",\"ITA\",\"JAM\",\"JPN\",\"JOR\",\"KAZ\",\"KEN\",\"KIR\",\"PRK\",\"KOR\",\"KWT\",\"KGZ\",\"LAO\",\"LVA\",\"LBN\",\"LSO\",\"LBR\",\"LBY\",\"LTU\",\"LUX\",\"MDG\",\"MWI\",\"MYS\",\"MDV\",\"MLI\",\"MLT\",\"MHL\",\"MRT\",\"MUS\",\"MEX\",\"MDA\",\"MNG\",\"MNE\",\"MAR\",\"MOZ\",\"MMR\",\"NAM\",\"NPL\",\"NLD\",\"NZL\",\"NIC\",\"NER\",\"NGA\",\"MKD\",\"NOR\",\"OMN\",\"PAK\",\"PAN\",\"PNG\",\"PRY\",\"PER\",\"PHL\",\"POL\",\"PRT\",\"QAT\",\"ROU\",\"RUS\",\"RWA\",\"WSM\",\"STP\",\"SAU\",\"SEN\",\"SRB\",\"SYC\",\"SLE\",\"SGP\",\"SVK\",\"SVN\",\"SLB\",\"SOM\",\"ZAF\",\"ESP\",\"LKA\",\"LCA\",\"VCT\",\"SDN\",\"SUR\",\"SWE\",\"CHE\",\"SYR\",\"TJK\",\"TZA\",\"THA\",\"TGO\",\"TON\",\"TTO\",\"TUN\",\"TUR\",\"TKM\",\"UGA\",\"UKR\",\"ARE\",\"GBR\",\"USA\",\"URY\",\"UZB\",\"VUT\",\"VEN\",\"VNM\",\"YEM\",\"ZMB\",\"ZWE\"],\"name\":\"\",\"z\":[28.87509713877339,74.57766037176982,87.54307453660853,104.1924293550933,191.79757472534214,70.01027654614151,38.36708037080854,365.5828476866652,137.8379810032513,60.52106933512873,217.39665461015394,445.16911867776923,34.98391026810023,161.5855744907228,131.729783664281,150.17591391115835,72.31401173361522,76.14446846587259,599.6041606254596,51.52524183015598,148.05452859257258,175.37048110198666,113.33425761212219,269.74621351139643,211.89294823117254,85.73038542147067,96.06552445924987,73.15801758841721,142.38708475642252,100.20048727232944,375.47126527113636,57.22483088524067,81.699554019642,195.94580824819263,242.01637882367376,71.70959431995935,71.89844235130235,75.17507717268072,88.16557307588796,96.11309071842692,100.08358047508095,171.83732797852508,83.3497001043015,104.39045182170793,178.7228954220536,167.29999001740404,82.97109034872467,127.3079831418493,101.33473958139248,78.13564528813315,68.84393857234157,71.52250772167055,253.22782618556838,80.144536677399,229.31346208780056,124.14610136631931,109.25047092321199,79.22397188913395,189.05154938072045,159.21297439411813,376.33000275430777,57.718178373185665,62.59993906421806,98.08105582454549,59.12766645448502,195.23996098591522,84.58872868594797,118.18579006404862,117.14116735994773,156.5996715070673,131.22720719199424,131.0289879664454,99.68562067090896,117.17551408660499,339.24239200765663,64.27030279601267,138.04159694218208,126.49808986500983,78.90538789353832,190.08260507308566,155.36116900189032,117.34577985893405,146.7287527422415,101.06257107526628,58.022881313159786,376.1157605890898,112.49615413231902,38.96579644733279,276.9991872128403,84.95385295717438,688.0502415207839,129.33447067369156,121.13187853418727,158.88313542216162,90.2550083819933,129.7513797809143,159.01977958532262,463.0476123087345,109.76442513050303,253.20391537929046,74.68725705856727,54.671411391394486,227.6408491024211,369.0529344071487,50.85580045455698,156.34610621195833,51.10807611567555,86.14727547240687,100.01778019855828,115.93471294045821,53.97449675583798,325.54775500866043,169.6898288186943,58.071563088264895,100.91125984895523,85.18403624079171,211.92124545998598,111.17460156538289,101.49474916096136,334.72313128038894,86.44827362839213,41.55170748330926,166.11908005685174,117.98726547404158,230.98697265649082,356.63282049464584,92.28968149068362,95.8378723668758,81.55518876879302,122.7040153527689,92.2380024219353,61.66810720956835,165.79199218036104,107.95934784492157,896.3527889477432,126.95451682330203,150.78819443142837,53.764980546287624,70.79267038341484,88.51979501117661,324.2044675252957,51.81929611917495,213.44575574110684,311.04587342199915,97.32873654001753,220.73207178459558,170.9007574997576,176.42323394355537,33.32844887831494,118.91866410040984,244.205862933926,122.43841486371375,136.72777256245948,103.37134331189533,73.1894362605189,106.06509985487332,140.7600338763154,109.53997310171512,82.54783891334208,75.27699837962449,103.3953324051109,102.3959220625472,235.4349600677594,114.63590454840296,65.6998477776126,249.69797007640554,96.48965787391444,101.89932141758472,210.68783858987607,114.9790603326725,109.25727347428587,490.3322663775207,121.13729401363277,357.3702019019243,100.59830835844268,84.08713260977568,57.9426808038914,192.5358110053148,138.3837998414484,47.745152326687155,167.0153150486828,149.04787823228844],\"type\":\"choropleth\"}],\"name\":\"2005\"},{\"data\":[{\"coloraxis\":\"coloraxis\",\"geo\":\"geo\",\"hovertemplate\":\"Year=2006\\u003cbr\\u003eCode=%{location}\\u003cbr\\u003eTotal emission=%{z}\\u003cextra\\u003e\\u003c\\u002fextra\\u003e\",\"locations\":[\"AFG\",\"ALB\",\"DZA\",\"AGO\",\"ATG\",\"ARG\",\"ARM\",\"AUS\",\"AUT\",\"AZE\",\"BHS\",\"BHR\",\"BGD\",\"BRB\",\"BLR\",\"BEL\",\"BLZ\",\"BEN\",\"BTN\",\"BOL\",\"BIH\",\"BWA\",\"BRA\",\"BRN\",\"BGR\",\"BFA\",\"BDI\",\"CPV\",\"KHM\",\"CMR\",\"CAN\",\"CAF\",\"TCD\",\"CHL\",\"CHN\",\"COL\",\"COM\",\"COD\",\"COG\",\"CRI\",\"CIV\",\"HRV\",\"CUB\",\"CYP\",\"CZE\",\"DNK\",\"DJI\",\"DMA\",\"DOM\",\"ECU\",\"EGY\",\"SLV\",\"GNQ\",\"ERI\",\"EST\",\"SWZ\",\"ETH\",\"FJI\",\"FIN\",\"FRA\",\"GAB\",\"GMB\",\"GEO\",\"DEU\",\"GHA\",\"GRC\",\"GRD\",\"GTM\",\"GIN\",\"GNB\",\"GUY\",\"HTI\",\"HND\",\"HUN\",\"ISL\",\"IND\",\"IDN\",\"IRN\",\"IRQ\",\"IRL\",\"ISR\",\"ITA\",\"JAM\",\"JPN\",\"JOR\",\"KAZ\",\"KEN\",\"KIR\",\"PRK\",\"KOR\",\"KWT\",\"KGZ\",\"LAO\",\"LVA\",\"LBN\",\"LSO\",\"LBR\",\"LBY\",\"LTU\",\"LUX\",\"MDG\",\"MWI\",\"MYS\",\"MDV\",\"MLI\",\"MLT\",\"MHL\",\"MRT\",\"MUS\",\"MEX\",\"MDA\",\"MNG\",\"MNE\",\"MAR\",\"MOZ\",\"MMR\",\"NAM\",\"NPL\",\"NLD\",\"NZL\",\"NIC\",\"NER\",\"NGA\",\"MKD\",\"NOR\",\"OMN\",\"PAK\",\"PAN\",\"PNG\",\"PRY\",\"PER\",\"PHL\",\"POL\",\"PRT\",\"QAT\",\"ROU\",\"RUS\",\"RWA\",\"WSM\",\"STP\",\"SAU\",\"SEN\",\"SRB\",\"SYC\",\"SLE\",\"SGP\",\"SVK\",\"SVN\",\"SLB\",\"SOM\",\"ZAF\",\"ESP\",\"LKA\",\"LCA\",\"VCT\",\"SDN\",\"SUR\",\"SWE\",\"CHE\",\"SYR\",\"TJK\",\"TZA\",\"THA\",\"TGO\",\"TON\",\"TTO\",\"TUN\",\"TUR\",\"TKM\",\"UGA\",\"UKR\",\"ARE\",\"GBR\",\"USA\",\"URY\",\"UZB\",\"VUT\",\"VEN\",\"VNM\",\"YEM\",\"ZMB\",\"ZWE\"],\"name\":\"\",\"z\":[29.673856103395412,72.93151258777223,80.80814762889642,104.96700504880891,175.33039861433545,70.14437380029534,37.64536618410462,351.88425014131866,136.53854049292983,61.11422954664655,212.96909388187888,435.06111461804767,35.46927056032683,145.27013049730246,146.14619543059374,139.8061086325903,79.1054622986383,81.11254634200722,592.4979521759633,51.63782888007658,155.0385684586915,170.7321742701704,111.98620817098585,291.2069110335086,211.8159190961426,86.99851495128848,95.03301613899016,74.29516848903384,141.26930311375622,87.93985416991107,342.1442338246696,56.669472852446134,80.67537024520318,187.89078054583618,245.7134121523699,66.67058896948366,72.22927517260645,75.37859866011259,109.24102446343142,97.56529327944047,101.34969722071803,167.32784687365972,79.97652910228067,93.89546625704085,175.7345020781031,163.67028024347505,82.09120975932682,120.75626962018156,97.93509411211099,74.3927017712867,66.90412317154707,70.44241420903612,255.53895226999245,78.58202569730366,215.39498823145064,125.67449029622851,109.33633634923,79.52247474845085,188.67636455265855,145.65313219151906,391.7314404343035,57.52618381408091,63.56927205221594,97.88787738622048,58.84917562426117,190.03177967293635,80.59862556107232,115.05813704796596,116.14823605884548,156.0222826824702,116.92601270461435,131.60761237417447,95.95701351977613,105.9800897991038,345.54126133213947,64.78583007202441,145.01144095536534,126.78919110489498,72.13693671742374,177.8470651262603,144.91376616527498,112.99537358803738,143.2566611615495,98.08276862671484,51.88387968702537,400.6832725114391,112.81474674263215,39.401714149433445,256.0804105980395,85.68932069281055,638.110430253211,130.07372761766058,120.43781005851105,157.0451024789968,81.10794128392797,131.74593060390293,164.05161144787758,425.7764019669529,113.67496110748037,229.87921531746352,81.13384454427,54.29524951210907,231.10326826301284,528.9213949561358,50.44209050138532,151.55143801750765,51.798650725339364,88.26274964603687,102.80325179336076,113.80523914836752,55.68552877596052,358.6137507933233,176.26653859599202,55.6598581455943,96.55608225004518,85.82297855725182,198.93975043080337,112.41745763453768,101.02424782521533,328.6865178272714,83.83025059292538,41.234348932135106,162.41078896488654,115.4613116665883,218.76259534827236,349.1864831960222,93.92822235434626,92.68758551107332,79.68666497665451,143.56063538427273,90.59288953804662,60.09761517055525,176.08702608122593,99.02288076509596,889.5350110637318,124.86569273220044,152.58769961087006,53.155773825524804,69.78885802981048,88.29304500838069,307.43765467903705,55.2417411011584,208.60062572445864,327.97068321513,96.54180665497044,203.03647641129513,159.82715139285776,151.322242569018,32.24280948203826,121.09366405593508,242.1996888024674,114.15611384101821,137.22362176388145,95.7202369377377,67.27314618380707,107.36630964047775,122.69978460107463,104.25983998687299,78.14961707305277,75.41573591164986,108.9832719328771,101.51562000970804,235.43441602068032,113.0995075378977,66.90260604094154,251.37978919989163,93.34939096464403,101.55970402059083,189.2505015998598,113.68752040277934,118.33136710080703,430.93113343071377,115.03359348935574,334.4495870419052,105.04727084041895,84.25586684662068,56.002534151233846,168.1616840086891,140.19750070730018,44.97706228635196,176.85327309764457,151.3213657926282],\"type\":\"choropleth\"}],\"name\":\"2006\"},{\"data\":[{\"coloraxis\":\"coloraxis\",\"geo\":\"geo\",\"hovertemplate\":\"Year=2007\\u003cbr\\u003eCode=%{location}\\u003cbr\\u003eTotal emission=%{z}\\u003cextra\\u003e\\u003c\\u002fextra\\u003e\",\"locations\":[\"AFG\",\"ALB\",\"DZA\",\"AGO\",\"ATG\",\"ARG\",\"ARM\",\"AUS\",\"AUT\",\"AZE\",\"BHS\",\"BHR\",\"BGD\",\"BRB\",\"BLR\",\"BEL\",\"BLZ\",\"BEN\",\"BTN\",\"BOL\",\"BIH\",\"BWA\",\"BRA\",\"BRN\",\"BGR\",\"BFA\",\"BDI\",\"CPV\",\"KHM\",\"CMR\",\"CAN\",\"CAF\",\"TCD\",\"CHL\",\"CHN\",\"COL\",\"COM\",\"COD\",\"COG\",\"CRI\",\"CIV\",\"HRV\",\"CUB\",\"CYP\",\"CZE\",\"DNK\",\"DJI\",\"DMA\",\"DOM\",\"ECU\",\"EGY\",\"SLV\",\"GNQ\",\"ERI\",\"EST\",\"SWZ\",\"ETH\",\"FJI\",\"FIN\",\"FRA\",\"GAB\",\"GMB\",\"GEO\",\"DEU\",\"GHA\",\"GRC\",\"GRD\",\"GTM\",\"GIN\",\"GNB\",\"GUY\",\"HTI\",\"HND\",\"HUN\",\"ISL\",\"IND\",\"IDN\",\"IRN\",\"IRQ\",\"IRL\",\"ISR\",\"ITA\",\"JAM\",\"JPN\",\"JOR\",\"KAZ\",\"KEN\",\"KIR\",\"PRK\",\"KOR\",\"KWT\",\"KGZ\",\"LAO\",\"LVA\",\"LBN\",\"LSO\",\"LBR\",\"LBY\",\"LTU\",\"LUX\",\"MDG\",\"MWI\",\"MYS\",\"MDV\",\"MLI\",\"MLT\",\"MHL\",\"MRT\",\"MUS\",\"MEX\",\"MDA\",\"MNG\",\"MNE\",\"MAR\",\"MOZ\",\"MMR\",\"NAM\",\"NPL\",\"NLD\",\"NZL\",\"NIC\",\"NER\",\"NGA\",\"MKD\",\"NOR\",\"OMN\",\"PAK\",\"PAN\",\"PNG\",\"PRY\",\"PER\",\"PHL\",\"POL\",\"PRT\",\"QAT\",\"ROU\",\"RUS\",\"RWA\",\"WSM\",\"STP\",\"SAU\",\"SEN\",\"SRB\",\"SYC\",\"SLE\",\"SGP\",\"SVK\",\"SVN\",\"SLB\",\"SOM\",\"ZAF\",\"ESP\",\"LKA\",\"LCA\",\"VCT\",\"SDN\",\"SUR\",\"SWE\",\"CHE\",\"SYR\",\"TJK\",\"TZA\",\"THA\",\"TGO\",\"TON\",\"TTO\",\"TUN\",\"TUR\",\"TKM\",\"UGA\",\"UKR\",\"ARE\",\"GBR\",\"USA\",\"URY\",\"UZB\",\"VUT\",\"VEN\",\"VNM\",\"YEM\",\"ZMB\",\"ZWE\"],\"name\":\"\",\"z\":[32.96295206116956,65.57509482268956,82.36143094565125,106.93421267069127,175.45994778996976,74.24826526463428,38.364083423071136,341.2874318692504,131.75112166410483,60.11870424061622,226.277176463963,387.8048106270857,35.689236764664074,137.30835834230356,141.08142336857006,123.80657233876357,73.03990716495278,82.61225981523144,593.8484249694678,54.29245287855056,155.74220779496895,166.2584529973729,114.02151721699822,273.9042972010721,220.12455982753855,88.94902596621209,94.62378887168423,76.29779733086349,140.5235138080062,75.85717913910746,333.01289867972685,68.47233196204868,80.17707759753537,181.36887302297404,241.9103612227167,65.65855054502867,71.7696615753873,75.45264827880905,88.69178518512976,98.93841189312697,101.82271410029514,164.78606930927145,79.78596299995681,86.95184766943716,173.93461272486536,160.57027385461487,82.69314682084944,127.1440974786355,96.91992767640508,73.32028165942333,67.00971562501063,64.29523638960268,219.7189626950408,79.00916755213353,246.8386554584241,128.84953081181447,109.4383314383898,68.90091797318792,182.28952582099262,138.4720767899076,413.66351017774986,57.34494514125699,68.67182550558812,96.04027277391059,57.97432653778231,183.90852958594365,81.8140903412872,117.53264049455454,115.38401058943943,156.21032975970266,129.59980535155947,133.9543254956543,103.04257017784938,99.57128162111742,396.4986686608937,66.06787424365717,156.56358569341452,122.5462848423615,61.99488066603112,164.5080610746857,141.05741641481316,111.53794478313971,137.88870298570168,95.10229560706559,48.27251170211405,405.3973897378694,114.15496273284413,35.43158931697867,230.94122219511547,82.86615749628244,576.1004592616908,134.54168855819609,119.10358420292326,156.0841290718417,74.25384056615171,137.58039560687334,160.3825496958183,373.8095291095733,111.74706962597648,215.0819144029184,80.32939893061118,54.20109103670073,239.0925120423108,519.0172277269079,50.46823745057674,149.0766052753218,49.78578269790013,87.695161212259,101.40275824237877,114.0572861339412,53.890415179912225,384.7064992944769,166.9070730911305,53.650807720899905,71.88012102070581,87.9226316428522,206.1431623203227,113.31141748413471,99.29907698812139,329.0816009280743,84.11587995109173,41.23514323989427,164.9537146230384,120.01839460721422,213.3660015293621,332.8989640811725,95.65179977451031,87.28501816181316,77.77243151736194,163.02719729689136,80.32038807538278,60.347028205720086,166.91049318268148,95.50049312508324,909.0056621039795,118.53542458639288,152.13268685881937,52.454293518797186,67.72076829482658,87.21836969332531,287.0012235653404,59.69832317396648,215.16925152463995,268.3718796232051,95.41630166656287,205.54292650109545,154.84257194273383,149.6507936091079,29.949609921728317,117.7788500685146,248.80604666647488,112.37963021617955,138.93102061461005,95.22736666288873,66.99843901472566,100.64737632816131,112.20793214145283,102.44943502973078,74.40308607322598,73.64826538588349,121.04241794040557,99.82773251195252,244.09773224520168,113.33017560252681,60.88810695937845,237.50823760308947,93.77618803255905,105.11221313064291,201.43718680834908,113.52455774603139,125.33616768067412,349.7891327831919,109.57976811857671,312.7369574627107,103.39620400576393,83.39536228971268,60.51817133848509,159.20039761285483,142.40586825099643,42.21269817030553,167.18150160945913,153.10957209094508],\"type\":\"choropleth\"}],\"name\":\"2007\"},{\"data\":[{\"coloraxis\":\"coloraxis\",\"geo\":\"geo\",\"hovertemplate\":\"Year=2008\\u003cbr\\u003eCode=%{location}\\u003cbr\\u003eTotal emission=%{z}\\u003cextra\\u003e\\u003c\\u002fextra\\u003e\",\"locations\":[\"AFG\",\"ALB\",\"DZA\",\"AGO\",\"ATG\",\"ARG\",\"ARM\",\"AUS\",\"AUT\",\"AZE\",\"BHS\",\"BHR\",\"BGD\",\"BRB\",\"BLR\",\"BEL\",\"BLZ\",\"BEN\",\"BTN\",\"BOL\",\"BIH\",\"BWA\",\"BRA\",\"BRN\",\"BGR\",\"BFA\",\"BDI\",\"CPV\",\"KHM\",\"CMR\",\"CAN\",\"CAF\",\"TCD\",\"CHL\",\"CHN\",\"COL\",\"COM\",\"COD\",\"COG\",\"CRI\",\"CIV\",\"HRV\",\"CUB\",\"CYP\",\"CZE\",\"DNK\",\"DJI\",\"DMA\",\"DOM\",\"ECU\",\"EGY\",\"SLV\",\"GNQ\",\"ERI\",\"EST\",\"SWZ\",\"ETH\",\"FJI\",\"FIN\",\"FRA\",\"GAB\",\"GMB\",\"GEO\",\"DEU\",\"GHA\",\"GRC\",\"GRD\",\"GTM\",\"GIN\",\"GNB\",\"GUY\",\"HTI\",\"HND\",\"HUN\",\"ISL\",\"IND\",\"IDN\",\"IRN\",\"IRQ\",\"IRL\",\"ISR\",\"ITA\",\"JAM\",\"JPN\",\"JOR\",\"KAZ\",\"KEN\",\"KIR\",\"PRK\",\"KOR\",\"KWT\",\"KGZ\",\"LAO\",\"LVA\",\"LBN\",\"LSO\",\"LBR\",\"LBY\",\"LTU\",\"LUX\",\"MDG\",\"MWI\",\"MYS\",\"MDV\",\"MLI\",\"MLT\",\"MHL\",\"MRT\",\"MUS\",\"MEX\",\"MDA\",\"MNG\",\"MNE\",\"MAR\",\"MOZ\",\"MMR\",\"NAM\",\"NPL\",\"NLD\",\"NZL\",\"NIC\",\"NER\",\"NGA\",\"MKD\",\"NOR\",\"OMN\",\"PAK\",\"PAN\",\"PNG\",\"PRY\",\"PER\",\"PHL\",\"POL\",\"PRT\",\"QAT\",\"ROU\",\"RUS\",\"RWA\",\"WSM\",\"STP\",\"SAU\",\"SEN\",\"SRB\",\"SYC\",\"SLE\",\"SGP\",\"SVK\",\"SVN\",\"SLB\",\"SOM\",\"ZAF\",\"ESP\",\"LKA\",\"LCA\",\"VCT\",\"SDN\",\"SUR\",\"SWE\",\"CHE\",\"SYR\",\"TJK\",\"TZA\",\"THA\",\"TGO\",\"TON\",\"TTO\",\"TUN\",\"TUR\",\"TKM\",\"UGA\",\"UKR\",\"ARE\",\"GBR\",\"USA\",\"URY\",\"UZB\",\"VUT\",\"VEN\",\"VNM\",\"YEM\",\"ZMB\",\"ZWE\"],\"name\":\"\",\"z\":[34.449678987396275,58.71743312724739,81.95399593925912,108.84415159289652,177.31283172710988,73.36288904535311,39.48468072490952,330.44202247614027,126.37075268677651,59.73378118082023,208.4639904620855,351.11596886351737,36.570418046209305,156.65205811120714,154.76765202716,117.19608495745041,69.62717296291348,82.17907682500508,619.519852504344,55.94077320121044,159.809042501194,170.44060138679575,113.64145118884899,283.1979347479449,177.9227638854058,91.50863743194647,93.19120566047532,75.1198031785909,139.97081026033587,75.16084899618579,312.75646298124246,68.25771635287032,79.43253063328154,170.17581617425347,231.44830314308254,64.98033949855355,71.95694651331576,75.52073891271311,91.83378476205576,95.49730885870326,100.04812918207067,150.39156055924937,76.27811133445124,75.09843247226468,160.70293667461337,149.38759481223767,84.72502027296848,124.23094643285752,91.52681407157378,71.42726345045133,71.32424365092108,61.67907587441395,210.42867489893592,78.66789213325546,227.47093351980791,129.34011362499942,109.72992208341346,55.744108942806676,165.86233331997087,131.58464253754224,430.90746506512835,57.01332682170268,64.89521742395442,94.68310602531622,51.288905897068915,167.96223063681816,85.74154054771657,115.44120904567257,114.692807177728,155.49019984297854,124.26581465071095,134.7957194570511,101.24195362585056,91.18744793383027,505.49096000806514,67.34212716683174,162.74100497880488,118.9076170243943,69.71483476248957,154.94267021327778,132.4938345829685,109.98194246081769,120.73981942401458,86.76240533955942,41.955358364658586,405.876081663902,114.58501244258235,36.978951812962606,239.62500642735858,77.53133052998704,534.5532145034148,148.18125761934306,118.63811600530545,146.00728128407283,81.94475434026738,139.35320907701515,159.82230410825252,415.76062876356633,116.01178338900473,194.90949902793412,79.55776831244191,54.12350846342737,245.19684163676567,518.6252295517278,50.38038556774091,155.13897568023765,49.7301233666821,88.60793137510096,98.61838149183238,116.53468879753946,53.96526124456235,418.85471393648237,179.13959113018643,54.849740863145605,67.20423995658942,88.36520402048946,205.41369407955588,114.79341397260751,97.51263242985522,320.9973279731443,82.3799352863872,41.1386105928906,164.3136791525723,104.7788557901005,199.38891548865695,292.7033026616498,93.04540313451078,82.43152265909487,76.45098512786544,166.6553815173608,82.4860581163636,59.049941989702866,162.4163485899389,85.12579378049827,740.6695705679473,124.12179921243067,157.9380889623197,51.610180718552726,68.41372562928687,86.75608783309957,285.0184425611316,59.779250478624995,213.0144892222303,282.5632761396568,94.71993945483592,189.4816407667403,146.47393838489617,144.28813955858462,29.615882648601396,123.26589632460218,254.5494406720393,87.69546745180944,142.17231949345037,95.98235004793808,67.48010939820837,99.29738512064895,113.22299636643505,96.70973850705838,72.16269022938343,71.4844508609595,119.21654860726801,98.88570147654424,248.36744416706654,114.77540372027576,63.02327697114501,224.1753039119992,93.91083335981902,99.34762204317481,228.4984704504893,113.22623050489133,121.49549525166238,303.11686415392256,93.72089591153882,285.4042287376396,131.2022721251079,84.82940343114993,60.38592619624038,166.5700667886532,142.3467138643968,40.32524559264314,164.34836794559374,149.86995447087773],\"type\":\"choropleth\"}],\"name\":\"2008\"},{\"data\":[{\"coloraxis\":\"coloraxis\",\"geo\":\"geo\",\"hovertemplate\":\"Year=2009\\u003cbr\\u003eCode=%{location}\\u003cbr\\u003eTotal emission=%{z}\\u003cextra\\u003e\\u003c\\u002fextra\\u003e\",\"locations\":[\"AFG\",\"ALB\",\"DZA\",\"AGO\",\"ATG\",\"ARG\",\"ARM\",\"AUS\",\"AUT\",\"AZE\",\"BHS\",\"BHR\",\"BGD\",\"BRB\",\"BLR\",\"BEL\",\"BLZ\",\"BEN\",\"BTN\",\"BOL\",\"BIH\",\"BWA\",\"BRA\",\"BRN\",\"BGR\",\"BFA\",\"BDI\",\"CPV\",\"KHM\",\"CMR\",\"CAN\",\"CAF\",\"TCD\",\"CHL\",\"CHN\",\"COL\",\"COM\",\"COD\",\"COG\",\"CRI\",\"CIV\",\"HRV\",\"CUB\",\"CYP\",\"CZE\",\"DNK\",\"DJI\",\"DMA\",\"DOM\",\"ECU\",\"EGY\",\"SLV\",\"GNQ\",\"ERI\",\"EST\",\"SWZ\",\"ETH\",\"FJI\",\"FIN\",\"FRA\",\"GAB\",\"GMB\",\"GEO\",\"DEU\",\"GHA\",\"GRC\",\"GRD\",\"GTM\",\"GIN\",\"GNB\",\"GUY\",\"HTI\",\"HND\",\"HUN\",\"ISL\",\"IND\",\"IDN\",\"IRN\",\"IRQ\",\"IRL\",\"ISR\",\"ITA\",\"JAM\",\"JPN\",\"JOR\",\"KAZ\",\"KEN\",\"KIR\",\"PRK\",\"KOR\",\"KWT\",\"KGZ\",\"LAO\",\"LVA\",\"LBN\",\"LSO\",\"LBR\",\"LBY\",\"LTU\",\"LUX\",\"MDG\",\"MWI\",\"MYS\",\"MDV\",\"MLI\",\"MLT\",\"MHL\",\"MRT\",\"MUS\",\"MEX\",\"MDA\",\"MNG\",\"MNE\",\"MAR\",\"MOZ\",\"MMR\",\"NAM\",\"NPL\",\"NLD\",\"NZL\",\"NIC\",\"NER\",\"NGA\",\"MKD\",\"NOR\",\"OMN\",\"PAK\",\"PAN\",\"PNG\",\"PRY\",\"PER\",\"PHL\",\"POL\",\"PRT\",\"QAT\",\"ROU\",\"RUS\",\"RWA\",\"WSM\",\"STP\",\"SAU\",\"SEN\",\"SRB\",\"SYC\",\"SLE\",\"SGP\",\"SVK\",\"SVN\",\"SLB\",\"SOM\",\"ZAF\",\"ESP\",\"LKA\",\"LCA\",\"VCT\",\"SDN\",\"SUR\",\"SWE\",\"CHE\",\"SYR\",\"TJK\",\"TZA\",\"THA\",\"TGO\",\"TON\",\"TTO\",\"TUN\",\"TUR\",\"TKM\",\"UGA\",\"UKR\",\"ARE\",\"GBR\",\"USA\",\"URY\",\"UZB\",\"VUT\",\"VEN\",\"VNM\",\"YEM\",\"ZMB\",\"ZWE\"],\"name\":\"\",\"z\":[44.43016004366714,60.27973300941855,78.87317238092243,107.9081299997988,199.96303607082746,68.90335396366476,37.7144686249607,299.6433898219134,119.71017475890599,53.36019601792418,190.45973973409914,308.70408007587696,36.48282859012646,162.7204740238488,160.01330031824705,92.43348949515365,78.97921321765106,82.944050146746,590.8164685555405,57.25734439640089,145.24696983729388,166.1688344702682,100.85022254359234,261.718508957922,152.93213027489094,90.81486719126974,92.35065196671265,74.86953506578365,154.72677379043714,75.89643509910273,287.290925170155,68.05515575920003,78.882162674921,160.30028272814238,230.1063816234244,65.01741490635966,72.61648828373328,75.40304218956224,96.1636029267203,93.4107296371833,91.89973940566865,144.22099593489799,78.08624824959834,67.09078202649526,158.61075316815422,135.71387781669515,82.91432057335928,117.5307575898717,89.12134062990349,73.27184335578835,71.75763138031107,63.862898692788164,195.51644056836795,79.23405952716736,213.73990625807878,129.75062399110328,108.31832794066369,53.24405774351392,154.47060031980544,120.50656562253505,446.73920855514086,57.16718411243254,70.12093862787492,84.79764511395264,52.114409782987344,157.49194781100994,90.11362466797115,121.15405205215072,114.2365926874779,155.55203619330138,131.16561584715095,137.04665787443741,100.07601841542677,94.67251595137014,512.1411341636865,68.3634897356628,162.4846517523303,115.34070096036005,74.58144671955377,143.9830991924593,124.77865161109332,98.74272730187892,106.48854074826251,78.71561055706105,38.314858804107196,334.13757823208385,115.3072070289732,33.637078103636185,221.84393954546482,76.67547198127845,473.5593784572738,152.25474783125594,113.90048853214776,149.23826454975068,87.46381186181003,141.83439622818798,160.22794986219188,402.7542932945375,108.71896503100304,172.77964494568917,78.42406448463491,53.68131836039454,230.0382741831272,502.13674174726515,50.54082892012846,126.4804153904339,48.89278389333333,89.13177692403127,98.62760076926222,108.15648475674686,52.81166734046795,365.72815278353323,139.67909214710153,50.26416289322647,64.24555196375059,87.6930680128167,213.05191778741823,115.64356945617457,90.19909227780983,308.8530809278111,82.83386220861242,41.396265094789015,161.22673301274008,114.85920826045329,181.50193850303373,304.2666728438286,93.8912122504016,92.00051379981365,73.77890763825206,142.7836792574658,87.9837590524389,58.24456828357404,156.7031497994986,78.0285486987577,559.8654226411674,111.20845698833638,150.72035219803956,50.96801511228415,66.96943030841588,87.26694347153676,275.95218856503436,70.76222758596535,212.8785092954916,313.0312270613302,94.68577583554476,172.0071994936215,131.40821137508016,127.82437380771097,28.38584192740027,125.61921362159032,237.2753929506642,79.27671500857602,142.08493732802452,99.80093879375919,90.59134540618912,99.34775774699983,122.83981397829523,90.82608868190243,67.68611716862105,63.79728379963419,118.78633974554205,97.9096087894103,242.59357512024758,124.51210910222393,64.4458686110309,236.82735421256234,92.9077125935829,97.8376786748112,223.76234480188913,112.77506461410961,108.21043051153022,258.6789383901627,78.43118200560183,255.1512490261116,135.92525306925208,81.22397433681225,59.87252133578287,171.09184731808975,146.23193998933453,40.76075510981744,172.09930625776994,151.20256825115223],\"type\":\"choropleth\"}],\"name\":\"2009\"},{\"data\":[{\"coloraxis\":\"coloraxis\",\"geo\":\"geo\",\"hovertemplate\":\"Year=2010\\u003cbr\\u003eCode=%{location}\\u003cbr\\u003eTotal emission=%{z}\\u003cextra\\u003e\\u003c\\u002fextra\\u003e\",\"locations\":[\"AFG\",\"ALB\",\"DZA\",\"AGO\",\"ATG\",\"ARG\",\"ARM\",\"AUS\",\"AUT\",\"AZE\",\"BHS\",\"BHR\",\"BGD\",\"BRB\",\"BLR\",\"BEL\",\"BLZ\",\"BEN\",\"BTN\",\"BOL\",\"BIH\",\"BWA\",\"BRA\",\"BRN\",\"BGR\",\"BFA\",\"BDI\",\"CPV\",\"KHM\",\"CMR\",\"CAN\",\"CAF\",\"TCD\",\"CHL\",\"CHN\",\"COL\",\"COM\",\"COD\",\"COG\",\"CRI\",\"CIV\",\"HRV\",\"CUB\",\"CYP\",\"CZE\",\"DNK\",\"DJI\",\"DMA\",\"DOM\",\"ECU\",\"EGY\",\"SLV\",\"GNQ\",\"ERI\",\"EST\",\"SWZ\",\"ETH\",\"FJI\",\"FIN\",\"FRA\",\"GAB\",\"GMB\",\"GEO\",\"DEU\",\"GHA\",\"GRC\",\"GRD\",\"GTM\",\"GIN\",\"GNB\",\"GUY\",\"HTI\",\"HND\",\"HUN\",\"ISL\",\"IND\",\"IDN\",\"IRN\",\"IRQ\",\"IRL\",\"ISR\",\"ITA\",\"JAM\",\"JPN\",\"JOR\",\"KAZ\",\"KEN\",\"KIR\",\"PRK\",\"KOR\",\"KWT\",\"KGZ\",\"LAO\",\"LVA\",\"LBN\",\"LSO\",\"LBR\",\"LBY\",\"LTU\",\"LUX\",\"MDG\",\"MWI\",\"MYS\",\"MDV\",\"MLI\",\"MLT\",\"MHL\",\"MRT\",\"MUS\",\"MEX\",\"MDA\",\"MNG\",\"MNE\",\"MAR\",\"MOZ\",\"MMR\",\"NAM\",\"NPL\",\"NLD\",\"NZL\",\"NIC\",\"NER\",\"NGA\",\"MKD\",\"NOR\",\"OMN\",\"PAK\",\"PAN\",\"PNG\",\"PRY\",\"PER\",\"PHL\",\"POL\",\"PRT\",\"QAT\",\"ROU\",\"RUS\",\"RWA\",\"WSM\",\"STP\",\"SAU\",\"SEN\",\"SRB\",\"SYC\",\"SLE\",\"SGP\",\"SVK\",\"SVN\",\"SLB\",\"SOM\",\"ZAF\",\"ESP\",\"LKA\",\"LCA\",\"VCT\",\"SDN\",\"SUR\",\"SWE\",\"CHE\",\"SYR\",\"TJK\",\"TZA\",\"THA\",\"TGO\",\"TON\",\"TTO\",\"TUN\",\"TUR\",\"TKM\",\"UGA\",\"UKR\",\"ARE\",\"GBR\",\"USA\",\"URY\",\"UZB\",\"VUT\",\"VEN\",\"VNM\",\"YEM\",\"ZMB\",\"ZWE\"],\"name\":\"\",\"z\":[52.32749148404377,60.995566870269734,79.18527905878834,106.62626207139625,194.83890517789797,73.1703568899757,38.39629672622327,280.2658490587447,122.39223292334079,52.40887809282894,208.26654929537784,285.9010859806908,36.76591658923169,157.1331501323853,156.79413509159554,97.08100109530592,71.12761883497073,88.0928382383842,593.0855035353601,60.540373425525374,141.57870090503988,153.20628094640196,107.09062406408219,252.69866279339033,122.36237762485501,89.87104210085639,91.09662019995847,74.88013601838206,156.1092993172544,74.2137289460363,274.48246871207255,68.2268445014644,78.30473525401652,158.3132787529357,226.62324525960508,65.48500611418602,72.77749222841501,73.69868260962241,100.17553332205512,92.77979113807076,94.07006328851918,135.24454714281023,77.1819949113794,67.59461714416167,162.02708279511685,132.22584149094317,84.86789090190646,104.234242797483,89.74225692490067,81.64794518622432,70.29225221204106,61.4505298053405,180.4352568090128,80.10147721054052,240.46133648772977,109.12737921390784,108.09492664784754,53.83434322147245,161.00489153052047,126.99788884725353,468.79576545125417,56.74073062844218,65.74488315008206,91.26932620238985,51.71599611761586,129.35135721492577,93.90570566584773,139.20436675783975,114.0057692292598,154.63693474118924,138.99682134298325,137.0763576653766,98.24658315569519,95.06751308471992,499.9263724802777,69.45579652649161,165.45397804855693,109.08116501552774,75.78763428495806,133.39320352049435,132.35323951938716,95.5276479405302,98.53849807504822,77.21259002108222,40.51951156634978,324.344247767658,115.70296739933471,34.84633054494934,207.64249473987277,77.56819966827375,427.49662433436595,141.18175113346425,110.94007413790483,130.6012245686049,89.44520801177289,140.99739148648942,162.55979774145564,396.7985634262463,110.95536683453427,168.45743139896598,78.9733778562797,53.46439258489154,240.93913117308594,482.98762504989963,49.87182704798008,79.86365841913786,48.21737098605542,87.90619407331302,102.22152351247601,106.97389394646538,89.59708630512736,331.5639088406321,174.0800417481935,50.62797924484661,60.41802108095277,85.36836934138101,220.61144371963601,118.00054428921669,91.50184058229374,309.46680596225895,82.87423761582332,41.01933561203898,165.29005878663756,107.31112516727103,188.70392996720153,299.80845351238924,92.43997216636481,94.04814687619331,70.65881438866003,146.21762014206104,93.47714859964324,58.68928785257938,166.25936359984496,73.01828005031636,534.307492952481,101.65960280973786,154.3277582944866,50.15918171098532,68.17193050244958,86.87931779498922,283.00676670728814,68.18638524333365,201.01029248559547,273.5512432884037,94.08695778156921,165.47255137753976,139.843331191662,125.62764203354222,28.167080159360133,126.30581781639692,239.49393142475213,76.66150802188476,148.93715805313238,104.13420742740615,74.17148159438364,98.64981970045864,134.73702287335274,89.2479621515002,65.03954996792935,63.61618252220981,116.11239749108391,97.55284545970625,253.16092955568078,122.61052407010688,61.340971861596756,223.0770281452279,88.25313617628332,91.41721239656763,234.02108631975898,111.94711554310176,111.95526050036995,268.0842805393411,75.31168166262297,235.218702947242,141.4437000543272,74.92398205332886,58.649948351262225,174.95143885676268,145.9462992822214,37.16341661392394,181.17918160127192,153.7840289948048],\"type\":\"choropleth\"}],\"name\":\"2010\"},{\"data\":[{\"coloraxis\":\"coloraxis\",\"geo\":\"geo\",\"hovertemplate\":\"Year=2011\\u003cbr\\u003eCode=%{location}\\u003cbr\\u003eTotal emission=%{z}\\u003cextra\\u003e\\u003c\\u002fextra\\u003e\",\"locations\":[\"AFG\",\"ALB\",\"DZA\",\"AGO\",\"ATG\",\"ARG\",\"ARM\",\"AUS\",\"AUT\",\"AZE\",\"BHS\",\"BHR\",\"BGD\",\"BRB\",\"BLR\",\"BEL\",\"BLZ\",\"BEN\",\"BTN\",\"BOL\",\"BIH\",\"BWA\",\"BRA\",\"BRN\",\"BGR\",\"BFA\",\"BDI\",\"CPV\",\"KHM\",\"CMR\",\"CAN\",\"CAF\",\"TCD\",\"CHL\",\"CHN\",\"COL\",\"COM\",\"COD\",\"COG\",\"CRI\",\"CIV\",\"HRV\",\"CUB\",\"CYP\",\"CZE\",\"DNK\",\"DJI\",\"DMA\",\"DOM\",\"ECU\",\"EGY\",\"SLV\",\"GNQ\",\"ERI\",\"EST\",\"SWZ\",\"ETH\",\"FJI\",\"FIN\",\"FRA\",\"GAB\",\"GMB\",\"GEO\",\"DEU\",\"GHA\",\"GRC\",\"GRD\",\"GTM\",\"GIN\",\"GNB\",\"GUY\",\"HTI\",\"HND\",\"HUN\",\"ISL\",\"IND\",\"IDN\",\"IRN\",\"IRQ\",\"IRL\",\"ISR\",\"ITA\",\"JAM\",\"JPN\",\"JOR\",\"KAZ\",\"KEN\",\"KIR\",\"PRK\",\"KOR\",\"KWT\",\"KGZ\",\"LAO\",\"LVA\",\"LBN\",\"LSO\",\"LBR\",\"LBY\",\"LTU\",\"LUX\",\"MDG\",\"MWI\",\"MYS\",\"MDV\",\"MLI\",\"MLT\",\"MHL\",\"MRT\",\"MUS\",\"MEX\",\"MDA\",\"MNG\",\"MNE\",\"MAR\",\"MOZ\",\"MMR\",\"NAM\",\"NPL\",\"NLD\",\"NZL\",\"NIC\",\"NER\",\"NGA\",\"MKD\",\"NOR\",\"OMN\",\"PAK\",\"PAN\",\"PNG\",\"PRY\",\"PER\",\"PHL\",\"POL\",\"PRT\",\"QAT\",\"ROU\",\"RUS\",\"RWA\",\"WSM\",\"STP\",\"SAU\",\"SEN\",\"SRB\",\"SYC\",\"SLE\",\"SGP\",\"SVK\",\"SVN\",\"SLB\",\"SOM\",\"ZAF\",\"ESP\",\"LKA\",\"LCA\",\"VCT\",\"SDN\",\"SUR\",\"SWE\",\"CHE\",\"SYR\",\"TJK\",\"TZA\",\"THA\",\"TGO\",\"TON\",\"TTO\",\"TUN\",\"TUR\",\"TKM\",\"UGA\",\"UKR\",\"ARE\",\"GBR\",\"USA\",\"URY\",\"UZB\",\"VUT\",\"VEN\",\"VNM\",\"YEM\",\"ZMB\",\"ZWE\"],\"name\":\"\",\"z\":[59.18427509029411,61.945985071570064,80.82405562094061,104.10325713241268,191.62724119077228,75.25356488580513,39.66525669050782,275.82240762140634,117.78789135810473,54.58904488153491,178.61666738973847,271.03256468132486,37.24884868928554,162.93863601508195,160.65271199551745,83.29210411166103,75.19640827648023,89.0815023946102,590.0149542476684,61.91459323130212,153.958080288432,150.29658038445925,106.86109453595958,251.19615507711688,194.04923047800804,89.14620401766929,89.66357616522404,82.65747363968762,157.94539798477768,73.87549073517624,252.44283749524743,68.77382198941031,77.42897921841043,161.5093175670563,227.14344892235124,66.50550712731959,72.10597468895465,74.80824815127006,124.08332894182362,92.78626470564113,106.39659122278624,126.75445657196549,76.84814179823736,64.21616213251211,155.98927495653618,121.20566046000302,81.18698297007991,100.54854888882625,90.85383433147767,80.3271144235363,70.77090299511707,59.93122464805152,167.1742106473811,81.48134177895763,214.2581960451667,98.7614784819856,107.97928043584947,74.68618021446547,147.13004608898734,108.55847819759123,371.69472615729813,56.19366332872871,64.52946770626771,89.83981452851881,53.29309354801989,116.13448331227505,91.71860943293757,141.93756532978824,112.69051427713778,153.59976480960518,147.56352064018895,140.19870400145737,107.64291563721784,96.43574532275102,482.73925031503325,69.52450124822327,168.5125464531709,108.17660125638714,77.28345760659782,123.17104930826598,127.21123643410851,81.69955573349966,100.04655768067775,75.17612802640946,45.51478241726522,331.4336359146694,115.4067496054785,34.91686380910549,164.81573894299464,74.62452019697442,406.5191556346786,160.2067264171472,109.64755521288707,133.76083786593153,88.35584240216377,138.36659295623738,163.11215994850457,276.32247389690394,109.60930258593217,161.21963781019275,78.10670932309638,52.56122598200041,220.48608976559422,459.52613211737344,49.25314540357525,79.27430996377333,44.55460904636394,88.33009471890554,103.0760533342276,105.7003130450921,95.2147266641094,340.64001762224575,170.6435484833384,51.19363962070475,62.767565146391604,85.33180909859587,225.15359574646646,121.16372621026021,86.95542708311245,307.13224543795616,82.10741687459628,35.67361978937363,166.2927658193153,118.13387553215051,177.80604834802045,287.1594307233104,91.999186028591,93.87281468713064,62.79197318058939,142.29120296635162,94.70688283253348,57.48837896877879,155.5066882745577,67.85136594061507,532.5369093326641,98.4956496896294,157.55033739712957,49.325649568638184,69.0854150819602,87.5903279248228,284.4346027274607,68.496704301866,213.1722674793364,264.447434155602,93.8132826165126,181.93287038108772,131.1328285094206,121.42039625046824,27.013383525292646,127.35028514979675,229.18415072544562,74.553832847942,140.36385587883916,103.65542430957483,69.22814268436795,96.48947412000692,141.76575461667966,85.28574301373035,59.52726135616534,60.19460165139952,114.03337477963653,97.73083789058728,245.5112088438375,120.87710986889974,61.50189282748498,242.7553027366114,87.81732192130242,88.90518991355343,248.60387160241862,113.33546274076178,119.14026274312792,250.0718894189494,70.25509887081341,233.94294978707484,147.81336093256797,69.62939467064767,59.29097750697498,159.55834578269204,143.18949708782543,32.90188797790015,182.74985932233835,158.2876110683188],\"type\":\"choropleth\"}],\"name\":\"2011\"},{\"data\":[{\"coloraxis\":\"coloraxis\",\"geo\":\"geo\",\"hovertemplate\":\"Year=2012\\u003cbr\\u003eCode=%{location}\\u003cbr\\u003eTotal emission=%{z}\\u003cextra\\u003e\\u003c\\u002fextra\\u003e\",\"locations\":[\"AFG\",\"ALB\",\"DZA\",\"AGO\",\"ATG\",\"ARG\",\"ARM\",\"AUS\",\"AUT\",\"AZE\",\"BHS\",\"BHR\",\"BGD\",\"BRB\",\"BLR\",\"BEL\",\"BLZ\",\"BEN\",\"BTN\",\"BOL\",\"BIH\",\"BWA\",\"BRA\",\"BRN\",\"BGR\",\"BFA\",\"BDI\",\"CPV\",\"KHM\",\"CMR\",\"CAN\",\"CAF\",\"TCD\",\"CHL\",\"CHN\",\"COL\",\"COM\",\"COD\",\"COG\",\"CRI\",\"CIV\",\"HRV\",\"CUB\",\"CYP\",\"CZE\",\"DNK\",\"DJI\",\"DMA\",\"DOM\",\"ECU\",\"EGY\",\"SLV\",\"GNQ\",\"ERI\",\"EST\",\"SWZ\",\"ETH\",\"FJI\",\"FIN\",\"FRA\",\"GAB\",\"GMB\",\"GEO\",\"DEU\",\"GHA\",\"GRC\",\"GRD\",\"GTM\",\"GIN\",\"GNB\",\"GUY\",\"HTI\",\"HND\",\"HUN\",\"ISL\",\"IND\",\"IDN\",\"IRN\",\"IRQ\",\"IRL\",\"ISR\",\"ITA\",\"JAM\",\"JPN\",\"JOR\",\"KAZ\",\"KEN\",\"KIR\",\"PRK\",\"KOR\",\"KWT\",\"KGZ\",\"LAO\",\"LVA\",\"LBN\",\"LSO\",\"LBR\",\"LBY\",\"LTU\",\"LUX\",\"MDG\",\"MWI\",\"MYS\",\"MDV\",\"MLI\",\"MLT\",\"MHL\",\"MRT\",\"MUS\",\"MEX\",\"MDA\",\"MNG\",\"MNE\",\"MAR\",\"MOZ\",\"MMR\",\"NAM\",\"NPL\",\"NLD\",\"NZL\",\"NIC\",\"NER\",\"NGA\",\"MKD\",\"NOR\",\"OMN\",\"PAK\",\"PAN\",\"PNG\",\"PRY\",\"PER\",\"PHL\",\"POL\",\"PRT\",\"QAT\",\"ROU\",\"RUS\",\"RWA\",\"WSM\",\"STP\",\"SAU\",\"SEN\",\"SRB\",\"SYC\",\"SLE\",\"SGP\",\"SVK\",\"SVN\",\"SLB\",\"SOM\",\"ZAF\",\"ESP\",\"LKA\",\"LCA\",\"VCT\",\"SDN\",\"SUR\",\"SWE\",\"CHE\",\"SYR\",\"TJK\",\"TZA\",\"THA\",\"TGO\",\"TON\",\"TTO\",\"TUN\",\"TUR\",\"TKM\",\"UGA\",\"UKR\",\"ARE\",\"GBR\",\"USA\",\"URY\",\"UZB\",\"VUT\",\"VEN\",\"VNM\",\"YEM\",\"ZMB\",\"ZWE\"],\"name\":\"\",\"z\":[57.32693161560003,58.42887455906959,85.26975565702945,102.84989977867951,191.4409735203354,73.60682597824646,41.98661715141205,265.11099064748817,116.62241744979326,56.03770304903814,193.7907232991551,271.9151573953627,37.88909399896126,152.59907123722246,166.0617304990916,75.83551290311311,72.58305378698225,88.53871499626695,573.8851425704443,63.63586649843376,145.64599001046332,151.34709536559762,106.37921736867762,252.53379742298662,141.46304900923747,89.32558414738395,60.46381009795816,76.44557285223709,156.3594526934017,73.72630941595045,243.81823279807335,69.59143265451947,77.37884876904124,171.4210760279666,225.3998965717649,65.2557428624458,72.32023048305568,86.49333954615123,123.28944418848131,89.97908063139931,108.90651814983931,120.01319056472109,78.61046391961838,57.548778586947144,151.24655929124228,113.63291596710192,85.94112143719417,80.19287713661664,90.19566065993342,80.8351082990147,72.29562477204942,59.04172061758377,152.6086007344905,0.0,199.94906380604462,95.91624070683636,108.080153475519,55.426284689429394,140.94971683446403,103.3573208231538,324.82727318449867,55.52126481159427,66.9300956803582,86.28311522531763,55.66864716792667,113.62461569300383,91.34991633006348,139.19337459178232,112.54830633675518,154.2635472489048,155.57452922230502,143.95557720128807,109.7157568763887,97.80986799675254,480.74526531261307,69.63807779374217,168.84575373393534,101.90569710069103,80.57986173162497,123.94614388025914,135.9067815940838,85.65060033792233,94.43042722857348,73.30301639909425,49.078204895590986,323.3758514500489,114.49836519112988,33.89260806618407,156.8378025913231,75.30874596385769,392.46248826090607,202.5569112926238,107.53064001564117,137.05349878755496,86.76954508999873,138.46081628196666,166.95928847131742,391.3920095454003,112.53038065475522,155.12495954390843,77.77737728010217,52.47647318249117,221.03253917800572,440.5616999926996,48.91477014392004,80.60216429380898,44.835383394749364,89.45598210629066,102.43815629175353,101.64426526884803,93.74085732331093,349.8835824277207,154.33777805707695,49.87829371235059,76.55779460820102,87.78033035087263,218.08840150101332,106.24371343580786,82.68397992188821,304.585645924548,83.61661724495639,37.56426115347681,169.73816077947882,112.27932339348921,173.86050775788252,296.15760635489306,91.14417675319996,92.88761409252157,64.56306422144824,138.13117315672696,90.5056020329966,60.64766732284335,153.8615231776318,69.2619323215827,497.8866580725421,94.40571701066429,164.58560368838027,49.32354361905642,67.03343929810458,85.00741661535848,282.93573092156805,67.7487158064798,194.24190858078063,287.2693660464537,94.61291527059413,162.5142941553942,130.9282890735392,116.42784952451414,25.893069304972087,126.1033279829122,236.9488885803755,73.08175288101238,145.96710452876377,102.69280521494967,78.38562063909252,95.0818644737965,163.67356243475695,80.23875284236127,57.36788363584161,50.906968365625396,121.05833098725243,97.528023060038,250.0575848734617,119.46335714908912,60.80942663305332,204.09341256096553,88.6422772854656,86.1450303092912,254.0907338787752,112.08168017818022,119.45028364009815,264.29731890361376,70.14009660720923,211.8838459197417,159.9534836610166,72.28311528321213,55.31375813129512,172.4947470491988,140.4744459916795,30.195223113238505,181.78247516906356,157.01863854810142],\"type\":\"choropleth\"}],\"name\":\"2012\"}]);\n",
       "                        }).then(function(){\n",
       "                            \n",
       "var gd = document.getElementById('0f1cda64-ac4f-41a1-aa1d-6ef5ac8f1230');\n",
       "var x = new MutationObserver(function (mutations, observer) {{\n",
       "        var display = window.getComputedStyle(gd).display;\n",
       "        if (!display || display === 'none') {{\n",
       "            console.log([gd, 'removed!']);\n",
       "            Plotly.purge(gd);\n",
       "            observer.disconnect();\n",
       "        }}\n",
       "}});\n",
       "\n",
       "// Listen for the removal of the full notebook cells\n",
       "var notebookContainer = gd.closest('#notebook-container');\n",
       "if (notebookContainer) {{\n",
       "    x.observe(notebookContainer, {childList: true});\n",
       "}}\n",
       "\n",
       "// Listen for the clearing of the current output cell\n",
       "var outputEl = gd.closest('.output');\n",
       "if (outputEl) {{\n",
       "    x.observe(outputEl, {childList: true});\n",
       "}}\n",
       "\n",
       "                        })                };                });            </script>        </div>"
      ]
     },
     "metadata": {},
     "output_type": "display_data"
    }
   ],
   "source": [
    "df = pd.read_csv('datasets/norm.csv')\n",
    "df_total_emission = df.copy()\n",
    "df_total_emission['Total emission'] = df_total_emission[['Nitrogen oxide (NOx)', 'Sulphur dioxide (SO₂) emissions', 'Carbon monoxide (CO) emissions',\n",
    "                                                       'Organic carbon (OC) emissions', 'Non-methane volatile organic compounds (NMVOC) emissions', 'Black carbon (BC) emissions',\n",
    "                                                       'Ammonia (NH₃) emissions']].sum(axis=1)\n",
    "\n",
    "fig = px.choropleth(\n",
    "                    df_total_emission,\n",
    "                    locations=\"Code\",\n",
    "                    color=\"Total emission\",\n",
    "                    range_color=(df_total_emission['Total emission'].min(), 900), \n",
    "                    animation_frame=\"Year\",\n",
    "                    height=600,\n",
    "                    color_continuous_scale=plotly.colors.sequential.Jet\n",
    ")\n",
    "fig.update_layout(title='Totale uitstoot per 1.000 inwoners (ton)',coloraxis_colorbar_title_text = 'Totale uitstoot')\n",
    "\n",
    "fig.show()"
   ]
  },
  {
   "cell_type": "markdown",
   "id": "84271e8b-3cdf-4cad-b78e-f536ff980cba",
   "metadata": {},
   "source": [
    "> *Figure 6: Kaart met de gemiddelde uitstoot van luchtvervuilende stoffen*"
   ]
  },
  {
   "cell_type": "markdown",
   "id": "c820d563-95a4-4515-b64e-e304f833529b",
   "metadata": {},
   "source": [
    "We zien op deze kaart dat bijna alle landen hun uitstoot flink hebben verminderd in de periode van 1990 tot 2012. Er zijn een paar landen dat meer zijn gaan uitstoten, maar deze landen hebben geen grote invloed op het globale niveau. Voornamelijk de landen die de meeste luchtvervuiling hadden in 1990 zoals de Verenigde Staten en Canada hebben veel verminderd en liggen nu dicht bij de globale gemiddelde.\n",
    "\n",
    "We zien met dit dus eigenlijk dat de huidige manieren om de luchtvervuilende uitstoot te verminderen al effectief werken. Het is natuurlijk mogelijk om de uitstoot nog meer te verminderen. Maar het is de vraag of dat het probleem rondom longkanker zal verhelpen."
   ]
  },
  {
   "cell_type": "markdown",
   "id": "f5f76c1f-035a-4188-bf08-ee22470d7572",
   "metadata": {
    "editable": true,
    "slideshow": {
     "slide_type": ""
    },
    "tags": []
   },
   "source": [
    "## Conclusie\n",
    "Al met al is er zowel voor luchtvervuiling als voor roken een verband gevonden met de TBL rate. Voor beide valt te beargumenteren dat ze van invloed zijn op de vorming van kanker. Toch is het gevonden verband tussen roken en TBL rate sterker. Bovendien is de emissie-uitstoot de laatste jaren al aan het verminderen."
   ]
  }
 ],
 "metadata": {
  "celltoolbar": "Tags",
  "kernelspec": {
   "display_name": "Python 3 (ipykernel)",
   "language": "python",
   "name": "python3"
  },
  "language_info": {
   "codemirror_mode": {
    "name": "ipython",
    "version": 3
   },
   "file_extension": ".py",
   "mimetype": "text/x-python",
   "name": "python",
   "nbconvert_exporter": "python",
   "pygments_lexer": "ipython3",
   "version": "3.12.3"
  },
  "widgets": {
   "application/vnd.jupyter.widget-state+json": {
    "state": {},
    "version_major": 2,
    "version_minor": 0
   }
  }
 },
 "nbformat": 4,
 "nbformat_minor": 5
}
