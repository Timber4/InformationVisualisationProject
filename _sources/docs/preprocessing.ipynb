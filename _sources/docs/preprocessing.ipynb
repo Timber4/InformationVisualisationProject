{
 "cells": [
  {
   "cell_type": "markdown",
   "id": "793e586d-59ad-4b6e-98ef-ec02714a815e",
   "metadata": {},
   "source": [
    "# Data Preprocessing\n",
    "Studenten: Wietske Boersma, Isa van den Hoven, Alecsandru Kreefft-Libiu, Timber Rijsdorp\n",
    "\n",
    "Teamnummer: N5"
   ]
  },
  {
   "cell_type": "code",
   "execution_count": null,
   "id": "e197da6f-777b-43e9-a578-709753992903",
   "metadata": {},
   "outputs": [],
   "source": [
    "import pandas as pd"
   ]
  },
  {
   "cell_type": "markdown",
   "id": "e67dbd52-4b4e-4d76-99aa-e7b893322402",
   "metadata": {},
   "source": [
    "## Dataset 1: Kanker\n",
    "\n",
    "Deze dataset bevat informatie over de hoeveelheid mensen die overlijden aan verschillende soorten kanker. De data laat per kankersoort zien wat de leeftijd gestandaardiseerde hoeveelheid mensen zijn die overleden zijn aan die kankersoort in dat jaar en in dat land. Wij zijn voor ons onderzoek alleen geinteresseerd in de data rondom longkanker omdat die kankersoort voornamelijk wordt benoemd in discussie rondom luchtvervuiling. \n",
    "\n",
    "Hieronder kan je zien hoe de data word't gefilterd. We selecteren alleen de kolommen: landcode, jaar en longkanker overledenen, en we verwijderen datapunten dat niet verbonden is aan een land."
   ]
  },
  {
   "cell_type": "code",
   "execution_count": null,
   "id": "40876520-d934-4b98-9320-e7fde4ae5705",
   "metadata": {},
   "outputs": [],
   "source": [
    "# https://www.kaggle.com/datasets/programmerrdai/cancer?select=cancer-death-rates-by-type.csv\n",
    "# Load data\n",
    "df_cancer_rate = pd.read_csv('datasets/cancer-death-rates-by-type.csv')\n",
    "# Select columns\n",
    "df_cancer_rate = df_cancer_rate[['Code', 'Year', 'Deaths - Tracheal, bronchus, and lung cancer - Sex: Both - Age: Age-standardized (Rate)']]\n",
    "# Rename columns\n",
    "df_cancer_rate = df_cancer_rate.rename(columns={'Deaths - Tracheal, bronchus, and lung cancer - Sex: Both - Age: Age-standardized (Rate)':'TBL rate'})\n",
    "# Delete non-country entries\n",
    "df_cancer_rate = df_cancer_rate[df_cancer_rate['Code'].notna()]\n",
    "# Display dataframe\n",
    "df_cancer_rate.head(5)"
   ]
  },
  {
   "cell_type": "markdown",
   "id": "3e8d3c74-8c16-453b-9d04-00b0c2d1b2fb",
   "metadata": {},
   "source": [
    "## Dataset 2: Luchtvervuiling\n",
    "\n",
    "In deze dataset staat de hoeveelheid vervuiling voor verschillende stoffen dat is gemeten per land per jaar. We zijn geinteresseerd in alle soorten uitstoot voor dit onderzoek, dus de enige variabel dat we eruit filteren is het land omdat de landcode deze informatie al geeft. Verder verwijderen we weer datapunten dat niet verbonden is met een land."
   ]
  },
  {
   "cell_type": "code",
   "execution_count": null,
   "id": "1189cc38-a4b3-49c0-9ada-a81b73f98c6c",
   "metadata": {},
   "outputs": [],
   "source": [
    "# https://ourworldindata.org/explorers/air-pollution?tab=table&uniformYAxis=0&Pollutant=All+pollutants&Sector=From+all+sectors+%28Total%29&Per+capita=false&country=USA~CHN~IND~GBR~OWID_WRL\n",
    "# Load data\n",
    "df_pollution = pd.read_csv('datasets/air-pollution.csv')\n",
    "# Select columns\n",
    "df_pollution = df_pollution.drop('Entity', axis=1)\n",
    "# Delete non-country entries\n",
    "df_pollution = df_pollution[df_pollution['Code'].notna()]\n",
    "# Display dataframe\n",
    "df_pollution.head(5)"
   ]
  },
  {
   "cell_type": "markdown",
   "id": "f7b6fde4-10f5-4299-9f5b-24395f024302",
   "metadata": {},
   "source": [
    "## Dataset 3: Roken\n",
    "\n",
    "Voor de laatste dataset hebben we gekeken naar het percentage van de mensen per land dat rookt. Deze dataset bevat ook per land per jaar het percentage dagelijkse rokers over de gehele populatie. We selecteren deze kolommen en verwijderen de niet-landelijke data. "
   ]
  },
  {
   "cell_type": "code",
   "execution_count": null,
   "id": "da591308-8a2c-41c1-ab07-2e31c455d7c0",
   "metadata": {},
   "outputs": [],
   "source": [
    "# https://ourworldindata.org/grapher/daily-smoking-prevalence-bounds?tab=chart\n",
    "# Load data\n",
    "df_smoking = pd.read_csv('datasets/smoking.csv')\n",
    "# Select columns\n",
    "df_smoking = df_smoking[['Code', 'Year', 'Daily smoking prevalence - both (IHME, GHDx (2012))']]\n",
    "# Rename columns\n",
    "df_smoking = df_smoking.rename(columns={'Daily smoking prevalence - both (IHME, GHDx (2012))':'Percentage daily smokers'})\n",
    "# Delete non-country entries\n",
    "df_smoking = df_smoking[df_smoking['Code'].notna()]\n",
    "# Display dataframe\n",
    "df_smoking.head(5)"
   ]
  },
  {
   "cell_type": "markdown",
   "id": "f2a24043-8cf6-40f9-86fe-07e5f6c18b9e",
   "metadata": {},
   "source": [
    "## Dataset 4: World statistieken\n",
    "\n",
    "We gebruiken deze dataset om de uitstoot gegevens naar een getal te berekenen die makkelijker te visualiseren zijn. De dataset bevat allerlei statistieken van elk land, maar wij gebruiken alleen de populatie variabel."
   ]
  },
  {
   "cell_type": "code",
   "execution_count": null,
   "id": "1ddb9602-f3bc-4049-8496-c39dcb566b0c",
   "metadata": {},
   "outputs": [],
   "source": [
    "# https://www.kaggle.com/datasets/mutindafestus/world-statistics-dataset-from-world-bank\n",
    "# Load data\n",
    "df_countries = pd.read_csv('datasets/countries.csv')\n",
    "# Select columns\n",
    "df_countries = df_countries[['Country Code', 'year', 'Population, total']]\n",
    "# Rename columns\n",
    "df_countries = df_countries.rename(columns={'Country Code': 'Code', 'year':'Year', 'Population, total':'Population'})\n",
    "# Delete non-country entries\n",
    "df_countries = df_countries[df_countries['Code'].notna()]\n",
    "# Display dataframe\n",
    "df_countries.head(5)"
   ]
  },
  {
   "cell_type": "markdown",
   "id": "14ec4453-cc9f-4dba-90fb-b1fa5f652c2f",
   "metadata": {},
   "source": [
    "## Filtreren\n",
    "\n",
    "Alle datasets bevatten jaarlijke data, maar niet alle datasets hebben dezelfde jaartallen. Om te zorgen dat we geen lege data krijgen in jaren dat een dataset niet heeft, filtreren we alle datasets naar alle jaren tussen 1990 en 2012. "
   ]
  },
  {
   "cell_type": "code",
   "execution_count": null,
   "id": "99e8a8b1-b266-49ba-814d-684b2123016e",
   "metadata": {},
   "outputs": [],
   "source": [
    "# Select years to collect data from\n",
    "begin_year = 1990\n",
    "end_year = 2012\n",
    "df_cancer_year = df_cancer_rate[df_cancer_rate['Year'].between(begin_year, end_year)]\n",
    "df_smoking_year = df_smoking[df_smoking['Year'].between(begin_year, end_year)]\n",
    "df_pollution_year = df_pollution[df_pollution['Year'].between(begin_year, end_year)]\n",
    "df_countries_year = df_countries[df_countries['Year'].between(begin_year, end_year)]"
   ]
  },
  {
   "cell_type": "markdown",
   "id": "abb3d329-1fea-44d0-b976-b04158e21cba",
   "metadata": {},
   "source": [
    "## Combineren\n",
    "Nu gaan we de datasets samenvoegen. Dit doen we door de datasets te mergen op de landcode en jaar. Verder wordt nog de overige data dat uit landen komt die niet voorkomen in de rest van de datasets verwijdert."
   ]
  },
  {
   "cell_type": "code",
   "execution_count": null,
   "id": "a1735c9c-6987-4aad-ae60-13f0c15176ff",
   "metadata": {},
   "outputs": [],
   "source": [
    "# Merge dataframes on country code and year\n",
    "df_combined = pd.merge(left=df_smoking_year, right=df_cancer_year, how='left', on=['Code', 'Year'])\n",
    "df_combined = pd.merge(left=df_pollution_year, right=df_combined, how='left', on=['Code', 'Year'])\n",
    "# Only select entries that are represented in all datasets\n",
    "df_combined = df_combined[df_combined['TBL rate'].notna()]\n",
    "df_combined = df_combined[df_combined['Percentage daily smokers'].notna()]\n",
    "\n",
    "# Display data\n",
    "df_combined.head(5)"
   ]
  },
  {
   "cell_type": "markdown",
   "id": "8adc666a-7bbb-48c4-a8c6-e68f21a8dc79",
   "metadata": {},
   "source": [
    "## Per duizend inwoners\n",
    "\n",
    "Voor sommige grafieken willen we in plaats van de totale uitstoot de uitstoot per capita hebben. Om deze date te krijgen delen we elke uitstoot door de totale populatie van het land waar het is gemeten. We vermenigvuldigen de uitkomst met 1000 om de getallen makkelijker te kunnen gebruiken."
   ]
  },
  {
   "cell_type": "code",
   "execution_count": null,
   "id": "b7a81f8f-bb68-467b-a007-81e01c13815f",
   "metadata": {},
   "outputs": [],
   "source": [
    "# Select columns to be divided by population\n",
    "columns = ['Nitrogen oxide (NOx)', 'Sulphur dioxide (SO₂) emissions', 'Carbon monoxide (CO) emissions', 'Organic carbon (OC) emissions', 'Non-methane volatile organic compounds (NMVOC) emissions', 'Black carbon (BC) emissions', 'Ammonia (NH₃) emissions']\n",
    "# Combine the population statistics to the dataframe\n",
    "df_norm = pd.merge(left=df_countries_year, right=df_combined, how='left', on=['Code', 'Year'])\n",
    "# Remove invalid data\n",
    "df_norm = df_norm[df_norm['TBL rate'].notna()]\n",
    "df_norm = df_norm[df_norm['Percentage daily smokers'].notna()]\n",
    "# Divide by population and multiply it by 1000\n",
    "for column in columns:\n",
    "    df_norm[column] = (df_norm[column]/df_norm['Population']) * 1000\n",
    "# Remove the population column\n",
    "df_norm = df_norm.drop('Population', axis=1)\n",
    "# Display data\n",
    "df_norm.head(5)"
   ]
  },
  {
   "cell_type": "markdown",
   "id": "5b9f8c20-25af-4f69-aecd-44f5ee4bca93",
   "metadata": {},
   "source": [
    "## Opslaan\n",
    "\n",
    "En als laatst wordt de gecombineerde dataset opgeslagen zodat het makkelijk toegangbaar is voor het onderzoek."
   ]
  },
  {
   "cell_type": "code",
   "execution_count": null,
   "id": "a983feb2-c861-415f-8711-84479ab9e4ca",
   "metadata": {},
   "outputs": [],
   "source": [
    "# Save to csv\n",
    "df_combined.to_csv('datasets/combined.csv')\n",
    "df_norm.to_csv('datasets/norm.csv')"
   ]
  }
 ],
 "metadata": {
  "kernelspec": {
   "display_name": "Python 3 (ipykernel)",
   "language": "python",
   "name": "python3"
  },
  "language_info": {
   "codemirror_mode": {
    "name": "ipython",
    "version": 3
   },
   "file_extension": ".py",
   "mimetype": "text/x-python",
   "name": "python",
   "nbconvert_exporter": "python",
   "pygments_lexer": "ipython3",
   "version": "3.12.3"
  }
 },
 "nbformat": 4,
 "nbformat_minor": 5
}
