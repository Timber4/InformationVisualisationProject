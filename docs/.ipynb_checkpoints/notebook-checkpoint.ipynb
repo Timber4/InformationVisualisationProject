{
 "cells": [
  {
   "cell_type": "code",
   "execution_count": null,
   "id": "7693ac9c-5dd4-4ede-94b0-f5b9f97ab45b",
   "metadata": {},
   "outputs": [],
   "source": [
    "#TEST"
   ]
  }
 ],
 "metadata": {
  "kernelspec": {
   "display_name": "Python 3 (ipykernel)",
   "language": "python",
   "name": "python3"
  },
  "language_info": {
   "codemirror_mode": {
    "name": "ipython",
    "version": 3
   },
   "file_extension": ".py",
   "mimetype": "text/x-python",
   "name": "python",
   "nbconvert_exporter": "python",
   "pygments_lexer": "ipython3",
   "version": "3.12.3"
  }
 },
 "nbformat": 4,
 "nbformat_minor": 5
}
