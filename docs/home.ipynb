{
 "cells": [
  {
   "cell_type": "markdown",
   "id": "d027444e-0c6b-4820-9a12-9f15190a9f78",
   "metadata": {
    "editable": true,
    "slideshow": {
     "slide_type": ""
    },
    "tags": []
   },
   "source": [
    "# Luchtvervuiling\n",
    "\n",
    "Studenten: Wietske Boersma, Isa van den Hoven, Alecsandru Kreefft-Libiu, Timber Rijsdorp\n",
    "\n",
    "Teamnummer: N5"
   ]
  },
  {
   "cell_type": "code",
   "execution_count": 1,
   "id": "06e822cf-45fd-4e28-9a5a-f4f97192459e",
   "metadata": {
    "editable": true,
    "slideshow": {
     "slide_type": ""
    },
    "tags": [
     "hide-input"
    ]
   },
   "outputs": [
    {
     "data": {
      "text/html": [
       "<img src=\"https://media.licdn.com/dms/image/D5612AQH1MTiY7j-UAw/article-cover_image-shrink_600_2000/0/1684297563132?e=2147483647&v=beta&t=5tFYOGCrBbrjSaZTxjmfPHqnuTM3Vs1L5ZiSOQi2zT8\" width=\"900\" height=\"300\"/>"
      ],
      "text/plain": [
       "<IPython.core.display.Image object>"
      ]
     },
     "metadata": {},
     "output_type": "display_data"
    },
    {
     "name": "stdout",
     "output_type": "stream",
     "text": [
      "© Devic Earth\n"
     ]
    }
   ],
   "source": [
    "# Load image from link\n",
    "url = 'https://media.licdn.com/dms/image/D5612AQH1MTiY7j-UAw/article-cover_image-shrink_600_2000/0/1684297563132?e=2147483647&v=beta&t=5tFYOGCrBbrjSaZTxjmfPHqnuTM3Vs1L5ZiSOQi2zT8'\n",
    "\n",
    "# Display image from URL with smaller size and subtitle\n",
    "from IPython.display import Image, display\n",
    "\n",
    "# Set the desired image width and height\n",
    "width = 900\n",
    "height = 300\n",
    "\n",
    "# Set the subtitle text\n",
    "subtitle = \"© Devic Earth\"\n",
    "\n",
    "# Create an Image instance with the URL\n",
    "image = Image(url=url, width=width, height=height)\n",
    "\n",
    "# Display the image and subtitle\n",
    "display(image)\n",
    "print(subtitle)"
   ]
  },
  {
   "cell_type": "markdown",
   "id": "17e9c2d8-01cf-4232-a8ca-3ba59445cf73",
   "metadata": {
    "editable": true,
    "slideshow": {
     "slide_type": ""
    },
    "tags": []
   },
   "source": [
    "# Inleiding"
   ]
  },
  {
   "cell_type": "markdown",
   "id": "44d4b22d-13ff-45b1-8465-871e2996d15c",
   "metadata": {
    "editable": true,
    "slideshow": {
     "slide_type": ""
    },
    "tags": []
   },
   "source": [
    "Longkanker is één van de meest voorkomende vormen van kanker. Uit diverse onderzoeken, ook van de WHO (2022), naar de oorzaken van longkanker hebben risicofactoren gevonden, waaronder luchtvervuiling. Steden en industriële gebieden met hoge niveaus van uitstoot van diverse stoffen, zoals stikstofoxide en zwaveldioxide, hebben dus verhoogde risico's. Deze verontreinigende stoffen kunnen diep doordringen in de longen en chronische ontstekingen veroorzaken, wat kan leiden tot de ontwikkeling van kanker (KWF, z.d.).\n",
    "In dit overzicht worden diverse visualisaties gepresenteerd die inzicht bieden in de relatie tussen luchtvervuiling en longkanker. Er wordt vanuit twee perspectieven naar de kwestie gekeken. Het eerste perspectief benadrukt dat luchtvervuiling verminderd moet worden, omdat het een toename van longkankerdiagnoses veroorzaakt. Het tweede perspectief maakt een vergelijking met de impact van roken op de diagnose van longkanker. En hoe de impact van luchtvervuiling mogelijk in het niet valt in vergelijking met de correlatie tussen roken en de diagnose van longkanker. In de visualisaties wordt verwezen naar de TBL-rate, waarmee Tracheaal, Bronchitis en Longkanker worden aangeduid. Deze rate is een gestandaardiseerde hoeveelheid mensen die overleden zijn aan Tracheaal, Bronchiaal of Longkanker in dat jaar en in dat land."
   ]
  },
  {
   "cell_type": "markdown",
   "id": "38625666-2b19-4af0-9b33-af81bc50f02f",
   "metadata": {},
   "source": [
    "## Dataset and Preprocessing"
   ]
  },
  {
   "cell_type": "markdown",
   "id": "6e99f023-767d-4237-b7b3-da91421a2d5e",
   "metadata": {},
   "source": [
    "Voor dit onderzoek hebben we 3 datasets gebruikt. Namelijk een dataset met de hoeveelheid doden voor longkanker, een dataset met de specifieke uitstoten in luchtvervuiling en een dataset met de dagelijkse rokers per land. Voor de dataset met uitstoten hebben we nog een 4e dataset ter ondersteuning gebruikt om te rekenen van totale uitstoot naar uitstoot per capita. De gedetailleerde beschrijving van de datasets en hoe we het hebben gefilterd voor gebruik kan je zien in het hoofdstuk: [Data Preprocessing](https://timber4.github.io/InformationVisualisationProject/docs/preprocessing.html). "
   ]
  }
 ],
 "metadata": {
  "kernelspec": {
   "display_name": "Python 3 (ipykernel)",
   "language": "python",
   "name": "python3"
  },
  "language_info": {
   "codemirror_mode": {
    "name": "ipython",
    "version": 3
   },
   "file_extension": ".py",
   "mimetype": "text/x-python",
   "name": "python",
   "nbconvert_exporter": "python",
   "pygments_lexer": "ipython3",
   "version": "3.12.3"
  }
 },
 "nbformat": 4,
 "nbformat_minor": 5
}
